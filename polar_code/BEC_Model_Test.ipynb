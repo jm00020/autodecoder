{
 "cells": [
  {
   "cell_type": "code",
   "execution_count": 1,
   "metadata": {},
   "outputs": [
    {
     "name": "stderr",
     "output_type": "stream",
     "text": [
      "Using TensorFlow backend.\n"
     ]
    }
   ],
   "source": [
    "import numpy as np\n",
    "import keras\n",
    "from keras.layers import Dense, Input, Add\n",
    "from keras.models import Sequential, Model, load_model\n",
    "\n",
    "from Source import BEC"
   ]
  },
  {
   "cell_type": "code",
   "execution_count": 2,
   "metadata": {},
   "outputs": [],
   "source": [
    "n_power=7\n",
    "CodeRate=0.5\n",
    "N_length=int(2**n_power)\n",
    "msg_length=int(CodeRate*N_length)\n",
    "frozen_length=N_length-msg_length\n",
    "TotalNumMessage=4\n",
    "codeNum = 10**4\n",
    "test_codeNum = 10**3\n",
    "\n",
    "Prob_start=0.15\n",
    "Prob_delta=0.05\n",
    "BEC_count=8\n",
    "BECs=np.arange(Prob_start,Prob_start+BEC_count*Prob_delta,Prob_delta)"
   ]
  },
  {
   "cell_type": "code",
   "execution_count": 3,
   "metadata": {},
   "outputs": [],
   "source": [
    "G_All=BEC.AllGeneratorMatrixPolarCode(n_power) ###생성행렬생성"
   ]
  },
  {
   "cell_type": "code",
   "execution_count": 4,
   "metadata": {},
   "outputs": [],
   "source": [
    "(Z_BEC,Z_decending_index_BEC)=BEC.BhanttacharyyaParameterBEC(N_length, n_power)"
   ]
  },
  {
   "cell_type": "code",
   "execution_count": 5,
   "metadata": {},
   "outputs": [],
   "source": [
    "SelectedBitsPositions = Z_decending_index_BEC[frozen_length:]\n",
    "SelectedBitsPositions.sort()\n",
    "FrozenBitsPositions = Z_decending_index_BEC[:frozen_length]\n",
    "FrozenBitsPositions.sort()"
   ]
  },
  {
   "cell_type": "code",
   "execution_count": 6,
   "metadata": {},
   "outputs": [],
   "source": [
    "model = load_model('Model/model_BEC_p6.h5')"
   ]
  },
  {
   "cell_type": "code",
   "execution_count": 7,
   "metadata": {},
   "outputs": [],
   "source": [
    "file_buffer = 'Result/BEC_model_p6.csv'\n",
    "model_f = open(file_buffer, 'w')\n",
    "file_buffer = 'Result/BEC.csv'\n",
    "BEC_f = open(file_buffer, 'w')"
   ]
  },
  {
   "cell_type": "code",
   "execution_count": 18,
   "metadata": {},
   "outputs": [
    {
     "name": "stdout",
     "output_type": "stream",
     "text": [
      "0\n",
      "[[0. 1. 0. ... 1. 0. 0.]\n",
      " [1. 0. 0. ... 0. 1. 1.]\n",
      " [0. 0. 0. ... 0. 1. 0.]\n",
      " ...\n",
      " [1. 1. 0. ... 1. 0. 0.]\n",
      " [0. 1. 0. ... 0. 1. 1.]\n",
      " [0. 0. 1. ... 1. 1. 0.]]\n",
      "[[ 0.  1.  0. ...  1.  0.  0.]\n",
      " [ 1.  0.  0. ...  0.  1.  1.]\n",
      " [ 0.  0.  0. ...  0.  1.  0.]\n",
      " ...\n",
      " [ 1.  1.  0. ...  1.  0.  0.]\n",
      " [ 0.  1.  0. ...  0.  1.  1.]\n",
      " [ 0.  0.  1. ...  1.  1. -1.]]\n",
      "[[ 0  1  0 ...  1  0  0]\n",
      " [ 1  0  0 ...  0  1  1]\n",
      " [ 0  0  0 ...  0  1  0]\n",
      " ...\n",
      " [ 1  1  0 ...  1  0  0]\n",
      " [ 0  1  0 ...  0  1  1]\n",
      " [ 0  0  1 ...  1  1 -1]]\n"
     ]
    },
    {
     "ename": "KeyboardInterrupt",
     "evalue": "",
     "output_type": "error",
     "traceback": [
      "\u001b[1;31m---------------------------------------------------------------------------\u001b[0m",
      "\u001b[1;31mKeyboardInterrupt\u001b[0m                         Traceback (most recent call last)",
      "\u001b[1;32m<ipython-input-18-7dd5a831d802>\u001b[0m in \u001b[0;36m<module>\u001b[1;34m()\u001b[0m\n\u001b[0;32m     17\u001b[0m         \u001b[0mLLR_Model_BEC\u001b[0m \u001b[1;33m=\u001b[0m \u001b[0mBEC\u001b[0m\u001b[1;33m.\u001b[0m\u001b[0mLLR_Value_BEC\u001b[0m\u001b[1;33m(\u001b[0m\u001b[0mmodel_predict_BEC\u001b[0m\u001b[1;33m)\u001b[0m\u001b[1;33m\u001b[0m\u001b[0m\n\u001b[0;32m     18\u001b[0m \u001b[1;33m\u001b[0m\u001b[0m\n\u001b[1;32m---> 19\u001b[1;33m         \u001b[0mEsti_BEC\u001b[0m \u001b[1;33m=\u001b[0m \u001b[0mBEC\u001b[0m\u001b[1;33m.\u001b[0m\u001b[0mDecoding\u001b[0m\u001b[1;33m(\u001b[0m\u001b[0mcodeNum\u001b[0m\u001b[1;33m,\u001b[0m \u001b[0mN_length\u001b[0m\u001b[1;33m,\u001b[0m \u001b[0mn_power\u001b[0m\u001b[1;33m,\u001b[0m \u001b[0mSelectedBitsPositions\u001b[0m\u001b[1;33m,\u001b[0m \u001b[0mFrozenBitsPositions\u001b[0m\u001b[1;33m,\u001b[0m \u001b[0mG_All\u001b[0m\u001b[1;33m,\u001b[0m \u001b[0mLLR_BEC\u001b[0m\u001b[1;33m)\u001b[0m\u001b[1;33m\u001b[0m\u001b[0m\n\u001b[0m\u001b[0;32m     20\u001b[0m         \u001b[0mEsti_Model_BEC\u001b[0m \u001b[1;33m=\u001b[0m \u001b[0mBEC\u001b[0m\u001b[1;33m.\u001b[0m\u001b[0mDecoding\u001b[0m\u001b[1;33m(\u001b[0m\u001b[0mcodeNum\u001b[0m\u001b[1;33m,\u001b[0m \u001b[0mN_length\u001b[0m\u001b[1;33m,\u001b[0m \u001b[0mn_power\u001b[0m\u001b[1;33m,\u001b[0m \u001b[0mSelectedBitsPositions\u001b[0m\u001b[1;33m,\u001b[0m \u001b[0mFrozenBitsPositions\u001b[0m\u001b[1;33m,\u001b[0m \u001b[0mG_All\u001b[0m\u001b[1;33m,\u001b[0m \u001b[0mLLR_Model_BEC\u001b[0m\u001b[1;33m)\u001b[0m\u001b[1;33m\u001b[0m\u001b[0m\n\u001b[0;32m     21\u001b[0m \u001b[1;33m\u001b[0m\u001b[0m\n",
      "\u001b[1;32m~\\Documents\\jupyter\\polar_code\\Source\\BEC.py\u001b[0m in \u001b[0;36mDecoding\u001b[1;34m(codeNum, N_length, n_power, SelectedBitsPositions, FrozenBitsPositions, G_All, LLR_BEC)\u001b[0m\n\u001b[0;32m    125\u001b[0m                     \u001b[0mRightInput\u001b[0m \u001b[1;33m=\u001b[0m \u001b[0mNodeInputs\u001b[0m\u001b[1;33m[\u001b[0m\u001b[1;33m:\u001b[0m\u001b[1;33m,\u001b[0m\u001b[1;36m2\u001b[0m\u001b[1;33m*\u001b[0m\u001b[0mNodeCnt\u001b[0m\u001b[1;33m+\u001b[0m\u001b[1;36m1\u001b[0m\u001b[1;33m]\u001b[0m\u001b[1;33m\u001b[0m\u001b[0m\n\u001b[0;32m    126\u001b[0m                     \u001b[0mRef_Value\u001b[0m \u001b[1;33m=\u001b[0m \u001b[0mNodeControlValues\u001b[0m\u001b[1;33m[\u001b[0m\u001b[1;33m:\u001b[0m\u001b[1;33m,\u001b[0m\u001b[0mNodeCnt\u001b[0m\u001b[1;33m]\u001b[0m\u001b[1;33m\u001b[0m\u001b[0m\n\u001b[1;32m--> 127\u001b[1;33m                     \u001b[0mNodeOutputs\u001b[0m\u001b[1;33m[\u001b[0m\u001b[1;33m:\u001b[0m\u001b[1;33m,\u001b[0m\u001b[0mNodeCnt\u001b[0m\u001b[1;33m]\u001b[0m \u001b[1;33m=\u001b[0m \u001b[0mNodeOutValueRef\u001b[0m\u001b[1;33m(\u001b[0m\u001b[0mLeftInput\u001b[0m\u001b[1;33m,\u001b[0m \u001b[0mRightInput\u001b[0m\u001b[1;33m,\u001b[0m \u001b[0mRef_Value\u001b[0m\u001b[1;33m)\u001b[0m\u001b[1;33m\u001b[0m\u001b[0m\n\u001b[0m\u001b[0;32m    128\u001b[0m             \u001b[0mNodeInputs\u001b[0m \u001b[1;33m=\u001b[0m \u001b[0mNodeOutputs\u001b[0m\u001b[1;33m\u001b[0m\u001b[0m\n\u001b[0;32m    129\u001b[0m \u001b[1;33m\u001b[0m\u001b[0m\n",
      "\u001b[1;32m~\\Documents\\jupyter\\polar_code\\Source\\BEC.py\u001b[0m in \u001b[0;36mNodeOutValueRef\u001b[1;34m(L_In, R_In, Ref)\u001b[0m\n\u001b[0;32m     78\u001b[0m     \u001b[0mN_Out\u001b[0m\u001b[1;33m=\u001b[0m \u001b[0mL_In\u001b[0m\u001b[1;33m*\u001b[0m\u001b[1;33m(\u001b[0m\u001b[1;33m(\u001b[0m\u001b[1;33m-\u001b[0m\u001b[1;36m1\u001b[0m\u001b[1;33m)\u001b[0m\u001b[1;33m**\u001b[0m\u001b[0mRef\u001b[0m\u001b[1;33m)\u001b[0m \u001b[1;33m+\u001b[0m \u001b[0mR_In\u001b[0m\u001b[1;33m\u001b[0m\u001b[0m\n\u001b[0;32m     79\u001b[0m     \u001b[0mN_Out\u001b[0m \u001b[1;33m=\u001b[0m \u001b[0mnp\u001b[0m\u001b[1;33m.\u001b[0m\u001b[0mwhere\u001b[0m\u001b[1;33m(\u001b[0m\u001b[0mN_Out\u001b[0m \u001b[1;33m>=\u001b[0m \u001b[1;36m77\u001b[0m\u001b[1;33m,\u001b[0m \u001b[1;36m77\u001b[0m\u001b[1;33m,\u001b[0m \u001b[0mnp\u001b[0m\u001b[1;33m.\u001b[0m\u001b[0mwhere\u001b[0m\u001b[1;33m(\u001b[0m\u001b[0mN_Out\u001b[0m \u001b[1;33m<\u001b[0m \u001b[1;33m-\u001b[0m\u001b[1;36m77\u001b[0m\u001b[1;33m,\u001b[0m \u001b[1;33m-\u001b[0m\u001b[1;36m77\u001b[0m\u001b[1;33m,\u001b[0m \u001b[0mN_Out\u001b[0m\u001b[1;33m)\u001b[0m\u001b[1;33m)\u001b[0m\u001b[1;33m\u001b[0m\u001b[0m\n\u001b[1;32m---> 80\u001b[1;33m     \u001b[1;32mreturn\u001b[0m \u001b[0mnp\u001b[0m\u001b[1;33m.\u001b[0m\u001b[0mround\u001b[0m\u001b[1;33m(\u001b[0m\u001b[0mN_Out\u001b[0m\u001b[1;33m,\u001b[0m\u001b[1;36m5\u001b[0m\u001b[1;33m)\u001b[0m\u001b[1;33m\u001b[0m\u001b[0m\n\u001b[0m\u001b[0;32m     81\u001b[0m \u001b[1;33m\u001b[0m\u001b[0m\n\u001b[0;32m     82\u001b[0m \u001b[1;32mdef\u001b[0m \u001b[0mEncoding\u001b[0m\u001b[1;33m(\u001b[0m\u001b[0mcodeNum\u001b[0m\u001b[1;33m,\u001b[0m \u001b[0mN_length\u001b[0m\u001b[1;33m,\u001b[0m \u001b[0mn_power\u001b[0m\u001b[1;33m,\u001b[0m \u001b[0mmsg_length\u001b[0m\u001b[1;33m,\u001b[0m \u001b[0mSelectedBitsPositions\u001b[0m\u001b[1;33m,\u001b[0m \u001b[0mG_All\u001b[0m\u001b[1;33m)\u001b[0m\u001b[1;33m:\u001b[0m\u001b[1;33m\u001b[0m\u001b[0m\n",
      "\u001b[1;32mD:\\anaconda\\lib\\site-packages\\numpy\\core\\fromnumeric.py\u001b[0m in \u001b[0;36mround_\u001b[1;34m(a, decimals, out)\u001b[0m\n\u001b[0;32m   2812\u001b[0m \u001b[1;33m\u001b[0m\u001b[0m\n\u001b[0;32m   2813\u001b[0m     \"\"\"\n\u001b[1;32m-> 2814\u001b[1;33m     \u001b[1;32mreturn\u001b[0m \u001b[0maround\u001b[0m\u001b[1;33m(\u001b[0m\u001b[0ma\u001b[0m\u001b[1;33m,\u001b[0m \u001b[0mdecimals\u001b[0m\u001b[1;33m=\u001b[0m\u001b[0mdecimals\u001b[0m\u001b[1;33m,\u001b[0m \u001b[0mout\u001b[0m\u001b[1;33m=\u001b[0m\u001b[0mout\u001b[0m\u001b[1;33m)\u001b[0m\u001b[1;33m\u001b[0m\u001b[0m\n\u001b[0m\u001b[0;32m   2815\u001b[0m \u001b[1;33m\u001b[0m\u001b[0m\n\u001b[0;32m   2816\u001b[0m \u001b[1;33m\u001b[0m\u001b[0m\n",
      "\u001b[1;32mD:\\anaconda\\lib\\site-packages\\numpy\\core\\fromnumeric.py\u001b[0m in \u001b[0;36maround\u001b[1;34m(a, decimals, out)\u001b[0m\n\u001b[0;32m   2798\u001b[0m \u001b[1;33m\u001b[0m\u001b[0m\n\u001b[0;32m   2799\u001b[0m     \"\"\"\n\u001b[1;32m-> 2800\u001b[1;33m     \u001b[1;32mreturn\u001b[0m \u001b[0m_wrapfunc\u001b[0m\u001b[1;33m(\u001b[0m\u001b[0ma\u001b[0m\u001b[1;33m,\u001b[0m \u001b[1;34m'round'\u001b[0m\u001b[1;33m,\u001b[0m \u001b[0mdecimals\u001b[0m\u001b[1;33m=\u001b[0m\u001b[0mdecimals\u001b[0m\u001b[1;33m,\u001b[0m \u001b[0mout\u001b[0m\u001b[1;33m=\u001b[0m\u001b[0mout\u001b[0m\u001b[1;33m)\u001b[0m\u001b[1;33m\u001b[0m\u001b[0m\n\u001b[0m\u001b[0;32m   2801\u001b[0m \u001b[1;33m\u001b[0m\u001b[0m\n\u001b[0;32m   2802\u001b[0m \u001b[1;33m\u001b[0m\u001b[0m\n",
      "\u001b[1;32mD:\\anaconda\\lib\\site-packages\\numpy\\core\\fromnumeric.py\u001b[0m in \u001b[0;36m_wrapfunc\u001b[1;34m(obj, method, *args, **kwds)\u001b[0m\n\u001b[0;32m     49\u001b[0m \u001b[1;32mdef\u001b[0m \u001b[0m_wrapfunc\u001b[0m\u001b[1;33m(\u001b[0m\u001b[0mobj\u001b[0m\u001b[1;33m,\u001b[0m \u001b[0mmethod\u001b[0m\u001b[1;33m,\u001b[0m \u001b[1;33m*\u001b[0m\u001b[0margs\u001b[0m\u001b[1;33m,\u001b[0m \u001b[1;33m**\u001b[0m\u001b[0mkwds\u001b[0m\u001b[1;33m)\u001b[0m\u001b[1;33m:\u001b[0m\u001b[1;33m\u001b[0m\u001b[0m\n\u001b[0;32m     50\u001b[0m     \u001b[1;32mtry\u001b[0m\u001b[1;33m:\u001b[0m\u001b[1;33m\u001b[0m\u001b[0m\n\u001b[1;32m---> 51\u001b[1;33m         \u001b[1;32mreturn\u001b[0m \u001b[0mgetattr\u001b[0m\u001b[1;33m(\u001b[0m\u001b[0mobj\u001b[0m\u001b[1;33m,\u001b[0m \u001b[0mmethod\u001b[0m\u001b[1;33m)\u001b[0m\u001b[1;33m(\u001b[0m\u001b[1;33m*\u001b[0m\u001b[0margs\u001b[0m\u001b[1;33m,\u001b[0m \u001b[1;33m**\u001b[0m\u001b[0mkwds\u001b[0m\u001b[1;33m)\u001b[0m\u001b[1;33m\u001b[0m\u001b[0m\n\u001b[0m\u001b[0;32m     52\u001b[0m \u001b[1;33m\u001b[0m\u001b[0m\n\u001b[0;32m     53\u001b[0m     \u001b[1;31m# An AttributeError occurs if the object does not have\u001b[0m\u001b[1;33m\u001b[0m\u001b[1;33m\u001b[0m\u001b[0m\n",
      "\u001b[1;31mKeyboardInterrupt\u001b[0m: "
     ]
    }
   ],
   "source": [
    "BEC_BERs = []\n",
    "Model_BERs = []\n",
    "for EraseProb_cnt, EraseProb in enumerate(BECs):\n",
    "    print(EraseProb_cnt)\n",
    "    total_BEC_BER = 0\n",
    "    total_Moel_BER = 0\n",
    "    for i in range(10):\n",
    "        msg, codeword = BEC.Encoding(codeNum, N_length, n_power, msg_length, SelectedBitsPositions, G_All[n_power]) \n",
    "        ReceivedBEC = BEC.ReceivedCode(EraseProb, codeNum, N_length, codeword)\n",
    "        model_predict_BEC = model.predict(ReceivedBEC, verbose = 0)\n",
    "        \n",
    "        model_predict_BEC = np.where(model_predict_BEC > 0.6, 1, np.where(model_predict_BEC < 0.4, 0, -1))\n",
    "        LLR_BEC = BEC.LLR_Value_BEC(ReceivedBEC)\n",
    "        LLR_Model_BEC = BEC.LLR_Value_BEC(model_predict_BEC)\n",
    "        \n",
    "        Esti_BEC = BEC.Decoding(codeNum, N_length, n_power, SelectedBitsPositions, FrozenBitsPositions, G_All, LLR_BEC)\n",
    "        Esti_Model_BEC = BEC.Decoding(codeNum, N_length, n_power, SelectedBitsPositions, FrozenBitsPositions, G_All, LLR_Model_BEC)\n",
    "        \n",
    "        BEC_BER = BEC.BERCalculation(Esti_BEC, msg, codeNum, msg_length)\n",
    "        Model_BER = BEC.BERCalculation(Esti_Model_BEC, msg, codeNum, msg_length)\n",
    "        \n",
    "        total_BEC_BER += BEC_BER\n",
    "        total_Moel_BER += Model_BER\n",
    "        \n",
    "    BEC_BERs.append(total_BEC_BER/10)\n",
    "    Model_BERs.append(total_Moel_BER/10)\n",
    "    \n",
    "    write_buffer = 'Prob, %f,' %(EraseProb)\n",
    "    model_f.write(write_buffer)\n",
    "    BEC_f.write(write_buffer)\n",
    "    \n",
    "    write_buffer = 'BER, %f\\n' %(BEC_BERs[EraseProb_cnt])\n",
    "    BEC_f.write(write_buffer)\n",
    "    write_buffer = 'BER, %f\\n' %(Model_BERs[EraseProb_cnt])\n",
    "    model_f.write(write_buffer)\n",
    "    \n",
    "model_f.close()\n",
    "BEC_f.close()"
   ]
  },
  {
   "cell_type": "code",
   "execution_count": null,
   "metadata": {},
   "outputs": [],
   "source": []
  }
 ],
 "metadata": {
  "kernelspec": {
   "display_name": "Python 3",
   "language": "python",
   "name": "python3"
  },
  "language_info": {
   "codemirror_mode": {
    "name": "ipython",
    "version": 3
   },
   "file_extension": ".py",
   "mimetype": "text/x-python",
   "name": "python",
   "nbconvert_exporter": "python",
   "pygments_lexer": "ipython3",
   "version": "3.6.4"
  }
 },
 "nbformat": 4,
 "nbformat_minor": 2
}
