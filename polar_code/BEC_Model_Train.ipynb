{
 "cells": [
  {
   "cell_type": "code",
   "execution_count": 1,
   "metadata": {},
   "outputs": [
    {
     "name": "stderr",
     "output_type": "stream",
     "text": [
      "Using TensorFlow backend.\n"
     ]
    }
   ],
   "source": [
    "import numpy as np\n",
    "import keras\n",
    "from keras.layers import Dense, Input, Add\n",
    "from keras.models import Sequential, Model, load_model\n",
    "\n",
    "from Source import BEC"
   ]
  },
  {
   "cell_type": "code",
   "execution_count": 2,
   "metadata": {},
   "outputs": [],
   "source": [
    "n_power=7\n",
    "CodeRate=0.5\n",
    "N_length=int(2**n_power)\n",
    "msg_length=int(CodeRate*N_length)\n",
    "frozen_length=N_length-msg_length\n",
    "TotalNumMessage=4\n",
    "codeNum = 10**6\n",
    "test_codeNum = 10**3\n",
    "\n",
    "Prob_start=0.15\n",
    "Prob_delta=0.05\n",
    "BEC_count=8\n",
    "BECs=np.arange(Prob_start,Prob_start+BEC_count*Prob_delta,Prob_delta)"
   ]
  },
  {
   "cell_type": "code",
   "execution_count": 3,
   "metadata": {},
   "outputs": [],
   "source": [
    "G_All=BEC.AllGeneratorMatrixPolarCode(n_power) ###생성행렬생성"
   ]
  },
  {
   "cell_type": "code",
   "execution_count": 4,
   "metadata": {},
   "outputs": [],
   "source": [
    "(Z_BEC,Z_decending_index_BEC)=BEC.BhanttacharyyaParameterBEC(N_length, n_power)"
   ]
  },
  {
   "cell_type": "code",
   "execution_count": 5,
   "metadata": {},
   "outputs": [],
   "source": [
    "SelectedBitsPositions = Z_decending_index_BEC[frozen_length:]\n",
    "SelectedBitsPositions.sort()\n",
    "FrozenBitsPositions = Z_decending_index_BEC[:frozen_length]\n",
    "FrozenBitsPositions.sort()"
   ]
  },
  {
   "cell_type": "code",
   "execution_count": 6,
   "metadata": {},
   "outputs": [],
   "source": [
    "model = load_model('Model/model_BEC_p6.h5')"
   ]
  },
  {
   "cell_type": "code",
   "execution_count": 7,
   "metadata": {},
   "outputs": [
    {
     "name": "stdout",
     "output_type": "stream",
     "text": [
      "1000/1000 [==============================] - 0s 84us/step\n",
      "[0.06731371510028838, 0.005]\n",
      "1000/1000 [==============================] - 0s 89us/step\n",
      "[0.06597757959365845, 0.005]\n",
      "1000/1000 [==============================] - 0s 88us/step\n",
      "[0.06579784339666367, 0.018]\n",
      "1000/1000 [==============================] - 0s 87us/step\n",
      "[0.06579646879434585, 0.072]\n",
      "1000/1000 [==============================] - 0s 91us/step\n",
      "[0.06519748803973198, 0.005]\n",
      "1000/1000 [==============================] - 0s 78us/step\n",
      "[0.06471863475441933, 0.048]\n",
      "1000/1000 [==============================] - 0s 95us/step\n",
      "[0.06658823388814926, 0.001]\n",
      "1000/1000 [==============================] - 0s 86us/step\n",
      "[0.0676226161122322, 0.026]\n",
      "1000/1000 [==============================] - 0s 80us/step\n",
      "[0.06896919405460358, 0.006]\n",
      "1000/1000 [==============================] - 0s 90us/step\n",
      "[0.06891545873880386, 0.099]\n",
      "1000/1000 [==============================] - 0s 87us/step\n",
      "[0.06878036084771157, 0.006]\n",
      "1000/1000 [==============================] - 0s 82us/step\n",
      "[0.06854234170913696, 0.01]\n",
      "1000/1000 [==============================] - 0s 85us/step\n",
      "[0.06838860946893692, 0.018]\n",
      "1000/1000 [==============================] - 0s 89us/step\n",
      "[0.06859779101610183, 0.08]\n",
      "1000/1000 [==============================] - 0s 77us/step\n",
      "[0.0688265860080719, 0.035]\n",
      "1000/1000 [==============================] - 0s 85us/step\n",
      "[0.06781215399503708, 0.031]\n",
      "1000/1000 [==============================] - 0s 97us/step\n",
      "[0.06802849817276001, 0.002]\n",
      "1000/1000 [==============================] - 0s 76us/step\n",
      "[0.06840260899066924, 0.065]\n",
      "1000/1000 [==============================] - 0s 76us/step\n",
      "[0.06738768231868744, 0.024]\n",
      "1000/1000 [==============================] - 0s 84us/step\n",
      "[0.0678822524547577, 0.013]\n"
     ]
    }
   ],
   "source": [
    "for i in range(200):\n",
    "    msg, codeword = BEC.Encoding(codeNum, N_length, n_power, msg_length, SelectedBitsPositions, G_All[n_power]) \n",
    "    ReceivedBEC = BEC.ReceivedCode(0.25, codeNum, N_length, codeword)\n",
    "    \n",
    "    test_msg, test_codeword = BEC.Encoding(test_codeNum, N_length, n_power, msg_length, SelectedBitsPositions, \n",
    "                                       G_All[n_power]) \n",
    "    test_ReceivedBEC = BEC.ReceivedCode(0.25, test_codeNum, N_length, test_codeword)\n",
    "    \n",
    "    model.fit(ReceivedBEC, codeword, \n",
    "          epochs=100,\n",
    "          batch_size=10000,\n",
    "          shuffle=True,\n",
    "          validation_data=(test_ReceivedBEC, test_codeword),verbose=0)\n",
    "    \n",
    "    if i%10 == 0:\n",
    "        loss = model.evaluate(test_ReceivedBEC, test_codeword)\n",
    "        print(loss)\n",
    "        \n",
    "        model.save('Model/model_BEC_p6.h5')"
   ]
  },
  {
   "cell_type": "code",
   "execution_count": 8,
   "metadata": {},
   "outputs": [
    {
     "name": "stdout",
     "output_type": "stream",
     "text": [
      "1000/1000 [==============================] - 0s 82us/step\n",
      "[0.06721884787082671, 0.01]\n"
     ]
    }
   ],
   "source": [
    "loss = model.evaluate(test_ReceivedBEC, test_codeword)\n",
    "print(loss)\n",
    "        \n",
    "model.save('Model/model_BEC_p6.h5')"
   ]
  },
  {
   "cell_type": "code",
   "execution_count": null,
   "metadata": {},
   "outputs": [],
   "source": []
  }
 ],
 "metadata": {
  "kernelspec": {
   "display_name": "Python 3",
   "language": "python",
   "name": "python3"
  },
  "language_info": {
   "codemirror_mode": {
    "name": "ipython",
    "version": 3
   },
   "file_extension": ".py",
   "mimetype": "text/x-python",
   "name": "python",
   "nbconvert_exporter": "python",
   "pygments_lexer": "ipython3",
   "version": "3.6.4"
  }
 },
 "nbformat": 4,
 "nbformat_minor": 2
}
