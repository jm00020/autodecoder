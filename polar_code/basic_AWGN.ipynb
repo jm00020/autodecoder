{
 "cells": [
  {
   "cell_type": "code",
   "execution_count": 1,
   "metadata": {},
   "outputs": [],
   "source": [
    "import numpy as np\n",
    "import scipy.special as sp\n",
    "from Source import AWGN"
   ]
  },
  {
   "cell_type": "code",
   "execution_count": 2,
   "metadata": {},
   "outputs": [],
   "source": [
    "n_power=7\n",
    "CodeRate=0.5\n",
    "N_length=int(2**n_power)\n",
    "msg_length=int(CodeRate*N_length)\n",
    "frozen_length=N_length-msg_length\n",
    "codeNum =10\n",
    "\n",
    "EbNo_Start=1.0  # in dB\n",
    "EbNo_delta=0.5 # in dB\n",
    "EbNo_Numbers=10 \n",
    "EbNo=np.arange(EbNo_Start,EbNo_Start+EbNo_Numbers*EbNo_delta,EbNo_delta)\n",
    "ebno=10.**(EbNo/10.)          # dB to real value 변환\n",
    "BER_BPSK_Uncoded=0.5*sp.erfc(np.sqrt(ebno))      # BPSK BER 공식"
   ]
  },
  {
   "cell_type": "code",
   "execution_count": 3,
   "metadata": {},
   "outputs": [],
   "source": [
    "G_All=AWGN.AllGeneratorMatrixPolarCode(n_power) ###생성행렬생성"
   ]
  },
  {
   "cell_type": "code",
   "execution_count": 4,
   "metadata": {},
   "outputs": [],
   "source": [
    "(Z_AWGN,Z_decending_index_AWGN)=AWGN.BhanttacharyyaParameterAWGN(N_length, n_power, CodeRate)"
   ]
  },
  {
   "cell_type": "code",
   "execution_count": 5,
   "metadata": {},
   "outputs": [],
   "source": [
    "SelectedBitsPositions = Z_decending_index_AWGN[frozen_length:]\n",
    "SelectedBitsPositions.sort()"
   ]
  },
  {
   "cell_type": "code",
   "execution_count": 6,
   "metadata": {},
   "outputs": [],
   "source": [
    "FrozenBitsPositions = Z_decending_index_AWGN[:frozen_length]\n",
    "FrozenBitsPositions.sort()"
   ]
  },
  {
   "cell_type": "code",
   "execution_count": 7,
   "metadata": {},
   "outputs": [],
   "source": [
    "msg, codeword = AWGN.Encoding(codeNum, N_length, n_power, msg_length, SelectedBitsPositions, G_All[n_power]) "
   ]
  },
  {
   "cell_type": "code",
   "execution_count": 8,
   "metadata": {},
   "outputs": [
    {
     "name": "stdout",
     "output_type": "stream",
     "text": [
      "[[1 0 0 0 1 0 0 0 0 0 1 0 1 0 0 1 0 1 1 0 0 1 0 0 1 1 1 1 1 0 1 1 1 0 0 0\n",
      "  1 0 0 1 0 1 0 0 1 1 0 0 0 1 1 0 1 0 1 1 1 0 1 1 0 1 1 0]\n",
      " [1 0 1 0 0 0 1 1 1 0 1 1 0 1 1 1 0 0 1 1 0 1 1 1 1 1 1 0 0 0 1 1 0 1 0 1\n",
      "  1 1 0 1 0 0 0 1 0 0 1 0 0 1 1 0 1 0 1 0 1 0 0 1 0 1 0 1]\n",
      " [0 1 1 1 1 1 1 1 1 0 0 0 1 1 1 0 0 0 1 0 0 1 1 0 0 1 0 1 0 0 1 0 0 1 1 1\n",
      "  1 1 1 0 0 0 1 0 0 0 1 1 1 0 0 1 1 0 0 1 1 1 0 1 0 1 0 1]\n",
      " [1 0 1 1 1 0 1 1 1 0 0 0 1 0 0 0 1 0 0 1 1 0 0 0 0 1 1 0 0 1 1 1 0 0 1 1\n",
      "  1 0 0 0 0 0 0 0 0 0 1 1 1 1 0 0 1 1 1 1 1 0 0 1 1 1 1 1]\n",
      " [0 1 1 1 1 1 0 0 1 1 1 0 0 0 1 0 0 0 0 1 1 1 0 0 0 0 1 0 0 0 1 0 0 1 1 0\n",
      "  0 1 0 1 0 1 0 0 0 1 1 0 0 1 1 1 0 0 1 0 1 0 1 0 1 0 0 0]\n",
      " [1 1 0 0 0 0 1 0 1 1 1 0 1 1 1 1 0 0 0 1 1 0 1 0 0 0 0 0 0 0 1 0 1 0 0 1\n",
      "  0 1 0 0 0 0 1 1 0 1 0 0 0 1 1 1 1 1 1 0 0 1 0 0 0 0 1 1]\n",
      " [0 1 0 0 0 1 0 0 0 1 0 0 0 1 0 1 0 0 0 0 0 0 0 0 0 1 0 1 0 0 1 1 1 1 1 0\n",
      "  1 0 0 1 0 1 0 1 1 1 0 1 1 1 0 1 1 0 0 0 1 0 1 1 1 0 1 1]\n",
      " [1 1 0 0 1 1 1 0 1 1 1 1 0 1 0 0 0 1 1 1 1 0 0 0 1 1 1 1 1 0 0 1 1 0 1 0\n",
      "  1 0 1 0 1 1 0 0 0 0 0 0 0 0 1 0 0 1 1 0 1 0 1 1 0 1 1 0]\n",
      " [1 1 1 0 1 1 0 0 0 0 1 0 1 0 1 1 0 0 0 0 0 0 1 1 1 1 1 1 0 0 0 0 1 1 0 1\n",
      "  1 0 0 1 1 1 0 0 0 0 0 0 0 0 0 1 0 0 0 1 1 1 0 0 0 1 1 1]\n",
      " [1 0 1 0 0 1 1 1 0 1 1 0 0 0 0 0 0 0 1 1 1 1 1 1 0 0 0 1 1 1 1 1 1 0 0 0\n",
      "  1 1 0 1 1 1 1 1 0 1 1 0 0 0 0 0 0 1 0 0 0 1 0 0 0 1 1 0]]\n"
     ]
    }
   ],
   "source": [
    "print(msg)"
   ]
  },
  {
   "cell_type": "code",
   "execution_count": 9,
   "metadata": {},
   "outputs": [
    {
     "name": "stdout",
     "output_type": "stream",
     "text": [
      "[1. 0. 1. 1. 0. 0. 1. 0. 1. 0. 0. 0. 0. 0. 1. 0. 0. 1. 0. 0. 0. 0. 1. 0.\n",
      " 0. 1. 1. 1. 0. 0. 1. 0. 1. 0. 0. 0. 1. 1. 1. 0. 0. 1. 0. 0. 1. 1. 1. 0.\n",
      " 0. 0. 1. 0. 0. 1. 0. 0. 1. 1. 1. 0. 1. 0. 1. 1. 0. 1. 1. 1. 1. 0. 0. 0.\n",
      " 1. 1. 1. 0. 1. 1. 0. 1. 0. 1. 0. 0. 0. 1. 0. 0. 0. 0. 1. 0. 1. 1. 1. 0.\n",
      " 0. 0. 0. 1. 1. 1. 1. 0. 1. 0. 1. 1. 1. 0. 0. 0. 0. 1. 0. 0. 1. 0. 1. 1.\n",
      " 0. 0. 0. 1. 1. 1. 0. 1.]\n"
     ]
    }
   ],
   "source": [
    "print(codeword[1])"
   ]
  },
  {
   "cell_type": "code",
   "execution_count": 10,
   "metadata": {},
   "outputs": [],
   "source": [
    "ReceivedAWGN = AWGN.ReceivedCode(ebno[3], CodeRate,codeNum, N_length, codeword)\n",
    "# ReceivedAWGN = AWGN.ReceivedCode(0, CodeRate,codeNum, N_length, codeword)"
   ]
  },
  {
   "cell_type": "code",
   "execution_count": 11,
   "metadata": {},
   "outputs": [
    {
     "name": "stdout",
     "output_type": "stream",
     "text": [
      "[[-0.09914999 -1.34945548  0.4451139  ... -1.09485722  1.25418811\n",
      "   0.00303006]\n",
      " [-1.0640335   1.30986469 -1.28767186 ... -0.78729483  1.73892497\n",
      "  -1.08836702]\n",
      " [-0.79470049  2.23887517 -0.92043509 ... -0.58786317  0.97320926\n",
      "  -0.69192495]\n",
      " ...\n",
      " [ 2.63220102  1.39795146  0.97186162 ... -0.90803856  2.58665211\n",
      "   0.83053473]\n",
      " [-0.30951694 -1.17898581  0.39106217 ...  1.69162094  0.65281548\n",
      "  -0.76819578]\n",
      " [ 1.48488972 -0.70296475  0.14493741 ... -1.17242218  1.10257881\n",
      "   1.02830277]]\n"
     ]
    }
   ],
   "source": [
    "print(ReceivedAWGN)"
   ]
  },
  {
   "cell_type": "code",
   "execution_count": 57,
   "metadata": {},
   "outputs": [
    {
     "name": "stdout",
     "output_type": "stream",
     "text": [
      "[[1 1 0 ... 1 0 0]\n",
      " [1 0 1 ... 1 0 1]\n",
      " [1 0 1 ... 1 0 1]\n",
      " ...\n",
      " [0 0 0 ... 1 0 0]\n",
      " [1 1 0 ... 0 0 1]\n",
      " [0 1 0 ... 1 0 0]]\n"
     ]
    }
   ],
   "source": [
    "hard_awgn = np.where(ReceivedAWGN < 0, 1, 0)\n",
    "print(hard_awgn)"
   ]
  },
  {
   "cell_type": "code",
   "execution_count": 12,
   "metadata": {},
   "outputs": [
    {
     "name": "stderr",
     "output_type": "stream",
     "text": [
      "Using TensorFlow backend.\n"
     ]
    }
   ],
   "source": [
    "from keras.layers import Dense, Input, Add\n",
    "from keras.models import Sequential, Model, load_model\n",
    "\n",
    "model = load_model('Model/model_AWGN_p6.h5')"
   ]
  },
  {
   "cell_type": "code",
   "execution_count": 13,
   "metadata": {},
   "outputs": [],
   "source": [
    "model_predict_AWGN = model.predict(ReceivedAWGN, verbose = 0)"
   ]
  },
  {
   "cell_type": "code",
   "execution_count": 14,
   "metadata": {},
   "outputs": [
    {
     "name": "stdout",
     "output_type": "stream",
     "text": [
      "[[-0.22625606 -0.9758159   0.57152104 ... -0.988152    0.9680236\n",
      "  -0.03770924]\n",
      " [-0.9502727   0.9422907  -0.96327555 ... -0.7874595   0.97192365\n",
      "  -1.044919  ]\n",
      " [-0.8440895   0.9801188  -0.8820411  ... -0.7596209   0.89879614\n",
      "  -0.7448456 ]\n",
      " ...\n",
      " [ 0.99627966  1.0107131   0.93309486 ... -0.89460146  1.0010246\n",
      "   0.90566397]\n",
      " [-0.47088832 -1.0173825   0.5213802  ...  1.042433    0.82066524\n",
      "  -0.92258286]\n",
      " [ 1.0166295  -0.8465859   0.21256743 ... -0.9785782   0.9701179\n",
      "   0.947669  ]]\n"
     ]
    }
   ],
   "source": [
    "print(model_predict_AWGN)"
   ]
  },
  {
   "cell_type": "code",
   "execution_count": 58,
   "metadata": {},
   "outputs": [
    {
     "name": "stdout",
     "output_type": "stream",
     "text": [
      "[[1 1 0 ... 1 0 1]\n",
      " [1 0 1 ... 1 0 1]\n",
      " [1 0 1 ... 1 0 1]\n",
      " ...\n",
      " [0 0 0 ... 1 0 0]\n",
      " [1 1 0 ... 0 0 1]\n",
      " [0 1 0 ... 1 0 0]]\n"
     ]
    }
   ],
   "source": [
    "hard_model_awgn = np.where(model_predict_AWGN < 0, 1, 0)\n",
    "print(hard_model_awgn)"
   ]
  },
  {
   "cell_type": "code",
   "execution_count": 59,
   "metadata": {},
   "outputs": [
    {
     "name": "stdout",
     "output_type": "stream",
     "text": [
      "0.01796875\n"
     ]
    }
   ],
   "source": [
    "error_index = np.where(hard_awgn- hard_model_awgn != 0)\n",
    "NumErrors = error_index[0].shape[0] \n",
    "BER = NumErrors/(codeNum*msg_length*2)\n",
    "print(BER)"
   ]
  },
  {
   "cell_type": "code",
   "execution_count": 41,
   "metadata": {},
   "outputs": [],
   "source": [
    "b = np.where(model_predict_AWGN < 0, 1 ,0)"
   ]
  },
  {
   "cell_type": "code",
   "execution_count": 42,
   "metadata": {},
   "outputs": [
    {
     "name": "stdout",
     "output_type": "stream",
     "text": [
      "[[ 0.  0.  0. ...  0.  0. -1.]\n",
      " [ 0.  0.  0. ...  0.  0.  0.]\n",
      " [ 0.  0.  0. ...  0.  0.  0.]\n",
      " ...\n",
      " [ 0.  0.  0. ...  0.  0.  0.]\n",
      " [ 0.  0.  0. ...  0.  0.  0.]\n",
      " [ 0.  0.  1. ...  0.  0.  0.]]\n"
     ]
    }
   ],
   "source": [
    "print(codeword - b)"
   ]
  },
  {
   "cell_type": "code",
   "execution_count": 43,
   "metadata": {},
   "outputs": [
    {
     "name": "stdout",
     "output_type": "stream",
     "text": [
      "0.18125\n"
     ]
    }
   ],
   "source": [
    "error_index = np.where(b- codeword != 0)\n",
    "NumErrors = error_index[0].shape[0] \n",
    "BER = NumErrors/(codeNum*msg_length)\n",
    "print(BER)"
   ]
  },
  {
   "cell_type": "code",
   "execution_count": 44,
   "metadata": {},
   "outputs": [],
   "source": [
    "LLR_AWGN = AWGN.LLR_Value_AWGN(ebno[3], CodeRate, model_predict_AWGN)\n",
    "LLR_AWGN_b = AWGN.LLR_Value_AWGN(ebno[3], CodeRate, b)"
   ]
  },
  {
   "cell_type": "code",
   "execution_count": 51,
   "metadata": {},
   "outputs": [],
   "source": [
    "EstimatedMessage = AWGN.Decoding(codeNum, N_length, n_power, SelectedBitsPositions, \n",
    "                                FrozenBitsPositions, G_All, LLR_AWGN)\n",
    "EstimatedMessage_b = AWGN.Decoding(codeNum, N_length, n_power, SelectedBitsPositions, \n",
    "                                FrozenBitsPositions, G_All, LLR_AWGN_b)"
   ]
  },
  {
   "cell_type": "code",
   "execution_count": 52,
   "metadata": {},
   "outputs": [
    {
     "name": "stdout",
     "output_type": "stream",
     "text": [
      "[[1. 0. 0. 0. 1. 0. 0. 0. 0. 0. 1. 0. 1. 0. 0. 1. 0. 1. 1. 0. 0. 1. 0. 0.\n",
      "  1. 1. 1. 1. 1. 0. 1. 1. 1. 0. 0. 0. 1. 0. 0. 1. 0. 1. 0. 0. 1. 1. 0. 0.\n",
      "  0. 1. 1. 0. 1. 0. 1. 1. 1. 0. 1. 1. 0. 1. 1. 0.]\n",
      " [1. 0. 1. 0. 0. 0. 1. 1. 1. 0. 1. 1. 0. 1. 1. 1. 0. 0. 1. 1. 0. 1. 1. 1.\n",
      "  1. 1. 1. 0. 0. 0. 1. 1. 0. 1. 0. 1. 1. 1. 0. 1. 0. 0. 0. 1. 0. 0. 1. 0.\n",
      "  0. 1. 1. 0. 1. 0. 1. 0. 1. 0. 0. 1. 0. 1. 0. 1.]\n",
      " [0. 1. 1. 1. 1. 1. 1. 1. 1. 0. 0. 0. 1. 1. 1. 0. 0. 0. 1. 0. 0. 1. 1. 0.\n",
      "  0. 1. 0. 1. 0. 0. 1. 0. 0. 1. 1. 1. 1. 1. 1. 0. 0. 0. 1. 0. 0. 0. 1. 1.\n",
      "  1. 0. 0. 1. 1. 0. 0. 1. 1. 1. 0. 1. 0. 1. 0. 1.]\n",
      " [1. 0. 1. 1. 1. 0. 1. 1. 1. 0. 0. 0. 1. 0. 0. 0. 1. 0. 0. 1. 1. 0. 0. 0.\n",
      "  0. 1. 1. 0. 0. 1. 1. 1. 0. 0. 1. 1. 1. 0. 0. 0. 0. 0. 0. 0. 0. 0. 1. 1.\n",
      "  1. 1. 0. 0. 1. 1. 1. 1. 1. 0. 0. 1. 1. 1. 1. 1.]\n",
      " [0. 1. 1. 1. 1. 1. 0. 0. 1. 1. 1. 0. 0. 0. 1. 0. 0. 0. 0. 1. 1. 0. 0. 0.\n",
      "  0. 0. 1. 0. 0. 1. 1. 0. 0. 1. 1. 0. 1. 1. 0. 1. 0. 1. 0. 0. 1. 1. 1. 0.\n",
      "  0. 1. 1. 1. 1. 0. 1. 0. 1. 0. 1. 0. 0. 0. 0. 0.]\n",
      " [1. 1. 0. 0. 0. 0. 1. 0. 1. 1. 1. 0. 1. 1. 1. 1. 0. 0. 0. 1. 1. 0. 1. 0.\n",
      "  0. 0. 0. 0. 0. 0. 1. 0. 1. 0. 0. 1. 0. 1. 0. 0. 0. 0. 1. 1. 0. 1. 0. 0.\n",
      "  0. 1. 1. 1. 1. 1. 1. 0. 0. 1. 0. 0. 0. 0. 1. 1.]\n",
      " [0. 1. 0. 0. 0. 1. 0. 0. 0. 1. 0. 0. 0. 1. 0. 1. 0. 0. 0. 0. 0. 0. 0. 0.\n",
      "  0. 1. 0. 1. 0. 0. 1. 1. 1. 1. 1. 0. 1. 0. 0. 1. 0. 1. 0. 1. 1. 1. 0. 1.\n",
      "  1. 1. 0. 1. 1. 0. 0. 0. 1. 0. 1. 1. 1. 0. 1. 1.]\n",
      " [1. 1. 0. 0. 1. 1. 1. 0. 1. 1. 1. 1. 0. 1. 0. 0. 0. 1. 1. 1. 1. 0. 0. 0.\n",
      "  1. 1. 1. 1. 1. 0. 0. 1. 1. 0. 1. 0. 1. 0. 1. 0. 1. 1. 0. 0. 0. 0. 0. 0.\n",
      "  0. 0. 1. 0. 0. 1. 1. 0. 1. 0. 1. 1. 0. 1. 1. 0.]\n",
      " [1. 1. 1. 0. 1. 1. 0. 0. 0. 0. 1. 0. 1. 0. 1. 1. 0. 0. 0. 0. 0. 0. 1. 1.\n",
      "  1. 1. 1. 1. 0. 0. 0. 0. 1. 1. 0. 1. 1. 0. 0. 1. 1. 1. 0. 0. 0. 0. 0. 0.\n",
      "  0. 0. 0. 1. 0. 0. 0. 1. 1. 1. 0. 0. 0. 1. 1. 1.]\n",
      " [1. 0. 1. 0. 0. 1. 1. 1. 0. 1. 1. 0. 0. 0. 0. 0. 0. 0. 1. 1. 1. 1. 1. 1.\n",
      "  0. 0. 0. 1. 1. 1. 1. 1. 1. 0. 0. 0. 1. 1. 0. 1. 1. 1. 1. 1. 0. 1. 1. 0.\n",
      "  0. 0. 0. 0. 0. 1. 0. 0. 0. 1. 0. 0. 0. 1. 1. 0.]]\n",
      "[[0. 0. 0. 0. 0. 0. 0. 0. 0. 0. 0. 0. 0. 0. 0. 0. 0. 0. 0. 0. 0. 0. 0. 0.\n",
      "  0. 0. 0. 0. 0. 0. 0. 0. 0. 0. 0. 0. 0. 0. 0. 0. 0. 0. 0. 0. 0. 0. 0. 0.\n",
      "  0. 0. 0. 0. 0. 0. 0. 0. 0. 0. 0. 0. 0. 0. 0. 0.]\n",
      " [0. 0. 0. 0. 0. 0. 0. 0. 0. 0. 0. 0. 0. 0. 0. 0. 0. 0. 0. 0. 0. 0. 0. 0.\n",
      "  0. 0. 0. 0. 0. 0. 0. 0. 0. 0. 0. 0. 0. 0. 0. 0. 0. 0. 0. 0. 0. 0. 0. 0.\n",
      "  0. 0. 0. 0. 0. 0. 0. 0. 0. 0. 0. 0. 0. 0. 0. 0.]\n",
      " [0. 0. 0. 0. 0. 0. 0. 0. 0. 0. 0. 0. 0. 0. 0. 0. 0. 0. 0. 0. 0. 0. 0. 0.\n",
      "  0. 0. 0. 0. 0. 0. 0. 0. 0. 0. 0. 0. 0. 0. 0. 0. 0. 0. 0. 0. 0. 0. 0. 0.\n",
      "  0. 0. 0. 0. 0. 0. 0. 0. 0. 0. 0. 0. 0. 0. 0. 0.]\n",
      " [0. 0. 0. 0. 0. 0. 0. 0. 0. 0. 0. 0. 0. 0. 0. 0. 0. 0. 0. 0. 0. 0. 0. 0.\n",
      "  0. 0. 0. 0. 0. 0. 0. 0. 0. 0. 0. 0. 0. 0. 0. 0. 0. 0. 0. 0. 0. 0. 0. 0.\n",
      "  0. 0. 0. 0. 0. 0. 0. 0. 0. 0. 0. 0. 0. 0. 0. 0.]\n",
      " [0. 0. 0. 0. 0. 0. 0. 0. 0. 0. 0. 0. 0. 0. 0. 0. 0. 0. 0. 0. 0. 0. 0. 0.\n",
      "  0. 0. 0. 0. 0. 0. 0. 0. 0. 0. 0. 0. 0. 0. 0. 0. 0. 0. 0. 0. 0. 0. 0. 0.\n",
      "  0. 0. 0. 0. 0. 0. 0. 0. 0. 0. 0. 0. 0. 0. 0. 0.]\n",
      " [0. 0. 0. 0. 0. 0. 0. 0. 0. 0. 0. 0. 0. 0. 0. 0. 0. 0. 0. 0. 0. 0. 0. 0.\n",
      "  0. 0. 0. 0. 0. 0. 0. 0. 0. 0. 0. 0. 0. 0. 0. 0. 0. 0. 0. 0. 0. 0. 0. 0.\n",
      "  0. 0. 0. 0. 0. 0. 0. 0. 0. 0. 0. 0. 0. 0. 0. 0.]\n",
      " [0. 0. 0. 0. 0. 0. 0. 0. 0. 0. 0. 0. 0. 0. 0. 0. 0. 0. 0. 0. 0. 0. 0. 0.\n",
      "  0. 0. 0. 0. 0. 0. 0. 0. 0. 0. 0. 0. 0. 0. 0. 0. 0. 0. 0. 0. 0. 0. 0. 0.\n",
      "  0. 0. 0. 0. 0. 0. 0. 0. 0. 0. 0. 0. 0. 0. 0. 0.]\n",
      " [0. 0. 0. 0. 0. 0. 0. 0. 0. 0. 0. 0. 0. 0. 0. 0. 0. 0. 0. 0. 0. 0. 0. 0.\n",
      "  0. 0. 0. 0. 0. 0. 0. 0. 0. 0. 0. 0. 0. 0. 0. 0. 0. 0. 0. 0. 0. 0. 0. 0.\n",
      "  0. 0. 0. 0. 0. 0. 0. 0. 0. 0. 0. 0. 0. 0. 0. 0.]\n",
      " [0. 0. 0. 0. 0. 0. 0. 0. 0. 0. 0. 0. 0. 0. 0. 0. 0. 0. 0. 0. 0. 0. 0. 0.\n",
      "  0. 0. 0. 0. 0. 0. 0. 0. 0. 0. 0. 0. 0. 0. 0. 0. 0. 0. 0. 0. 0. 0. 0. 0.\n",
      "  0. 0. 0. 0. 0. 0. 0. 0. 0. 0. 0. 0. 0. 0. 0. 0.]\n",
      " [0. 0. 0. 0. 0. 0. 0. 0. 0. 0. 0. 0. 0. 0. 0. 0. 0. 0. 0. 0. 0. 0. 0. 0.\n",
      "  0. 0. 0. 0. 0. 0. 0. 0. 0. 0. 0. 0. 0. 0. 0. 0. 0. 0. 0. 0. 0. 0. 0. 0.\n",
      "  0. 0. 0. 0. 0. 0. 0. 0. 0. 0. 0. 0. 0. 0. 0. 0.]]\n"
     ]
    }
   ],
   "source": [
    "print(EstimatedMessage)\n",
    "print(EstimatedMessage_b)"
   ]
  },
  {
   "cell_type": "code",
   "execution_count": 53,
   "metadata": {},
   "outputs": [],
   "source": [
    "BER = AWGN.BERCalculation(EstimatedMessage, msg, codeNum, msg_length)\n",
    "BER_b = AWGN.BERCalculation(EstimatedMessage_b, msg, codeNum, msg_length)"
   ]
  },
  {
   "cell_type": "code",
   "execution_count": 56,
   "metadata": {},
   "outputs": [
    {
     "name": "stdout",
     "output_type": "stream",
     "text": [
      "0.009375\n"
     ]
    }
   ],
   "source": [
    "print(BER)"
   ]
  },
  {
   "cell_type": "code",
   "execution_count": 55,
   "metadata": {},
   "outputs": [
    {
     "name": "stdout",
     "output_type": "stream",
     "text": [
      "0.4921875\n"
     ]
    }
   ],
   "source": [
    "print(BER_b)"
   ]
  },
  {
   "cell_type": "code",
   "execution_count": 9,
   "metadata": {},
   "outputs": [],
   "source": [
    "# LLR_AWGN = AWGN.LLR_Value_AWGN(ebno[3], CodeRate, ReceivedAWGN)\n",
    "LLR_AWGN = AWGN.LLR_Value_AWGN(0, CodeRate, ReceivedAWGN)"
   ]
  },
  {
   "cell_type": "code",
   "execution_count": 10,
   "metadata": {},
   "outputs": [],
   "source": [
    "EstimatedMessage = AWGN.Decoding(codeNum, N_length, n_power, SelectedBitsPositions, \n",
    "                                FrozenBitsPositions, G_All, LLR_AWGN)"
   ]
  },
  {
   "cell_type": "code",
   "execution_count": 11,
   "metadata": {},
   "outputs": [],
   "source": [
    "BER = AWGN.BERCalculation(EstimatedMessage, msg, codeNum, msg_length)"
   ]
  },
  {
   "cell_type": "code",
   "execution_count": 12,
   "metadata": {},
   "outputs": [
    {
     "name": "stdout",
     "output_type": "stream",
     "text": [
      "0.0\n"
     ]
    }
   ],
   "source": [
    "print(BER)"
   ]
  },
  {
   "cell_type": "code",
   "execution_count": null,
   "metadata": {},
   "outputs": [],
   "source": []
  }
 ],
 "metadata": {
  "kernelspec": {
   "display_name": "Python 3",
   "language": "python",
   "name": "python3"
  },
  "language_info": {
   "codemirror_mode": {
    "name": "ipython",
    "version": 3
   },
   "file_extension": ".py",
   "mimetype": "text/x-python",
   "name": "python",
   "nbconvert_exporter": "python",
   "pygments_lexer": "ipython3",
   "version": "3.6.4"
  }
 },
 "nbformat": 4,
 "nbformat_minor": 2
}
