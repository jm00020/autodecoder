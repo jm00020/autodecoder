{
 "cells": [
  {
   "cell_type": "code",
   "execution_count": 1,
   "metadata": {},
   "outputs": [
    {
     "name": "stderr",
     "output_type": "stream",
     "text": [
      "Using TensorFlow backend.\n"
     ]
    }
   ],
   "source": [
    "import numpy as np\n",
    "import keras\n",
    "from keras.layers import Dense, Input, Add\n",
    "from keras.models import Sequential, Model, load_model\n",
    "import scipy.special as sp\n",
    "\n",
    "from Source import AWGN"
   ]
  },
  {
   "cell_type": "code",
   "execution_count": 2,
   "metadata": {},
   "outputs": [],
   "source": [
    "n_power=7\n",
    "CodeRate=0.5\n",
    "N_length=int(2**n_power)\n",
    "msg_length=int(CodeRate*N_length)\n",
    "frozen_length=N_length-msg_length\n",
    "codeNum =10**2\n",
    "test_codeNum = 10**3\n",
    "\n",
    "EbNo_Start=1.0  # in dB\n",
    "EbNo_delta=0.5 # in dB\n",
    "EbNo_Numbers=10 \n",
    "EbNo=np.arange(EbNo_Start,EbNo_Start+EbNo_Numbers*EbNo_delta,EbNo_delta)\n",
    "ebno=10.**(EbNo/10.)          # dB to real value 변환\n",
    "BER_BPSK_Uncoded=0.5*sp.erfc(np.sqrt(ebno))      # BPSK BER 공식"
   ]
  },
  {
   "cell_type": "code",
   "execution_count": 3,
   "metadata": {},
   "outputs": [],
   "source": [
    "G_All=AWGN.AllGeneratorMatrixPolarCode(n_power) ###생성행렬생성\n",
    "(Z_AWGN,Z_decending_index_AWGN)=AWGN.BhanttacharyyaParameterAWGN(N_length, n_power, CodeRate)\n",
    "SelectedBitsPositions = Z_decending_index_AWGN[frozen_length:]\n",
    "SelectedBitsPositions.sort()\n",
    "FrozenBitsPositions = Z_decending_index_AWGN[:frozen_length]\n",
    "FrozenBitsPositions.sort()"
   ]
  },
  {
   "cell_type": "code",
   "execution_count": 4,
   "metadata": {},
   "outputs": [
    {
     "name": "stdout",
     "output_type": "stream",
     "text": [
      "WARNING:tensorflow:From D:\\anaconda\\lib\\site-packages\\tensorflow_core\\python\\ops\\resource_variable_ops.py:1630: calling BaseResourceVariable.__init__ (from tensorflow.python.ops.resource_variable_ops) with constraint is deprecated and will be removed in a future version.\n",
      "Instructions for updating:\n",
      "If using Keras pass *_constraint arguments to layers.\n",
      "WARNING:tensorflow:From D:\\anaconda\\lib\\site-packages\\keras\\backend\\tensorflow_backend.py:422: The name tf.global_variables is deprecated. Please use tf.compat.v1.global_variables instead.\n",
      "\n"
     ]
    }
   ],
   "source": [
    "model = load_model('Model/model_2btis_AWGN_p6.h5')"
   ]
  },
  {
   "cell_type": "code",
   "execution_count": 5,
   "metadata": {},
   "outputs": [],
   "source": [
    "file_buffer = 'Result/AWGN_model_p6.csv'\n",
    "model_f = open(file_buffer, 'w')\n",
    "file_buffer = 'Result/AWGN.csv'\n",
    "AWGN_f = open(file_buffer, 'w')\n",
    "file_buffer = 'Result/AWGN_only_model.csv'\n",
    "AWGN_only_model_f = open(file_buffer, 'w')"
   ]
  },
  {
   "cell_type": "code",
   "execution_count": 7,
   "metadata": {},
   "outputs": [
    {
     "name": "stdout",
     "output_type": "stream",
     "text": [
      "0\n",
      "1\n",
      "2\n",
      "3\n",
      "4\n",
      "5\n",
      "6\n",
      "7\n",
      "8\n",
      "9\n"
     ]
    }
   ],
   "source": [
    "AWGN_BERs = []\n",
    "Model_BERs = []\n",
    "Only_BERs = []\n",
    "for EbNo_cnt, EbNo_real in enumerate(ebno):\n",
    "    print(EbNo_cnt)\n",
    "    total_AWGN_BER = 0\n",
    "    total_Moel_BER = 0\n",
    "    total_only_BER = 0\n",
    "    for i in range(10):\n",
    "        msg, codeword, uncodedbits = AWGN.Encoding(codeNum, N_length, n_power, msg_length, SelectedBitsPositions, G_All[n_power]) \n",
    "        ReceivedAWGN = AWGN.ReceivedCode(EbNo_real, CodeRate,codeNum, N_length, codeword)\n",
    "        model_predict_AWGN = model.predict(ReceivedAWGN, verbose = 0)\n",
    "    \n",
    "        LLR_AWGN = AWGN.LLR_Value_AWGN(EbNo_real, CodeRate, ReceivedAWGN)\n",
    "        LLR_Model_AWGN = AWGN.LLR_Value_AWGN(EbNo_real, CodeRate, model_predict_AWGN)\n",
    "        \n",
    "        Esti_AWGN = AWGN.Decoding(codeNum, N_length, n_power, SelectedBitsPositions, \n",
    "                                FrozenBitsPositions, G_All, LLR_AWGN)\n",
    "        Esti_Model_AWGN = AWGN.Decoding(codeNum, N_length, n_power, SelectedBitsPositions, \n",
    "                                FrozenBitsPositions, G_All, LLR_Model_AWGN)\n",
    "        \n",
    "        AWGN_BER = AWGN.BERCalculation(Esti_AWGN, msg, codeNum, msg_length)\n",
    "        Model_BER = AWGN.BERCalculation(Esti_Model_AWGN, msg, codeNum, msg_length)\n",
    "        only_BER = AWGN.BERCalculation(np.where(model_predict_AWGN < 0, 1 ,0)[:,SelectedBitsPositions], msg, codeNum, msg_length)\n",
    "        \n",
    "        total_AWGN_BER += AWGN_BER\n",
    "        total_Moel_BER += Model_BER\n",
    "        total_only_BER += only_BER\n",
    "        \n",
    "    AWGN_BERs.append(total_AWGN_BER/10)\n",
    "    Model_BERs.append(total_Moel_BER/10)\n",
    "    Only_BERs.append(total_only_BER/10)\n",
    "    \n",
    "    write_buffer = 'EbNo, %f,' %(EbNo[EbNo_cnt])\n",
    "    model_f.write(write_buffer)\n",
    "    AWGN_f.write(write_buffer)\n",
    "    AWGN_only_model_f.write(write_buffer)\n",
    "    \n",
    "    write_buffer = 'BER, %f\\n' %(AWGN_BERs[EbNo_cnt])\n",
    "    AWGN_f.write(write_buffer)\n",
    "    write_buffer = 'BER, %f\\n' %(Model_BERs[EbNo_cnt])\n",
    "    model_f.write(write_buffer)\n",
    "    write_buffer = 'BER, %f\\n' %(Only_BERs[EbNo_cnt])\n",
    "    AWGN_only_model_f.write(write_buffer)\n",
    "    \n",
    "model_f.close()\n",
    "AWGN_f.close()\n",
    "AWGN_only_model_f.close()"
   ]
  },
  {
   "cell_type": "code",
   "execution_count": null,
   "metadata": {},
   "outputs": [],
   "source": []
  }
 ],
 "metadata": {
  "kernelspec": {
   "display_name": "Python 3",
   "language": "python",
   "name": "python3"
  },
  "language_info": {
   "codemirror_mode": {
    "name": "ipython",
    "version": 3
   },
   "file_extension": ".py",
   "mimetype": "text/x-python",
   "name": "python",
   "nbconvert_exporter": "python",
   "pygments_lexer": "ipython3",
   "version": "3.6.10"
  }
 },
 "nbformat": 4,
 "nbformat_minor": 2
}
