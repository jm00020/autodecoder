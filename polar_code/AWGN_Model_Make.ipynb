{
 "cells": [
  {
   "cell_type": "code",
   "execution_count": 1,
   "metadata": {},
   "outputs": [
    {
     "name": "stderr",
     "output_type": "stream",
     "text": [
      "Using TensorFlow backend.\n"
     ]
    }
   ],
   "source": [
    "import numpy as np\n",
    "import keras\n",
    "from keras.layers import Dense, Input, Add\n",
    "from keras.models import Sequential, Model, load_model\n",
    "import scipy.special as sp\n",
    "\n",
    "from Source import AWGN"
   ]
  },
  {
   "cell_type": "code",
   "execution_count": 2,
   "metadata": {},
   "outputs": [],
   "source": [
    "n_power=7\n",
    "CodeRate=0.5\n",
    "N_length=int(2**n_power)\n",
    "msg_length=int(CodeRate*N_length)\n",
    "frozen_length=N_length-msg_length\n",
    "codeNum =10**6\n",
    "test_codeNum = 10**3\n",
    "\n",
    "EbNo_Start=1.0  # in dB\n",
    "EbNo_delta=0.5 # in dB\n",
    "EbNo_Numbers=10 \n",
    "EbNo=np.arange(EbNo_Start,EbNo_Start+EbNo_Numbers*EbNo_delta,EbNo_delta)\n",
    "ebno=10.**(EbNo/10.)          # dB to real value 변환\n",
    "BER_BPSK_Uncoded=0.5*sp.erfc(np.sqrt(ebno))      # BPSK BER 공식"
   ]
  },
  {
   "cell_type": "code",
   "execution_count": 3,
   "metadata": {},
   "outputs": [],
   "source": [
    "G_All=AWGN.AllGeneratorMatrixPolarCode(n_power) ###생성행렬생성"
   ]
  },
  {
   "cell_type": "code",
   "execution_count": 4,
   "metadata": {},
   "outputs": [],
   "source": [
    "(Z_AWGN,Z_decending_index_AWGN)=AWGN.BhanttacharyyaParameterAWGN(N_length, n_power, CodeRate)"
   ]
  },
  {
   "cell_type": "code",
   "execution_count": 5,
   "metadata": {},
   "outputs": [],
   "source": [
    "SelectedBitsPositions = Z_decending_index_AWGN[frozen_length:]\n",
    "SelectedBitsPositions.sort()\n",
    "FrozenBitsPositions = Z_decending_index_AWGN[:frozen_length]\n",
    "FrozenBitsPositions.sort()"
   ]
  },
  {
   "cell_type": "code",
   "execution_count": 6,
   "metadata": {},
   "outputs": [],
   "source": [
    "msg=np.random.randint(0,2,size=(codeNum, msg_length))"
   ]
  },
  {
   "cell_type": "code",
   "execution_count": 7,
   "metadata": {},
   "outputs": [],
   "source": [
    "msg,codeword, uncodedbits = AWGN.Encoding(msg, codeNum, N_length, n_power, msg_length, SelectedBitsPositions, G_All[n_power])\n",
    "ReceivedAWGN = AWGN.ReceivedCode(ebno[0], CodeRate,codeNum, N_length, codeword)\n"
   ]
  },
  {
   "cell_type": "code",
   "execution_count": 8,
   "metadata": {},
   "outputs": [],
   "source": [
    "# test_msg=np.random.randint(0,2,size=(test_codeNum, msg_length))"
   ]
  },
  {
   "cell_type": "code",
   "execution_count": 9,
   "metadata": {},
   "outputs": [],
   "source": [
    "# test_msg, test_codeword, test_uncodedbits = AWGN.Encoding(test_msg, test_codeNum, N_length, n_power, msg_length, SelectedBitsPositions, \n",
    "#                                         G_All[n_power]) \n",
    "test_ReceivedAWGN = AWGN.ReceivedCode(ebno[0], CodeRate,codeNum, N_length, codeword)\n"
   ]
  },
  {
   "cell_type": "code",
   "execution_count": 10,
   "metadata": {},
   "outputs": [
    {
     "name": "stdout",
     "output_type": "stream",
     "text": [
      "WARNING:tensorflow:From D:\\anaconda\\lib\\site-packages\\tensorflow_core\\python\\ops\\resource_variable_ops.py:1630: calling BaseResourceVariable.__init__ (from tensorflow.python.ops.resource_variable_ops) with constraint is deprecated and will be removed in a future version.\n",
      "Instructions for updating:\n",
      "If using Keras pass *_constraint arguments to layers.\n",
      "WARNING:tensorflow:From D:\\anaconda\\lib\\site-packages\\tensorflow_core\\python\\ops\\nn_impl.py:183: where (from tensorflow.python.ops.array_ops) is deprecated and will be removed in a future version.\n",
      "Instructions for updating:\n",
      "Use tf.where in 2.0, which has the same broadcast rule as np.where\n"
     ]
    }
   ],
   "source": [
    "input_layer = Input(shape=(128,))\n",
    "\n",
    "line1_Dense1 = Dense(128*1, activation='elu')(input_layer)\n",
    "line1_Dense2 = Dense(128*1, activation='elu')(line1_Dense1)         \n",
    "line1_Dense3 = Dense(128*1, activation='elu')(line1_Dense2)\n",
    "line1_output_layer = Dense(128, activation='tanh')(line1_Dense3)\n",
    "\n",
    "line2_Dense1 = Dense(128*2, activation='elu')(input_layer)\n",
    "line2_Dense2 = Dense(128*4, activation='elu')(line2_Dense1)         \n",
    "line2_Dense3 = Dense(128*2, activation='elu')(line2_Dense2)\n",
    "line2_output_layer = Dense(128, activation='tanh')(line2_Dense3)\n",
    "\n",
    "line3_Dense1 = Dense(128*3, activation='elu')(input_layer)\n",
    "line3_Dense2 = Dense(128*9, activation='elu')(line3_Dense1)         \n",
    "line3_Dense3 = Dense(128*3, activation='elu')(line3_Dense2)\n",
    "line3_output_layer = Dense(128, activation='tanh')(line3_Dense3)\n",
    "\n",
    "line4_Dense1 = Dense(128*4, activation='elu')(input_layer)\n",
    "line4_Dense2 = Dense(128*16, activation='elu')(line4_Dense1)         \n",
    "line4_Dense3 = Dense(128*4, activation='elu')(line4_Dense2)\n",
    "line4_output_layer = Dense(128, activation='tanh')(line4_Dense3)\n",
    "\n",
    "line5_Dense1 = Dense(128*5, activation='elu')(input_layer)\n",
    "line5_Dense2 = Dense(128*25, activation='elu')(line5_Dense1)         \n",
    "line5_Dense3 = Dense(128*5, activation='elu')(line5_Dense2)\n",
    "line5_output_layer = Dense(128, activation='tanh')(line5_Dense3)\n",
    "\n",
    "line6_Dense1 = Dense(128*6, activation='elu')(input_layer)\n",
    "line6_Dense2 = Dense(128*36, activation='elu')(line6_Dense1)         \n",
    "line6_Dense3 = Dense(128*6, activation='elu')(line6_Dense2)\n",
    "line6_output_layer = Dense(128, activation='tanh')(line6_Dense3)\n",
    "\n",
    "add_layer = Add()([line1_output_layer, line2_output_layer, line3_output_layer, line4_output_layer, \n",
    "                   line5_output_layer, line6_output_layer])\n",
    "\n",
    "\n",
    "output_layer = Dense(64, activation='sigmoid')(add_layer)\n",
    "\n",
    "model = Model(inputs = input_layer, outputs=output_layer)\n",
    "\n",
    "model.compile(optimizer='adam', loss='binary_crossentropy', metrics=['accuracy'])"
   ]
  },
  {
   "cell_type": "code",
   "execution_count": 11,
   "metadata": {},
   "outputs": [
    {
     "name": "stdout",
     "output_type": "stream",
     "text": [
      "WARNING:tensorflow:From D:\\anaconda\\lib\\site-packages\\keras\\backend\\tensorflow_backend.py:422: The name tf.global_variables is deprecated. Please use tf.compat.v1.global_variables instead.\n",
      "\n",
      "Train on 1000000 samples, validate on 1000000 samples\n",
      "Epoch 1/25\n",
      "1000000/1000000 [==============================] - 23s 23us/step - loss: 0.7168 - accuracy: 0.5215 - val_loss: 0.6733 - val_accuracy: 0.5360\n",
      "Epoch 2/25\n",
      "1000000/1000000 [==============================] - 22s 22us/step - loss: 0.6695 - accuracy: 0.5392 - val_loss: 0.6680 - val_accuracy: 0.5383\n",
      "Epoch 3/25\n",
      "1000000/1000000 [==============================] - 22s 22us/step - loss: 0.6657 - accuracy: 0.5441 - val_loss: 0.6662 - val_accuracy: 0.5407\n",
      "Epoch 4/25\n",
      "1000000/1000000 [==============================] - 22s 22us/step - loss: 0.6638 - accuracy: 0.5486 - val_loss: 0.6647 - val_accuracy: 0.5439\n",
      "Epoch 5/25\n",
      "1000000/1000000 [==============================] - 22s 22us/step - loss: 0.6623 - accuracy: 0.5533 - val_loss: 0.6639 - val_accuracy: 0.5475\n",
      "Epoch 6/25\n",
      "1000000/1000000 [==============================] - 22s 22us/step - loss: 0.6607 - accuracy: 0.5587 - val_loss: 0.6620 - val_accuracy: 0.5534\n",
      "Epoch 7/25\n",
      "1000000/1000000 [==============================] - 22s 22us/step - loss: 0.6579 - accuracy: 0.5652 - val_loss: 0.6590 - val_accuracy: 0.5596\n",
      "Epoch 8/25\n",
      "1000000/1000000 [==============================] - 22s 22us/step - loss: 0.6545 - accuracy: 0.5707 - val_loss: 0.6559 - val_accuracy: 0.5643\n",
      "Epoch 9/25\n",
      "1000000/1000000 [==============================] - 22s 22us/step - loss: 0.6506 - accuracy: 0.5756 - val_loss: 0.6522 - val_accuracy: 0.5689\n",
      "Epoch 10/25\n",
      "1000000/1000000 [==============================] - 22s 22us/step - loss: 0.6471 - accuracy: 0.5798 - val_loss: 0.6494 - val_accuracy: 0.5723\n",
      "Epoch 11/25\n",
      "1000000/1000000 [==============================] - 23s 23us/step - loss: 0.6442 - accuracy: 0.5833 - val_loss: 0.6474 - val_accuracy: 0.5745\n",
      "Epoch 12/25\n",
      "1000000/1000000 [==============================] - 22s 22us/step - loss: 0.6420 - accuracy: 0.5862 - val_loss: 0.6460 - val_accuracy: 0.5761\n",
      "Epoch 13/25\n",
      "1000000/1000000 [==============================] - 22s 22us/step - loss: 0.6401 - accuracy: 0.5886 - val_loss: 0.6450 - val_accuracy: 0.5776\n",
      "Epoch 14/25\n",
      "1000000/1000000 [==============================] - 22s 22us/step - loss: 0.6384 - accuracy: 0.5907 - val_loss: 0.6444 - val_accuracy: 0.5782\n",
      "Epoch 15/25\n",
      "1000000/1000000 [==============================] - 22s 22us/step - loss: 0.6371 - accuracy: 0.5925 - val_loss: 0.6440 - val_accuracy: 0.5790\n",
      "Epoch 16/25\n",
      "1000000/1000000 [==============================] - 22s 22us/step - loss: 0.6357 - accuracy: 0.5943 - val_loss: 0.6431 - val_accuracy: 0.5802\n",
      "Epoch 17/25\n",
      "1000000/1000000 [==============================] - 22s 22us/step - loss: 0.6342 - accuracy: 0.5963 - val_loss: 0.6429 - val_accuracy: 0.5810\n",
      "Epoch 18/25\n",
      "1000000/1000000 [==============================] - 22s 22us/step - loss: 0.6324 - accuracy: 0.5985 - val_loss: 0.6415 - val_accuracy: 0.5827\n",
      "Epoch 19/25\n",
      "1000000/1000000 [==============================] - 22s 22us/step - loss: 0.6302 - accuracy: 0.6007 - val_loss: 0.6403 - val_accuracy: 0.5841\n",
      "Epoch 20/25\n",
      "1000000/1000000 [==============================] - 22s 22us/step - loss: 0.6278 - accuracy: 0.6030 - val_loss: 0.6392 - val_accuracy: 0.5855\n",
      "Epoch 21/25\n",
      "1000000/1000000 [==============================] - 22s 22us/step - loss: 0.6254 - accuracy: 0.6053 - val_loss: 0.6380 - val_accuracy: 0.5867\n",
      "Epoch 22/25\n",
      "1000000/1000000 [==============================] - 22s 22us/step - loss: 0.6231 - accuracy: 0.6075 - val_loss: 0.6371 - val_accuracy: 0.5878\n",
      "Epoch 23/25\n",
      "1000000/1000000 [==============================] - 22s 22us/step - loss: 0.6204 - accuracy: 0.6099 - val_loss: 0.6360 - val_accuracy: 0.5889\n",
      "Epoch 24/25\n",
      "1000000/1000000 [==============================] - 22s 22us/step - loss: 0.6178 - accuracy: 0.6123 - val_loss: 0.6356 - val_accuracy: 0.5896\n",
      "Epoch 25/25\n",
      "1000000/1000000 [==============================] - 22s 22us/step - loss: 0.6153 - accuracy: 0.6148 - val_loss: 0.6355 - val_accuracy: 0.5903\n"
     ]
    },
    {
     "data": {
      "text/plain": [
       "<keras.callbacks.callbacks.History at 0x15c90e430b8>"
      ]
     },
     "execution_count": 11,
     "metadata": {},
     "output_type": "execute_result"
    }
   ],
   "source": [
    "model.fit(ReceivedAWGN, msg, \n",
    "          epochs=25,\n",
    "          batch_size=10000,\n",
    "          shuffle=True,\n",
    "          validation_data=(test_ReceivedAWGN,msg))"
   ]
  },
  {
   "cell_type": "code",
   "execution_count": null,
   "metadata": {},
   "outputs": [],
   "source": [
    "loss = model.evaluate(test_ReceivedAWGN, msg, verbose=0)\n",
    "print(loss)"
   ]
  },
  {
   "cell_type": "code",
   "execution_count": 13,
   "metadata": {},
   "outputs": [],
   "source": [
    "model.save('Model/model_AWGN_p6_2.h5')"
   ]
  },
  {
   "cell_type": "code",
   "execution_count": null,
   "metadata": {},
   "outputs": [],
   "source": []
  }
 ],
 "metadata": {
  "kernelspec": {
   "display_name": "Python 3",
   "language": "python",
   "name": "python3"
  },
  "language_info": {
   "codemirror_mode": {
    "name": "ipython",
    "version": 3
   },
   "file_extension": ".py",
   "mimetype": "text/x-python",
   "name": "python",
   "nbconvert_exporter": "python",
   "pygments_lexer": "ipython3",
   "version": "3.6.10"
  }
 },
 "nbformat": 4,
 "nbformat_minor": 2
}
