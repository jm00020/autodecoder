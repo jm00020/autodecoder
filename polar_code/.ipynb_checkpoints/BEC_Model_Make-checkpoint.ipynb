{
 "cells": [
  {
   "cell_type": "code",
   "execution_count": 1,
   "metadata": {},
   "outputs": [
    {
     "name": "stderr",
     "output_type": "stream",
     "text": [
      "Using TensorFlow backend.\n"
     ]
    }
   ],
   "source": [
    "import numpy as np\n",
    "import keras\n",
    "from keras.layers import Dense, Input, Add\n",
    "from keras.models import Sequential, Model, load_model\n",
    "\n",
    "from Source import BEC"
   ]
  },
  {
   "cell_type": "code",
   "execution_count": 2,
   "metadata": {},
   "outputs": [],
   "source": [
    "n_power=7\n",
    "CodeRate=0.5\n",
    "N_length=int(2**n_power)\n",
    "msg_length=int(CodeRate*N_length)\n",
    "frozen_length=N_length-msg_length\n",
    "TotalNumMessage=4\n",
    "codeNum = 10**6\n",
    "test_codeNum = 10**3\n",
    "\n",
    "Prob_start=0.15\n",
    "Prob_delta=0.05\n",
    "BEC_count=8\n",
    "BECs=np.arange(Prob_start,Prob_start+BEC_count*Prob_delta,Prob_delta)"
   ]
  },
  {
   "cell_type": "code",
   "execution_count": 3,
   "metadata": {},
   "outputs": [],
   "source": [
    "G_All=BEC.AllGeneratorMatrixPolarCode(n_power) ###생성행렬생성"
   ]
  },
  {
   "cell_type": "code",
   "execution_count": 4,
   "metadata": {},
   "outputs": [],
   "source": [
    "(Z_BEC,Z_decending_index_BEC)=BEC.BhanttacharyyaParameterBEC(N_length, n_power)"
   ]
  },
  {
   "cell_type": "code",
   "execution_count": 5,
   "metadata": {},
   "outputs": [],
   "source": [
    "SelectedBitsPositions = Z_decending_index_BEC[frozen_length:]\n",
    "SelectedBitsPositions.sort()"
   ]
  },
  {
   "cell_type": "code",
   "execution_count": 6,
   "metadata": {},
   "outputs": [],
   "source": [
    "FrozenBitsPositions = Z_decending_index_BEC[:frozen_length]\n",
    "FrozenBitsPositions.sort()"
   ]
  },
  {
   "cell_type": "code",
   "execution_count": 7,
   "metadata": {},
   "outputs": [],
   "source": [
    "msg, codeword = BEC.Encoding(codeNum, N_length, n_power, msg_length, SelectedBitsPositions, G_All[n_power]) \n",
    "ReceviedBEC = BEC.ReceviedCode(0.25, codeNum, N_length, codeword)"
   ]
  },
  {
   "cell_type": "code",
   "execution_count": 8,
   "metadata": {},
   "outputs": [
    {
     "ename": "NameError",
     "evalue": "name 'tset_codeNum' is not defined",
     "output_type": "error",
     "traceback": [
      "\u001b[1;31m---------------------------------------------------------------------------\u001b[0m",
      "\u001b[1;31mNameError\u001b[0m                                 Traceback (most recent call last)",
      "\u001b[1;32m<ipython-input-8-e3a6b9ffd52c>\u001b[0m in \u001b[0;36m<module>\u001b[1;34m()\u001b[0m\n\u001b[1;32m----> 1\u001b[1;33m test_msg, test_codeword = BEC.Encoding(tset_codeNum, N_length, n_power, msg_length, SelectedBitsPositions, \n\u001b[0m\u001b[0;32m      2\u001b[0m                                        G_All[n_power]) \n\u001b[0;32m      3\u001b[0m \u001b[0mtest_ReceviedBEC\u001b[0m \u001b[1;33m=\u001b[0m \u001b[0mBEC\u001b[0m\u001b[1;33m.\u001b[0m\u001b[0mReceviedCode\u001b[0m\u001b[1;33m(\u001b[0m\u001b[1;36m0.25\u001b[0m\u001b[1;33m,\u001b[0m \u001b[0mtest_codeNum\u001b[0m\u001b[1;33m,\u001b[0m \u001b[0mN_length\u001b[0m\u001b[1;33m,\u001b[0m \u001b[0mcodeword\u001b[0m\u001b[1;33m)\u001b[0m\u001b[1;33m\u001b[0m\u001b[0m\n",
      "\u001b[1;31mNameError\u001b[0m: name 'tset_codeNum' is not defined"
     ]
    }
   ],
   "source": [
    "test_msg, test_codeword = BEC.Encoding(test_codeNum, N_length, n_power, msg_length, SelectedBitsPositions, \n",
    "                                       G_All[n_power]) \n",
    "test_ReceviedBEC = BEC.ReceviedCode(0.25, test_codeNum, N_length, codeword)"
   ]
  },
  {
   "cell_type": "code",
   "execution_count": null,
   "metadata": {},
   "outputs": [],
   "source": [
    "########################여기서부터 수정필요\n",
    "input_layer = Input(shape=(128,))\n",
    "line1_Dense1 = Dense(128*1, activation='elu')(input_layer)\n",
    "line1_Dense2 = Dense(128*1, activation='elu')(line1_Dense1)         \n",
    "line1_Dense3 = Dense(128*1, activation='elu')(line1_Dense2)\n",
    "line1_output_layer = Dense(128, activation='tanh')(line1_Dense3)\n",
    "\n",
    "line2_Dense1 = Dense(128*2, activation='elu')(input_layer)\n",
    "line2_Dense2 = Dense(128*4, activation='elu')(line2_Dense1)         \n",
    "line2_Dense3 = Dense(128*2, activation='elu')(line2_Dense2)\n",
    "line2_output_layer = Dense(128, activation='tanh')(line2_Dense3)\n",
    "\n",
    "line3_Dense1 = Dense(128*3, activation='elu')(input_layer)\n",
    "line3_Dense2 = Dense(128*9, activation='elu')(line3_Dense1)         \n",
    "line3_Dense3 = Dense(128*3, activation='elu')(line3_Dense2)\n",
    "line3_output_layer = Dense(128, activation='tanh')(line3_Dense3)\n",
    "\n",
    "line4_Dense1 = Dense(128*4, activation='elu')(input_layer)\n",
    "line4_Dense2 = Dense(128*16, activation='elu')(line4_Dense1)         \n",
    "line4_Dense3 = Dense(128*4, activation='elu')(line4_Dense2)\n",
    "line4_output_layer = Dense(128, activation='tanh')(line4_Dense3)\n",
    "\n",
    "line5_Dense1 = Dense(128*5, activation='elu')(input_layer)\n",
    "line5_Dense2 = Dense(128*25, activation='elu')(line5_Dense1)         \n",
    "line5_Dense3 = Dense(128*5, activation='elu')(line5_Dense2)\n",
    "line5_output_layer = Dense(128, activation='tanh')(line5_Dense3)\n",
    "\n",
    "line5_Dense1 = Dense(128*6, activation='elu')(input_layer)\n",
    "line5_Dense2 = Dense(128*36, activation='elu')(line5_Dense1)         \n",
    "line5_Dense3 = Dense(128*6, activation='elu')(line5_Dense2)\n",
    "line5_output_layer = Dense(128, activation='tanh')(line5_Dense3)\n",
    "\n",
    "add_layer = Add()([line1_output_layer, line2_output_layer, line3_output_layer, line4_output_layer, \n",
    "                   line5_output_layer, line6_output_layer])\n",
    "\n",
    "output_layer = Dense(128, activation='linear')(add_layer)\n",
    "\n",
    "model = Model(inputs = input_layer, outputs=output_layer)\n",
    "\n",
    "model.compile(optimizer='adam', loss='mean_squared_error', metrics=['accuracy'])"
   ]
  },
  {
   "cell_type": "code",
   "execution_count": null,
   "metadata": {},
   "outputs": [],
   "source": [
    "model.fit(received_code, send_code, \n",
    "          epochs=100,\n",
    "          batch_size=10000,\n",
    "          shuffle=True,\n",
    "          validation_data=(test_received_code, test_send_code))"
   ]
  },
  {
   "cell_type": "code",
   "execution_count": null,
   "metadata": {},
   "outputs": [],
   "source": [
    "model.save('Model/model_BEC_p6.h5')"
   ]
  }
 ],
 "metadata": {
  "kernelspec": {
   "display_name": "Python 3",
   "language": "python",
   "name": "python3"
  },
  "language_info": {
   "codemirror_mode": {
    "name": "ipython",
    "version": 3
   },
   "file_extension": ".py",
   "mimetype": "text/x-python",
   "name": "python",
   "nbconvert_exporter": "python",
   "pygments_lexer": "ipython3",
   "version": "3.6.4"
  }
 },
 "nbformat": 4,
 "nbformat_minor": 2
}
