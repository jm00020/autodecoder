{
 "cells": [
  {
   "cell_type": "code",
   "execution_count": 1,
   "metadata": {},
   "outputs": [],
   "source": [
    "import numpy as np\n",
    "from matplotlib import pyplot as plt"
   ]
  },
  {
   "cell_type": "code",
   "execution_count": 2,
   "metadata": {},
   "outputs": [],
   "source": [
    "np.random.seed(103)\n",
    "n_power=7\n",
    "CodeRate=0.5\n",
    "N_length=int(2**n_power)\n",
    "msg_length=int(CodeRate*N_length)\n",
    "frozen_length=N_length-msg_length\n",
    "TotalNumMessage=4\n",
    "\n",
    "Prob_start=0.15\n",
    "Prob_delta=0.05\n",
    "BEC_count=8\n",
    "BECs=np.arange(Prob_start,Prob_start+BEC_count*Prob_delta,Prob_delta)"
   ]
  },
  {
   "cell_type": "code",
   "execution_count": 3,
   "metadata": {},
   "outputs": [
    {
     "data": {
      "text/plain": [
       "17"
      ]
     },
     "execution_count": 3,
     "metadata": {},
     "output_type": "execute_result"
    }
   ],
   "source": [
    "file=open(\"SCDBEC.txt\",\"w\")\n",
    "file.write(\"BER for polar code over BEC channel of code length \")\n",
    "file.write(str(N_length))\n",
    "file.write(\", Total number of messages: \")\n",
    "file.write(str(TotalNumMessage))\n",
    "file.write(\"\\n\")\n",
    "file.write(\"Delta:  BER:   \\n \")"
   ]
  },
  {
   "cell_type": "code",
   "execution_count": 4,
   "metadata": {},
   "outputs": [],
   "source": [
    "GenAll={}\n",
    "g_before=np.ones([1,1])\n",
    "GenAll[0]=g_before\n",
    "n_variable=0\n"
   ]
  },
  {
   "cell_type": "code",
   "execution_count": 8,
   "metadata": {},
   "outputs": [],
   "source": [
    " while (n_variable < n_power):\n",
    "    n_col_before=2**n_variable # number of columns for g_before matrix\n",
    "    n_row_before=2**n_variable # number of rows for g_before matrix\n",
    "    n_variable+=1\n",
    "    g_after=np.ones([2**n_variable,2**n_variable])\n",
    "    for i in range(n_col_before):\n",
    "        g_after[0:n_col_before,2*i]=g_before[:,i]\n",
    "        g_after[0:n_col_before,2*i+1]=np.zeros(n_col_before)\n",
    "        g_after[n_row_before::,2*i]=g_before[:,i]\n",
    "        g_after[n_row_before::,2*i+1]=g_before[:,i]\n",
    "    g_before=g_after\n",
    "    GenAll[n_variable]=g_before"
   ]
  },
  {
   "cell_type": "code",
   "execution_count": null,
   "metadata": {},
   "outputs": [],
   "source": [
    "prob_erase=0.5\n",
    "Z_before=[]\n",
    "Z_after=[]\n",
    "CapacitySplit=np.ones(N_length)\n",
    "Z_index_sorted=np.arange(N_length)\n",
    "Z_before.append(prob_erase)  # Initial value of Bhattacharyya parameter #\n",
    "i=0\n",
    "while (i < n_power):\n",
    "    N_half=len(Z_before)\n",
    "    for j in range(N_half):\n",
    "        Z_Value=2*Z_before[j]-Z_before[j]**2\n",
    "        if Z_Value < 10**-30: \n",
    "            Z_Value=10**-30\n",
    "        elif Z_Value >= (1 - 10**-30): \n",
    "            Z_Value=1 - 10**-30\n",
    "        Z_after.append(Z_Value)\n",
    "            \n",
    "        Z_Value=Z_before[j]**2\n",
    "        if Z_Value < 10**-30: \n",
    "            Z_Value=10**-30\n",
    "        elif Z_Value >= (1 - 10**-30): \n",
    "            Z_Value=1 - 10**-30\n",
    "        Z_after.append(Z_Value)\n",
    "#        print(\"Z:\",Z_after)    \n",
    "    Z_before=Z_after\n",
    "    Z_after=[]\n",
    "    i+=1\n",
    "    \n",
    "    ## Visualization of Split Channel Capacity over BEC \n",
    "    ## according to the bit positions   \n",
    "Z_after=np.array(Z_before)\n",
    "CapacitySplit=CapacitySplit-Z_after\n",
    "plt.plot(np.arange(N_length),CapacitySplit,'m*')\n",
    "plt.xlabel(\"Bit positions\",size=12)\n",
    "plt.ylabel(\"Channel capacity\",size=12)\n",
    "plt.title('Split Channel Capacity over BEC with erase prob=0.5')\n",
    "plt.grid(True)\n",
    "plt.show()\n",
    "    #######################################################\n",
    "    \n",
    "Z_sorted=sorted(Z_before,reverse=True)\n",
    "for i in range(N_length):\n",
    "    Z_index_sorted[i]=Z_before.index(Z_sorted[i])\n",
    "    Z_before[Z_index_sorted[i]]=-99\n",
    "\n",
    "Z_BEC = Z_after\n",
    "Z_decending_index_BEC = Z_index_sorted"
   ]
  }
 ],
 "metadata": {
  "kernelspec": {
   "display_name": "Python 3",
   "language": "python",
   "name": "python3"
  },
  "language_info": {
   "codemirror_mode": {
    "name": "ipython",
    "version": 3
   },
   "file_extension": ".py",
   "mimetype": "text/x-python",
   "name": "python",
   "nbconvert_exporter": "python",
   "pygments_lexer": "ipython3",
   "version": "3.6.4"
  }
 },
 "nbformat": 4,
 "nbformat_minor": 2
}
