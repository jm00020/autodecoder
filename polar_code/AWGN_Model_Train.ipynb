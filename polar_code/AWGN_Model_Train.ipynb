{
 "cells": [
  {
   "cell_type": "code",
   "execution_count": 1,
   "metadata": {},
   "outputs": [
    {
     "name": "stderr",
     "output_type": "stream",
     "text": [
      "Using TensorFlow backend.\n"
     ]
    }
   ],
   "source": [
    "import numpy as np\n",
    "import keras\n",
    "from keras.layers import Dense, Input, Add\n",
    "from keras.models import Sequential, Model, load_model\n",
    "import scipy.special as sp\n",
    "\n",
    "from Source import AWGN"
   ]
  },
  {
   "cell_type": "code",
   "execution_count": 2,
   "metadata": {},
   "outputs": [],
   "source": [
    "n_power=7\n",
    "CodeRate=0.5\n",
    "N_length=int(2**n_power)\n",
    "msg_length=int(CodeRate*N_length)\n",
    "frozen_length=N_length-msg_length\n",
    "codeNum =10**6\n",
    "test_codeNum = 10**2\n",
    "\n",
    "EbNo_Start=1.0  # in dB\n",
    "EbNo_delta=0.5 # in dB\n",
    "EbNo_Numbers=10 \n",
    "EbNo=np.arange(EbNo_Start,EbNo_Start+EbNo_Numbers*EbNo_delta,EbNo_delta)\n",
    "ebno=10.**(EbNo/10.)          # dB to real value 변환\n",
    "BER_BPSK_Uncoded=0.5*sp.erfc(np.sqrt(ebno))      # BPSK BER 공식"
   ]
  },
  {
   "cell_type": "code",
   "execution_count": 3,
   "metadata": {},
   "outputs": [],
   "source": [
    "G_All=AWGN.AllGeneratorMatrixPolarCode(n_power) ###생성행렬생성\n",
    "(Z_AWGN,Z_decending_index_AWGN)=AWGN.BhanttacharyyaParameterAWGN(N_length, n_power, CodeRate)\n",
    "SelectedBitsPositions = Z_decending_index_AWGN[frozen_length:]\n",
    "SelectedBitsPositions.sort()\n",
    "FrozenBitsPositions = Z_decending_index_AWGN[:frozen_length]\n",
    "FrozenBitsPositions.sort()"
   ]
  },
  {
   "cell_type": "code",
   "execution_count": 4,
   "metadata": {},
   "outputs": [
    {
     "name": "stdout",
     "output_type": "stream",
     "text": [
      "WARNING:tensorflow:From D:\\anaconda\\lib\\site-packages\\tensorflow_core\\python\\ops\\resource_variable_ops.py:1630: calling BaseResourceVariable.__init__ (from tensorflow.python.ops.resource_variable_ops) with constraint is deprecated and will be removed in a future version.\n",
      "Instructions for updating:\n",
      "If using Keras pass *_constraint arguments to layers.\n",
      "WARNING:tensorflow:From D:\\anaconda\\lib\\site-packages\\tensorflow_core\\python\\ops\\nn_impl.py:183: where (from tensorflow.python.ops.array_ops) is deprecated and will be removed in a future version.\n",
      "Instructions for updating:\n",
      "Use tf.where in 2.0, which has the same broadcast rule as np.where\n",
      "WARNING:tensorflow:From D:\\anaconda\\lib\\site-packages\\keras\\backend\\tensorflow_backend.py:422: The name tf.global_variables is deprecated. Please use tf.compat.v1.global_variables instead.\n",
      "\n"
     ]
    }
   ],
   "source": [
    "model = load_model('Model/model_AWGN_p6_2.h5')"
   ]
  },
  {
   "cell_type": "code",
   "execution_count": 5,
   "metadata": {},
   "outputs": [],
   "source": [
    "# msg=np.random.randint(0,2,size=(codeNum, msg_length))"
   ]
  },
  {
   "cell_type": "code",
   "execution_count": 6,
   "metadata": {},
   "outputs": [],
   "source": [
    "# codeword, uncodedbits = AWGN.Encoding(msg, codeNum, N_length, n_power, msg_length, SelectedBitsPositions, G_All[n_power])\n",
    "# ReceivedAWGN = AWGN.ReceivedCode(ebno[0], CodeRate, codeNum, N_length, codeword)"
   ]
  },
  {
   "cell_type": "code",
   "execution_count": 7,
   "metadata": {},
   "outputs": [],
   "source": [
    "# test_msg=np.random.randint(0,2,size=(test_codeNum, msg_length))\n",
    "# test_msg, test_codeword, test_uncodedbits = AWGN.Encoding(test_msg, test_codeNum, N_length, n_power, msg_length, SelectedBitsPositions, \n",
    "#                                         G_All[n_power]) \n",
    "# test_ReceivedAWGN = AWGN.ReceivedCode(ebno[0], CodeRate, test_codeNum, N_length, test_codeword)"
   ]
  },
  {
   "cell_type": "code",
   "execution_count": 8,
   "metadata": {},
   "outputs": [],
   "source": [
    "msg=np.random.randint(0,2,size=(codeNum, msg_length))\n",
    "msg, codeword, uncodedbits = AWGN.Encoding(msg, codeNum, N_length, n_power, msg_length, SelectedBitsPositions, G_All[n_power])"
   ]
  },
  {
   "cell_type": "code",
   "execution_count": 11,
   "metadata": {},
   "outputs": [
    {
     "name": "stdout",
     "output_type": "stream",
     "text": [
      "0 [0.603569404888153, 0.6121640205383301]\n",
      "1 [0.6034802080097198, 0.6120784878730774]\n",
      "2 [0.6035430443229676, 0.612330973148346]\n",
      "3 [0.6032143498401642, 0.6124252080917358]\n",
      "4 [0.6035635721340179, 0.6124635338783264]\n",
      "5 [0.6035735955371857, 0.612330436706543]\n",
      "6 [0.603662318447113, 0.6122427582740784]\n",
      "7 [0.6038317076358796, 0.6124486923217773]\n",
      "8 [0.6036110966567994, 0.6125379800796509]\n",
      "9 [0.6034373566856385, 0.612854540348053]\n"
     ]
    }
   ],
   "source": [
    "for i in range(10):\n",
    "    \n",
    "    ReceivedAWGN = AWGN.ReceivedCode(ebno[0], CodeRate, codeNum, N_length, codeword)\n",
    "    test_ReceivedAWGN = AWGN.ReceivedCode(ebno[0], CodeRate, codeNum, N_length, codeword)\n",
    "    \n",
    "    model.fit(ReceivedAWGN, msg, \n",
    "          epochs=25,\n",
    "          batch_size=10000,\n",
    "          shuffle=True,\n",
    "          validation_data=(test_ReceivedAWGN, msg), verbose=0)\n",
    "    \n",
    "    if i%1 == 0:\n",
    "        \n",
    "        \n",
    "        loss = model.evaluate(test_ReceivedAWGN, msg, verbose=0)\n",
    "        print(i, loss)\n",
    "        \n",
    "        model.save('Model/model_AWGN_p6_2.h5')"
   ]
  },
  {
   "cell_type": "code",
   "execution_count": 12,
   "metadata": {},
   "outputs": [
    {
     "name": "stdout",
     "output_type": "stream",
     "text": [
      "9 [0.6034373566856385, 0.612854540348053]\n"
     ]
    }
   ],
   "source": [
    "loss = model.evaluate(test_ReceivedAWGN, msg, verbose=0)\n",
    "print(i, loss)\n",
    "        \n",
    "model.save('Model/model_AWGN_p6_2.h5')"
   ]
  },
  {
   "cell_type": "code",
   "execution_count": null,
   "metadata": {},
   "outputs": [],
   "source": []
  }
 ],
 "metadata": {
  "kernelspec": {
   "display_name": "Python 3",
   "language": "python",
   "name": "python3"
  },
  "language_info": {
   "codemirror_mode": {
    "name": "ipython",
    "version": 3
   },
   "file_extension": ".py",
   "mimetype": "text/x-python",
   "name": "python",
   "nbconvert_exporter": "python",
   "pygments_lexer": "ipython3",
   "version": "3.6.10"
  }
 },
 "nbformat": 4,
 "nbformat_minor": 2
}
