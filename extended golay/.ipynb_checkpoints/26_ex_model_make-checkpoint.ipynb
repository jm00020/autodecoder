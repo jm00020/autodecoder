{
 "cells": [
  {
   "cell_type": "code",
   "execution_count": 1,
   "metadata": {},
   "outputs": [
    {
     "name": "stderr",
     "output_type": "stream",
     "text": [
      "Using TensorFlow backend.\n"
     ]
    }
   ],
   "source": [
    "import numpy as np\n",
    "import matplotlib.pyplot as plt\n",
    "import keras\n",
    "from keras.layers import Dense, Input, Add\n",
    "from keras.models import Sequential, Model, load_model\n",
    "from Source import golay"
   ]
  },
  {
   "cell_type": "code",
   "execution_count": 2,
   "metadata": {},
   "outputs": [],
   "source": [
    "G = golay.make_G()"
   ]
  },
  {
   "cell_type": "code",
   "execution_count": 3,
   "metadata": {},
   "outputs": [],
   "source": [
    "def awgn(x_input, reqSNR):\n",
    "    sig_power = 1\n",
    "    \n",
    "    noise_power = np.sqrt(sig_power / (2*reqSNR))\n",
    "    noise = noise_power * np.random.normal(size = x_input.shape)\n",
    "    \n",
    "    return x_input + noise"
   ]
  },
  {
   "cell_type": "code",
   "execution_count": 4,
   "metadata": {},
   "outputs": [],
   "source": [
    "codeword_size = 10**6\n",
    "\n",
    "m = np.random.randint(2, size = (codeword_size, 12))\n",
    "codeword = np.dot(m,G) % 2\n",
    "\n",
    "odd = np.where(codeword.sum(axis=1) % 2 == 1)\n",
    "even_check = np.zeros((codeword_size, 1), dtype='int')\n",
    "even_check[odd] = 1\n",
    "codeword = np.concatenate((even_check, codeword), axis=1)\n",
    "codeword = np.where(codeword > 0 , -1, 1)"
   ]
  },
  {
   "cell_type": "code",
   "execution_count": 5,
   "metadata": {},
   "outputs": [],
   "source": [
    "Eb_No = 10**(1/10)\n",
    "Es_No = Eb_No * (12/24)\n",
    "codeword_noise = awgn(codeword[:25*10**4], Es_No)\n",
    "\n",
    "Eb_No = 10**(4/10)\n",
    "Es_No = Eb_No * (12/24)\n",
    "codeword_noise = np.vstack((codeword_noise, awgn(codeword[25*10**4:50*10**4], Es_No)))\n",
    "\n",
    "Eb_No = 10**(7/10)\n",
    "Es_No = Eb_No * (12/24)\n",
    "codeword_noise = np.vstack((codeword_noise, awgn(codeword[50*10**4:75*10**4], Es_No)))\n",
    "\n",
    "Eb_No = 10**(9/10)\n",
    "Es_No = Eb_No * (12/24)\n",
    "codeword_noise = np.vstack((codeword_noise, awgn(codeword[75*10**4:], Es_No)))\n",
    "\n",
    "masking = np.ones((10**6, 2))\n",
    "masking[25*10**4:50*10**4, 1] = -1*masking[25*10**4:50*10**4, 1]\n",
    "masking[50*10**4:75*10**4, 0] = -1*masking[50*10**4:75*10**4, 0] \n",
    "masking[75*10**4:] = -1*masking[75*10**4:]\n",
    "codeword = np.hstack((masking, codeword))\n",
    "codeword_noise = np.hstack((masking, codeword_noise))"
   ]
  },
  {
   "cell_type": "code",
   "execution_count": 6,
   "metadata": {},
   "outputs": [
    {
     "name": "stdout",
     "output_type": "stream",
     "text": [
      "WARNING:tensorflow:From D:\\anaconda\\lib\\site-packages\\tensorflow_core\\python\\ops\\resource_variable_ops.py:1630: calling BaseResourceVariable.__init__ (from tensorflow.python.ops.resource_variable_ops) with constraint is deprecated and will be removed in a future version.\n",
      "Instructions for updating:\n",
      "If using Keras pass *_constraint arguments to layers.\n"
     ]
    }
   ],
   "source": [
    "input_layer = Input(shape = (26,))\n",
    "\n",
    "line1_Dense1 = Dense(26, activation='elu')(input_layer)\n",
    "line1_Dense2 = Dense(26, activation='elu')(line1_Dense1)         \n",
    "line1_Dense3 = Dense(26, activation='elu')(line1_Dense2)\n",
    "line1_output_layer = Dense(26, activation='tanh')(line1_Dense3)\n",
    "\n",
    "line2_Dense1 = Dense(52, activation='elu')(input_layer)\n",
    "line2_Dense2 = Dense(104, activation='elu')(line2_Dense1)         \n",
    "line2_Dense3 = Dense(52, activation='elu')(line2_Dense2)\n",
    "line2_output_layer = Dense(26, activation='tanh')(line2_Dense3)\n",
    "\n",
    "line3_Dense1 = Dense(78, activation='elu')(input_layer)\n",
    "line3_Dense2 = Dense(234, activation='elu')(line3_Dense1)         \n",
    "line3_Dense3 = Dense(78, activation='elu')(line3_Dense2)\n",
    "line3_output_layer = Dense(26, activation='tanh')(line3_Dense3)\n",
    "\n",
    "line4_Dense1 = Dense(104, activation='elu')(input_layer)\n",
    "line4_Dense2 = Dense(416, activation='elu')(line4_Dense1)         \n",
    "line4_Dense3 = Dense(104, activation='elu')(line4_Dense2)\n",
    "line4_output_layer = Dense(26, activation='tanh')(line4_Dense3)\n",
    "\n",
    "line5_Dense1 = Dense(130, activation='elu')(input_layer)\n",
    "line5_Dense2 = Dense(650, activation='elu')(line5_Dense1)         \n",
    "line5_Dense3 = Dense(130, activation='elu')(line5_Dense2)\n",
    "line5_output_layer = Dense(26, activation='tanh')(line5_Dense3)\n",
    "\n",
    "line6_Dense1 = Dense(156, activation='elu')(input_layer)\n",
    "line6_Dense2 = Dense(936, activation='elu')(line6_Dense1)         \n",
    "line6_Dense3 = Dense(156, activation='elu')(line6_Dense2)\n",
    "line6_output_layer = Dense(26, activation='tanh')(line6_Dense3)\n",
    "\n",
    "add_layer = Add()([line1_output_layer, line2_output_layer, line3_output_layer, \n",
    "                   line4_output_layer, line5_output_layer, line6_output_layer])\n",
    "\n",
    "output_layer = Dense(26, activation='linear')(add_layer)\n",
    "\n",
    "model = Model(inputs = input_layer, outputs = output_layer)\n",
    "\n",
    "model.compile(optimizer = 'adam', loss = 'mean_squared_error', metrics=['accuracy'])"
   ]
  },
  {
   "cell_type": "code",
   "execution_count": 7,
   "metadata": {},
   "outputs": [
    {
     "name": "stdout",
     "output_type": "stream",
     "text": [
      "1000000/1000000 [==============================] - 3s 3us/step - loss: 0.1382 - accuracy: 0.1148\n",
      "Epoch 45/100\n",
      "1000000/1000000 [==============================] - 3s 3us/step - loss: 0.1382 - accuracy: 0.1135\n",
      "Epoch 46/100\n",
      "1000000/1000000 [==============================] - 3s 3us/step - loss: 0.1381 - accuracy: 0.1143\n",
      "Epoch 47/100\n",
      "1000000/1000000 [==============================] - 3s 3us/step - loss: 0.1380 - accuracy: 0.1137\n",
      "Epoch 48/100\n",
      "1000000/1000000 [==============================] - 3s 3us/step - loss: 0.1380 - accuracy: 0.1140\n",
      "Epoch 49/100\n",
      "1000000/1000000 [==============================] - 3s 3us/step - loss: 0.1380 - accuracy: 0.1156\n",
      "Epoch 50/100\n",
      "1000000/1000000 [==============================] - 3s 3us/step - loss: 0.1380 - accuracy: 0.1128\n",
      "Epoch 51/100\n",
      "1000000/1000000 [==============================] - 3s 3us/step - loss: 0.1379 - accuracy: 0.1149\n",
      "Epoch 52/100\n",
      "1000000/1000000 [==============================] - 3s 3us/step - loss: 0.1379 - accuracy: 0.1129\n",
      "Epoch 53/100\n",
      "1000000/1000000 [==============================] - 3s 3us/step - loss: 0.1378 - accuracy: 0.1146\n",
      "Epoch 54/100\n",
      "1000000/1000000 [==============================] - 3s 3us/step - loss: 0.1378 - accuracy: 0.1141\n",
      "Epoch 55/100\n",
      "1000000/1000000 [==============================] - 3s 3us/step - loss: 0.1378 - accuracy: 0.1149\n",
      "Epoch 56/100\n",
      "1000000/1000000 [==============================] - 3s 3us/step - loss: 0.1377 - accuracy: 0.1158\n",
      "Epoch 57/100\n",
      "1000000/1000000 [==============================] - 3s 3us/step - loss: 0.1377 - accuracy: 0.1125\n",
      "Epoch 58/100\n",
      "1000000/1000000 [==============================] - 3s 3us/step - loss: 0.1376 - accuracy: 0.1141\n",
      "Epoch 59/100\n",
      "1000000/1000000 [==============================] - 3s 3us/step - loss: 0.1376 - accuracy: 0.1139\n",
      "Epoch 60/100\n",
      "1000000/1000000 [==============================] - 3s 3us/step - loss: 0.1376 - accuracy: 0.1134\n",
      "Epoch 61/100\n",
      "1000000/1000000 [==============================] - 3s 3us/step - loss: 0.1375 - accuracy: 0.1164\n",
      "Epoch 62/100\n",
      "1000000/1000000 [==============================] - 3s 3us/step - loss: 0.1375 - accuracy: 0.1124\n",
      "Epoch 63/100\n",
      "1000000/1000000 [==============================] - 3s 3us/step - loss: 0.1375 - accuracy: 0.1143\n",
      "Epoch 64/100\n",
      "1000000/1000000 [==============================] - 3s 3us/step - loss: 0.1375 - accuracy: 0.1130\n",
      "Epoch 65/100\n",
      "1000000/1000000 [==============================] - 3s 3us/step - loss: 0.1374 - accuracy: 0.1136\n",
      "Epoch 66/100\n",
      "1000000/1000000 [==============================] - 3s 3us/step - loss: 0.1374 - accuracy: 0.1153\n",
      "Epoch 67/100\n",
      "1000000/1000000 [==============================] - 3s 3us/step - loss: 0.1374 - accuracy: 0.1107\n",
      "Epoch 68/100\n",
      "1000000/1000000 [==============================] - 3s 3us/step - loss: 0.1373 - accuracy: 0.1120\n",
      "Epoch 69/100\n",
      "1000000/1000000 [==============================] - 3s 3us/step - loss: 0.1373 - accuracy: 0.1133\n",
      "Epoch 70/100\n",
      "1000000/1000000 [==============================] - 3s 3us/step - loss: 0.1373 - accuracy: 0.1128\n",
      "Epoch 71/100\n",
      "1000000/1000000 [==============================] - 3s 3us/step - loss: 0.1372 - accuracy: 0.1151\n",
      "Epoch 72/100\n",
      "1000000/1000000 [==============================] - 3s 3us/step - loss: 0.1372 - accuracy: 0.1108\n",
      "Epoch 73/100\n",
      "1000000/1000000 [==============================] - 3s 3us/step - loss: 0.1372 - accuracy: 0.1126\n",
      "Epoch 74/100\n",
      "1000000/1000000 [==============================] - 3s 3us/step - loss: 0.1371 - accuracy: 0.1134\n",
      "Epoch 75/100\n",
      "1000000/1000000 [==============================] - 3s 3us/step - loss: 0.1371 - accuracy: 0.1127\n",
      "Epoch 76/100\n",
      "1000000/1000000 [==============================] - 3s 3us/step - loss: 0.1371 - accuracy: 0.1143\n",
      "Epoch 77/100\n",
      "1000000/1000000 [==============================] - 3s 3us/step - loss: 0.1371 - accuracy: 0.1137\n",
      "Epoch 78/100\n",
      "1000000/1000000 [==============================] - 3s 3us/step - loss: 0.1370 - accuracy: 0.1116\n",
      "Epoch 79/100\n",
      "1000000/1000000 [==============================] - 3s 3us/step - loss: 0.1370 - accuracy: 0.1143\n",
      "Epoch 80/100\n",
      "1000000/1000000 [==============================] - 3s 3us/step - loss: 0.1370 - accuracy: 0.1142\n",
      "Epoch 81/100\n",
      "1000000/1000000 [==============================] - 3s 3us/step - loss: 0.1370 - accuracy: 0.1110\n",
      "Epoch 82/100\n",
      "1000000/1000000 [==============================] - 3s 3us/step - loss: 0.1369 - accuracy: 0.1141\n",
      "Epoch 83/100\n",
      "1000000/1000000 [==============================] - 3s 3us/step - loss: 0.1369 - accuracy: 0.1131\n",
      "Epoch 84/100\n",
      "1000000/1000000 [==============================] - 3s 3us/step - loss: 0.1368 - accuracy: 0.1148\n",
      "Epoch 85/100\n",
      "1000000/1000000 [==============================] - 3s 3us/step - loss: 0.1368 - accuracy: 0.1156\n",
      "Epoch 86/100\n",
      "1000000/1000000 [==============================] - 3s 3us/step - loss: 0.1368 - accuracy: 0.1135\n",
      "Epoch 87/100\n",
      "1000000/1000000 [==============================] - 3s 3us/step - loss: 0.1367 - accuracy: 0.1150\n",
      "Epoch 88/100\n",
      "1000000/1000000 [==============================] - 3s 3us/step - loss: 0.1367 - accuracy: 0.1137\n",
      "Epoch 89/100\n",
      "1000000/1000000 [==============================] - 3s 3us/step - loss: 0.1366 - accuracy: 0.1136\n",
      "Epoch 90/100\n",
      "1000000/1000000 [==============================] - 3s 3us/step - loss: 0.1366 - accuracy: 0.1117\n",
      "Epoch 91/100\n",
      "1000000/1000000 [==============================] - 3s 3us/step - loss: 0.1366 - accuracy: 0.1141\n",
      "Epoch 92/100\n",
      "1000000/1000000 [==============================] - 3s 3us/step - loss: 0.1365 - accuracy: 0.1147\n",
      "Epoch 93/100\n",
      "1000000/1000000 [==============================] - 3s 3us/step - loss: 0.1365 - accuracy: 0.1135\n",
      "Epoch 94/100\n",
      "1000000/1000000 [==============================] - 3s 3us/step - loss: 0.1364 - accuracy: 0.1127\n",
      "Epoch 95/100\n",
      "1000000/1000000 [==============================] - 3s 3us/step - loss: 0.1364 - accuracy: 0.1134\n",
      "Epoch 96/100\n",
      "1000000/1000000 [==============================] - 3s 3us/step - loss: 0.1364 - accuracy: 0.1161\n",
      "Epoch 97/100\n",
      "1000000/1000000 [==============================] - 3s 3us/step - loss: 0.1363 - accuracy: 0.1133\n",
      "Epoch 98/100\n",
      "1000000/1000000 [==============================] - 3s 3us/step - loss: 0.1363 - accuracy: 0.1135\n",
      "Epoch 99/100\n",
      "1000000/1000000 [==============================] - 3s 3us/step - loss: 0.1362 - accuracy: 0.1137\n",
      "Epoch 100/100\n",
      "1000000/1000000 [==============================] - 3s 3us/step - loss: 0.1362 - accuracy: 0.1122\n"
     ]
    },
    {
     "data": {
      "text/plain": [
       "<keras.callbacks.callbacks.History at 0x2a3c5a4de80>"
      ]
     },
     "execution_count": 7,
     "metadata": {},
     "output_type": "execute_result"
    }
   ],
   "source": [
    "model.fit(codeword_noise, codeword, \n",
    "          epochs=100,\n",
    "          batch_size=10000,\n",
    "          shuffle=True)"
   ]
  },
  {
   "cell_type": "code",
   "execution_count": 8,
   "metadata": {},
   "outputs": [],
   "source": [
    "model.save('model/add_2_(24,12)_p6.h5')"
   ]
  }
 ],
 "metadata": {
  "kernelspec": {
   "display_name": "Python 3",
   "language": "python",
   "name": "python3"
  },
  "language_info": {
   "codemirror_mode": {
    "name": "ipython",
    "version": 3
   },
   "file_extension": ".py",
   "mimetype": "text/x-python",
   "name": "python",
   "nbconvert_exporter": "python",
   "pygments_lexer": "ipython3",
   "version": "3.6.10"
  }
 },
 "nbformat": 4,
 "nbformat_minor": 2
}
