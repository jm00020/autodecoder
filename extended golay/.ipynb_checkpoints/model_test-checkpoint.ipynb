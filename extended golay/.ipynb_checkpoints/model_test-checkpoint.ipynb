{
 "cells": [
  {
   "cell_type": "code",
   "execution_count": 1,
   "metadata": {},
   "outputs": [
    {
     "name": "stderr",
     "output_type": "stream",
     "text": [
      "Using TensorFlow backend.\n"
     ]
    }
   ],
   "source": [
    "import matplotlib.pyplot as plt\n",
    "import numpy as np\n",
    "import keras\n",
    "from keras.layers import Dense, Input, Add\n",
    "from keras.models import Sequential, Model, load_model\n",
    "from Source import golay"
   ]
  },
  {
   "cell_type": "code",
   "execution_count": 2,
   "metadata": {},
   "outputs": [],
   "source": [
    "G = golay.make_G()"
   ]
  },
  {
   "cell_type": "code",
   "execution_count": 3,
   "metadata": {},
   "outputs": [],
   "source": [
    "def awgn(x_input, reqSNR):\n",
    "    sig_power = 1\n",
    "    \n",
    "    noise_power = np.sqrt(sig_power / (2*reqSNR))\n",
    "    noise = noise_power * np.random.normal(size = x_input.shape)\n",
    "    \n",
    "    return x_input + noise"
   ]
  },
  {
   "cell_type": "code",
   "execution_count": 4,
   "metadata": {},
   "outputs": [
    {
     "name": "stdout",
     "output_type": "stream",
     "text": [
      "WARNING:tensorflow:From D:\\anaconda\\lib\\site-packages\\tensorflow_core\\python\\ops\\resource_variable_ops.py:1630: calling BaseResourceVariable.__init__ (from tensorflow.python.ops.resource_variable_ops) with constraint is deprecated and will be removed in a future version.\n",
      "Instructions for updating:\n",
      "If using Keras pass *_constraint arguments to layers.\n",
      "WARNING:tensorflow:From D:\\anaconda\\lib\\site-packages\\keras\\backend\\tensorflow_backend.py:422: The name tf.global_variables is deprecated. Please use tf.compat.v1.global_variables instead.\n",
      "\n"
     ]
    }
   ],
   "source": [
    "ex_ad_model = load_model('model/(24,12)_p6.h5')\n",
    "ad_model = load_model('golay_ex.h5')"
   ]
  },
  {
   "cell_type": "code",
   "execution_count": 5,
   "metadata": {},
   "outputs": [],
   "source": [
    "file_buffer = 'result/extend_golay.txt'\n",
    "ex_golay_f = open(file_buffer, 'w')\n",
    "\n",
    "file_buffer = 'result/ex_ad.txt'\n",
    "ex_ad_f = open(file_buffer, 'w')\n",
    "\n",
    "file_buffer = 'result/ex_ad_syn.txt'\n",
    "ex_ad_syn_f = open(file_buffer, 'w')\n",
    "\n",
    "file_buffer = 'result/ad.txt'\n",
    "ad_f = open(file_buffer, 'w')\n",
    "\n",
    "file_buffer = 'result/ad_syn.txt'\n",
    "ad_syn_f = open(file_buffer, 'w')"
   ]
  },
  {
   "cell_type": "code",
   "execution_count": 6,
   "metadata": {},
   "outputs": [],
   "source": [
    "ex_golay_BER = np.zeros(11)\n",
    "ex_ad_BER = np.zeros(11)\n",
    "ex_ad_syn_BER = np.zeros(11)\n",
    "ad_BER = np.zeros(11)\n",
    "ad_syn_BER = np.zeros(11)"
   ]
  },
  {
   "cell_type": "code",
   "execution_count": null,
   "metadata": {},
   "outputs": [
    {
     "name": "stdout",
     "output_type": "stream",
     "text": [
      "0 Eb/No strat\n",
      "0 Eb/No end\n",
      "1 Eb/No strat\n",
      "1 Eb/No end\n",
      "2 Eb/No strat\n",
      "2 Eb/No end\n",
      "3 Eb/No strat\n",
      "3 Eb/No end\n",
      "4 Eb/No strat\n",
      "4 Eb/No end\n",
      "5 Eb/No strat\n",
      "5 Eb/No end\n",
      "6 Eb/No strat\n"
     ]
    }
   ],
   "source": [
    "for i in range(0, 11):\n",
    "    total_ex_golay_BER = 0\n",
    "    total_ex_ad_BER = 0\n",
    "    total_ex_ad_syn_BER = 0\n",
    "    total_ad_BER = 0\n",
    "    total_ad_syn_BER = 0\n",
    "    \n",
    "    Eb_No = 10**(i/10)\n",
    "    ex_Es_No = Eb_No * (12/24)\n",
    "    Es_No = Eb_No * (12/23)\n",
    "    print(i,'Eb/No strat')\n",
    "    for j in range(100):\n",
    "        m = np.random.randint(2, size=(10**6, 12))\n",
    "        x_golay = np.dot(m, G) % 2\n",
    "        odd = np.where(x_golay.sum(axis=1) % 2 == 1)\n",
    "        even_check = np.zeros((10**6, 1), dtype='int')\n",
    "        even_check[odd] = 1\n",
    "        x_ex_golay = np.concatenate((even_check, x_golay), axis=1)\n",
    "        \n",
    "        \n",
    "        x_ex_golay = np.where(x_ex_golay > 0, -1, 1)\n",
    "        \n",
    "        x_ex_golay_noise = awgn(x_ex_golay, ex_Es_No)\n",
    "        \n",
    "        x_golay = np.where(x_golay > 0, -1, 1)\n",
    "        x_golay_noise = awgn(x_golay, Es_No)\n",
    "        \n",
    "        ex_ad_code = ex_ad_model.predict(x_ex_golay_noise, verbose=0)\n",
    "        ad_code = ad_model.predict(x_golay_noise, verbose=0)\n",
    "        \n",
    "        ex_x = np.where(x_ex_golay_noise < 0, 1, 0)\n",
    "        ex_ad_code = np.where(ex_ad_code < 0, 1, 0)\n",
    "        \n",
    "        ad_code = np.where(ad_code < 0, 1, 0)\n",
    "        \n",
    "        esti_ex_x = golay.ex_syndrome_decoding(ex_x)\n",
    "        esti_ex_ad = golay.ex_syndrome_decoding(ex_ad_code)\n",
    "        esti_ad = golay.syndrome_decoding(ad_code)\n",
    "        \n",
    "        index = np.where(esti_ex_x[:,0] != -1)[0]\n",
    "        ex_golay_count = ((m[index,:] + esti_ex_x[index,11:])%2).sum()\n",
    "        total_ex_golay_BER += ex_golay_count / (index.shape[0]*m.shape[1])\n",
    "        \n",
    "        index = np.where(esti_ex_ad[:,0] != -1)[0]\n",
    "        ex_ad_syn_count = ((m[index,:] + esti_ex_ad[index,11:])%2).sum()\n",
    "        total_ex_ad_syn_BER += ex_ad_syn_count / (index.shape[0]*m.shape[1])\n",
    "        \n",
    "        ex_ad_count = ((m + ex_ad_code[:,12:])%2).sum()\n",
    "        total_ex_ad_BER += ex_ad_count / (m.shape[0]*m.shape[1])\n",
    "        \n",
    "        ad_count = ((m + ad_code[:,11:])%2).sum()\n",
    "        total_ad_BER += ad_count / (m.shape[0]*m.shape[1])\n",
    "        \n",
    "        ad_syn_count = ((m + esti_ad[:,11:])%2).sum()\n",
    "        total_ad_syn_BER += ad_syn_count / (m.shape[0]*m.shape[1])\n",
    "\n",
    "    ex_golay_BER[i] = total_ex_golay_BER/100\n",
    "    ex_ad_BER[i] = total_ex_ad_BER/100\n",
    "    ex_ad_syn_BER[i] =total_ex_ad_syn_BER/100\n",
    "    ad_BER[i] = total_ad_BER/100\n",
    "    ad_syn_BER[i] = total_ad_syn_BER/100\n",
    "    \n",
    "    \n",
    "    write_buffer = 'Eb_No, %f, ' %(i)\n",
    "    ex_golay_f.write(write_buffer)\n",
    "    ex_ad_f.write(write_buffer)\n",
    "    ex_ad_syn_f.write(write_buffer)\n",
    "    ad_f.write(write_buffer)\n",
    "    ad_syn_f.write(write_buffer)\n",
    "    \n",
    "    write_buffer = 'BER, %.10f\\n' % (ex_golay_BER[i])\n",
    "    ex_golay_f.write(write_buffer)\n",
    "    write_buffer = 'BER, %.10f\\n' % (ex_ad_BER[i])\n",
    "    ex_ad_f.write(write_buffer)\n",
    "    write_buffer = 'BER, %.10f\\n' % (ex_ad_syn_BER[i])\n",
    "    ex_ad_syn_f.write(write_buffer)\n",
    "    write_buffer = 'BER, %.10f\\n' % (ad_BER[i])\n",
    "    ad_f.write(write_buffer)\n",
    "    write_buffer = 'BER, %.10f\\n' % (ad_syn_BER[i])\n",
    "    ad_syn_f.write(write_buffer)\n",
    "    \n",
    "    print(i,'Eb/No end')\n",
    "    \n",
    "ex_golay_f.close()\n",
    "ex_ad_f.close()\n",
    "ex_ad_syn_f.close()\n",
    "ad_f.close()\n",
    "ad_syn_f.close()"
   ]
  }
 ],
 "metadata": {
  "kernelspec": {
   "display_name": "Python 3",
   "language": "python",
   "name": "python3"
  },
  "language_info": {
   "codemirror_mode": {
    "name": "ipython",
    "version": 3
   },
   "file_extension": ".py",
   "mimetype": "text/x-python",
   "name": "python",
   "nbconvert_exporter": "python",
   "pygments_lexer": "ipython3",
   "version": "3.6.10"
  }
 },
 "nbformat": 4,
 "nbformat_minor": 2
}
