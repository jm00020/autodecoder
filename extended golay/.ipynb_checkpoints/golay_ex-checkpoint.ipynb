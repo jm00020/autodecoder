{
 "cells": [
  {
   "cell_type": "code",
   "execution_count": 1,
   "metadata": {},
   "outputs": [
    {
     "name": "stderr",
     "output_type": "stream",
     "text": [
      "Using TensorFlow backend.\n"
     ]
    }
   ],
   "source": [
    "import numpy as np\n",
    "import matplotlib.pyplot as plt\n",
    "import keras\n",
    "from keras.layers import Dense, Input, Add\n",
    "from keras.models import Sequential, Model, load_model"
   ]
  },
  {
   "cell_type": "code",
   "execution_count": 2,
   "metadata": {},
   "outputs": [],
   "source": [
    "def awgn(x_input, reqSNR):\n",
    "    sig_power = 1\n",
    "    \n",
    "    noise_power = np.sqrt(sig_power / (2*reqSNR))\n",
    "    noise = noise_power * np.random.normal(size = x_input.shape)\n",
    "    \n",
    "    return x_input + noise"
   ]
  },
  {
   "cell_type": "code",
   "execution_count": 3,
   "metadata": {},
   "outputs": [],
   "source": [
    "P = np.array([\n",
    "    [1, 0, 1, 0, 1, 1, 1, 0, 0, 0, 1],\n",
    "    [1, 1, 1, 1, 1, 0, 0, 1, 0, 0, 1],\n",
    "    [1, 1, 0, 1, 0, 0, 1, 0, 1, 0, 1],\n",
    "    [1, 1, 0, 0, 0, 1, 1, 1, 0, 1, 1],\n",
    "    [1, 1, 0, 0, 1, 1, 0, 1, 1, 0, 0],\n",
    "    [0, 1, 1, 0, 0, 1, 1, 0, 1, 1, 0],\n",
    "    [0, 0, 1, 1, 0, 0, 1, 1, 0, 1, 1],\n",
    "    [1, 0, 1, 1, 0, 1, 1, 1, 1, 0, 0],\n",
    "    [0, 1, 0, 1, 1, 0, 1, 1, 1, 1, 0],\n",
    "    [0, 0, 1, 0, 1, 1, 0, 1, 1, 1, 1],\n",
    "    [1, 0, 1, 1, 1, 0, 0, 0, 1, 1, 0],\n",
    "    [0, 1, 0, 1, 1, 1, 0, 0, 0, 1, 1],\n",
    "], dtype='int')"
   ]
  },
  {
   "cell_type": "code",
   "execution_count": 4,
   "metadata": {},
   "outputs": [],
   "source": [
    "H = np.concatenate((np.eye(11, dtype=\"int\"), P.T), axis=1)\n",
    "G= np.concatenate((P, np.eye(12, dtype=\"int\")), axis=1)"
   ]
  },
  {
   "cell_type": "code",
   "execution_count": 5,
   "metadata": {},
   "outputs": [],
   "source": [
    "codeword_size = 10**6\n",
    "\n",
    "m = np.random.randint(2, size = (codeword_size, 12))\n",
    "codeword = np.dot(m,G) % 2\n",
    "codeword = np.where(codeword > 0 , -1, 1)"
   ]
  },
  {
   "cell_type": "code",
   "execution_count": 6,
   "metadata": {},
   "outputs": [],
   "source": [
    "Eb_No = 10**(3/10)\n",
    "Es_No = Eb_No * (12/23)\n",
    "codeword_noise = awgn(codeword, Es_No)"
   ]
  },
  {
   "cell_type": "code",
   "execution_count": 7,
   "metadata": {},
   "outputs": [
    {
     "name": "stdout",
     "output_type": "stream",
     "text": [
      "WARNING:tensorflow:From D:\\anaconda\\lib\\site-packages\\tensorflow_core\\python\\ops\\resource_variable_ops.py:1630: calling BaseResourceVariable.__init__ (from tensorflow.python.ops.resource_variable_ops) with constraint is deprecated and will be removed in a future version.\n",
      "Instructions for updating:\n",
      "If using Keras pass *_constraint arguments to layers.\n"
     ]
    }
   ],
   "source": [
    "input_layer = Input(shape = (23,))\n",
    "\n",
    "line1_Dense1 = Dense(46, activation='elu')(input_layer)\n",
    "line1_Dense2 = Dense(92, activation='elu')(line1_Dense1)         \n",
    "line1_Dense3 = Dense(184, activation='elu')(line1_Dense2)\n",
    "line1_Dense4 = Dense(368, activation='elu')(line1_Dense3)\n",
    "line1_Dense5 = Dense(184, activation='elu')(line1_Dense4)\n",
    "line1_Dense6 = Dense(92, activation='elu')(line1_Dense5)\n",
    "line1_Dense7 = Dense(46, activation='elu')(line1_Dense6)\n",
    "\n",
    "output_layer = Dense(23, activation='tanh')(line1_Dense7)\n",
    "\n",
    "model = Model(inputs = input_layer, outputs = output_layer)\n",
    "\n",
    "model.compile(optimizer = 'adam', loss = 'mean_squared_error', metrics=['accuracy'])"
   ]
  },
  {
   "cell_type": "code",
   "execution_count": null,
   "metadata": {},
   "outputs": [
    {
     "name": "stdout",
     "output_type": "stream",
     "text": [
      "WARNING:tensorflow:From D:\\anaconda\\lib\\site-packages\\keras\\backend\\tensorflow_backend.py:422: The name tf.global_variables is deprecated. Please use tf.compat.v1.global_variables instead.\n",
      "\n",
      "Epoch 1/100\n",
      "1000000/1000000 [==============================] - 2s 2us/step - loss: 0.4150 - accuracy: 0.0893\n",
      "Epoch 2/100\n",
      "1000000/1000000 [==============================] - 2s 2us/step - loss: 0.3337 - accuracy: 0.0919\n",
      "Epoch 3/100\n",
      "1000000/1000000 [==============================] - 2s 2us/step - loss: 0.3207 - accuracy: 0.0905\n",
      "Epoch 4/100\n",
      "1000000/1000000 [==============================] - 2s 2us/step - loss: 0.2996 - accuracy: 0.0878\n",
      "Epoch 5/100\n",
      "1000000/1000000 [==============================] - 2s 2us/step - loss: 0.2697 - accuracy: 0.0786\n",
      "Epoch 6/100\n",
      "1000000/1000000 [==============================] - 2s 2us/step - loss: 0.2483 - accuracy: 0.0777\n",
      "Epoch 7/100\n",
      "1000000/1000000 [==============================] - 2s 2us/step - loss: 0.2382 - accuracy: 0.0811\n",
      "Epoch 8/100\n",
      "1000000/1000000 [==============================] - 2s 2us/step - loss: 0.2330 - accuracy: 0.0830\n",
      "Epoch 9/100\n",
      "1000000/1000000 [==============================] - 2s 2us/step - loss: 0.2302 - accuracy: 0.0840\n",
      "Epoch 10/100\n",
      "1000000/1000000 [==============================] - 2s 2us/step - loss: 0.2285 - accuracy: 0.0841\n",
      "Epoch 11/100\n",
      "1000000/1000000 [==============================] - 2s 2us/step - loss: 0.2274 - accuracy: 0.0850\n",
      "Epoch 12/100\n",
      "1000000/1000000 [==============================] - 2s 2us/step - loss: 0.2264 - accuracy: 0.0823\n",
      "Epoch 13/100\n",
      "1000000/1000000 [==============================] - 2s 2us/step - loss: 0.2256 - accuracy: 0.0828\n",
      "Epoch 14/100\n",
      " 200000/1000000 [=====>........................] - ETA: 1s - loss: 0.2248 - accuracy: 0.0874"
     ]
    }
   ],
   "source": [
    "model.fit(codeword_noise, codeword, \n",
    "          epochs=100,\n",
    "          batch_size=10000,\n",
    "          shuffle=True)"
   ]
  },
  {
   "cell_type": "code",
   "execution_count": null,
   "metadata": {},
   "outputs": [],
   "source": [
    "model.save('golay_ex.h5')"
   ]
  }
 ],
 "metadata": {
  "kernelspec": {
   "display_name": "Python 3",
   "language": "python",
   "name": "python3"
  },
  "language_info": {
   "codemirror_mode": {
    "name": "ipython",
    "version": 3
   },
   "file_extension": ".py",
   "mimetype": "text/x-python",
   "name": "python",
   "nbconvert_exporter": "python",
   "pygments_lexer": "ipython3",
   "version": "3.6.10"
  }
 },
 "nbformat": 4,
 "nbformat_minor": 2
}
