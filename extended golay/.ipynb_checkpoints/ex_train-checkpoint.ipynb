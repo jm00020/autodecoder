{
 "cells": [
  {
   "cell_type": "code",
   "execution_count": 1,
   "metadata": {},
   "outputs": [
    {
     "name": "stderr",
     "output_type": "stream",
     "text": [
      "Using TensorFlow backend.\n"
     ]
    }
   ],
   "source": [
    "import numpy as np\n",
    "import matplotlib.pyplot as plt\n",
    "import keras\n",
    "from keras.layers import Dense, Input, Add\n",
    "from keras.models import Sequential, Model, load_model"
   ]
  },
  {
   "cell_type": "code",
   "execution_count": 2,
   "metadata": {},
   "outputs": [],
   "source": [
    "def awgn(x_input, reqSNR):\n",
    "    sig_power = 1\n",
    "    \n",
    "    noise_power = np.sqrt(sig_power / (2*reqSNR))\n",
    "    noise = noise_power * np.random.normal(size = x_input.shape)\n",
    "    \n",
    "    return x_input + noise"
   ]
  },
  {
   "cell_type": "code",
   "execution_count": 3,
   "metadata": {},
   "outputs": [],
   "source": [
    "P = np.array([\n",
    "    [1, 0, 1, 0, 1, 1, 1, 0, 0, 0, 1],\n",
    "    [1, 1, 1, 1, 1, 0, 0, 1, 0, 0, 1],\n",
    "    [1, 1, 0, 1, 0, 0, 1, 0, 1, 0, 1],\n",
    "    [1, 1, 0, 0, 0, 1, 1, 1, 0, 1, 1],\n",
    "    [1, 1, 0, 0, 1, 1, 0, 1, 1, 0, 0],\n",
    "    [0, 1, 1, 0, 0, 1, 1, 0, 1, 1, 0],\n",
    "    [0, 0, 1, 1, 0, 0, 1, 1, 0, 1, 1],\n",
    "    [1, 0, 1, 1, 0, 1, 1, 1, 1, 0, 0],\n",
    "    [0, 1, 0, 1, 1, 0, 1, 1, 1, 1, 0],\n",
    "    [0, 0, 1, 0, 1, 1, 0, 1, 1, 1, 1],\n",
    "    [1, 0, 1, 1, 1, 0, 0, 0, 1, 1, 0],\n",
    "    [0, 1, 0, 1, 1, 1, 0, 0, 0, 1, 1],\n",
    "], dtype='int')"
   ]
  },
  {
   "cell_type": "code",
   "execution_count": 4,
   "metadata": {},
   "outputs": [],
   "source": [
    "H = np.concatenate((np.eye(11, dtype=\"int\"), P.T), axis=1)\n",
    "G= np.concatenate((P, np.eye(12, dtype=\"int\")), axis=1)"
   ]
  },
  {
   "cell_type": "code",
   "execution_count": 5,
   "metadata": {},
   "outputs": [
    {
     "name": "stdout",
     "output_type": "stream",
     "text": [
      "WARNING:tensorflow:From D:\\anaconda\\lib\\site-packages\\tensorflow_core\\python\\ops\\resource_variable_ops.py:1630: calling BaseResourceVariable.__init__ (from tensorflow.python.ops.resource_variable_ops) with constraint is deprecated and will be removed in a future version.\n",
      "Instructions for updating:\n",
      "If using Keras pass *_constraint arguments to layers.\n",
      "WARNING:tensorflow:From D:\\anaconda\\lib\\site-packages\\keras\\backend\\tensorflow_backend.py:422: The name tf.global_variables is deprecated. Please use tf.compat.v1.global_variables instead.\n",
      "\n"
     ]
    }
   ],
   "source": [
    "model = load_model('golay_ex.h5')"
   ]
  },
  {
   "cell_type": "code",
   "execution_count": 6,
   "metadata": {},
   "outputs": [
    {
     "ename": "AttributeError",
     "evalue": "'float' object has no attribute 'reshape'",
     "output_type": "error",
     "traceback": [
      "\u001b[1;31m---------------------------------------------------------------------------\u001b[0m",
      "\u001b[1;31mAttributeError\u001b[0m                            Traceback (most recent call last)",
      "\u001b[1;32m<ipython-input-6-fdf8d818354b>\u001b[0m in \u001b[0;36m<module>\u001b[1;34m\u001b[0m\n\u001b[0;32m     13\u001b[0m     \u001b[0mEs_No\u001b[0m \u001b[1;33m=\u001b[0m \u001b[0mEb_No\u001b[0m \u001b[1;33m*\u001b[0m \u001b[1;33m(\u001b[0m\u001b[1;36m12\u001b[0m\u001b[1;33m/\u001b[0m\u001b[1;36m24\u001b[0m\u001b[1;33m)\u001b[0m\u001b[1;33m\u001b[0m\u001b[1;33m\u001b[0m\u001b[0m\n\u001b[0;32m     14\u001b[0m \u001b[1;33m\u001b[0m\u001b[0m\n\u001b[1;32m---> 15\u001b[1;33m     \u001b[0mtrain_noise\u001b[0m \u001b[1;33m=\u001b[0m \u001b[0mawgn\u001b[0m\u001b[1;33m(\u001b[0m\u001b[0mtrain\u001b[0m\u001b[1;33m,\u001b[0m \u001b[0mEs_No\u001b[0m\u001b[1;33m)\u001b[0m\u001b[1;33m\u001b[0m\u001b[1;33m\u001b[0m\u001b[0m\n\u001b[0m\u001b[0;32m     16\u001b[0m     \u001b[0mtest_noise\u001b[0m \u001b[1;33m=\u001b[0m \u001b[0mawgn\u001b[0m\u001b[1;33m(\u001b[0m\u001b[0mtest\u001b[0m\u001b[1;33m,\u001b[0m \u001b[0mEs_No\u001b[0m\u001b[1;33m)\u001b[0m\u001b[1;33m\u001b[0m\u001b[1;33m\u001b[0m\u001b[0m\n\u001b[0;32m     17\u001b[0m \u001b[1;33m\u001b[0m\u001b[0m\n",
      "\u001b[1;32m<ipython-input-2-5c2ab54b2e26>\u001b[0m in \u001b[0;36mawgn\u001b[1;34m(x_input, reqSNR)\u001b[0m\n\u001b[0;32m      5\u001b[0m \u001b[1;33m\u001b[0m\u001b[0m\n\u001b[0;32m      6\u001b[0m     \u001b[0mnoise_power\u001b[0m \u001b[1;33m=\u001b[0m \u001b[0msig_power\u001b[0m \u001b[1;33m/\u001b[0m \u001b[0mreqSNR\u001b[0m\u001b[1;33m\u001b[0m\u001b[1;33m\u001b[0m\u001b[0m\n\u001b[1;32m----> 7\u001b[1;33m     \u001b[0mnoise_power\u001b[0m \u001b[1;33m=\u001b[0m \u001b[0mnoise_power\u001b[0m\u001b[1;33m.\u001b[0m\u001b[0mreshape\u001b[0m\u001b[1;33m(\u001b[0m\u001b[0mx_input\u001b[0m\u001b[1;33m.\u001b[0m\u001b[0mshape\u001b[0m\u001b[1;33m[\u001b[0m\u001b[1;36m0\u001b[0m\u001b[1;33m]\u001b[0m\u001b[1;33m,\u001b[0m\u001b[1;36m1\u001b[0m\u001b[1;33m)\u001b[0m\u001b[1;33m\u001b[0m\u001b[1;33m\u001b[0m\u001b[0m\n\u001b[0m\u001b[0;32m      8\u001b[0m \u001b[1;33m\u001b[0m\u001b[0m\n\u001b[0;32m      9\u001b[0m     \u001b[0mnoise\u001b[0m \u001b[1;33m=\u001b[0m \u001b[0mnp\u001b[0m\u001b[1;33m.\u001b[0m\u001b[0msqrt\u001b[0m\u001b[1;33m(\u001b[0m\u001b[0mnoise_power\u001b[0m\u001b[1;33m)\u001b[0m \u001b[1;33m*\u001b[0m \u001b[0mnp\u001b[0m\u001b[1;33m.\u001b[0m\u001b[0mrandom\u001b[0m\u001b[1;33m.\u001b[0m\u001b[0mnormal\u001b[0m\u001b[1;33m(\u001b[0m\u001b[0msize\u001b[0m \u001b[1;33m=\u001b[0m \u001b[0mx_input\u001b[0m\u001b[1;33m.\u001b[0m\u001b[0mshape\u001b[0m\u001b[1;33m)\u001b[0m\u001b[1;33m\u001b[0m\u001b[1;33m\u001b[0m\u001b[0m\n",
      "\u001b[1;31mAttributeError\u001b[0m: 'float' object has no attribute 'reshape'"
     ]
    }
   ],
   "source": [
    "for i in range(100):\n",
    "    train_size = 10**6\n",
    "    m = np.random.randint(2, size = (train_size, 12))\n",
    "    train = np.dot(m,G) % 2\n",
    "    train = np.where(train > 0, -1, 1)\n",
    "\n",
    "    test_size = 10**3\n",
    "    m = np.random.randint(2, size = (test_size, 12))\n",
    "    test = np.dot(m,G) % 2\n",
    "    test = np.where(test > 0, -1, 1)\n",
    "    \n",
    "    Eb_No = 10**(3/10)\n",
    "    Es_No = Eb_No * (12/23)\n",
    "\n",
    "    train_noise = awgn(train, Es_No)\n",
    "    test_noise = awgn(test, Es_No)\n",
    "    \n",
    "    model.fit(train_noise, train,\n",
    "          epochs=100,\n",
    "          batch_size=10000,\n",
    "          shuffle=True,\n",
    "          validation_data=(test_noise, test),verbose=0)\n",
    "    \n",
    "    if i%10 == 0:\n",
    "        loss = model.evaluate(test_noise, test)\n",
    "        print(loss)\n",
    "        \n",
    "        model.save('golay_ex.h5')"
   ]
  },
  {
   "cell_type": "code",
   "execution_count": null,
   "metadata": {},
   "outputs": [],
   "source": [
    "model.save('golay_ex.h5')"
   ]
  }
 ],
 "metadata": {
  "kernelspec": {
   "display_name": "Python 3",
   "language": "python",
   "name": "python3"
  },
  "language_info": {
   "codemirror_mode": {
    "name": "ipython",
    "version": 3
   },
   "file_extension": ".py",
   "mimetype": "text/x-python",
   "name": "python",
   "nbconvert_exporter": "python",
   "pygments_lexer": "ipython3",
   "version": "3.6.10"
  }
 },
 "nbformat": 4,
 "nbformat_minor": 2
}
