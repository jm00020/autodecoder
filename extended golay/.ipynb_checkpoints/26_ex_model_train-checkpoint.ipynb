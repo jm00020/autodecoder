{
 "cells": [
  {
   "cell_type": "code",
   "execution_count": 1,
   "metadata": {},
   "outputs": [
    {
     "name": "stderr",
     "output_type": "stream",
     "text": [
      "Using TensorFlow backend.\n"
     ]
    }
   ],
   "source": [
    "import numpy as np\n",
    "import matplotlib.pyplot as plt\n",
    "import keras\n",
    "from keras.layers import Dense, Input, Add\n",
    "from keras.models import Sequential, Model, load_model\n",
    "from Source import golay"
   ]
  },
  {
   "cell_type": "code",
   "execution_count": 2,
   "metadata": {},
   "outputs": [],
   "source": [
    "G = golay.make_G()"
   ]
  },
  {
   "cell_type": "code",
   "execution_count": 3,
   "metadata": {},
   "outputs": [],
   "source": [
    "def awgn(x_input, reqSNR):\n",
    "    sig_power = 1\n",
    "    \n",
    "    noise_power = np.sqrt(sig_power / (2*reqSNR))\n",
    "    noise = noise_power * np.random.normal(size = x_input.shape)\n",
    "    \n",
    "    return x_input + noise"
   ]
  },
  {
   "cell_type": "code",
   "execution_count": 4,
   "metadata": {},
   "outputs": [
    {
     "name": "stdout",
     "output_type": "stream",
     "text": [
      "WARNING:tensorflow:From D:\\anaconda\\lib\\site-packages\\tensorflow_core\\python\\ops\\resource_variable_ops.py:1630: calling BaseResourceVariable.__init__ (from tensorflow.python.ops.resource_variable_ops) with constraint is deprecated and will be removed in a future version.\n",
      "Instructions for updating:\n",
      "If using Keras pass *_constraint arguments to layers.\n",
      "WARNING:tensorflow:From D:\\anaconda\\lib\\site-packages\\keras\\backend\\tensorflow_backend.py:422: The name tf.global_variables is deprecated. Please use tf.compat.v1.global_variables instead.\n",
      "\n"
     ]
    }
   ],
   "source": [
    "model = load_model('model/add_2_(24,12)_p6.h5')"
   ]
  },
  {
   "cell_type": "code",
   "execution_count": null,
   "metadata": {},
   "outputs": [
    {
     "name": "stdout",
     "output_type": "stream",
     "text": [
      "1000/1000 [==============================] - 0s 100us/step\n",
      "[0.12970942430570723, 0.1340000033378601]\n",
      "1000/1000 [==============================] - 0s 72us/step\n",
      "[0.10656067052111029, 0.1469999998807907]\n"
     ]
    }
   ],
   "source": [
    "for i in range(100):\n",
    "    train_size = 10**6\n",
    "    m = np.random.randint(2, size = (train_size, 12))\n",
    "    train = np.dot(m,G) % 2\n",
    "\n",
    "    odd = np.where(train.sum(axis=1) % 2 == 1)\n",
    "    even_check = np.zeros((train_size, 1), dtype='int')\n",
    "    even_check[odd] = 1\n",
    "    train = np.concatenate((even_check, train), axis=1)\n",
    "    train = np.where(train > 0 , -1, 1)\n",
    "\n",
    "    Eb_No = 10**(1/10)\n",
    "    Es_No = Eb_No * (12/24)\n",
    "    train_noise = awgn(train[:25*10**4], Es_No)\n",
    "\n",
    "    Eb_No = 10**(4/10)\n",
    "    Es_No = Eb_No * (12/24)\n",
    "    train_noise = np.vstack((train_noise, awgn(train[25*10**4:50*10**4], Es_No)))\n",
    "\n",
    "    Eb_No = 10**(7/10)\n",
    "    Es_No = Eb_No * (12/24)\n",
    "    train_noise = np.vstack((train_noise, awgn(train[50*10**4:75*10**4], Es_No)))\n",
    "\n",
    "    Eb_No = 10**(9/10)\n",
    "    Es_No = Eb_No * (12/24)\n",
    "    train_noise = np.vstack((train_noise, awgn(train[75*10**4:], Es_No)))\n",
    "\n",
    "    masking = np.ones((train_size, 2))\n",
    "    masking[25*10**4:50*10**4, 1] = -1*masking[25*10**4:50*10**4, 1]\n",
    "    masking[50*10**4:75*10**4, 0] = -1*masking[50*10**4:75*10**4, 0] \n",
    "    masking[75*10**4:] = -1*masking[75*10**4:]\n",
    "    train = np.hstack((masking, train))\n",
    "    train_noise = np.hstack((masking, train_noise))\n",
    "    \n",
    "    \n",
    "    test_size = 10**3\n",
    "    m = np.random.randint(2, size = (test_size, 12))\n",
    "    test = np.dot(m,G) % 2\n",
    "\n",
    "    odd = np.where(test.sum(axis=1) % 2 == 1)\n",
    "    even_check = np.zeros((test_size, 1), dtype='int')\n",
    "    even_check[odd] = 1\n",
    "    test = np.concatenate((even_check, test), axis=1)\n",
    "    test = np.where(test > 0 , -1, 1)\n",
    "\n",
    "    Eb_No = 10**(1/10)\n",
    "    Es_No = Eb_No * (12/24)\n",
    "    test_noise = awgn(test[:25*10], Es_No)\n",
    "\n",
    "    Eb_No = 10**(4/10)\n",
    "    Es_No = Eb_No * (12/24)\n",
    "    test_noise = np.vstack((test_noise, awgn(test[25*10:50*10], Es_No)))\n",
    "\n",
    "    Eb_No = 10**(7/10)\n",
    "    Es_No = Eb_No * (12/24)\n",
    "    test_noise = np.vstack((test_noise, awgn(test[50*10:75*10], Es_No)))\n",
    "\n",
    "    Eb_No = 10**(9/10)\n",
    "    Es_No = Eb_No * (12/24)\n",
    "    test_noise = np.vstack((test_noise, awgn(test[75*10:], Es_No)))\n",
    "\n",
    "    masking = np.ones((test_size, 2))\n",
    "    masking[25*10:50*10, 1] = -1*masking[25*10:50*10, 1]\n",
    "    masking[50*10:75*10, 0] = -1*masking[50*10:75*10, 0] \n",
    "    masking[75*10:] = -1*masking[75*10:]\n",
    "    test = np.hstack((masking, test))\n",
    "    test_noise = np.hstack((masking, test_noise))\n",
    "    \n",
    "    model.fit(train_noise, train,\n",
    "          epochs=100,\n",
    "          batch_size=10000,\n",
    "          shuffle=True,\n",
    "          validation_data=(test_noise, test),verbose=0)    \n",
    "    \n",
    "    if i%10 == 0:\n",
    "        loss = model.evaluate(test_noise, test)\n",
    "        print(loss)\n",
    "        \n",
    "        model.save('model/add_2_(24,12)_p6.h5') "
   ]
  },
  {
   "cell_type": "code",
   "execution_count": null,
   "metadata": {},
   "outputs": [],
   "source": [
    "model.save('model/add_2_(24,12)_p6.h5')"
   ]
  }
 ],
 "metadata": {
  "kernelspec": {
   "display_name": "Python 3",
   "language": "python",
   "name": "python3"
  },
  "language_info": {
   "codemirror_mode": {
    "name": "ipython",
    "version": 3
   },
   "file_extension": ".py",
   "mimetype": "text/x-python",
   "name": "python",
   "nbconvert_exporter": "python",
   "pygments_lexer": "ipython3",
   "version": "3.6.10"
  }
 },
 "nbformat": 4,
 "nbformat_minor": 2
}
