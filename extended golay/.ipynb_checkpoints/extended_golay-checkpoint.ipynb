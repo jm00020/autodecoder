{
 "cells": [
  {
   "cell_type": "code",
   "execution_count": 7,
   "metadata": {},
   "outputs": [],
   "source": [
    "import numpy as np\n",
    "import pickle\n",
    "import matplotlib.pyplot as plt\n",
    "from Source import golay"
   ]
  },
  {
   "cell_type": "code",
   "execution_count": 8,
   "metadata": {},
   "outputs": [],
   "source": [
    "G = golay.make_G()"
   ]
  },
  {
   "cell_type": "code",
   "execution_count": 22,
   "metadata": {},
   "outputs": [
    {
     "name": "stdout",
     "output_type": "stream",
     "text": [
      "codeword:  [[1 1 0 1 0 0 0 0 1 0 1 0 1 1 0 1 1 1 0 1 0 1 0 0]\n",
      " [1 0 0 0 0 0 1 1 1 0 0 1 0 0 1 0 1 1 0 1 0 1 1 1]\n",
      " [0 0 1 1 1 0 0 1 1 0 1 0 0 0 1 0 0 0 1 0 1 1 1 1]\n",
      " [0 1 1 0 1 0 0 0 1 1 1 0 1 0 0 0 0 1 1 0 1 1 0 1]\n",
      " [0 1 0 1 1 0 0 1 0 0 0 0 1 1 1 0 1 0 1 0 0 1 1 1]\n",
      " [0 1 0 1 1 0 1 1 1 0 1 0 0 0 1 1 1 0 1 0 0 0 0 1]\n",
      " [1 0 1 0 0 1 1 0 0 1 1 0 1 0 1 1 1 1 0 0 0 0 0 1]\n",
      " [0 0 1 1 1 1 0 1 1 0 1 1 0 0 0 1 1 0 0 0 0 1 0 1]\n",
      " [1 0 0 1 1 1 0 0 1 1 0 1 0 1 0 0 0 1 1 0 0 1 1 0]\n",
      " [1 1 1 0 1 0 1 0 1 0 0 1 0 1 1 1 1 1 0 0 1 1 1 1]]\n",
      "code [1 1 0 1 0 0 0 0 1 0 1 0 1 1 0 1 1 1 0 1 1 0 1 1]\n",
      "even_check 1\n",
      "code_syndrome (1, 0, 0, 1, 0, 0, 1, 0, 1, 0, 0)\n",
      "error_code [0, 1, 0, 0, 0, 0, 0, 0, 0, 0, 1, 0, 0, 1, 0, 0, 0, 0, 0, 0, 0, 0, 0]\n",
      "code [1 0 0 0 0 0 1 1 1 0 0 1 0 0 1 0 1 1 0 1 1 0 0 0]\n",
      "even_check 1\n",
      "code_syndrome (1, 0, 0, 1, 0, 0, 1, 0, 1, 0, 0)\n",
      "error_code [0, 1, 0, 0, 0, 0, 0, 0, 0, 0, 1, 0, 0, 1, 0, 0, 0, 0, 0, 0, 0, 0, 0]\n",
      "code [0 0 1 1 1 0 0 1 1 0 1 0 0 0 1 0 0 0 1 0 0 0 0 0]\n",
      "even_check 0\n",
      "code_syndrome (1, 0, 0, 1, 0, 0, 1, 0, 1, 0, 0)\n",
      "error_code [0, 1, 0, 0, 0, 0, 0, 0, 0, 0, 1, 0, 0, 1, 0, 0, 0, 0, 0, 0, 0, 0, 0]\n",
      "code [0 1 1 0 1 0 0 0 1 1 1 0 1 0 0 0 0 1 1 0 0 0 1 0]\n",
      "even_check 0\n",
      "code_syndrome (1, 0, 0, 1, 0, 0, 1, 0, 1, 0, 0)\n",
      "error_code [0, 1, 0, 0, 0, 0, 0, 0, 0, 0, 1, 0, 0, 1, 0, 0, 0, 0, 0, 0, 0, 0, 0]\n",
      "code [0 1 0 1 1 0 0 1 0 0 0 0 1 1 1 0 1 0 1 0 1 0 0 0]\n",
      "even_check 0\n",
      "code_syndrome (1, 0, 0, 1, 0, 0, 1, 0, 1, 0, 0)\n",
      "error_code [0, 1, 0, 0, 0, 0, 0, 0, 0, 0, 1, 0, 0, 1, 0, 0, 0, 0, 0, 0, 0, 0, 0]\n",
      "code [0 1 0 1 1 0 1 1 1 0 1 0 0 0 1 1 1 0 1 0 1 1 1 0]\n",
      "even_check 0\n",
      "code_syndrome (1, 0, 0, 1, 0, 0, 1, 0, 1, 0, 0)\n",
      "error_code [0, 1, 0, 0, 0, 0, 0, 0, 0, 0, 1, 0, 0, 1, 0, 0, 0, 0, 0, 0, 0, 0, 0]\n",
      "code [1 0 1 0 0 1 1 0 0 1 1 0 1 0 1 1 1 1 0 0 1 1 1 0]\n",
      "even_check 1\n",
      "code_syndrome (1, 0, 0, 1, 0, 0, 1, 0, 1, 0, 0)\n",
      "error_code [0, 1, 0, 0, 0, 0, 0, 0, 0, 0, 1, 0, 0, 1, 0, 0, 0, 0, 0, 0, 0, 0, 0]\n",
      "code [0 0 1 1 1 1 0 1 1 0 1 1 0 0 0 1 1 0 0 0 1 0 1 0]\n",
      "even_check 0\n",
      "code_syndrome (1, 0, 0, 1, 0, 0, 1, 0, 1, 0, 0)\n",
      "error_code [0, 1, 0, 0, 0, 0, 0, 0, 0, 0, 1, 0, 0, 1, 0, 0, 0, 0, 0, 0, 0, 0, 0]\n",
      "code [1 0 0 1 1 1 0 0 1 1 0 1 0 1 0 0 0 1 1 0 1 0 0 1]\n",
      "even_check 1\n",
      "code_syndrome (1, 0, 0, 1, 0, 0, 1, 0, 1, 0, 0)\n",
      "error_code [0, 1, 0, 0, 0, 0, 0, 0, 0, 0, 1, 0, 0, 1, 0, 0, 0, 0, 0, 0, 0, 0, 0]\n",
      "code [1 1 1 0 1 0 1 0 1 0 0 1 0 1 1 1 1 1 0 0 0 0 0 0]\n",
      "even_check 1\n",
      "code_syndrome (1, 0, 0, 1, 0, 0, 1, 0, 1, 0, 0)\n",
      "error_code [0, 1, 0, 0, 0, 0, 0, 0, 0, 0, 1, 0, 0, 1, 0, 0, 0, 0, 0, 0, 0, 0, 0]\n"
     ]
    }
   ],
   "source": [
    "codeword_size = 10\n",
    "\n",
    "m = np.random.randint(2, size = (codeword_size, 12))\n",
    "codeword = np.dot(m,G) % 2\n",
    "\n",
    "odd = np.where(codeword.sum(axis=1) % 2 == 1)\n",
    "even_check = np.zeros((codeword_size, 1), dtype='int')\n",
    "even_check[odd] = 1\n",
    "codeword = np.concatenate((even_check, codeword), axis=1)\n",
    "print(\"codeword: \", codeword)\n",
    "\n",
    "noise = np.array([0, 0, 0, 0, 0, 0, 0, 0, 0, 0, 0, 0, 0, 0, 0, 0, 0, 0, 0, 0, 1, 1, 1, 1])\n",
    "codeword = (codeword + noise) % 2\n",
    "\n",
    "# add noise\n",
    "\n",
    "estimated_code = golay.syndrome_decoding(codeword)"
   ]
  },
  {
   "cell_type": "code",
   "execution_count": 23,
   "metadata": {},
   "outputs": [
    {
     "name": "stdout",
     "output_type": "stream",
     "text": [
      "[[1 1 0 1 0 0 0 0 1 0 1 0 1 1 0 1 1 1 0 1 1 0 1 1]\n",
      " [1 0 0 0 0 0 1 1 1 0 0 1 0 0 1 0 1 1 0 1 1 0 0 0]\n",
      " [0 0 1 1 1 0 0 1 1 0 1 0 0 0 1 0 0 0 1 0 0 0 0 0]\n",
      " [0 1 1 0 1 0 0 0 1 1 1 0 1 0 0 0 0 1 1 0 0 0 1 0]\n",
      " [0 1 0 1 1 0 0 1 0 0 0 0 1 1 1 0 1 0 1 0 1 0 0 0]\n",
      " [0 1 0 1 1 0 1 1 1 0 1 0 0 0 1 1 1 0 1 0 1 1 1 0]\n",
      " [1 0 1 0 0 1 1 0 0 1 1 0 1 0 1 1 1 1 0 0 1 1 1 0]\n",
      " [0 0 1 1 1 1 0 1 1 0 1 1 0 0 0 1 1 0 0 0 1 0 1 0]\n",
      " [1 0 0 1 1 1 0 0 1 1 0 1 0 1 0 0 0 1 1 0 1 0 0 1]\n",
      " [1 1 1 0 1 0 1 0 1 0 0 1 0 1 1 1 1 1 0 0 0 0 0 0]]\n"
     ]
    }
   ],
   "source": [
    "print(codeword)"
   ]
  },
  {
   "cell_type": "code",
   "execution_count": 24,
   "metadata": {},
   "outputs": [
    {
     "name": "stdout",
     "output_type": "stream",
     "text": [
      "[[ 1  1  1  0  0  0  0  1  0  1  1  1  1  1  1  1  1  0  1  1  0  1  1]\n",
      " [ 0  1  0  0  0  1  1  1  0  0  0  0  0  0  0  1  1  0  1  1  0  0  0]\n",
      " [-1 -1 -1 -1 -1 -1 -1 -1 -1 -1 -1 -1 -1 -1 -1 -1 -1 -1 -1 -1 -1 -1 -1]\n",
      " [-1 -1 -1 -1 -1 -1 -1 -1 -1 -1 -1 -1 -1 -1 -1 -1 -1 -1 -1 -1 -1 -1 -1]\n",
      " [-1 -1 -1 -1 -1 -1 -1 -1 -1 -1 -1 -1 -1 -1 -1 -1 -1 -1 -1 -1 -1 -1 -1]\n",
      " [-1 -1 -1 -1 -1 -1 -1 -1 -1 -1 -1 -1 -1 -1 -1 -1 -1 -1 -1 -1 -1 -1 -1]\n",
      " [ 0  0  0  0  1  1  0  0  1  1  1  1  0  0  1  1  1  0  0  1  1  1  0]\n",
      " [-1 -1 -1 -1 -1 -1 -1 -1 -1 -1 -1 -1 -1 -1 -1 -1 -1 -1 -1 -1 -1 -1 -1]\n",
      " [ 0  1  1  1  1  0  0  1  1  0  0  0  1  1  0  0  1  1  0  1  0  0  1]\n",
      " [ 1  0  0  1  0  1  0  1  0  0  0  0  1  0  1  1  1  0  0  0  0  0  0]]\n"
     ]
    }
   ],
   "source": [
    "print(estimated_code)"
   ]
  },
  {
   "cell_type": "code",
   "execution_count": 25,
   "metadata": {},
   "outputs": [
    {
     "name": "stdout",
     "output_type": "stream",
     "text": [
      "[[1 1 0 1 1 1 0 1 0 1 0 0]\n",
      " [0 0 1 0 1 1 0 1 0 1 1 1]\n",
      " [0 0 1 0 0 0 1 0 1 1 1 1]\n",
      " [1 0 0 0 0 1 1 0 1 1 0 1]\n",
      " [1 1 1 0 1 0 1 0 0 1 1 1]\n",
      " [0 0 1 1 1 0 1 0 0 0 0 1]\n",
      " [1 0 1 1 1 1 0 0 0 0 0 1]\n",
      " [0 0 0 1 1 0 0 0 0 1 0 1]\n",
      " [0 1 0 0 0 1 1 0 0 1 1 0]\n",
      " [0 1 1 1 1 1 0 0 1 1 1 1]]\n",
      "[[ 1  1  1  1  1  1  0  1  1  0  1  1]\n",
      " [ 0  0  0  0  1  1  0  1  1  0  0  0]\n",
      " [-1 -1 -1 -1 -1 -1 -1 -1 -1 -1 -1 -1]\n",
      " [-1 -1 -1 -1 -1 -1 -1 -1 -1 -1 -1 -1]\n",
      " [-1 -1 -1 -1 -1 -1 -1 -1 -1 -1 -1 -1]\n",
      " [-1 -1 -1 -1 -1 -1 -1 -1 -1 -1 -1 -1]\n",
      " [ 1  0  0  1  1  1  0  0  1  1  1  0]\n",
      " [-1 -1 -1 -1 -1 -1 -1 -1 -1 -1 -1 -1]\n",
      " [ 0  1  1  0  0  1  1  0  1  0  0  1]\n",
      " [ 0  1  0  1  1  1  0  0  0  0  0  0]]\n"
     ]
    }
   ],
   "source": [
    "print(m)\n",
    "print(estimated_code[:,11:])"
   ]
  },
  {
   "cell_type": "code",
   "execution_count": 26,
   "metadata": {},
   "outputs": [
    {
     "data": {
      "text/plain": [
       "(array([0, 0, 0, 0, 0, 1, 1, 1, 1, 1, 2, 2, 2, 2, 2, 2, 2, 2, 2, 2, 2, 2,\n",
       "        3, 3, 3, 3, 3, 3, 3, 3, 3, 3, 3, 3, 4, 4, 4, 4, 4, 4, 4, 4, 4, 4,\n",
       "        4, 4, 5, 5, 5, 5, 5, 5, 5, 5, 5, 5, 5, 5, 6, 6, 6, 6, 6, 7, 7, 7,\n",
       "        7, 7, 7, 7, 7, 7, 7, 7, 7, 8, 8, 8, 8, 8, 9, 9, 9, 9, 9],\n",
       "       dtype=int64),\n",
       " array([ 2,  8,  9, 10, 11,  2,  8,  9, 10, 11,  0,  1,  2,  3,  4,  5,  6,\n",
       "         7,  8,  9, 10, 11,  0,  1,  2,  3,  4,  5,  6,  7,  8,  9, 10, 11,\n",
       "         0,  1,  2,  3,  4,  5,  6,  7,  8,  9, 10, 11,  0,  1,  2,  3,  4,\n",
       "         5,  6,  7,  8,  9, 10, 11,  2,  8,  9, 10, 11,  0,  1,  2,  3,  4,\n",
       "         5,  6,  7,  8,  9, 10, 11,  2,  8,  9, 10, 11,  2,  8,  9, 10, 11],\n",
       "       dtype=int64))"
      ]
     },
     "execution_count": 26,
     "metadata": {},
     "output_type": "execute_result"
    }
   ],
   "source": [
    "np.where((m == estimated_code[:,11:]) == False)"
   ]
  },
  {
   "cell_type": "code",
   "execution_count": null,
   "metadata": {},
   "outputs": [],
   "source": []
  }
 ],
 "metadata": {
  "kernelspec": {
   "display_name": "Python 3",
   "language": "python",
   "name": "python3"
  },
  "language_info": {
   "codemirror_mode": {
    "name": "ipython",
    "version": 3
   },
   "file_extension": ".py",
   "mimetype": "text/x-python",
   "name": "python",
   "nbconvert_exporter": "python",
   "pygments_lexer": "ipython3",
   "version": "3.6.10"
  }
 },
 "nbformat": 4,
 "nbformat_minor": 2
}
