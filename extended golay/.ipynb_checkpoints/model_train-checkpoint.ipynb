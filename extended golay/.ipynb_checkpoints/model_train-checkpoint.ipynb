{
 "cells": [
  {
   "cell_type": "code",
   "execution_count": 1,
   "metadata": {},
   "outputs": [
    {
     "name": "stderr",
     "output_type": "stream",
     "text": [
      "Using TensorFlow backend.\n"
     ]
    }
   ],
   "source": [
    "import numpy as np\n",
    "import matplotlib.pyplot as plt\n",
    "import keras\n",
    "from keras.layers import Dense, Input, Add\n",
    "from keras.models import Sequential, Model, load_model\n",
    "from Source import golay"
   ]
  },
  {
   "cell_type": "code",
   "execution_count": 2,
   "metadata": {},
   "outputs": [],
   "source": [
    "def awgn(x_input, reqSNR):\n",
    "    sig_power = 1\n",
    "    \n",
    "    noise_power = np.sqrt(sig_power / (2*reqSNR))\n",
    "    noise = noise_power * np.random.normal(size = x_input.shape)\n",
    "    \n",
    "    return x_input + noise"
   ]
  },
  {
   "cell_type": "code",
   "execution_count": 3,
   "metadata": {},
   "outputs": [],
   "source": [
    "G = golay.make_G()"
   ]
  },
  {
   "cell_type": "code",
   "execution_count": 4,
   "metadata": {},
   "outputs": [
    {
     "name": "stdout",
     "output_type": "stream",
     "text": [
      "WARNING:tensorflow:From D:\\anaconda\\lib\\site-packages\\tensorflow_core\\python\\ops\\resource_variable_ops.py:1630: calling BaseResourceVariable.__init__ (from tensorflow.python.ops.resource_variable_ops) with constraint is deprecated and will be removed in a future version.\n",
      "Instructions for updating:\n",
      "If using Keras pass *_constraint arguments to layers.\n",
      "WARNING:tensorflow:From D:\\anaconda\\lib\\site-packages\\keras\\backend\\tensorflow_backend.py:422: The name tf.global_variables is deprecated. Please use tf.compat.v1.global_variables instead.\n",
      "\n"
     ]
    }
   ],
   "source": [
    "model = load_model('model/(24,12)_p6.h5')"
   ]
  },
  {
   "cell_type": "code",
   "execution_count": 5,
   "metadata": {},
   "outputs": [
    {
     "name": "stdout",
     "output_type": "stream",
     "text": [
      "1000/1000 [==============================] - 0s 79us/step\n",
      "[0.06869449591636657, 0.15800000727176666]\n",
      "1000/1000 [==============================] - 0s 61us/step\n",
      "[0.06595669544488192, 0.09300000220537186]\n",
      "1000/1000 [==============================] - 0s 97us/step\n",
      "[0.05833612820506096, 0.03500000014901161]\n",
      "1000/1000 [==============================] - 0s 103us/step\n",
      "[0.05720032820105553, 0.08500000089406967]\n",
      "1000/1000 [==============================] - 0s 102us/step\n",
      "[0.057124638944864276, 0.057999998331069946]\n",
      "1000/1000 [==============================] - 0s 106us/step\n",
      "[0.05840379603207111, 0.07800000160932541]\n",
      "1000/1000 [==============================] - 0s 78us/step\n",
      "[0.05674695488810539, 0.09600000083446503]\n",
      "1000/1000 [==============================] - 0s 79us/step\n",
      "[0.05907020863890648, 0.10499999672174454]\n",
      "1000/1000 [==============================] - 0s 84us/step\n",
      "[0.05841552287340164, 0.0860000029206276]\n"
     ]
    },
    {
     "name": "stderr",
     "output_type": "stream",
     "text": [
      "ERROR:root:Internal Python error in the inspect module.\n",
      "Below is the traceback from this internal error.\n",
      "\n"
     ]
    },
    {
     "name": "stdout",
     "output_type": "stream",
     "text": [
      "Traceback (most recent call last):\n",
      "  File \"D:\\anaconda\\lib\\site-packages\\IPython\\core\\interactiveshell.py\", line 3319, in run_code\n",
      "    exec(code_obj, self.user_global_ns, self.user_ns)\n",
      "  File \"<ipython-input-5-7cda3a412f70>\", line 30, in <module>\n",
      "    validation_data=(test_noise, test),verbose=0)\n",
      "  File \"D:\\anaconda\\lib\\site-packages\\keras\\engine\\training.py\", line 1239, in fit\n",
      "    validation_freq=validation_freq)\n",
      "  File \"D:\\anaconda\\lib\\site-packages\\keras\\engine\\training_arrays.py\", line 186, in fit_loop\n",
      "    ins_batch = slice_arrays(fit_inputs, batch_ids)\n",
      "  File \"D:\\anaconda\\lib\\site-packages\\keras\\utils\\generic_utils.py\", line 555, in slice_arrays\n",
      "    return [None if x is None else x[start] for x in arrays]\n",
      "  File \"D:\\anaconda\\lib\\site-packages\\keras\\utils\\generic_utils.py\", line 555, in <listcomp>\n",
      "    return [None if x is None else x[start] for x in arrays]\n",
      "KeyboardInterrupt\n",
      "\n",
      "During handling of the above exception, another exception occurred:\n",
      "\n",
      "Traceback (most recent call last):\n",
      "  File \"D:\\anaconda\\lib\\site-packages\\IPython\\core\\interactiveshell.py\", line 2034, in showtraceback\n",
      "    stb = value._render_traceback_()\n",
      "AttributeError: 'KeyboardInterrupt' object has no attribute '_render_traceback_'\n",
      "\n",
      "During handling of the above exception, another exception occurred:\n",
      "\n",
      "Traceback (most recent call last):\n",
      "  File \"D:\\anaconda\\lib\\site-packages\\IPython\\core\\ultratb.py\", line 1151, in get_records\n",
      "    return _fixed_getinnerframes(etb, number_of_lines_of_context, tb_offset)\n",
      "  File \"D:\\anaconda\\lib\\site-packages\\IPython\\core\\ultratb.py\", line 319, in wrapped\n",
      "    return f(*args, **kwargs)\n",
      "  File \"D:\\anaconda\\lib\\site-packages\\IPython\\core\\ultratb.py\", line 353, in _fixed_getinnerframes\n",
      "    records = fix_frame_records_filenames(inspect.getinnerframes(etb, context))\n",
      "  File \"D:\\anaconda\\lib\\inspect.py\", line 1490, in getinnerframes\n",
      "    frameinfo = (tb.tb_frame,) + getframeinfo(tb, context)\n",
      "  File \"D:\\anaconda\\lib\\inspect.py\", line 1448, in getframeinfo\n",
      "    filename = getsourcefile(frame) or getfile(frame)\n",
      "  File \"D:\\anaconda\\lib\\inspect.py\", line 696, in getsourcefile\n",
      "    if getattr(getmodule(object, filename), '__loader__', None) is not None:\n",
      "  File \"D:\\anaconda\\lib\\inspect.py\", line 733, in getmodule\n",
      "    if ismodule(module) and hasattr(module, '__file__'):\n",
      "  File \"D:\\anaconda\\lib\\site-packages\\tensorflow\\__init__.py\", line 50, in __getattr__\n",
      "    module = self._load()\n",
      "  File \"D:\\anaconda\\lib\\site-packages\\tensorflow\\__init__.py\", line 44, in _load\n",
      "    module = _importlib.import_module(self.__name__)\n",
      "  File \"D:\\anaconda\\lib\\importlib\\__init__.py\", line 126, in import_module\n",
      "    return _bootstrap._gcd_import(name[level:], package, level)\n",
      "  File \"<frozen importlib._bootstrap>\", line 994, in _gcd_import\n",
      "  File \"<frozen importlib._bootstrap>\", line 971, in _find_and_load\n",
      "  File \"<frozen importlib._bootstrap>\", line 955, in _find_and_load_unlocked\n",
      "  File \"<frozen importlib._bootstrap>\", line 665, in _load_unlocked\n",
      "  File \"<frozen importlib._bootstrap_external>\", line 678, in exec_module\n",
      "  File \"<frozen importlib._bootstrap>\", line 219, in _call_with_frames_removed\n",
      "  File \"D:\\anaconda\\lib\\site-packages\\tensorflow_core\\contrib\\__init__.py\", line 46, in <module>\n",
      "    from tensorflow.contrib import distribute\n",
      "  File \"D:\\anaconda\\lib\\site-packages\\tensorflow_core\\contrib\\distribute\\__init__.py\", line 27, in <module>\n",
      "    from tensorflow.contrib.distribute.python.collective_all_reduce_strategy import CollectiveAllReduceStrategy\n",
      "  File \"D:\\anaconda\\lib\\site-packages\\tensorflow_core\\contrib\\distribute\\__init__.py\", line 27, in <module>\n",
      "    from tensorflow.contrib.distribute.python.collective_all_reduce_strategy import CollectiveAllReduceStrategy\n",
      "  File \"<frozen importlib._bootstrap>\", line 971, in _find_and_load\n",
      "  File \"<frozen importlib._bootstrap>\", line 951, in _find_and_load_unlocked\n",
      "  File \"<frozen importlib._bootstrap>\", line 894, in _find_spec\n",
      "  File \"<frozen importlib._bootstrap_external>\", line 1157, in find_spec\n",
      "  File \"<frozen importlib._bootstrap_external>\", line 1129, in _get_spec\n",
      "  File \"<frozen importlib._bootstrap_external>\", line 1241, in find_spec\n",
      "  File \"<frozen importlib._bootstrap_external>\", line 82, in _path_stat\n",
      "KeyboardInterrupt\n"
     ]
    },
    {
     "ename": "KeyboardInterrupt",
     "evalue": "",
     "output_type": "error",
     "traceback": [
      "\u001b[1;31m---------------------------------------------------------------------------\u001b[0m"
     ]
    }
   ],
   "source": [
    "for i in range(100):\n",
    "    train_size = 10**6\n",
    "    m = np.random.randint(2, size = (train_size, 12))\n",
    "    train = np.dot(m,G) % 2\n",
    "    odd = np.where(train.sum(axis=1) % 2 == 1)\n",
    "    even_check = np.zeros((train_size, 1), dtype='int')\n",
    "    even_check[odd] = 1\n",
    "    train = np.concatenate((even_check, train), axis=1)\n",
    "    train = np.where(train > 0, -1, 1)\n",
    "\n",
    "    test_size = 10**3\n",
    "    m = np.random.randint(2, size = (test_size, 12))\n",
    "    test = np.dot(m,G) % 2\n",
    "    odd = np.where(test.sum(axis=1) % 2 == 1)\n",
    "    even_check = np.zeros((test_size, 1), dtype='int')\n",
    "    even_check[odd] = 1\n",
    "    test = np.concatenate((even_check, test), axis=1)\n",
    "    test = np.where(test > 0, -1, 1)\n",
    "    \n",
    "    Eb_No = 10**(3/10)\n",
    "    Es_No = Eb_No * (12/24)\n",
    "\n",
    "    train_noise = awgn(train, Es_No)\n",
    "    test_noise = awgn(test, Es_No)\n",
    "    \n",
    "    model.fit(train_noise, train,\n",
    "          epochs=100,\n",
    "          batch_size=10000,\n",
    "          shuffle=True,\n",
    "          validation_data=(test_noise, test),verbose=0)\n",
    "    \n",
    "    if i%10 == 0:\n",
    "        loss = model.evaluate(test_noise, test)\n",
    "        print(loss)\n",
    "        \n",
    "        model.save('model/(24,12)_p6.h5')"
   ]
  },
  {
   "cell_type": "code",
   "execution_count": null,
   "metadata": {},
   "outputs": [],
   "source": [
    "model.save('model/(24,12)_p6.h5')"
   ]
  }
 ],
 "metadata": {
  "kernelspec": {
   "display_name": "Python 3",
   "language": "python",
   "name": "python3"
  },
  "language_info": {
   "codemirror_mode": {
    "name": "ipython",
    "version": 3
   },
   "file_extension": ".py",
   "mimetype": "text/x-python",
   "name": "python",
   "nbconvert_exporter": "python",
   "pygments_lexer": "ipython3",
   "version": "3.6.10"
  }
 },
 "nbformat": 4,
 "nbformat_minor": 2
}
