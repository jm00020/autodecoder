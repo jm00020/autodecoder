{
 "cells": [
  {
   "cell_type": "code",
   "execution_count": 1,
   "metadata": {},
   "outputs": [
    {
     "name": "stderr",
     "output_type": "stream",
     "text": [
      "Using TensorFlow backend.\n"
     ]
    }
   ],
   "source": [
    "import numpy as np\n",
    "import matplotlib.pyplot as plt\n",
    "import keras\n",
    "from keras.layers import Dense, Input, Add\n",
    "from keras.models import Sequential, Model, load_model"
   ]
  },
  {
   "cell_type": "code",
   "execution_count": 2,
   "metadata": {},
   "outputs": [],
   "source": [
    "def awgn(x_input, reqSNR):\n",
    "    sig_power = 1\n",
    "    \n",
    "    noise_power = np.sqrt(sig_power / (2*reqSNR))\n",
    "    noise = noise_power * np.random.normal(size = x_input.shape)\n",
    "    \n",
    "    return x_input + noise"
   ]
  },
  {
   "cell_type": "code",
   "execution_count": 3,
   "metadata": {},
   "outputs": [],
   "source": [
    "P = np.array([\n",
    "    [1, 0, 1, 0, 1, 1, 1, 0, 0, 0, 1],\n",
    "    [1, 1, 1, 1, 1, 0, 0, 1, 0, 0, 1],\n",
    "    [1, 1, 0, 1, 0, 0, 1, 0, 1, 0, 1],\n",
    "    [1, 1, 0, 0, 0, 1, 1, 1, 0, 1, 1],\n",
    "    [1, 1, 0, 0, 1, 1, 0, 1, 1, 0, 0],\n",
    "    [0, 1, 1, 0, 0, 1, 1, 0, 1, 1, 0],\n",
    "    [0, 0, 1, 1, 0, 0, 1, 1, 0, 1, 1],\n",
    "    [1, 0, 1, 1, 0, 1, 1, 1, 1, 0, 0],\n",
    "    [0, 1, 0, 1, 1, 0, 1, 1, 1, 1, 0],\n",
    "    [0, 0, 1, 0, 1, 1, 0, 1, 1, 1, 1],\n",
    "    [1, 0, 1, 1, 1, 0, 0, 0, 1, 1, 0],\n",
    "    [0, 1, 0, 1, 1, 1, 0, 0, 0, 1, 1],\n",
    "], dtype='int')"
   ]
  },
  {
   "cell_type": "code",
   "execution_count": 4,
   "metadata": {},
   "outputs": [],
   "source": [
    "H = np.concatenate((np.eye(11, dtype=\"int\"), P.T), axis=1)\n",
    "G= np.concatenate((P, np.eye(12, dtype=\"int\")), axis=1)"
   ]
  },
  {
   "cell_type": "code",
   "execution_count": 5,
   "metadata": {},
   "outputs": [],
   "source": [
    "codeword_size = 10**6\n",
    "\n",
    "m = np.random.randint(2, size = (codeword_size, 12))\n",
    "codeword = np.dot(m,G) % 2\n",
    "codeword = np.where(codeword > 0 , -1, 1)"
   ]
  },
  {
   "cell_type": "code",
   "execution_count": 6,
   "metadata": {},
   "outputs": [],
   "source": [
    "Eb_No = 10**(3/10)\n",
    "Es_No = Eb_No * (12/23)\n",
    "codeword_noise = awgn(codeword, Es_No)"
   ]
  },
  {
   "cell_type": "code",
   "execution_count": 7,
   "metadata": {},
   "outputs": [
    {
     "name": "stdout",
     "output_type": "stream",
     "text": [
      "WARNING:tensorflow:From D:\\anaconda\\lib\\site-packages\\tensorflow_core\\python\\ops\\resource_variable_ops.py:1630: calling BaseResourceVariable.__init__ (from tensorflow.python.ops.resource_variable_ops) with constraint is deprecated and will be removed in a future version.\n",
      "Instructions for updating:\n",
      "If using Keras pass *_constraint arguments to layers.\n"
     ]
    }
   ],
   "source": [
    "input_layer = Input(shape = (23,))\n",
    "\n",
    "line1_Dense1 = Dense(46, activation='elu')(input_layer)\n",
    "line1_Dense2 = Dense(92, activation='elu')(line1_Dense1)         \n",
    "line1_Dense3 = Dense(184, activation='elu')(line1_Dense2)\n",
    "line1_Dense4 = Dense(368, activation='elu')(line1_Dense3)\n",
    "line1_Dense5 = Dense(184, activation='elu')(line1_Dense4)\n",
    "line1_Dense6 = Dense(92, activation='elu')(line1_Dense5)\n",
    "line1_Dense7 = Dense(46, activation='elu')(line1_Dense6)\n",
    "\n",
    "output_layer = Dense(23, activation='tanh')(line1_Dense7)\n",
    "\n",
    "model = Model(inputs = input_layer, outputs = output_layer)\n",
    "\n",
    "model.compile(optimizer = 'adam', loss = 'mean_squared_error', metrics=['accuracy'])"
   ]
  },
  {
   "cell_type": "code",
   "execution_count": 8,
   "metadata": {},
   "outputs": [
    {
     "name": "stdout",
     "output_type": "stream",
     "text": [
      "1000000/1000000 [==============================] - 2s 2us/step - loss: 0.2196 - accuracy: 0.0923\n",
      "Epoch 38/100\n",
      "1000000/1000000 [==============================] - 2s 2us/step - loss: 0.2195 - accuracy: 0.0923\n",
      "Epoch 39/100\n",
      "1000000/1000000 [==============================] - 2s 2us/step - loss: 0.2192 - accuracy: 0.0933\n",
      "Epoch 40/100\n",
      "1000000/1000000 [==============================] - 2s 2us/step - loss: 0.2191 - accuracy: 0.0923\n",
      "Epoch 41/100\n",
      "1000000/1000000 [==============================] - 2s 2us/step - loss: 0.2187 - accuracy: 0.0931\n",
      "Epoch 42/100\n",
      "1000000/1000000 [==============================] - 2s 2us/step - loss: 0.2183 - accuracy: 0.0929\n",
      "Epoch 43/100\n",
      "1000000/1000000 [==============================] - 2s 2us/step - loss: 0.2179 - accuracy: 0.0919\n",
      "Epoch 44/100\n",
      "1000000/1000000 [==============================] - 2s 2us/step - loss: 0.2175 - accuracy: 0.0913\n",
      "Epoch 45/100\n",
      "1000000/1000000 [==============================] - 2s 2us/step - loss: 0.2172 - accuracy: 0.0915\n",
      "Epoch 46/100\n",
      "1000000/1000000 [==============================] - 2s 2us/step - loss: 0.2168 - accuracy: 0.0913\n",
      "Epoch 47/100\n",
      "1000000/1000000 [==============================] - 2s 2us/step - loss: 0.2167 - accuracy: 0.0918\n",
      "Epoch 48/100\n",
      "1000000/1000000 [==============================] - 2s 2us/step - loss: 0.2160 - accuracy: 0.0908\n",
      "Epoch 49/100\n",
      "1000000/1000000 [==============================] - 2s 2us/step - loss: 0.2156 - accuracy: 0.0906\n",
      "Epoch 50/100\n",
      "1000000/1000000 [==============================] - 2s 2us/step - loss: 0.2154 - accuracy: 0.0894\n",
      "Epoch 51/100\n",
      "1000000/1000000 [==============================] - 2s 2us/step - loss: 0.2150 - accuracy: 0.0911\n",
      "Epoch 52/100\n",
      "1000000/1000000 [==============================] - 2s 2us/step - loss: 0.2147 - accuracy: 0.0904\n",
      "Epoch 53/100\n",
      "1000000/1000000 [==============================] - 2s 2us/step - loss: 0.2145 - accuracy: 0.0902\n",
      "Epoch 54/100\n",
      "1000000/1000000 [==============================] - 2s 2us/step - loss: 0.2140 - accuracy: 0.0937\n",
      "Epoch 55/100\n",
      "1000000/1000000 [==============================] - 2s 2us/step - loss: 0.2137 - accuracy: 0.0889\n",
      "Epoch 56/100\n",
      "1000000/1000000 [==============================] - 2s 2us/step - loss: 0.2132 - accuracy: 0.0904\n",
      "Epoch 57/100\n",
      "1000000/1000000 [==============================] - 2s 2us/step - loss: 0.2130 - accuracy: 0.0910\n",
      "Epoch 58/100\n",
      "1000000/1000000 [==============================] - 2s 2us/step - loss: 0.2125 - accuracy: 0.0904\n",
      "Epoch 59/100\n",
      "1000000/1000000 [==============================] - 2s 2us/step - loss: 0.2122 - accuracy: 0.0925\n",
      "Epoch 60/100\n",
      "1000000/1000000 [==============================] - 2s 2us/step - loss: 0.2118 - accuracy: 0.0898\n",
      "Epoch 61/100\n",
      "1000000/1000000 [==============================] - 2s 2us/step - loss: 0.2115 - accuracy: 0.0908\n",
      "Epoch 62/100\n",
      "1000000/1000000 [==============================] - 2s 2us/step - loss: 0.2111 - accuracy: 0.0899\n",
      "Epoch 63/100\n",
      "1000000/1000000 [==============================] - 2s 2us/step - loss: 0.2106 - accuracy: 0.0904\n",
      "Epoch 64/100\n",
      "1000000/1000000 [==============================] - 2s 2us/step - loss: 0.2104 - accuracy: 0.0900\n",
      "Epoch 65/100\n",
      "1000000/1000000 [==============================] - 2s 2us/step - loss: 0.2099 - accuracy: 0.0901\n",
      "Epoch 66/100\n",
      "1000000/1000000 [==============================] - 2s 2us/step - loss: 0.2096 - accuracy: 0.0902\n",
      "Epoch 67/100\n",
      "1000000/1000000 [==============================] - 2s 2us/step - loss: 0.2090 - accuracy: 0.0900\n",
      "Epoch 68/100\n",
      "1000000/1000000 [==============================] - 2s 2us/step - loss: 0.2087 - accuracy: 0.0887\n",
      "Epoch 69/100\n",
      "1000000/1000000 [==============================] - 2s 2us/step - loss: 0.2083 - accuracy: 0.0886\n",
      "Epoch 70/100\n",
      "1000000/1000000 [==============================] - 2s 2us/step - loss: 0.2081 - accuracy: 0.0879\n",
      "Epoch 71/100\n",
      "1000000/1000000 [==============================] - 2s 2us/step - loss: 0.2076 - accuracy: 0.0890\n",
      "Epoch 72/100\n",
      "1000000/1000000 [==============================] - 2s 2us/step - loss: 0.2071 - accuracy: 0.0908\n",
      "Epoch 73/100\n",
      "1000000/1000000 [==============================] - 2s 2us/step - loss: 0.2067 - accuracy: 0.0882\n",
      "Epoch 74/100\n",
      "1000000/1000000 [==============================] - 2s 2us/step - loss: 0.2064 - accuracy: 0.0889\n",
      "Epoch 75/100\n",
      "1000000/1000000 [==============================] - 2s 2us/step - loss: 0.2060 - accuracy: 0.0907\n",
      "Epoch 76/100\n",
      "1000000/1000000 [==============================] - 2s 2us/step - loss: 0.2055 - accuracy: 0.0900\n",
      "Epoch 77/100\n",
      "1000000/1000000 [==============================] - 2s 2us/step - loss: 0.2051 - accuracy: 0.0891\n",
      "Epoch 78/100\n",
      "1000000/1000000 [==============================] - 2s 2us/step - loss: 0.2046 - accuracy: 0.0897\n",
      "Epoch 79/100\n",
      "1000000/1000000 [==============================] - 2s 2us/step - loss: 0.2041 - accuracy: 0.0879\n",
      "Epoch 80/100\n",
      "1000000/1000000 [==============================] - 2s 2us/step - loss: 0.2036 - accuracy: 0.0898\n",
      "Epoch 81/100\n",
      "1000000/1000000 [==============================] - 2s 2us/step - loss: 0.2031 - accuracy: 0.0904\n",
      "Epoch 82/100\n",
      "1000000/1000000 [==============================] - 2s 2us/step - loss: 0.2026 - accuracy: 0.0899\n",
      "Epoch 83/100\n",
      "1000000/1000000 [==============================] - 2s 2us/step - loss: 0.2022 - accuracy: 0.0900\n",
      "Epoch 84/100\n",
      "1000000/1000000 [==============================] - 2s 2us/step - loss: 0.2015 - accuracy: 0.0903\n",
      "Epoch 85/100\n",
      "1000000/1000000 [==============================] - 2s 2us/step - loss: 0.2010 - accuracy: 0.0904\n",
      "Epoch 86/100\n",
      "1000000/1000000 [==============================] - 2s 2us/step - loss: 0.2003 - accuracy: 0.0906\n",
      "Epoch 87/100\n",
      "1000000/1000000 [==============================] - 2s 2us/step - loss: 0.1997 - accuracy: 0.0903\n",
      "Epoch 88/100\n",
      "1000000/1000000 [==============================] - 2s 2us/step - loss: 0.1989 - accuracy: 0.0899\n",
      "Epoch 89/100\n",
      "1000000/1000000 [==============================] - 2s 2us/step - loss: 0.1980 - accuracy: 0.0886\n",
      "Epoch 90/100\n",
      "1000000/1000000 [==============================] - 2s 2us/step - loss: 0.1973 - accuracy: 0.0889\n",
      "Epoch 91/100\n",
      "1000000/1000000 [==============================] - 2s 2us/step - loss: 0.1964 - accuracy: 0.0883\n",
      "Epoch 92/100\n",
      "1000000/1000000 [==============================] - 2s 2us/step - loss: 0.1953 - accuracy: 0.0892\n",
      "Epoch 93/100\n",
      "1000000/1000000 [==============================] - 2s 2us/step - loss: 0.1944 - accuracy: 0.0870\n",
      "Epoch 94/100\n",
      "1000000/1000000 [==============================] - 2s 2us/step - loss: 0.1930 - accuracy: 0.0875\n",
      "Epoch 95/100\n",
      "1000000/1000000 [==============================] - 2s 2us/step - loss: 0.1918 - accuracy: 0.0866\n",
      "Epoch 96/100\n",
      "1000000/1000000 [==============================] - 2s 2us/step - loss: 0.1902 - accuracy: 0.0851\n",
      "Epoch 97/100\n",
      "1000000/1000000 [==============================] - 2s 2us/step - loss: 0.1886 - accuracy: 0.0850\n",
      "Epoch 98/100\n",
      "1000000/1000000 [==============================] - 2s 2us/step - loss: 0.1869 - accuracy: 0.0850\n",
      "Epoch 99/100\n",
      "1000000/1000000 [==============================] - 2s 2us/step - loss: 0.1850 - accuracy: 0.0833\n",
      "Epoch 100/100\n",
      "1000000/1000000 [==============================] - 2s 2us/step - loss: 0.1825 - accuracy: 0.0822\n"
     ]
    },
    {
     "data": {
      "text/plain": [
       "<keras.callbacks.callbacks.History at 0x2756b422ef0>"
      ]
     },
     "execution_count": 8,
     "metadata": {},
     "output_type": "execute_result"
    }
   ],
   "source": [
    "model.fit(codeword_noise, codeword, \n",
    "          epochs=100,\n",
    "          batch_size=10000,\n",
    "          shuffle=True)"
   ]
  },
  {
   "cell_type": "code",
   "execution_count": 9,
   "metadata": {},
   "outputs": [],
   "source": [
    "model.save('golay_ex.h5')"
   ]
  }
 ],
 "metadata": {
  "kernelspec": {
   "display_name": "Python 3",
   "language": "python",
   "name": "python3"
  },
  "language_info": {
   "codemirror_mode": {
    "name": "ipython",
    "version": 3
   },
   "file_extension": ".py",
   "mimetype": "text/x-python",
   "name": "python",
   "nbconvert_exporter": "python",
   "pygments_lexer": "ipython3",
   "version": "3.6.10"
  }
 },
 "nbformat": 4,
 "nbformat_minor": 2
}
