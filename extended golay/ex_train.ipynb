{
 "cells": [
  {
   "cell_type": "code",
   "execution_count": 1,
   "metadata": {},
   "outputs": [
    {
     "name": "stderr",
     "output_type": "stream",
     "text": [
      "Using TensorFlow backend.\n"
     ]
    }
   ],
   "source": [
    "import numpy as np\n",
    "import matplotlib.pyplot as plt\n",
    "import keras\n",
    "from keras.layers import Dense, Input, Add\n",
    "from keras.models import Sequential, Model, load_model"
   ]
  },
  {
   "cell_type": "code",
   "execution_count": 2,
   "metadata": {},
   "outputs": [],
   "source": [
    "def awgn(x_input, reqSNR):\n",
    "    sig_power = 1\n",
    "    \n",
    "    noise_power = np.sqrt(sig_power / (2*reqSNR))\n",
    "    noise = noise_power * np.random.normal(size = x_input.shape)\n",
    "    \n",
    "    return x_input + noise"
   ]
  },
  {
   "cell_type": "code",
   "execution_count": 3,
   "metadata": {},
   "outputs": [],
   "source": [
    "P = np.array([\n",
    "    [1, 0, 1, 0, 1, 1, 1, 0, 0, 0, 1],\n",
    "    [1, 1, 1, 1, 1, 0, 0, 1, 0, 0, 1],\n",
    "    [1, 1, 0, 1, 0, 0, 1, 0, 1, 0, 1],\n",
    "    [1, 1, 0, 0, 0, 1, 1, 1, 0, 1, 1],\n",
    "    [1, 1, 0, 0, 1, 1, 0, 1, 1, 0, 0],\n",
    "    [0, 1, 1, 0, 0, 1, 1, 0, 1, 1, 0],\n",
    "    [0, 0, 1, 1, 0, 0, 1, 1, 0, 1, 1],\n",
    "    [1, 0, 1, 1, 0, 1, 1, 1, 1, 0, 0],\n",
    "    [0, 1, 0, 1, 1, 0, 1, 1, 1, 1, 0],\n",
    "    [0, 0, 1, 0, 1, 1, 0, 1, 1, 1, 1],\n",
    "    [1, 0, 1, 1, 1, 0, 0, 0, 1, 1, 0],\n",
    "    [0, 1, 0, 1, 1, 1, 0, 0, 0, 1, 1],\n",
    "], dtype='int')"
   ]
  },
  {
   "cell_type": "code",
   "execution_count": 4,
   "metadata": {},
   "outputs": [],
   "source": [
    "H = np.concatenate((np.eye(11, dtype=\"int\"), P.T), axis=1)\n",
    "G= np.concatenate((P, np.eye(12, dtype=\"int\")), axis=1)"
   ]
  },
  {
   "cell_type": "code",
   "execution_count": 5,
   "metadata": {},
   "outputs": [
    {
     "name": "stdout",
     "output_type": "stream",
     "text": [
      "WARNING:tensorflow:From D:\\anaconda\\lib\\site-packages\\tensorflow_core\\python\\ops\\resource_variable_ops.py:1630: calling BaseResourceVariable.__init__ (from tensorflow.python.ops.resource_variable_ops) with constraint is deprecated and will be removed in a future version.\n",
      "Instructions for updating:\n",
      "If using Keras pass *_constraint arguments to layers.\n",
      "WARNING:tensorflow:From D:\\anaconda\\lib\\site-packages\\keras\\backend\\tensorflow_backend.py:422: The name tf.global_variables is deprecated. Please use tf.compat.v1.global_variables instead.\n",
      "\n"
     ]
    }
   ],
   "source": [
    "model = load_model('golay_ex.h5')"
   ]
  },
  {
   "cell_type": "code",
   "execution_count": 6,
   "metadata": {},
   "outputs": [
    {
     "name": "stdout",
     "output_type": "stream",
     "text": [
      "1000/1000 [==============================] - 0s 57us/step\n",
      "[0.11967508560419082, 0.13500000536441803]\n",
      "1000/1000 [==============================] - 0s 55us/step\n",
      "[0.08210522937774659, 0.1120000034570694]\n",
      "1000/1000 [==============================] - 0s 66us/step\n",
      "[0.07469530373811722, 0.09399999678134918]\n",
      "1000/1000 [==============================] - 0s 72us/step\n",
      "[0.07977388854324817, 0.07000000029802322]\n",
      "1000/1000 [==============================] - 0s 68us/step\n",
      "[0.08007070648670196, 0.07199999690055847]\n",
      "1000/1000 [==============================] - 0s 71us/step\n",
      "[0.08457481467723846, 0.07900000363588333]\n",
      "1000/1000 [==============================] - 0s 74us/step\n",
      "[0.08122447723150253, 0.0949999988079071]\n",
      "1000/1000 [==============================] - 0s 68us/step\n",
      "[0.08771157410740853, 0.052000001072883606]\n",
      "1000/1000 [==============================] - 0s 73us/step\n",
      "[0.08571785950660706, 0.08900000154972076]\n",
      "1000/1000 [==============================] - 0s 76us/step\n",
      "[0.0780793662071228, 0.07400000095367432]\n"
     ]
    }
   ],
   "source": [
    "for i in range(100):\n",
    "    train_size = 10**6\n",
    "    m = np.random.randint(2, size = (train_size, 12))\n",
    "    train = np.dot(m,G) % 2\n",
    "    train = np.where(train > 0, -1, 1)\n",
    "\n",
    "    test_size = 10**3\n",
    "    m = np.random.randint(2, size = (test_size, 12))\n",
    "    test = np.dot(m,G) % 2\n",
    "    test = np.where(test > 0, -1, 1)\n",
    "    \n",
    "    Eb_No = 10**(3/10)\n",
    "    Es_No = Eb_No * (12/23)\n",
    "\n",
    "    train_noise = awgn(train, Es_No)\n",
    "    test_noise = awgn(test, Es_No)\n",
    "    \n",
    "    model.fit(train_noise, train,\n",
    "          epochs=100,\n",
    "          batch_size=10000,\n",
    "          shuffle=True,\n",
    "          validation_data=(test_noise, test),verbose=0)\n",
    "    \n",
    "    if i%10 == 0:\n",
    "        loss = model.evaluate(test_noise, test)\n",
    "        print(loss)\n",
    "        \n",
    "        model.save('golay_ex.h5')"
   ]
  },
  {
   "cell_type": "code",
   "execution_count": 7,
   "metadata": {},
   "outputs": [],
   "source": [
    "model.save('golay_ex.h5')"
   ]
  }
 ],
 "metadata": {
  "kernelspec": {
   "display_name": "Python 3",
   "language": "python",
   "name": "python3"
  },
  "language_info": {
   "codemirror_mode": {
    "name": "ipython",
    "version": 3
   },
   "file_extension": ".py",
   "mimetype": "text/x-python",
   "name": "python",
   "nbconvert_exporter": "python",
   "pygments_lexer": "ipython3",
   "version": "3.6.10"
  }
 },
 "nbformat": 4,
 "nbformat_minor": 2
}
