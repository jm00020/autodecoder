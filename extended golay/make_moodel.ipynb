{
 "cells": [
  {
   "cell_type": "code",
   "execution_count": 1,
   "metadata": {},
   "outputs": [
    {
     "name": "stderr",
     "output_type": "stream",
     "text": [
      "Using TensorFlow backend.\n"
     ]
    }
   ],
   "source": [
    "import numpy as np\n",
    "import matplotlib.pyplot as plt\n",
    "import keras\n",
    "from keras.layers import Dense, Input, Add\n",
    "from keras.models import Sequential, Model, load_model\n",
    "from Source import golay"
   ]
  },
  {
   "cell_type": "code",
   "execution_count": 2,
   "metadata": {},
   "outputs": [],
   "source": [
    "G = golay.make_G()"
   ]
  },
  {
   "cell_type": "code",
   "execution_count": 3,
   "metadata": {},
   "outputs": [],
   "source": [
    "def awgn(x_input, reqSNR):\n",
    "    sig_power = 1\n",
    "    \n",
    "    noise_power = np.sqrt(sig_power / (2*reqSNR))\n",
    "    noise = noise_power * np.random.normal(size = x_input.shape)\n",
    "    \n",
    "    return x_input + noise"
   ]
  },
  {
   "cell_type": "code",
   "execution_count": 4,
   "metadata": {},
   "outputs": [],
   "source": [
    "codeword_size = 10**6\n",
    "\n",
    "m = np.random.randint(2, size = (codeword_size, 12))\n",
    "codeword = np.dot(m,G) % 2\n",
    "\n",
    "odd = np.where(codeword.sum(axis=1) % 2 == 1)\n",
    "even_check = np.zeros((codeword_size, 1), dtype='int')\n",
    "even_check[odd] = 1\n",
    "codeword = np.concatenate((even_check, codeword), axis=1)\n",
    "codeword = np.where(codeword > 0 , -1, 1)"
   ]
  },
  {
   "cell_type": "code",
   "execution_count": 5,
   "metadata": {},
   "outputs": [],
   "source": [
    "Eb_No = 10**(3/10)\n",
    "Es_No = Eb_No * (12/24)\n",
    "codeword_noise = awgn(codeword, Es_No)"
   ]
  },
  {
   "cell_type": "code",
   "execution_count": 6,
   "metadata": {},
   "outputs": [
    {
     "name": "stdout",
     "output_type": "stream",
     "text": [
      "WARNING:tensorflow:From D:\\anaconda\\lib\\site-packages\\tensorflow_core\\python\\ops\\resource_variable_ops.py:1630: calling BaseResourceVariable.__init__ (from tensorflow.python.ops.resource_variable_ops) with constraint is deprecated and will be removed in a future version.\n",
      "Instructions for updating:\n",
      "If using Keras pass *_constraint arguments to layers.\n"
     ]
    }
   ],
   "source": [
    "input_layer = Input(shape = (24,))\n",
    "\n",
    "line1_Dense1 = Dense(24, activation='elu')(input_layer)\n",
    "line1_Dense2 = Dense(24, activation='elu')(line1_Dense1)         \n",
    "line1_Dense3 = Dense(24, activation='elu')(line1_Dense2)\n",
    "line1_output_layer = Dense(24, activation='tanh')(line1_Dense3)\n",
    "\n",
    "line2_Dense1 = Dense(48, activation='elu')(input_layer)\n",
    "line2_Dense2 = Dense(96, activation='elu')(line2_Dense1)         \n",
    "line2_Dense3 = Dense(48, activation='elu')(line2_Dense2)\n",
    "line2_output_layer = Dense(24, activation='tanh')(line2_Dense3)\n",
    "\n",
    "line3_Dense1 = Dense(72, activation='elu')(input_layer)\n",
    "line3_Dense2 = Dense(216, activation='elu')(line3_Dense1)         \n",
    "line3_Dense3 = Dense(72, activation='elu')(line3_Dense2)\n",
    "line3_output_layer = Dense(24, activation='tanh')(line3_Dense3)\n",
    "\n",
    "line4_Dense1 = Dense(96, activation='elu')(input_layer)\n",
    "line4_Dense2 = Dense(384, activation='elu')(line4_Dense1)         \n",
    "line4_Dense3 = Dense(96, activation='elu')(line4_Dense2)\n",
    "line4_output_layer = Dense(24, activation='tanh')(line4_Dense3)\n",
    "\n",
    "line5_Dense1 = Dense(120, activation='elu')(input_layer)\n",
    "line5_Dense2 = Dense(600, activation='elu')(line5_Dense1)         \n",
    "line5_Dense3 = Dense(120, activation='elu')(line5_Dense2)\n",
    "line5_output_layer = Dense(24, activation='tanh')(line5_Dense3)\n",
    "\n",
    "line6_Dense1 = Dense(144, activation='elu')(input_layer)\n",
    "line6_Dense2 = Dense(864, activation='elu')(line6_Dense1)         \n",
    "line6_Dense3 = Dense(144, activation='elu')(line6_Dense2)\n",
    "line6_output_layer = Dense(24, activation='tanh')(line6_Dense3)\n",
    "\n",
    "add_layer = Add()([line1_output_layer, line2_output_layer, line3_output_layer, \n",
    "                   line4_output_layer, line5_output_layer, line6_output_layer])\n",
    "\n",
    "output_layer = Dense(24, activation='linear')(add_layer)\n",
    "\n",
    "model = Model(inputs = input_layer, outputs = output_layer)\n",
    "\n",
    "model.compile(optimizer = 'adam', loss = 'mean_squared_error', metrics=['accuracy'])"
   ]
  },
  {
   "cell_type": "code",
   "execution_count": 7,
   "metadata": {},
   "outputs": [
    {
     "name": "stdout",
     "output_type": "stream",
     "text": [
      "Model: \"model_1\"\n",
      "__________________________________________________________________________________________________\n",
      "Layer (type)                    Output Shape         Param #     Connected to                     \n",
      "==================================================================================================\n",
      "input_1 (InputLayer)            (None, 24)           0                                            \n",
      "__________________________________________________________________________________________________\n",
      "dense_1 (Dense)                 (None, 24)           600         input_1[0][0]                    \n",
      "__________________________________________________________________________________________________\n",
      "dense_5 (Dense)                 (None, 48)           1200        input_1[0][0]                    \n",
      "__________________________________________________________________________________________________\n",
      "dense_9 (Dense)                 (None, 72)           1800        input_1[0][0]                    \n",
      "__________________________________________________________________________________________________\n",
      "dense_13 (Dense)                (None, 96)           2400        input_1[0][0]                    \n",
      "__________________________________________________________________________________________________\n",
      "dense_17 (Dense)                (None, 120)          3000        input_1[0][0]                    \n",
      "__________________________________________________________________________________________________\n",
      "dense_21 (Dense)                (None, 144)          3600        input_1[0][0]                    \n",
      "__________________________________________________________________________________________________\n",
      "dense_2 (Dense)                 (None, 24)           600         dense_1[0][0]                    \n",
      "__________________________________________________________________________________________________\n",
      "dense_6 (Dense)                 (None, 96)           4704        dense_5[0][0]                    \n",
      "__________________________________________________________________________________________________\n",
      "dense_10 (Dense)                (None, 216)          15768       dense_9[0][0]                    \n",
      "__________________________________________________________________________________________________\n",
      "dense_14 (Dense)                (None, 384)          37248       dense_13[0][0]                   \n",
      "__________________________________________________________________________________________________\n",
      "dense_18 (Dense)                (None, 600)          72600       dense_17[0][0]                   \n",
      "__________________________________________________________________________________________________\n",
      "dense_22 (Dense)                (None, 864)          125280      dense_21[0][0]                   \n",
      "__________________________________________________________________________________________________\n",
      "dense_3 (Dense)                 (None, 24)           600         dense_2[0][0]                    \n",
      "__________________________________________________________________________________________________\n",
      "dense_7 (Dense)                 (None, 48)           4656        dense_6[0][0]                    \n",
      "__________________________________________________________________________________________________\n",
      "dense_11 (Dense)                (None, 72)           15624       dense_10[0][0]                   \n",
      "__________________________________________________________________________________________________\n",
      "dense_15 (Dense)                (None, 96)           36960       dense_14[0][0]                   \n",
      "__________________________________________________________________________________________________\n",
      "dense_19 (Dense)                (None, 120)          72120       dense_18[0][0]                   \n",
      "__________________________________________________________________________________________________\n",
      "dense_23 (Dense)                (None, 144)          124560      dense_22[0][0]                   \n",
      "__________________________________________________________________________________________________\n",
      "dense_4 (Dense)                 (None, 24)           600         dense_3[0][0]                    \n",
      "__________________________________________________________________________________________________\n",
      "dense_8 (Dense)                 (None, 24)           1176        dense_7[0][0]                    \n",
      "__________________________________________________________________________________________________\n",
      "dense_12 (Dense)                (None, 24)           1752        dense_11[0][0]                   \n",
      "__________________________________________________________________________________________________\n",
      "dense_16 (Dense)                (None, 24)           2328        dense_15[0][0]                   \n",
      "__________________________________________________________________________________________________\n",
      "dense_20 (Dense)                (None, 24)           2904        dense_19[0][0]                   \n",
      "__________________________________________________________________________________________________\n",
      "dense_24 (Dense)                (None, 24)           3480        dense_23[0][0]                   \n",
      "__________________________________________________________________________________________________\n",
      "add_1 (Add)                     (None, 24)           0           dense_4[0][0]                    \n",
      "                                                                 dense_8[0][0]                    \n",
      "                                                                 dense_12[0][0]                   \n",
      "                                                                 dense_16[0][0]                   \n",
      "                                                                 dense_20[0][0]                   \n",
      "                                                                 dense_24[0][0]                   \n",
      "__________________________________________________________________________________________________\n",
      "dense_25 (Dense)                (None, 24)           600         add_1[0][0]                      \n",
      "==================================================================================================\n",
      "Total params: 536,160\n",
      "Trainable params: 536,160\n",
      "Non-trainable params: 0\n",
      "__________________________________________________________________________________________________\n"
     ]
    }
   ],
   "source": [
    "model.summary()\n",
    "model.save('model/(24,12)_p6.h5')"
   ]
  },
  {
   "cell_type": "code",
   "execution_count": null,
   "metadata": {},
   "outputs": [],
   "source": [
    "model.fit(codeword_noise, codeword, \n",
    "          epochs=100,\n",
    "          batch_size=1000,\n",
    "          shuffle=True)"
   ]
  },
  {
   "cell_type": "code",
   "execution_count": 9,
   "metadata": {},
   "outputs": [],
   "source": [
    "model.save('model/(24,12)_p6.h5')"
   ]
  },
  {
   "cell_type": "code",
   "execution_count": null,
   "metadata": {},
   "outputs": [],
   "source": []
  }
 ],
 "metadata": {
  "kernelspec": {
   "display_name": "Python 3",
   "language": "python",
   "name": "python3"
  },
  "language_info": {
   "codemirror_mode": {
    "name": "ipython",
    "version": 3
   },
   "file_extension": ".py",
   "mimetype": "text/x-python",
   "name": "python",
   "nbconvert_exporter": "python",
   "pygments_lexer": "ipython3",
   "version": "3.6.10"
  }
 },
 "nbformat": 4,
 "nbformat_minor": 2
}
