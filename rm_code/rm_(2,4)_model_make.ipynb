{
 "cells": [
  {
   "cell_type": "code",
   "execution_count": null,
   "metadata": {},
   "outputs": [],
   "source": [
    "import numpy as np\n",
    "import keras\n",
    "from keras.layers import Dense, Input, Add\n",
    "from keras.models import Sequential, Model, load_model\n",
    "\n",
    "from Source import RM"
   ]
  },
  {
   "cell_type": "code",
   "execution_count": null,
   "metadata": {},
   "outputs": [],
   "source": [
    "m = 4\n",
    "r = 2\n",
    "length = 2**m"
   ]
  },
  {
   "cell_type": "code",
   "execution_count": null,
   "metadata": {},
   "outputs": [],
   "source": [
    "G = RM.G_matrix(length, m, r)"
   ]
  },
  {
   "cell_type": "code",
   "execution_count": null,
   "metadata": {},
   "outputs": [],
   "source": [
    "msg = np.random.randint(2, size=(10**7,m+r))\n",
    "print(msg)"
   ]
  },
  {
   "cell_type": "code",
   "execution_count": null,
   "metadata": {},
   "outputs": [],
   "source": [
    "send_code, received_code = RM.Encoding(msg, G, 3, length)"
   ]
  },
  {
   "cell_type": "code",
   "execution_count": null,
   "metadata": {},
   "outputs": [],
   "source": [
    "test_msg = np.random.randint(2, size=(10**3,m+r))\n",
    "test_send_code, test_received_code = RM.Encoding(test_msg, G, 3, length)"
   ]
  },
  {
   "cell_type": "code",
   "execution_count": null,
   "metadata": {},
   "outputs": [],
   "source": [
    "input_layer = Input(shape=(16,))\n",
    "line1_Dense1 = Dense(16*1, activation='elu')(input_layer)\n",
    "line1_Dense2 = Dense(16*1, activation='elu')(line1_Dense1)         \n",
    "line1_Dense3 = Dense(16*1, activation='elu')(line1_Dense2)\n",
    "line1_output_layer = Dense(16, activation='tanh')(line1_Dense3)\n",
    "\n",
    "line2_Dense1 = Dense(16*2, activation='elu')(input_layer)\n",
    "line2_Dense2 = Dense(16*4, activation='elu')(line2_Dense1)         \n",
    "line2_Dense3 = Dense(16*2, activation='elu')(line2_Dense2)\n",
    "line2_output_layer = Dense(16, activation='tanh')(line2_Dense3)\n",
    "\n",
    "line3_Dense1 = Dense(16*3, activation='elu')(input_layer)\n",
    "line3_Dense2 = Dense(16*9, activation='elu')(line3_Dense1)         \n",
    "line3_Dense3 = Dense(16*3, activation='elu')(line3_Dense2)\n",
    "line3_output_layer = Dense(16, activation='tanh')(line3_Dense3)\n",
    "\n",
    "line4_Dense1 = Dense(16*4, activation='elu')(input_layer)\n",
    "line4_Dense2 = Dense(16*16, activation='elu')(line4_Dense1)         \n",
    "line4_Dense3 = Dense(16*4, activation='elu')(line4_Dense2)\n",
    "line4_output_layer = Dense(16, activation='tanh')(line4_Dense3)\n",
    "\n",
    "line5_Dense1 = Dense(16*5, activation='elu')(input_layer)\n",
    "line5_Dense2 = Dense(16*25, activation='elu')(line5_Dense1)         \n",
    "line5_Dense3 = Dense(16*5, activation='elu')(line5_Dense2)\n",
    "line5_output_layer = Dense(16, activation='tanh')(line5_Dense3)\n",
    "\n",
    "add_layer = Add()([line1_output_layer, line2_output_layer, line3_output_layer, line4_output_layer, line5_output_layer])\n",
    "\n",
    "output_layer = Dense(16, activation='linear')(add_layer)\n",
    "\n",
    "model = Model(inputs = input_layer, outputs=output_layer)\n",
    "\n",
    "model.compile(optimizer='adam', loss='mean_squared_error', metrics=['accuracy'])"
   ]
  }
 ],
 "metadata": {
  "kernelspec": {
   "display_name": "Python 3",
   "language": "python",
   "name": "python3"
  },
  "language_info": {
   "codemirror_mode": {
    "name": "ipython",
    "version": 3
   },
   "file_extension": ".py",
   "mimetype": "text/x-python",
   "name": "python",
   "nbconvert_exporter": "python",
   "pygments_lexer": "ipython3",
   "version": "3.6.4"
  }
 },
 "nbformat": 4,
 "nbformat_minor": 2
}
