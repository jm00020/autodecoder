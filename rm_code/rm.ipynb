{
 "cells": [
  {
   "cell_type": "code",
   "execution_count": 1,
   "metadata": {},
   "outputs": [],
   "source": [
    "import numpy as np\n",
    "from Source import RM"
   ]
  },
  {
   "cell_type": "code",
   "execution_count": 2,
   "metadata": {},
   "outputs": [],
   "source": [
    "m = 5\n",
    "r = 2\n",
    "length = 2**m"
   ]
  },
  {
   "cell_type": "code",
   "execution_count": 3,
   "metadata": {},
   "outputs": [],
   "source": [
    "G = RM.G_matrix(length, m, r)\n",
    "G_p = RM.G_prime(G,m)"
   ]
  },
  {
   "cell_type": "code",
   "execution_count": 4,
   "metadata": {},
   "outputs": [],
   "source": [
    "file_buffer = 'Result/rmcode_(2,5).csv'\n",
    "rmcode_f = open(file_buffer, 'w')\n",
    "total_rmcode_BER = np.zeros(11)"
   ]
  },
  {
   "cell_type": "code",
   "execution_count": null,
   "metadata": {},
   "outputs": [
    {
     "name": "stdout",
     "output_type": "stream",
     "text": [
      "0\n"
     ]
    }
   ],
   "source": [
    "for i in range(0, 11): \n",
    "    print(i)\n",
    "    rmcode_BER = 0\n",
    "    for j in range(10**2):\n",
    "        msg = np.random.randint(2, size=(10**6,G.shape[0]))\n",
    "        send_code, recived_code = RM.Encoding(msg, G, i, length)\n",
    "        Estimated_code = RM.Decoding(recived_code, m, length, r, G, G_p)\n",
    "        rmcode_count = ((msg + Estimated_code)%2).sum()\n",
    "        rmcode_BER += rmcode_count / (msg.shape[0] * msg.shape[1])\n",
    "    \n",
    "    total_rmcode_BER[i] = rmcode_BER / (10**2)\n",
    "    write_buffer = 'Eb_No, %f, ' %(i)\n",
    "    rmcode_f.write(write_buffer)\n",
    "        \n",
    "    write_buffer = 'BER, %.10f\\n' % (total_rmcode_BER[i])\n",
    "    rmcode_f.write(write_buffer)\n",
    "    \n",
    "rmcode_f.close()"
   ]
  },
  {
   "cell_type": "code",
   "execution_count": null,
   "metadata": {},
   "outputs": [],
   "source": []
  }
 ],
 "metadata": {
  "kernelspec": {
   "display_name": "Python 3",
   "language": "python",
   "name": "python3"
  },
  "language_info": {
   "codemirror_mode": {
    "name": "ipython",
    "version": 3
   },
   "file_extension": ".py",
   "mimetype": "text/x-python",
   "name": "python",
   "nbconvert_exporter": "python",
   "pygments_lexer": "ipython3",
   "version": "3.6.10"
  }
 },
 "nbformat": 4,
 "nbformat_minor": 2
}
