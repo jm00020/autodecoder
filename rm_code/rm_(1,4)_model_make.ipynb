{
 "cells": [
  {
   "cell_type": "code",
   "execution_count": null,
   "metadata": {},
   "outputs": [],
   "source": [
    "import numpy as np\n",
    "import keras\n",
    "from keras.layers import Dense, Input, Add\n",
    "from keras.models import Sequential, Model, load_model\n",
    "\n",
    "from Source import RM"
   ]
  },
  {
   "cell_type": "code",
   "execution_count": null,
   "metadata": {},
   "outputs": [],
   "source": [
    "m = 4\n",
    "r = 1\n",
    "length = 2**m"
   ]
  },
  {
   "cell_type": "code",
   "execution_count": null,
   "metadata": {},
   "outputs": [],
   "source": [
    "label = np.eye(32)"
   ]
  },
  {
   "cell_type": "code",
   "execution_count": null,
   "metadata": {},
   "outputs": [],
   "source": [
    "msg=np.zeros((32,5))\n",
    "for i in range(32):\n",
    "    a = list(format(i, 'b').zfill(5))\n",
    "    msg[i] = a"
   ]
  },
  {
   "cell_type": "code",
   "execution_count": null,
   "metadata": {},
   "outputs": [],
   "source": [
    "add_label = label\n",
    "add_msg = msg\n",
    "\n",
    "for i in range(10):\n",
    "    label = np.vstack((label,add_label))\n",
    "    msg = np.vstack((msg, add_msg))"
   ]
  },
  {
   "cell_type": "code",
   "execution_count": null,
   "metadata": {},
   "outputs": [],
   "source": [
    "G = RM.G_matrix(length, m, r)"
   ]
  },
  {
   "cell_type": "code",
   "execution_count": null,
   "metadata": {},
   "outputs": [],
   "source": [
    "send_code, received_code = RM.Encoding(msg, G, 0, length)\n",
    "test_send_code, test_received_code = RM.Encoding(msg, G, 0, length)"
   ]
  },
  {
   "cell_type": "code",
   "execution_count": null,
   "metadata": {},
   "outputs": [],
   "source": [
    "input_layer = Input(shape=(16,))\n",
    "line1_Dense1 = Dense(16*1, activation='elu')(input_layer)\n",
    "line1_Dense2 = Dense(16*1, activation='elu')(line1_Dense1)         \n",
    "line1_Dense3 = Dense(16*1, activation='elu')(line1_Dense2)\n",
    "line1_output_layer = Dense(16, activation='tanh')(line1_Dense3)\n",
    "\n",
    "line2_Dense1 = Dense(16*2, activation='elu')(input_layer)\n",
    "line2_Dense2 = Dense(16*4, activation='elu')(line2_Dense1)         \n",
    "line2_Dense3 = Dense(16*2, activation='elu')(line2_Dense2)\n",
    "line2_output_layer = Dense(16, activation='tanh')(line2_Dense3)\n",
    "\n",
    "line3_Dense1 = Dense(16*3, activation='elu')(input_layer)\n",
    "line3_Dense2 = Dense(16*9, activation='elu')(line3_Dense1)         \n",
    "line3_Dense3 = Dense(16*3, activation='elu')(line3_Dense2)\n",
    "line3_output_layer = Dense(16, activation='tanh')(line3_Dense3)\n",
    "\n",
    "line4_Dense1 = Dense(16*4, activation='elu')(input_layer)\n",
    "line4_Dense2 = Dense(16*16, activation='elu')(line4_Dense1)         \n",
    "line4_Dense3 = Dense(16*4, activation='elu')(line4_Dense2)\n",
    "line4_output_layer = Dense(16, activation='tanh')(line4_Dense3)\n",
    "\n",
    "line5_Dense1 = Dense(16*5, activation='elu')(input_layer)\n",
    "line5_Dense2 = Dense(16*25, activation='elu')(line5_Dense1)         \n",
    "line5_Dense3 = Dense(16*5, activation='elu')(line5_Dense2)\n",
    "line5_output_layer = Dense(16, activation='tanh')(line5_Dense3)\n",
    "\n",
    "line6_Dense1 = Dense(16*6, activation='elu')(input_layer)\n",
    "line6_Dense2 = Dense(16*36, activation='elu')(line6_Dense1)         \n",
    "line6_Dense3 = Dense(16*6, activation='elu')(line6_Dense2)\n",
    "line6_output_layer = Dense(16, activation='tanh')(line6_Dense3)\n",
    "\n",
    "\n",
    "add_layer = Add()([line1_output_layer, line2_output_layer, line3_output_layer,\n",
    "                  line4_output_layer, line5_output_layer, line6_output_layer])\n",
    "\n",
    "output_layer = Dense(32, activation='softmax')(add_layer)\n",
    "\n",
    "model = Model(inputs = input_layer, outputs=output_layer)\n",
    "\n",
    "model.compile(optimizer='adam', loss='binary_crossentropy', metrics=['accuracy'])"
   ]
  },
  {
   "cell_type": "code",
   "execution_count": null,
   "metadata": {},
   "outputs": [],
   "source": [
    "send_code, received_code = RM.Encoding(msg, G, 0, length)\n",
    "test_send_code, test_received_code = RM.Encoding(msg, G, 0, length)"
   ]
  },
  {
   "cell_type": "code",
   "execution_count": null,
   "metadata": {},
   "outputs": [],
   "source": [
    "model.fit(received_code, label, \n",
    "          epochs=10,\n",
    "          batch_size=1000,\n",
    "          shuffle=True,\n",
    "          validation_data=(test_received_code, label))"
   ]
  },
  {
   "cell_type": "code",
   "execution_count": 140,
   "metadata": {},
   "outputs": [
    {
     "name": "stdout",
     "output_type": "stream",
     "text": [
      "0 [0.029997483911839398, 0.9900568127632141]\n",
      "100 [0.03412187861447984, 0.9891690611839294]\n",
      "200 [0.02764979749917984, 0.9913884997367859]\n",
      "300 [0.036718890578909355, 0.9890802502632141]\n",
      "400 [0.03440383499996229, 0.9893465638160706]\n",
      "500 [0.030585285276174545, 0.9904119372367859]\n",
      "600 [0.036031382835724136, 0.9883700013160706]\n",
      "700 [0.0320782945914702, 0.9898792505264282]\n",
      "800 [0.03227019140666181, 0.9900568127632141]\n",
      "900 [0.032115333882922474, 0.9897016882896423]\n"
     ]
    }
   ],
   "source": [
    "for i in range(10**3):\n",
    "    send_code, received_code = RM.Encoding(msg, G, 0, length)\n",
    "    test_send_code, test_received_code = RM.Encoding(msg, G, 0, length)\n",
    "    \n",
    "    model.fit(received_code, label, \n",
    "          epochs=10,\n",
    "          batch_size=1000,\n",
    "          shuffle=True,\n",
    "          validation_data=(test_received_code, label), verbose=0)\n",
    "    \n",
    "    if i%10**2 == 0:\n",
    "        test_send_code, test_received_code = RM.Encoding(msg, G, 0, length)\n",
    "        loss = model.evaluate(test_received_code, label, verbose=0)\n",
    "        print(i, loss)\n",
    "        \n",
    "        model.save('Model/model_(1,4)_p6_softmax.h5')"
   ]
  },
  {
   "cell_type": "code",
   "execution_count": 141,
   "metadata": {},
   "outputs": [
    {
     "name": "stdout",
     "output_type": "stream",
     "text": [
      "999 [0.0331537818366831, 0.9895241260528564]\n"
     ]
    }
   ],
   "source": [
    "test_send_code, test_received_code = RM.Encoding(msg, G, 0, length)\n",
    "loss = model.evaluate(test_received_code, label, verbose=0)\n",
    "print(i, loss)\n",
    "\n",
    "model.save('Model/model_(1,4)_p6_softmax.h5')"
   ]
  },
  {
   "cell_type": "code",
   "execution_count": null,
   "metadata": {},
   "outputs": [],
   "source": [
    "test_msg = np.random.randint(2, size=(10**3,m+r))\n",
    "test_send_code, test_received_code = RM.Encoding(test_msg, G, 3, length)\n",
    "\n",
    "denoise_msg = model.predict(test_received_code)"
   ]
  },
  {
   "cell_type": "code",
   "execution_count": null,
   "metadata": {},
   "outputs": [],
   "source": [
    "result = np.argmax(denoise_msg, axis=1)"
   ]
  },
  {
   "cell_type": "code",
   "execution_count": null,
   "metadata": {},
   "outputs": [],
   "source": [
    "ad_msg=np.zeros((10**3,5))\n",
    "for i in range(result.shape[0]):\n",
    "    a = list(format(result[i], 'b').zfill(5))\n",
    "    ad_msg[i] = a"
   ]
  },
  {
   "cell_type": "code",
   "execution_count": null,
   "metadata": {},
   "outputs": [],
   "source": [
    "print(((test_msg+ad_msg)%2).sum()/(10**3*5))"
   ]
  },
  {
   "cell_type": "code",
   "execution_count": null,
   "metadata": {},
   "outputs": [],
   "source": [
    "test_send_code, test_received_code = RM.Encoding(msg, G, 0, length)\n",
    "loss = model.evaluate(test_received_code, label, verbose=0)\n",
    "print(i, loss)\n",
    "\n",
    "model.save('Model/model_(1,4)_p6_softmax.h5')"
   ]
  },
  {
   "cell_type": "code",
   "execution_count": null,
   "metadata": {},
   "outputs": [],
   "source": [
    "model.summary()"
   ]
  },
  {
   "cell_type": "code",
   "execution_count": null,
   "metadata": {},
   "outputs": [],
   "source": []
  }
 ],
 "metadata": {
  "kernelspec": {
   "display_name": "Python 3",
   "language": "python",
   "name": "python3"
  },
  "language_info": {
   "codemirror_mode": {
    "name": "ipython",
    "version": 3
   },
   "file_extension": ".py",
   "mimetype": "text/x-python",
   "name": "python",
   "nbconvert_exporter": "python",
   "pygments_lexer": "ipython3",
   "version": "3.6.10"
  }
 },
 "nbformat": 4,
 "nbformat_minor": 2
}
