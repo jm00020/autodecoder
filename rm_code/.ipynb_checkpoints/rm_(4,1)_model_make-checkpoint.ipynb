{
 "cells": [
  {
   "cell_type": "code",
   "execution_count": 1,
   "metadata": {},
   "outputs": [
    {
     "name": "stderr",
     "output_type": "stream",
     "text": [
      "Using TensorFlow backend.\n"
     ]
    }
   ],
   "source": [
    "import numpy as np\n",
    "import keras\n",
    "from keras.layers import Dense, Input, Add\n",
    "from keras.models import Sequential, Model, load_model\n",
    "\n",
    "from Source import RM"
   ]
  },
  {
   "cell_type": "code",
   "execution_count": 2,
   "metadata": {},
   "outputs": [],
   "source": [
    "m = 4\n",
    "r = 1\n",
    "length = 2**m"
   ]
  },
  {
   "cell_type": "code",
   "execution_count": 3,
   "metadata": {},
   "outputs": [],
   "source": [
    "G = RM.G_matrix(length, m, r)"
   ]
  },
  {
   "cell_type": "code",
   "execution_count": 4,
   "metadata": {},
   "outputs": [
    {
     "name": "stdout",
     "output_type": "stream",
     "text": [
      "[[0 1 1 1 0]\n",
      " [0 1 0 0 1]\n",
      " [0 0 1 1 0]\n",
      " ...\n",
      " [0 1 0 0 1]\n",
      " [1 0 1 0 1]\n",
      " [0 0 1 1 1]]\n"
     ]
    }
   ],
   "source": [
    "msg = np.random.randint(2, size=(10**7,m+r))\n",
    "print(msg)"
   ]
  },
  {
   "cell_type": "code",
   "execution_count": 5,
   "metadata": {},
   "outputs": [],
   "source": [
    "send_code, received_code = RM.Encoding(msg, G, 3, length)"
   ]
  },
  {
   "cell_type": "code",
   "execution_count": 6,
   "metadata": {},
   "outputs": [],
   "source": [
    "test_msg = np.random.randint(2, size=(10**3,m+r))\n",
    "test_send_code, test_received_code = RM.Encoding(test_msg, G, 3, length)"
   ]
  },
  {
   "cell_type": "code",
   "execution_count": 7,
   "metadata": {},
   "outputs": [],
   "source": [
    "input_layer = Input(shape=(16,))\n",
    "line1_Dense1 = Dense(16*1, activation='elu')(input_layer)\n",
    "line1_Dense2 = Dense(16*1, activation='elu')(line1_Dense1)         \n",
    "line1_Dense3 = Dense(16*1, activation='elu')(line1_Dense2)\n",
    "line1_output_layer = Dense(16, activation='tanh')(line1_Dense3)\n",
    "\n",
    "line2_Dense1 = Dense(16*2, activation='elu')(input_layer)\n",
    "line2_Dense2 = Dense(16*4, activation='elu')(line2_Dense1)         \n",
    "line2_Dense3 = Dense(16*2, activation='elu')(line2_Dense2)\n",
    "line2_output_layer = Dense(16, activation='tanh')(line2_Dense3)\n",
    "\n",
    "line3_Dense1 = Dense(16*3, activation='elu')(input_layer)\n",
    "line3_Dense2 = Dense(16*9, activation='elu')(line3_Dense1)         \n",
    "line3_Dense3 = Dense(16*3, activation='elu')(line3_Dense2)\n",
    "line3_output_layer = Dense(16, activation='tanh')(line3_Dense3)\n",
    "\n",
    "line4_Dense1 = Dense(16*4, activation='elu')(input_layer)\n",
    "line4_Dense2 = Dense(16*16, activation='elu')(line4_Dense1)         \n",
    "line4_Dense3 = Dense(16*4, activation='elu')(line4_Dense2)\n",
    "line4_output_layer = Dense(16, activation='tanh')(line4_Dense3)\n",
    "\n",
    "line5_Dense1 = Dense(16*5, activation='elu')(input_layer)\n",
    "line5_Dense2 = Dense(16*25, activation='elu')(line5_Dense1)         \n",
    "line5_Dense3 = Dense(16*5, activation='elu')(line5_Dense2)\n",
    "line5_output_layer = Dense(16, activation='tanh')(line5_Dense3)\n",
    "\n",
    "add_layer = Add()([line1_output_layer, line2_output_layer, line3_output_layer, line4_output_layer, line5_output_layer])\n",
    "\n",
    "output_layer = Dense(16, activation='linear')(add_layer)\n",
    "\n",
    "model = Model(inputs = input_layer, outputs=output_layer)\n",
    "\n",
    "model.compile(optimizer='adam', loss='mean_squared_error', metrics=['accuracy'])"
   ]
  },
  {
   "cell_type": "code",
   "execution_count": 8,
   "metadata": {},
   "outputs": [
    {
     "name": "stdout",
     "output_type": "stream",
     "text": [
      "__________________________________________________________________________________________________\n",
      "Layer (type)                    Output Shape         Param #     Connected to                     \n",
      "==================================================================================================\n",
      "input_1 (InputLayer)            (None, 16)           0                                            \n",
      "__________________________________________________________________________________________________\n",
      "dense_1 (Dense)                 (None, 16)           272         input_1[0][0]                    \n",
      "__________________________________________________________________________________________________\n",
      "dense_5 (Dense)                 (None, 32)           544         input_1[0][0]                    \n",
      "__________________________________________________________________________________________________\n",
      "dense_9 (Dense)                 (None, 48)           816         input_1[0][0]                    \n",
      "__________________________________________________________________________________________________\n",
      "dense_13 (Dense)                (None, 64)           1088        input_1[0][0]                    \n",
      "__________________________________________________________________________________________________\n",
      "dense_17 (Dense)                (None, 80)           1360        input_1[0][0]                    \n",
      "__________________________________________________________________________________________________\n",
      "dense_2 (Dense)                 (None, 16)           272         dense_1[0][0]                    \n",
      "__________________________________________________________________________________________________\n",
      "dense_6 (Dense)                 (None, 64)           2112        dense_5[0][0]                    \n",
      "__________________________________________________________________________________________________\n",
      "dense_10 (Dense)                (None, 144)          7056        dense_9[0][0]                    \n",
      "__________________________________________________________________________________________________\n",
      "dense_14 (Dense)                (None, 256)          16640       dense_13[0][0]                   \n",
      "__________________________________________________________________________________________________\n",
      "dense_18 (Dense)                (None, 400)          32400       dense_17[0][0]                   \n",
      "__________________________________________________________________________________________________\n",
      "dense_3 (Dense)                 (None, 16)           272         dense_2[0][0]                    \n",
      "__________________________________________________________________________________________________\n",
      "dense_7 (Dense)                 (None, 32)           2080        dense_6[0][0]                    \n",
      "__________________________________________________________________________________________________\n",
      "dense_11 (Dense)                (None, 48)           6960        dense_10[0][0]                   \n",
      "__________________________________________________________________________________________________\n",
      "dense_15 (Dense)                (None, 64)           16448       dense_14[0][0]                   \n",
      "__________________________________________________________________________________________________\n",
      "dense_19 (Dense)                (None, 80)           32080       dense_18[0][0]                   \n",
      "__________________________________________________________________________________________________\n",
      "dense_4 (Dense)                 (None, 16)           272         dense_3[0][0]                    \n",
      "__________________________________________________________________________________________________\n",
      "dense_8 (Dense)                 (None, 16)           528         dense_7[0][0]                    \n",
      "__________________________________________________________________________________________________\n",
      "dense_12 (Dense)                (None, 16)           784         dense_11[0][0]                   \n",
      "__________________________________________________________________________________________________\n",
      "dense_16 (Dense)                (None, 16)           1040        dense_15[0][0]                   \n",
      "__________________________________________________________________________________________________\n",
      "dense_20 (Dense)                (None, 16)           1296        dense_19[0][0]                   \n",
      "__________________________________________________________________________________________________\n",
      "add_1 (Add)                     (None, 16)           0           dense_4[0][0]                    \n",
      "                                                                 dense_8[0][0]                    \n",
      "                                                                 dense_12[0][0]                   \n",
      "                                                                 dense_16[0][0]                   \n",
      "                                                                 dense_20[0][0]                   \n",
      "__________________________________________________________________________________________________\n",
      "dense_21 (Dense)                (None, 16)           272         add_1[0][0]                      \n",
      "==================================================================================================\n",
      "Total params: 124,592\n",
      "Trainable params: 124,592\n",
      "Non-trainable params: 0\n",
      "__________________________________________________________________________________________________\n"
     ]
    }
   ],
   "source": [
    "model.summary()"
   ]
  },
  {
   "cell_type": "code",
   "execution_count": 9,
   "metadata": {},
   "outputs": [
    {
     "name": "stdout",
     "output_type": "stream",
     "text": [
      "10000000/10000000 [==============================] - 21s 2us/step - loss: 0.0248 - acc: 0.1233 - val_loss: 0.0283 - val_acc: 0.1060\n",
      "Epoch 89/100\n",
      "10000000/10000000 [==============================] - 22s 2us/step - loss: 0.0248 - acc: 0.1201 - val_loss: 0.0293 - val_acc: 0.1390\n",
      "Epoch 90/100\n",
      "10000000/10000000 [==============================] - 21s 2us/step - loss: 0.0248 - acc: 0.1265 - val_loss: 0.0293 - val_acc: 0.1290\n",
      "Epoch 91/100\n",
      "10000000/10000000 [==============================] - 21s 2us/step - loss: 0.0248 - acc: 0.1216 - val_loss: 0.0299 - val_acc: 0.2470\n",
      "Epoch 92/100\n",
      "10000000/10000000 [==============================] - 21s 2us/step - loss: 0.0248 - acc: 0.1222 - val_loss: 0.0276 - val_acc: 0.1730\n",
      "Epoch 93/100\n",
      "10000000/10000000 [==============================] - 22s 2us/step - loss: 0.0248 - acc: 0.1212 - val_loss: 0.0269 - val_acc: 0.0910\n",
      "Epoch 94/100\n",
      "10000000/10000000 [==============================] - 22s 2us/step - loss: 0.0247 - acc: 0.1185 - val_loss: 0.0284 - val_acc: 0.1120\n",
      "Epoch 95/100\n",
      "10000000/10000000 [==============================] - 22s 2us/step - loss: 0.0247 - acc: 0.1216 - val_loss: 0.0288 - val_acc: 0.0580\n",
      "Epoch 96/100\n",
      "10000000/10000000 [==============================] - 21s 2us/step - loss: 0.0247 - acc: 0.1203 - val_loss: 0.0278 - val_acc: 0.2700\n",
      "Epoch 97/100\n",
      "10000000/10000000 [==============================] - 21s 2us/step - loss: 0.0247 - acc: 0.1214 - val_loss: 0.0289 - val_acc: 0.0830\n",
      "Epoch 98/100\n",
      "10000000/10000000 [==============================] - 21s 2us/step - loss: 0.0247 - acc: 0.1226 - val_loss: 0.0288 - val_acc: 0.1150\n",
      "Epoch 99/100\n",
      "10000000/10000000 [==============================] - 21s 2us/step - loss: 0.0247 - acc: 0.1168 - val_loss: 0.0294 - val_acc: 0.1240\n",
      "Epoch 100/100\n",
      "10000000/10000000 [==============================] - 21s 2us/step - loss: 0.0247 - acc: 0.1231 - val_loss: 0.0288 - val_acc: 0.1760\n"
     ]
    },
    {
     "data": {
      "text/plain": [
       "<keras.callbacks.History at 0x1b2e9bbe828>"
      ]
     },
     "execution_count": 9,
     "metadata": {},
     "output_type": "execute_result"
    }
   ],
   "source": [
    "model.fit(received_code, send_code, \n",
    "          epochs=100,\n",
    "          batch_size=10000,\n",
    "          shuffle=True,\n",
    "          validation_data=(test_received_code, test_send_code))"
   ]
  },
  {
   "cell_type": "code",
   "execution_count": 10,
   "metadata": {},
   "outputs": [],
   "source": [
    "test_msg = np.random.randint(2, size=(10**3,m+r))\n",
    "test_send_code, test_received_code = RM.Encoding(test_msg, G, 3, length)\n",
    "\n",
    "denoise_code = model.predict(test_received_code)"
   ]
  },
  {
   "cell_type": "code",
   "execution_count": 11,
   "metadata": {},
   "outputs": [],
   "source": [
    "denoise_code = np.where(denoise_code > 0, 0, 1)\n",
    "test_send_code = np.where(test_send_code > 0, 0, 1)\n",
    "test_received_code = np.where(test_received_code > 0, 0, 1)"
   ]
  },
  {
   "cell_type": "code",
   "execution_count": 12,
   "metadata": {},
   "outputs": [
    {
     "name": "stdout",
     "output_type": "stream",
     "text": [
      "[[0 1 1 ... 1 1 0]\n",
      " [0 0 0 ... 0 0 0]\n",
      " [0 0 0 ... 1 1 1]\n",
      " ...\n",
      " [0 0 0 ... 1 1 1]\n",
      " [0 1 0 ... 0 1 0]\n",
      " [1 1 1 ... 0 0 0]]\n",
      "[[0 1 1 ... 1 1 0]\n",
      " [0 0 0 ... 0 0 0]\n",
      " [0 0 0 ... 1 1 1]\n",
      " ...\n",
      " [0 0 0 ... 1 1 1]\n",
      " [0 1 0 ... 0 1 0]\n",
      " [1 1 1 ... 0 0 0]]\n"
     ]
    }
   ],
   "source": [
    "print(denoise_code)\n",
    "print(test_send_code)"
   ]
  },
  {
   "cell_type": "code",
   "execution_count": 13,
   "metadata": {},
   "outputs": [],
   "source": [
    "a = ((test_send_code + denoise_code) % 2).sum()\n",
    "b = ((test_send_code + test_received_code) % 2).sum()"
   ]
  },
  {
   "cell_type": "code",
   "execution_count": 14,
   "metadata": {},
   "outputs": [
    {
     "name": "stdout",
     "output_type": "stream",
     "text": [
      "0.0065\n",
      "0.136875\n"
     ]
    }
   ],
   "source": [
    "print(a/(test_send_code.shape[0]*test_send_code.shape[1]))\n",
    "print(b/(test_send_code.shape[0]*test_send_code.shape[1]))"
   ]
  },
  {
   "cell_type": "code",
   "execution_count": 15,
   "metadata": {},
   "outputs": [],
   "source": [
    "model.save('Model/model_(4,1)_p5.h5')"
   ]
  },
  {
   "cell_type": "code",
   "execution_count": null,
   "metadata": {},
   "outputs": [],
   "source": []
  }
 ],
 "metadata": {
  "kernelspec": {
   "display_name": "Python 3",
   "language": "python",
   "name": "python3"
  },
  "language_info": {
   "codemirror_mode": {
    "name": "ipython",
    "version": 3
   },
   "file_extension": ".py",
   "mimetype": "text/x-python",
   "name": "python",
   "nbconvert_exporter": "python",
   "pygments_lexer": "ipython3",
   "version": "3.6.4"
  }
 },
 "nbformat": 4,
 "nbformat_minor": 2
}
