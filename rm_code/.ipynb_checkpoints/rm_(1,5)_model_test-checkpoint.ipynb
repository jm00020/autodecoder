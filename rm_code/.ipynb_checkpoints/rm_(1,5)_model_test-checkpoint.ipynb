{
 "cells": [
  {
   "cell_type": "code",
   "execution_count": 1,
   "metadata": {},
   "outputs": [
    {
     "name": "stderr",
     "output_type": "stream",
     "text": [
      "Using TensorFlow backend.\n"
     ]
    },
    {
     "ename": "ModuleNotFoundError",
     "evalue": "No module named 'keras.model'",
     "output_type": "error",
     "traceback": [
      "\u001b[1;31m---------------------------------------------------------------------------\u001b[0m",
      "\u001b[1;31mModuleNotFoundError\u001b[0m                       Traceback (most recent call last)",
      "\u001b[1;32m<ipython-input-1-ae364c9c1bba>\u001b[0m in \u001b[0;36m<module>\u001b[1;34m()\u001b[0m\n\u001b[0;32m      1\u001b[0m \u001b[1;32mimport\u001b[0m \u001b[0mkeras\u001b[0m\u001b[1;33m\u001b[0m\u001b[0m\n\u001b[0;32m      2\u001b[0m \u001b[1;32mfrom\u001b[0m \u001b[0mkeras\u001b[0m\u001b[1;33m.\u001b[0m\u001b[0mlayers\u001b[0m \u001b[1;32mimport\u001b[0m \u001b[0mDense\u001b[0m\u001b[1;33m,\u001b[0m \u001b[0mInput\u001b[0m\u001b[1;33m,\u001b[0m \u001b[0mAdd\u001b[0m\u001b[1;33m\u001b[0m\u001b[0m\n\u001b[1;32m----> 3\u001b[1;33m \u001b[1;32mfrom\u001b[0m \u001b[0mkeras\u001b[0m\u001b[1;33m.\u001b[0m\u001b[0mmodel\u001b[0m \u001b[1;32mimport\u001b[0m \u001b[0mSequential\u001b[0m\u001b[1;33m,\u001b[0m \u001b[0mModel\u001b[0m\u001b[1;33m,\u001b[0m \u001b[0mload_model\u001b[0m\u001b[1;33m\u001b[0m\u001b[0m\n\u001b[0m\u001b[0;32m      4\u001b[0m \u001b[1;33m\u001b[0m\u001b[0m\n\u001b[0;32m      5\u001b[0m \u001b[1;32mfrom\u001b[0m \u001b[0mSource\u001b[0m \u001b[1;32mimport\u001b[0m \u001b[0mRM\u001b[0m\u001b[1;33m\u001b[0m\u001b[0m\n",
      "\u001b[1;31mModuleNotFoundError\u001b[0m: No module named 'keras.model'"
     ]
    }
   ],
   "source": [
    "import numpy as np\n",
    "from keras.layers import Dense, Input, Add\n",
    "from keras.models import Sequential, Model, load_model\n",
    "import matplotlib.pyplot as plt\n",
    "from scipy import special\n",
    "import keras.backend as K\n",
    "\n",
    "from Source import RM"
   ]
  },
  {
   "cell_type": "code",
   "execution_count": null,
   "metadata": {},
   "outputs": [],
   "source": [
    "m = 5\n",
    "r = 1\n",
    "length = 2**m\n",
    "\n",
    "G = RM.G_matrix(length, m, r)\n",
    "G_p = RM.G_prime(G, m)"
   ]
  },
  {
   "cell_type": "code",
   "execution_count": null,
   "metadata": {},
   "outputs": [],
   "source": [
    "model_1 = load_model('Model/model_(1,5)_p1.h5')\n",
    "model_2 = load_model('Model/model_(1,5)_p2.h5')\n",
    "model_3 = load_model('Model/model_(1,5)_p3.h5')\n",
    "model_4 = load_model('Model/model_(1,5)_p4.h5')\n",
    "model_5 = load_model('Model/model_(1,5)_p5.h5')"
   ]
  },
  {
   "cell_type": "code",
   "execution_count": null,
   "metadata": {},
   "outputs": [],
   "source": [
    "total_model_1_BER = np.zeros(11)\n",
    "total_model_2_BER = np.zeros(11)\n",
    "total_model_3_BER = np.zeros(11)\n",
    "total_model_4_BER = np.zeros(11)\n",
    "total_model_5_BER = np.zeros(11)"
   ]
  },
  {
   "cell_type": "code",
   "execution_count": null,
   "metadata": {},
   "outputs": [],
   "source": [
    "file_buffer = 'Result/model_(1,5)_p1.csv'\n",
    "model_1_f = open(file_buffer, 'w')\n",
    "\n",
    "file_buffer = 'Result/model_(1,5)_p2.csv'\n",
    "model_2_f = open(file_buffer, 'w')\n",
    "\n",
    "file_buffer = 'Result/model_(1,5)_p3.csv'\n",
    "model_3_f = open(file_buffer, 'w')\n",
    "\n",
    "file_buffer = 'Result/model_(1,5)_p4.csv'\n",
    "model_4_f = open(file_buffer, 'w')\n",
    "\n",
    "file_buffer = 'Result/model_(1,5)_p5.csv'\n",
    "model_5_f = open(file_buffer, 'w')"
   ]
  },
  {
   "cell_type": "code",
   "execution_count": null,
   "metadata": {},
   "outputs": [],
   "source": [
    "for i in range(0, 11):\n",
    "    model_1_BER = 0\n",
    "    model_2_BER = 0\n",
    "    model_3_BER = 0\n",
    "    model_4_BER = 0\n",
    "    model_5_BER = 0\n",
    "    print('snr',i)\n",
    "    for j in range(10):\n",
    "        msg = np.random.randint(2, size = (10**4, m+r))\n",
    "        send_code, recived_code = RM.Encoding(msg, G, i, length)\n",
    "        \n",
    "        model_1_ae_code = model_1.predict(recived_code, verbose=0)\n",
    "        model_2_ae_code = model_2.predict(recived_code, verbose=0)\n",
    "        model_3_ae_code = model_3.predict(recived_code, verbose=0)\n",
    "        model_4_ae_code = model_4.predict(recived_code, verbose=0)\n",
    "        model_5_ae_code = model_5.predict(recived_code, verbose=0)\n",
    "        \n",
    "        model_1_estimated_code = RM.Decoding(model_1_ae_code, m, length, r, G_p)\n",
    "        model_2_estimated_code = RM.Decoding(model_2_ae_code, m, length, r, G_p)\n",
    "        model_3_estimated_code = RM.Decoding(model_3_ae_code, m, length, r, G_p)\n",
    "        model_4_estimated_code = RM.Decoding(model_4_ae_code, m, length, r, G_p)\n",
    "        model_5_estimated_code = RM.Decoding(model_5_ae_code, m, length, r, G_p)\n",
    "        \n",
    "        model_1_count = ((msg + model_1_estimated_code)%2).sum()\n",
    "        model_2_count = ((msg + model_2_estimated_code)%2).sum()\n",
    "        model_3_count = ((msg + model_3_estimated_code)%2).sum()\n",
    "        model_4_count = ((msg + model_4_estimated_code)%2).sum()\n",
    "        model_5_count = ((msg + model_5_estimated_code)%2).sum()\n",
    "        \n",
    "        model_1_BER += model_1_count / (msg.shape[0] * msg.shape[1])\n",
    "        model_2_BER += model_2_count / (msg.shape[0] * msg.shape[1])\n",
    "        model_3_BER += model_3_count / (msg.shape[0] * msg.shape[1])\n",
    "        model_4_BER += model_4_count / (msg.shape[0] * msg.shape[1])\n",
    "        model_5_BER += model_5_count / (msg.shape[0] * msg.shape[1])\n",
    "    \n",
    "    total_model_1_BER[i] = model_1_BER / (10)\n",
    "    total_model_2_BER[i] = model_2_BER / (10)\n",
    "    total_model_3_BER[i] = model_3_BER / (10)\n",
    "    total_model_4_BER[i] = model_4_BER / (10)\n",
    "    total_model_5_BER[i] = model_5_BER / (10)\n",
    "    \n",
    "    write_buffer = 'Eb_No, %f, ' %(i)\n",
    "    model_1_f.write(write_buffer)\n",
    "    model_2_f.write(write_buffer)\n",
    "    model_3_f.write(write_buffer)\n",
    "    model_4_f.write(write_buffer)\n",
    "    model_5_f.write(write_buffer)\n",
    "    \n",
    "    write_buffer = 'BER, %.10f\\n' % (total_model_1_BER[i])\n",
    "    model_1_f.write(write_buffer)\n",
    "    write_buffer = 'BER, %.10f\\n' % (total_model_2_BER[i])\n",
    "    model_2_f.write(write_buffer)\n",
    "    write_buffer = 'BER, %.10f\\n' % (total_model_3_BER[i])\n",
    "    model_3_f.write(write_buffer)\n",
    "    write_buffer = 'BER, %.10f\\n' % (total_model_4_BER[i])\n",
    "    model_4_f.write(write_buffer)\n",
    "    write_buffer = 'BER, %.10f\\n' % (total_model_5_BER[i])\n",
    "    model_5_f.write(write_buffer)\n",
    "    \n",
    "model_1_f.close()\n",
    "model_2_f.close()\n",
    "model_3_f.close()\n",
    "model_4_f.close()\n",
    "model_5_f.close()"
   ]
  },
  {
   "cell_type": "code",
   "execution_count": null,
   "metadata": {},
   "outputs": [],
   "source": [
    "bpsk_BER = np.zeros(11)\n",
    "for i in range(0,11):\n",
    "    bpsk_BER[i] = 0.5 * special.erfc((np.sqrt(10**(i/10))))"
   ]
  },
  {
   "cell_type": "code",
   "execution_count": null,
   "metadata": {},
   "outputs": [],
   "source": [
    "x = np.array(range(0, 11))\n",
    "\n",
    "plt.semilogy(x,total_model_1_BER, label='model_1', color='b')\n",
    "plt.semilogy(x,total_model_2_BER, label='model_2', color='g')\n",
    "plt.semilogy(x,total_model_3_BER, label='model_3', color='y')\n",
    "plt.semilogy(x,total_model_4_BER, label='model_4', color='r')\n",
    "plt.semilogy(x,total_model_5_BER, label='model_5', color='c')\n",
    "\n",
    "\n",
    "plt.semilogy(x,bpsk_BER, label='bpsk', color='k')\n",
    "\n",
    "\n",
    "plt.xlabel('Eb/No')\n",
    "plt.ylabel('BER')\n",
    "\n",
    "plt.legend()\n",
    "plt.grid(True)\n",
    "plt.show()"
   ]
  }
 ],
 "metadata": {
  "kernelspec": {
   "display_name": "Python 3",
   "language": "python",
   "name": "python3"
  },
  "language_info": {
   "codemirror_mode": {
    "name": "ipython",
    "version": 3
   },
   "file_extension": ".py",
   "mimetype": "text/x-python",
   "name": "python",
   "nbconvert_exporter": "python",
   "pygments_lexer": "ipython3",
   "version": "3.6.4"
  }
 },
 "nbformat": 4,
 "nbformat_minor": 2
}
