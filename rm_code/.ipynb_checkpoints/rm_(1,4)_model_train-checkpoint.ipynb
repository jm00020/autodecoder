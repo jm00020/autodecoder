{
 "cells": [
  {
   "cell_type": "code",
   "execution_count": 1,
   "metadata": {},
   "outputs": [
    {
     "name": "stderr",
     "output_type": "stream",
     "text": [
      "Using TensorFlow backend.\n"
     ]
    }
   ],
   "source": [
    "import numpy as np\n",
    "import keras\n",
    "from keras.layers import Dense, Input, Add\n",
    "from keras.models import Sequential, Model, load_model\n",
    "\n",
    "from Source import RM\n",
    "\n",
    "import tensorflow as tf"
   ]
  },
  {
   "cell_type": "code",
   "execution_count": 2,
   "metadata": {},
   "outputs": [],
   "source": [
    "m = 4\n",
    "r = 1\n",
    "length = 2**m"
   ]
  },
  {
   "cell_type": "code",
   "execution_count": 3,
   "metadata": {},
   "outputs": [],
   "source": [
    "label = np.eye(32)\n",
    "msg=np.zeros((32,5))\n",
    "for i in range(32):\n",
    "    a = list(format(i, 'b').zfill(5))\n",
    "    msg[i] = a"
   ]
  },
  {
   "cell_type": "code",
   "execution_count": 4,
   "metadata": {},
   "outputs": [],
   "source": [
    "G = RM.G_matrix(length, m, r)"
   ]
  },
  {
   "cell_type": "code",
   "execution_count": 5,
   "metadata": {},
   "outputs": [
    {
     "name": "stdout",
     "output_type": "stream",
     "text": [
      "WARNING:tensorflow:From D:\\anaconda\\lib\\site-packages\\tensorflow_core\\python\\ops\\resource_variable_ops.py:1630: calling BaseResourceVariable.__init__ (from tensorflow.python.ops.resource_variable_ops) with constraint is deprecated and will be removed in a future version.\n",
      "Instructions for updating:\n",
      "If using Keras pass *_constraint arguments to layers.\n",
      "WARNING:tensorflow:From D:\\anaconda\\lib\\site-packages\\tensorflow_core\\python\\ops\\math_grad.py:1424: where (from tensorflow.python.ops.array_ops) is deprecated and will be removed in a future version.\n",
      "Instructions for updating:\n",
      "Use tf.where in 2.0, which has the same broadcast rule as np.where\n",
      "WARNING:tensorflow:From D:\\anaconda\\lib\\site-packages\\keras\\backend\\tensorflow_backend.py:422: The name tf.global_variables is deprecated. Please use tf.compat.v1.global_variables instead.\n",
      "\n"
     ]
    }
   ],
   "source": [
    "model = load_model('Model/model_(1,4)_p6_2bits_softmax.h5')"
   ]
  },
  {
   "cell_type": "code",
   "execution_count": 6,
   "metadata": {},
   "outputs": [],
   "source": [
    "def add_masking(received_code, msg_size):\n",
    "    masking = np.ones((msg_size,2))\n",
    "    if np.var(received_code) > 1.9:\n",
    "        received_code = np.hstack((masking, received_code))\n",
    "    elif np.var(received_code) > 1.45:\n",
    "        masking[:,1] = -1*masking[:,1]\n",
    "        received_code = np.hstack((masking, received_code))\n",
    "    elif np.var(received_code) > 1.225:\n",
    "        masking[:,0] = -1*masking[:,0]\n",
    "        received_code = np.hstack((masking, received_code))\n",
    "    else:\n",
    "        masking = -1 * masking\n",
    "        received_code = np.hstack((masking, received_code))\n",
    "    return received_code"
   ]
  },
  {
   "cell_type": "code",
   "execution_count": 7,
   "metadata": {},
   "outputs": [
    {
     "name": "stdout",
     "output_type": "stream",
     "text": [
      "32/32 [==============================] - 0s 31us/step\n",
      "[0.07021009176969528, 0.9814453125]\n",
      "32/32 [==============================] - 0s 125us/step\n",
      "[0.023540694266557693, 0.9892578125]\n",
      "32/32 [==============================] - 0s 94us/step\n",
      "[0.025355752557516098, 0.9921875]\n",
      "32/32 [==============================] - 0s 94us/step\n",
      "[0.02933204546570778, 0.9931640625]\n",
      "32/32 [==============================] - 0s 93us/step\n",
      "[0.03139418363571167, 0.990234375]\n",
      "32/32 [==============================] - 0s 94us/step\n",
      "[0.08277789503335953, 0.9755859375]\n",
      "32/32 [==============================] - 0s 93us/step\n",
      "[0.06391678005456924, 0.984375]\n",
      "32/32 [==============================] - 0s 125us/step\n",
      "[0.04824203997850418, 0.9833984375]\n",
      "32/32 [==============================] - 0s 93us/step\n",
      "[0.032772041857242584, 0.9912109375]\n",
      "32/32 [==============================] - 0s 62us/step\n",
      "[0.017052339389920235, 0.99609375]\n"
     ]
    },
    {
     "name": "stderr",
     "output_type": "stream",
     "text": [
      "ERROR:root:Internal Python error in the inspect module.\n",
      "Below is the traceback from this internal error.\n",
      "\n"
     ]
    },
    {
     "name": "stdout",
     "output_type": "stream",
     "text": [
      "Traceback (most recent call last):\n",
      "  File \"D:\\anaconda\\lib\\site-packages\\IPython\\core\\interactiveshell.py\", line 3319, in run_code\n",
      "    exec(code_obj, self.user_global_ns, self.user_ns)\n",
      "  File \"<ipython-input-7-30eaafcf7813>\", line 39, in <module>\n",
      "    validation_data=(test_received_code, label), verbose = 0)\n",
      "  File \"D:\\anaconda\\lib\\site-packages\\keras\\engine\\training.py\", line 1239, in fit\n",
      "    validation_freq=validation_freq)\n",
      "  File \"D:\\anaconda\\lib\\site-packages\\keras\\engine\\training_arrays.py\", line 196, in fit_loop\n",
      "    outs = fit_function(ins_batch)\n",
      "  File \"D:\\anaconda\\lib\\site-packages\\tensorflow_core\\python\\keras\\backend.py\", line 3476, in __call__\n",
      "    run_metadata=self.run_metadata)\n",
      "  File \"D:\\anaconda\\lib\\site-packages\\tensorflow_core\\python\\client\\session.py\", line 1472, in __call__\n",
      "    run_metadata_ptr)\n",
      "KeyboardInterrupt\n",
      "\n",
      "During handling of the above exception, another exception occurred:\n",
      "\n",
      "Traceback (most recent call last):\n",
      "  File \"D:\\anaconda\\lib\\site-packages\\IPython\\core\\interactiveshell.py\", line 2034, in showtraceback\n",
      "    stb = value._render_traceback_()\n",
      "AttributeError: 'KeyboardInterrupt' object has no attribute '_render_traceback_'\n",
      "\n",
      "During handling of the above exception, another exception occurred:\n",
      "\n",
      "Traceback (most recent call last):\n",
      "  File \"D:\\anaconda\\lib\\site-packages\\IPython\\core\\ultratb.py\", line 1151, in get_records\n",
      "    return _fixed_getinnerframes(etb, number_of_lines_of_context, tb_offset)\n",
      "  File \"D:\\anaconda\\lib\\site-packages\\IPython\\core\\ultratb.py\", line 319, in wrapped\n",
      "    return f(*args, **kwargs)\n",
      "  File \"D:\\anaconda\\lib\\site-packages\\IPython\\core\\ultratb.py\", line 353, in _fixed_getinnerframes\n",
      "    records = fix_frame_records_filenames(inspect.getinnerframes(etb, context))\n",
      "  File \"D:\\anaconda\\lib\\inspect.py\", line 1490, in getinnerframes\n",
      "    frameinfo = (tb.tb_frame,) + getframeinfo(tb, context)\n",
      "  File \"D:\\anaconda\\lib\\inspect.py\", line 1448, in getframeinfo\n",
      "    filename = getsourcefile(frame) or getfile(frame)\n",
      "  File \"D:\\anaconda\\lib\\inspect.py\", line 696, in getsourcefile\n",
      "    if getattr(getmodule(object, filename), '__loader__', None) is not None:\n",
      "  File \"D:\\anaconda\\lib\\inspect.py\", line 733, in getmodule\n",
      "    if ismodule(module) and hasattr(module, '__file__'):\n",
      "  File \"D:\\anaconda\\lib\\site-packages\\tensorflow\\__init__.py\", line 50, in __getattr__\n",
      "    module = self._load()\n",
      "  File \"D:\\anaconda\\lib\\site-packages\\tensorflow\\__init__.py\", line 44, in _load\n",
      "    module = _importlib.import_module(self.__name__)\n",
      "  File \"D:\\anaconda\\lib\\importlib\\__init__.py\", line 126, in import_module\n",
      "    return _bootstrap._gcd_import(name[level:], package, level)\n",
      "  File \"<frozen importlib._bootstrap>\", line 994, in _gcd_import\n",
      "  File \"<frozen importlib._bootstrap>\", line 971, in _find_and_load\n",
      "  File \"<frozen importlib._bootstrap>\", line 955, in _find_and_load_unlocked\n",
      "  File \"<frozen importlib._bootstrap>\", line 665, in _load_unlocked\n",
      "  File \"<frozen importlib._bootstrap_external>\", line 678, in exec_module\n",
      "  File \"<frozen importlib._bootstrap>\", line 219, in _call_with_frames_removed\n",
      "  File \"D:\\anaconda\\lib\\site-packages\\tensorflow_core\\contrib\\__init__.py\", line 47, in <module>\n",
      "    from tensorflow.contrib import distributions\n",
      "  File \"D:\\anaconda\\lib\\site-packages\\tensorflow_core\\contrib\\distributions\\__init__.py\", line 29, in <module>\n",
      "    from tensorflow.contrib.distributions.python.ops import bijectors\n",
      "  File \"D:\\anaconda\\lib\\site-packages\\tensorflow_core\\contrib\\distributions\\__init__.py\", line 44, in <module>\n",
      "    from tensorflow.contrib.distributions.python.ops.estimator import *\n",
      "  File \"D:\\anaconda\\lib\\site-packages\\tensorflow_core\\contrib\\distributions\\python\\ops\\estimator.py\", line 21, in <module>\n",
      "    from tensorflow.contrib.learn.python.learn.estimators.head import _compute_weighted_loss\n",
      "  File \"D:\\anaconda\\lib\\site-packages\\tensorflow_core\\contrib\\learn\\__init__.py\", line 93, in <module>\n",
      "    from tensorflow.contrib.learn.python.learn import *\n",
      "  File \"D:\\anaconda\\lib\\site-packages\\tensorflow_core\\contrib\\learn\\python\\__init__.py\", line 28, in <module>\n",
      "    from tensorflow.contrib.learn.python.learn import *\n",
      "  File \"D:\\anaconda\\lib\\site-packages\\tensorflow_core\\contrib\\learn\\python\\learn\\__init__.py\", line 30, in <module>\n",
      "    from tensorflow.contrib.learn.python.learn import estimators\n",
      "  File \"D:\\anaconda\\lib\\site-packages\\tensorflow_core\\contrib\\learn\\python\\learn\\estimators\\__init__.py\", line 302, in <module>\n",
      "    from tensorflow.contrib.learn.python.learn.estimators.dnn import DNNClassifier\n",
      "  File \"D:\\anaconda\\lib\\site-packages\\tensorflow_core\\contrib\\learn\\python\\learn\\estimators\\dnn.py\", line 34, in <module>\n",
      "    from tensorflow.contrib.learn.python.learn.estimators import dnn_linear_combined\n",
      "  File \"D:\\anaconda\\lib\\site-packages\\tensorflow_core\\contrib\\learn\\python\\learn\\estimators\\dnn_linear_combined.py\", line 36, in <module>\n",
      "    from tensorflow.contrib.learn.python.learn.estimators import estimator\n",
      "  File \"D:\\anaconda\\lib\\site-packages\\tensorflow_core\\contrib\\learn\\python\\learn\\estimators\\estimator.py\", line 56, in <module>\n",
      "    from tensorflow.contrib.training.python.training import evaluation\n",
      "  File \"D:\\anaconda\\lib\\site-packages\\tensorflow_core\\contrib\\training\\__init__.py\", line 68, in <module>\n",
      "    from tensorflow.contrib.training.python.training.tuner import Tuner\n",
      "  File \"<frozen importlib._bootstrap>\", line 971, in _find_and_load\n",
      "  File \"<frozen importlib._bootstrap>\", line 951, in _find_and_load_unlocked\n",
      "  File \"<frozen importlib._bootstrap>\", line 894, in _find_spec\n",
      "  File \"<frozen importlib._bootstrap_external>\", line 1157, in find_spec\n",
      "  File \"<frozen importlib._bootstrap_external>\", line 1129, in _get_spec\n",
      "  File \"<frozen importlib._bootstrap_external>\", line 1241, in find_spec\n",
      "  File \"<frozen importlib._bootstrap_external>\", line 82, in _path_stat\n",
      "KeyboardInterrupt\n"
     ]
    },
    {
     "ename": "KeyboardInterrupt",
     "evalue": "",
     "output_type": "error",
     "traceback": [
      "\u001b[1;31m---------------------------------------------------------------------------\u001b[0m"
     ]
    }
   ],
   "source": [
    "for i in range(10**4):\n",
    "    send_code, received_code = RM.Encoding(msg, G, 0, length)\n",
    "    test_send_code, test_received_code = RM.Encoding(msg, G, 0, length)\n",
    "            \n",
    "    received_code = add_masking(received_code, msg.shape[0])\n",
    "    test_received_code = add_masking(test_received_code, msg.shape[0])\n",
    "    \n",
    "    label = np.eye(32)\n",
    "    \n",
    "    for j in range(1,11):\n",
    "        send_code, add_received_code = RM.Encoding(msg, G, j, length)\n",
    "        test_send_code, add_test_received_code = RM.Encoding(msg, G, j, length)\n",
    "        \n",
    "        add_received_code = add_masking(add_received_code, msg.shape[0])\n",
    "        add_test_received_code = add_masking(add_test_received_code, msg.shape[0])\n",
    "        \n",
    "        received_code = np.vstack((received_code, add_received_code))\n",
    "        test_received_code = np.vstack((test_received_code, add_test_received_code))\n",
    "        \n",
    "        add_label = np.eye(32)\n",
    "        label = np.vstack((label,add_label))\n",
    "    \n",
    "    \n",
    "    send_code, add_received_code = RM.Encoding(msg, G, j, length)\n",
    "    test_send_code, add_test_received_code = RM.Encoding(msg, G, j, length)\n",
    "    \n",
    "    add_received_code = add_masking(send_code, msg.shape[0])\n",
    "    add_test_received_code = add_masking(test_send_code, msg.shape[0])\n",
    "    \n",
    "    received_code = np.vstack((received_code, add_received_code))\n",
    "    test_received_code = np.vstack((test_received_code, add_test_received_code))\n",
    "    \n",
    "    label = np.vstack((label, add_label))\n",
    "    \n",
    "    model.fit(received_code, label,\n",
    "              epochs=10,\n",
    "              batch_size=10000,\n",
    "              shuffle=True,\n",
    "              validation_data=(test_received_code, label), verbose = 0)\n",
    "        \n",
    "    if i%10**3==0: \n",
    "        label = np.eye(32)\n",
    "        test_send_code, test_received_code = RM.Encoding(msg, G, i%10, length)\n",
    "        \n",
    "        test_received_code = add_masking(test_received_code, msg.shape[0])\n",
    "                \n",
    "        loss = model.evaluate(test_received_code, label)\n",
    "        print(loss)\n",
    "        \n",
    "        model.save('Model/model_(1,4)_p6_2bits_softmax.h5')"
   ]
  },
  {
   "cell_type": "code",
   "execution_count": null,
   "metadata": {},
   "outputs": [],
   "source": [
    "model.save('Model/model_(1,4)_p6_2bits_softmax.h5')"
   ]
  },
  {
   "cell_type": "code",
   "execution_count": null,
   "metadata": {},
   "outputs": [],
   "source": [
    "loss = model.predict(received_code)\n",
    "print(np.reshape(loss.argmax(axis=1),(-1,32)))"
   ]
  }
 ],
 "metadata": {
  "kernelspec": {
   "display_name": "Python 3",
   "language": "python",
   "name": "python3"
  },
  "language_info": {
   "codemirror_mode": {
    "name": "ipython",
    "version": 3
   },
   "file_extension": ".py",
   "mimetype": "text/x-python",
   "name": "python",
   "nbconvert_exporter": "python",
   "pygments_lexer": "ipython3",
   "version": "3.6.10"
  }
 },
 "nbformat": 4,
 "nbformat_minor": 2
}
