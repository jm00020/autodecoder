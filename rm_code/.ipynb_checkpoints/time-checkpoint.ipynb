{
 "cells": [
  {
   "cell_type": "code",
   "execution_count": 1,
   "metadata": {},
   "outputs": [],
   "source": [
    "import os\n",
    "os.environ[\"CUDA_VISIBLE_DEVICES\"]=\"\""
   ]
  },
  {
   "cell_type": "code",
   "execution_count": 2,
   "metadata": {},
   "outputs": [
    {
     "name": "stderr",
     "output_type": "stream",
     "text": [
      "Using TensorFlow backend.\n"
     ]
    }
   ],
   "source": [
    "import numpy as np\n",
    "import keras\n",
    "from keras.models import load_model\n",
    "import time\n",
    "\n",
    "from Source import RM\n",
    "import tensorflow as tf"
   ]
  },
  {
   "cell_type": "code",
   "execution_count": 3,
   "metadata": {},
   "outputs": [],
   "source": [
    "m = 4\n",
    "r = 1\n",
    "length = 2**m\n",
    "\n",
    "G = RM.G_matrix(length, m, r)\n",
    "G_p = RM.G_prime(G, m)\n",
    "\n",
    "if r == 1:\n",
    "    masking_length=0\n",
    "else:\n",
    "    masking_length=int(np.math.factorial(m)/(np.math.factorial(2)*np.math.factorial(m-2)))"
   ]
  },
  {
   "cell_type": "code",
   "execution_count": 4,
   "metadata": {},
   "outputs": [],
   "source": [
    "def add_masking(received_code, msg_size):\n",
    "    masking = np.ones((msg_size,2))\n",
    "    if np.var(received_code) > 1.9:\n",
    "        received_code = np.hstack((masking, received_code))\n",
    "    elif np.var(received_code) > 1.45:\n",
    "        masking[:,1] = -1*masking[:,1]\n",
    "        received_code = np.hstack((masking, received_code))\n",
    "    elif np.var(received_code) > 1.225:\n",
    "        masking[:,0] = -1*masking[:,0]\n",
    "        received_code = np.hstack((masking, received_code))\n",
    "    else:\n",
    "        masking = -1 * masking\n",
    "        received_code = np.hstack((masking, received_code))\n",
    "    return received_code"
   ]
  },
  {
   "cell_type": "code",
   "execution_count": 5,
   "metadata": {},
   "outputs": [
    {
     "name": "stdout",
     "output_type": "stream",
     "text": [
      "WARNING:tensorflow:From D:\\anaconda\\lib\\site-packages\\tensorflow_core\\python\\ops\\resource_variable_ops.py:1630: calling BaseResourceVariable.__init__ (from tensorflow.python.ops.resource_variable_ops) with constraint is deprecated and will be removed in a future version.\n",
      "Instructions for updating:\n",
      "If using Keras pass *_constraint arguments to layers.\n",
      "WARNING:tensorflow:From D:\\anaconda\\lib\\site-packages\\tensorflow_core\\python\\ops\\math_grad.py:1424: where (from tensorflow.python.ops.array_ops) is deprecated and will be removed in a future version.\n",
      "Instructions for updating:\n",
      "Use tf.where in 2.0, which has the same broadcast rule as np.where\n",
      "WARNING:tensorflow:From D:\\anaconda\\lib\\site-packages\\keras\\backend\\tensorflow_backend.py:422: The name tf.global_variables is deprecated. Please use tf.compat.v1.global_variables instead.\n",
      "\n"
     ]
    }
   ],
   "source": [
    "with tf.device('/cpu:0'):\n",
    "    model = load_model('Model/model_(1,4)_p6_softmax.h5')"
   ]
  },
  {
   "cell_type": "code",
   "execution_count": 6,
   "metadata": {},
   "outputs": [],
   "source": [
    "ad_time = 0\n",
    "rm_time = 0"
   ]
  },
  {
   "cell_type": "code",
   "execution_count": 7,
   "metadata": {},
   "outputs": [],
   "source": [
    "msg = np.random.randint(2, size = (1,m+r))\n",
    "send_code, recived_code = RM.Encoding(msg, G, 3, length)"
   ]
  },
  {
   "cell_type": "code",
   "execution_count": 8,
   "metadata": {},
   "outputs": [
    {
     "name": "stdout",
     "output_type": "stream",
     "text": [
      "6.402878046035767\n"
     ]
    }
   ],
   "source": [
    "with tf.device('/cpu:0'):\n",
    "    start =  time.time()\n",
    "    for i in range(10**4):\n",
    "        a = model.predict(recived_code)\n",
    "    end =  time.time()    \n",
    "    print(end-start)"
   ]
  },
  {
   "cell_type": "code",
   "execution_count": 9,
   "metadata": {},
   "outputs": [
    {
     "name": "stderr",
     "output_type": "stream",
     "text": [
      "C:\\Users\\MCC\\Documents\\jupyter\\rm_code\\Source\\RM.py:46: RuntimeWarning: overflow encountered in add\n",
      "  sum_code = recived_code[:,k] + recived_code[:,k+1*(2**j)]\n",
      "C:\\Users\\MCC\\Documents\\jupyter\\rm_code\\Source\\RM.py:46: RuntimeWarning: invalid value encountered in add\n",
      "  sum_code = recived_code[:,k] + recived_code[:,k+1*(2**j)]\n",
      "C:\\Users\\MCC\\Documents\\jupyter\\rm_code\\Source\\RM.py:47: RuntimeWarning: invalid value encountered in subtract\n",
      "  subtract_code = recived_code[:,k] - recived_code[:,k+1*(2**j)]\n",
      "C:\\Users\\MCC\\Documents\\jupyter\\rm_code\\Source\\RM.py:56: RuntimeWarning: invalid value encountered in greater\n",
      "  value = np.where(value > 0, 0, 1)\n"
     ]
    },
    {
     "name": "stdout",
     "output_type": "stream",
     "text": [
      "9.901478052139282\n"
     ]
    }
   ],
   "source": [
    "\n",
    "start =  time.time()\n",
    "for i in range(10**4):\n",
    "    rm_estimated_code = RM.Decoding(recived_code, m, length, r, G, G_p)\n",
    "end = time.time()\n",
    "print(end-start)"
   ]
  },
  {
   "cell_type": "code",
   "execution_count": 1,
   "metadata": {},
   "outputs": [],
   "source": [
    "import timeit\n",
    "def a():\n",
    "    setup_code = '''\n",
    "import numpy as np \n",
    "import keras\n",
    "from keras.models import load_model\n",
    "from Source import RM\n",
    "\n",
    "m = 4\n",
    "r = 1\n",
    "length = 2**m\n",
    "\n",
    "G = RM.G_matrix(length, m, r)\n",
    "G_p = RM.G_prime(G, m)\n",
    "\n",
    "\n",
    "msg = np.random.randint(2, size = (1,m+r))\n",
    "send_code, recived_code = RM.Encoding(msg, G, 3, length)'''\n",
    "    test_code ='RM.Decoding(recived_code, m, length, r, G, G_p)'\n",
    "    \n",
    "    times = timeit.timeit(setup=setup_code, stmt=test_code, number = 100000)\n",
    "    \n",
    "    print(times)"
   ]
  },
  {
   "cell_type": "code",
   "execution_count": 3,
   "metadata": {},
   "outputs": [],
   "source": [
    "def b():\n",
    "    setup_code = '''\n",
    "import numpy as np \n",
    "import keras\n",
    "from keras.models import load_model\n",
    "from Source import RM\n",
    "\n",
    "m = 4\n",
    "r = 1\n",
    "length = 2**m\n",
    "\n",
    "G = RM.G_matrix(length, m, r)\n",
    "G_p = RM.G_prime(G, m)\n",
    "\n",
    "\n",
    "msg = np.random.randint(2, size = (1,m+r))\n",
    "send_code, recived_code = RM.Encoding(msg, G, 3, length)\n",
    "model = load_model('Model/model_(1,4)_p6_softmax.h5')'''\n",
    "    test_code='c = model.predict(recived_code)'\n",
    "    \n",
    "    times = timeit.timeit(setup=setup_code, stmt=test_code, number = 1000)\n",
    "    \n",
    "    print(times)"
   ]
  },
  {
   "cell_type": "code",
   "execution_count": 8,
   "metadata": {},
   "outputs": [
    {
     "name": "stdout",
     "output_type": "stream",
     "text": [
      "1.001138999999995\n"
     ]
    }
   ],
   "source": [
    "a()"
   ]
  },
  {
   "cell_type": "code",
   "execution_count": 9,
   "metadata": {},
   "outputs": [
    {
     "name": "stdout",
     "output_type": "stream",
     "text": [
      "3.1268862999999953\n"
     ]
    }
   ],
   "source": [
    "b()"
   ]
  },
  {
   "cell_type": "code",
   "execution_count": null,
   "metadata": {},
   "outputs": [],
   "source": []
  }
 ],
 "metadata": {
  "kernelspec": {
   "display_name": "Python 3",
   "language": "python",
   "name": "python3"
  },
  "language_info": {
   "codemirror_mode": {
    "name": "ipython",
    "version": 3
   },
   "file_extension": ".py",
   "mimetype": "text/x-python",
   "name": "python",
   "nbconvert_exporter": "python",
   "pygments_lexer": "ipython3",
   "version": "3.6.10"
  }
 },
 "nbformat": 4,
 "nbformat_minor": 2
}
