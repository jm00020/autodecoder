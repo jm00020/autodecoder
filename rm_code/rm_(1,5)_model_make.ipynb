{
 "cells": [
  {
   "cell_type": "code",
   "execution_count": 1,
   "metadata": {},
   "outputs": [
    {
     "name": "stderr",
     "output_type": "stream",
     "text": [
      "Using TensorFlow backend.\n"
     ]
    }
   ],
   "source": [
    "import numpy as np\n",
    "import keras\n",
    "from keras.layers import Dense, Input, Add\n",
    "from keras.models import Sequential, Model, load_model\n",
    "\n",
    "from Source import RM"
   ]
  },
  {
   "cell_type": "code",
   "execution_count": 2,
   "metadata": {},
   "outputs": [],
   "source": [
    "m = 5\n",
    "r = 1\n",
    "length = 2**m"
   ]
  },
  {
   "cell_type": "code",
   "execution_count": 3,
   "metadata": {},
   "outputs": [],
   "source": [
    "G = RM.G_matrix(length, m, r)"
   ]
  },
  {
   "cell_type": "code",
   "execution_count": 4,
   "metadata": {},
   "outputs": [
    {
     "name": "stdout",
     "output_type": "stream",
     "text": [
      "[[1 1 0 1 0 0]\n",
      " [1 1 0 1 1 0]\n",
      " [1 0 0 0 1 1]\n",
      " ...\n",
      " [0 1 1 0 0 0]\n",
      " [1 0 0 1 0 1]\n",
      " [0 1 1 1 0 0]]\n"
     ]
    }
   ],
   "source": [
    "msg = np.random.randint(2, size=(10**7,m+r))\n",
    "print(msg)"
   ]
  },
  {
   "cell_type": "code",
   "execution_count": 5,
   "metadata": {},
   "outputs": [],
   "source": [
    "send_code, received_code = RM.Encoding(msg, G, 3, length)"
   ]
  },
  {
   "cell_type": "code",
   "execution_count": 6,
   "metadata": {},
   "outputs": [],
   "source": [
    "test_msg = np.random.randint(2, size=(10**3,m+r))\n",
    "test_send_code, test_received_code = RM.Encoding(test_msg, G, 3, length)"
   ]
  },
  {
   "cell_type": "code",
   "execution_count": 7,
   "metadata": {},
   "outputs": [],
   "source": [
    "input_layer = Input(shape=(32,))\n",
    "line1_Dense1 = Dense(32*1, activation='elu')(input_layer)\n",
    "line1_Dense2 = Dense(32*1, activation='elu')(line1_Dense1)         \n",
    "line1_Dense3 = Dense(32*1, activation='elu')(line1_Dense2)\n",
    "line1_output_layer = Dense(32, activation='tanh')(line1_Dense3)\n",
    "\n",
    "line2_Dense1 = Dense(32*2, activation='elu')(input_layer)\n",
    "line2_Dense2 = Dense(32*4, activation='elu')(line2_Dense1)         \n",
    "line2_Dense3 = Dense(32*2, activation='elu')(line2_Dense2)\n",
    "line2_output_layer = Dense(32, activation='tanh')(line2_Dense3)\n",
    "\n",
    "line3_Dense1 = Dense(32*3, activation='elu')(input_layer)\n",
    "line3_Dense2 = Dense(32*9, activation='elu')(line3_Dense1)         \n",
    "line3_Dense3 = Dense(32*3, activation='elu')(line3_Dense2)\n",
    "line3_output_layer = Dense(32, activation='tanh')(line3_Dense3)\n",
    "\n",
    "line4_Dense1 = Dense(32*4, activation='elu')(input_layer)\n",
    "line4_Dense2 = Dense(32*16, activation='elu')(line4_Dense1)         \n",
    "line4_Dense3 = Dense(32*4, activation='elu')(line4_Dense2)\n",
    "line4_output_layer = Dense(32, activation='tanh')(line4_Dense3)\n",
    "\n",
    "line5_Dense1 = Dense(32*5, activation='elu')(input_layer)\n",
    "line5_Dense2 = Dense(32*25, activation='elu')(line5_Dense1)         \n",
    "line5_Dense3 = Dense(32*5, activation='elu')(line5_Dense2)\n",
    "line5_output_layer = Dense(32, activation='tanh')(line5_Dense3)\n",
    "\n",
    "add_layer = Add()([line1_output_layer, line2_output_layer, line3_output_layer, line4_output_layer, line5_output_layer])\n",
    "\n",
    "output_layer = Dense(32, activation='linear')(add_layer)\n",
    "\n",
    "model = Model(inputs = input_layer, outputs=output_layer)\n",
    "\n",
    "model.compile(optimizer='adam', loss='mean_squared_error', metrics=['accuracy'])"
   ]
  },
  {
   "cell_type": "code",
   "execution_count": 8,
   "metadata": {},
   "outputs": [
    {
     "name": "stdout",
     "output_type": "stream",
     "text": [
      "__________________________________________________________________________________________________\n",
      "Layer (type)                    Output Shape         Param #     Connected to                     \n",
      "==================================================================================================\n",
      "input_1 (InputLayer)            (None, 32)           0                                            \n",
      "__________________________________________________________________________________________________\n",
      "dense_1 (Dense)                 (None, 32)           1056        input_1[0][0]                    \n",
      "__________________________________________________________________________________________________\n",
      "dense_5 (Dense)                 (None, 64)           2112        input_1[0][0]                    \n",
      "__________________________________________________________________________________________________\n",
      "dense_9 (Dense)                 (None, 96)           3168        input_1[0][0]                    \n",
      "__________________________________________________________________________________________________\n",
      "dense_13 (Dense)                (None, 128)          4224        input_1[0][0]                    \n",
      "__________________________________________________________________________________________________\n",
      "dense_17 (Dense)                (None, 160)          5280        input_1[0][0]                    \n",
      "__________________________________________________________________________________________________\n",
      "dense_2 (Dense)                 (None, 32)           1056        dense_1[0][0]                    \n",
      "__________________________________________________________________________________________________\n",
      "dense_6 (Dense)                 (None, 128)          8320        dense_5[0][0]                    \n",
      "__________________________________________________________________________________________________\n",
      "dense_10 (Dense)                (None, 288)          27936       dense_9[0][0]                    \n",
      "__________________________________________________________________________________________________\n",
      "dense_14 (Dense)                (None, 512)          66048       dense_13[0][0]                   \n",
      "__________________________________________________________________________________________________\n",
      "dense_18 (Dense)                (None, 800)          128800      dense_17[0][0]                   \n",
      "__________________________________________________________________________________________________\n",
      "dense_3 (Dense)                 (None, 32)           1056        dense_2[0][0]                    \n",
      "__________________________________________________________________________________________________\n",
      "dense_7 (Dense)                 (None, 64)           8256        dense_6[0][0]                    \n",
      "__________________________________________________________________________________________________\n",
      "dense_11 (Dense)                (None, 96)           27744       dense_10[0][0]                   \n",
      "__________________________________________________________________________________________________\n",
      "dense_15 (Dense)                (None, 128)          65664       dense_14[0][0]                   \n",
      "__________________________________________________________________________________________________\n",
      "dense_19 (Dense)                (None, 160)          128160      dense_18[0][0]                   \n",
      "__________________________________________________________________________________________________\n",
      "dense_4 (Dense)                 (None, 32)           1056        dense_3[0][0]                    \n",
      "__________________________________________________________________________________________________\n",
      "dense_8 (Dense)                 (None, 32)           2080        dense_7[0][0]                    \n",
      "__________________________________________________________________________________________________\n",
      "dense_12 (Dense)                (None, 32)           3104        dense_11[0][0]                   \n",
      "__________________________________________________________________________________________________\n",
      "dense_16 (Dense)                (None, 32)           4128        dense_15[0][0]                   \n",
      "__________________________________________________________________________________________________\n",
      "dense_20 (Dense)                (None, 32)           5152        dense_19[0][0]                   \n",
      "__________________________________________________________________________________________________\n",
      "add_1 (Add)                     (None, 32)           0           dense_4[0][0]                    \n",
      "                                                                 dense_8[0][0]                    \n",
      "                                                                 dense_12[0][0]                   \n",
      "                                                                 dense_16[0][0]                   \n",
      "                                                                 dense_20[0][0]                   \n",
      "__________________________________________________________________________________________________\n",
      "dense_21 (Dense)                (None, 32)           1056        add_1[0][0]                      \n",
      "==================================================================================================\n",
      "Total params: 495,456\n",
      "Trainable params: 495,456\n",
      "Non-trainable params: 0\n",
      "__________________________________________________________________________________________________\n"
     ]
    }
   ],
   "source": [
    "model.summary()"
   ]
  },
  {
   "cell_type": "code",
   "execution_count": 9,
   "metadata": {},
   "outputs": [
    {
     "name": "stdout",
     "output_type": "stream",
     "text": [
      "Train on 10000000 samples, validate on 1000 samples\n",
      "Epoch 1/100\n",
      "10000000/10000000 [==============================] - 35s 4us/step - loss: 0.2147 - acc: 0.0655 - val_loss: 0.0826 - val_acc: 0.1450\n",
      "Epoch 2/100\n",
      "10000000/10000000 [==============================] - 30s 3us/step - loss: 0.0550 - acc: 0.0668 - val_loss: 0.0461 - val_acc: 0.0440\n",
      "Epoch 3/100\n",
      "10000000/10000000 [==============================] - 30s 3us/step - loss: 0.0399 - acc: 0.0686 - val_loss: 0.0390 - val_acc: 0.0520\n",
      "Epoch 4/100\n",
      "10000000/10000000 [==============================] - 29s 3us/step - loss: 0.0350 - acc: 0.0690 - val_loss: 0.0377 - val_acc: 0.0380\n",
      "Epoch 5/100\n",
      "10000000/10000000 [==============================] - 29s 3us/step - loss: 0.0323 - acc: 0.0689 - val_loss: 0.0332 - val_acc: 0.0320\n",
      "Epoch 6/100\n",
      "10000000/10000000 [==============================] - 28s 3us/step - loss: 0.0306 - acc: 0.0686 - val_loss: 0.0328 - val_acc: 0.1300\n",
      "Epoch 7/100\n",
      "10000000/10000000 [==============================] - 28s 3us/step - loss: 0.0293 - acc: 0.0671 - val_loss: 0.0322 - val_acc: 0.0850\n",
      "Epoch 8/100\n",
      "10000000/10000000 [==============================] - 28s 3us/step - loss: 0.0282 - acc: 0.0657 - val_loss: 0.0311 - val_acc: 0.0550\n",
      "Epoch 9/100\n",
      "10000000/10000000 [==============================] - 28s 3us/step - loss: 0.0274 - acc: 0.0623 - val_loss: 0.0302 - val_acc: 0.0970\n",
      "Epoch 10/100\n",
      "10000000/10000000 [==============================] - 28s 3us/step - loss: 0.0266 - acc: 0.0612 - val_loss: 0.0291 - val_acc: 0.0640\n",
      "Epoch 11/100\n",
      "10000000/10000000 [==============================] - 28s 3us/step - loss: 0.0260 - acc: 0.0608 - val_loss: 0.0285 - val_acc: 0.0930\n",
      "Epoch 12/100\n",
      "10000000/10000000 [==============================] - 28s 3us/step - loss: 0.0254 - acc: 0.0577 - val_loss: 0.0285 - val_acc: 0.0430\n",
      "Epoch 13/100\n",
      "10000000/10000000 [==============================] - 28s 3us/step - loss: 0.0248 - acc: 0.0586 - val_loss: 0.0282 - val_acc: 0.0500\n",
      "Epoch 14/100\n",
      "10000000/10000000 [==============================] - 28s 3us/step - loss: 0.0243 - acc: 0.0616 - val_loss: 0.0269 - val_acc: 0.0650\n",
      "Epoch 15/100\n",
      "10000000/10000000 [==============================] - 28s 3us/step - loss: 0.0239 - acc: 0.0616 - val_loss: 0.0251 - val_acc: 0.0840\n",
      "Epoch 16/100\n",
      "10000000/10000000 [==============================] - 25s 3us/step - loss: 0.0234 - acc: 0.0626 - val_loss: 0.0259 - val_acc: 0.0370\n",
      "Epoch 17/100\n",
      "10000000/10000000 [==============================] - 25s 3us/step - loss: 0.0230 - acc: 0.0633 - val_loss: 0.0251 - val_acc: 0.0640\n",
      "Epoch 18/100\n",
      "10000000/10000000 [==============================] - 25s 3us/step - loss: 0.0226 - acc: 0.0656 - val_loss: 0.0248 - val_acc: 0.1190\n",
      "Epoch 19/100\n",
      "10000000/10000000 [==============================] - 25s 3us/step - loss: 0.0223 - acc: 0.0671 - val_loss: 0.0243 - val_acc: 0.0450\n",
      "Epoch 20/100\n",
      "10000000/10000000 [==============================] - 25s 3us/step - loss: 0.0219 - acc: 0.0672 - val_loss: 0.0254 - val_acc: 0.0390\n",
      "Epoch 21/100\n",
      "10000000/10000000 [==============================] - 25s 3us/step - loss: 0.0215 - acc: 0.0675 - val_loss: 0.0229 - val_acc: 0.0380\n",
      "Epoch 22/100\n",
      "10000000/10000000 [==============================] - 25s 3us/step - loss: 0.0212 - acc: 0.0675 - val_loss: 0.0213 - val_acc: 0.1220\n",
      "Epoch 23/100\n",
      "10000000/10000000 [==============================] - 25s 3us/step - loss: 0.0209 - acc: 0.0733 - val_loss: 0.0225 - val_acc: 0.0450\n",
      "Epoch 24/100\n",
      "10000000/10000000 [==============================] - 25s 3us/step - loss: 0.0206 - acc: 0.0786 - val_loss: 0.0234 - val_acc: 0.0930\n",
      "Epoch 25/100\n",
      "10000000/10000000 [==============================] - 25s 3us/step - loss: 0.0203 - acc: 0.0791 - val_loss: 0.0209 - val_acc: 0.1460\n",
      "Epoch 26/100\n",
      "10000000/10000000 [==============================] - 25s 2us/step - loss: 0.0200 - acc: 0.0784 - val_loss: 0.0219 - val_acc: 0.0890\n",
      "Epoch 27/100\n",
      "10000000/10000000 [==============================] - 24s 2us/step - loss: 0.0198 - acc: 0.0803 - val_loss: 0.0209 - val_acc: 0.0860\n",
      "Epoch 28/100\n",
      "10000000/10000000 [==============================] - 24s 2us/step - loss: 0.0196 - acc: 0.0789 - val_loss: 0.0213 - val_acc: 0.1120\n",
      "Epoch 29/100\n",
      "10000000/10000000 [==============================] - 24s 2us/step - loss: 0.0194 - acc: 0.0805 - val_loss: 0.0197 - val_acc: 0.0570\n",
      "Epoch 30/100\n",
      "10000000/10000000 [==============================] - 24s 2us/step - loss: 0.0192 - acc: 0.0774 - val_loss: 0.0195 - val_acc: 0.0740\n",
      "Epoch 31/100\n",
      "10000000/10000000 [==============================] - 24s 2us/step - loss: 0.0190 - acc: 0.0758 - val_loss: 0.0211 - val_acc: 0.0610\n",
      "Epoch 32/100\n",
      "10000000/10000000 [==============================] - 24s 2us/step - loss: 0.0189 - acc: 0.0739 - val_loss: 0.0218 - val_acc: 0.0580\n",
      "Epoch 33/100\n",
      "10000000/10000000 [==============================] - 24s 2us/step - loss: 0.0187 - acc: 0.0730 - val_loss: 0.0205 - val_acc: 0.0780\n",
      "Epoch 34/100\n",
      "10000000/10000000 [==============================] - 24s 2us/step - loss: 0.0185 - acc: 0.0716 - val_loss: 0.0185 - val_acc: 0.0900\n",
      "Epoch 35/100\n",
      "10000000/10000000 [==============================] - 24s 2us/step - loss: 0.0184 - acc: 0.0724 - val_loss: 0.0208 - val_acc: 0.0410\n",
      "Epoch 36/100\n",
      "10000000/10000000 [==============================] - 24s 2us/step - loss: 0.0183 - acc: 0.0703 - val_loss: 0.0201 - val_acc: 0.1070\n",
      "Epoch 37/100\n",
      "10000000/10000000 [==============================] - 24s 2us/step - loss: 0.0182 - acc: 0.0691 - val_loss: 0.0220 - val_acc: 0.0670\n",
      "Epoch 38/100\n",
      "10000000/10000000 [==============================] - 24s 2us/step - loss: 0.0180 - acc: 0.0673 - val_loss: 0.0194 - val_acc: 0.0820\n",
      "Epoch 39/100\n",
      "10000000/10000000 [==============================] - 24s 2us/step - loss: 0.0179 - acc: 0.0665 - val_loss: 0.0193 - val_acc: 0.0850\n",
      "Epoch 40/100\n",
      "10000000/10000000 [==============================] - 24s 2us/step - loss: 0.0178 - acc: 0.0666 - val_loss: 0.0201 - val_acc: 0.0170\n",
      "Epoch 41/100\n",
      "10000000/10000000 [==============================] - 24s 2us/step - loss: 0.0176 - acc: 0.0657 - val_loss: 0.0197 - val_acc: 0.0580\n",
      "Epoch 42/100\n",
      "10000000/10000000 [==============================] - 24s 2us/step - loss: 0.0175 - acc: 0.0648 - val_loss: 0.0218 - val_acc: 0.0750\n",
      "Epoch 43/100\n",
      "10000000/10000000 [==============================] - 24s 2us/step - loss: 0.0174 - acc: 0.0637 - val_loss: 0.0193 - val_acc: 0.0510\n",
      "Epoch 44/100\n",
      "10000000/10000000 [==============================] - 26s 3us/step - loss: 0.0173 - acc: 0.0624 - val_loss: 0.0183 - val_acc: 0.0290\n",
      "Epoch 45/100\n",
      "10000000/10000000 [==============================] - 26s 3us/step - loss: 0.0172 - acc: 0.0625 - val_loss: 0.0175 - val_acc: 0.0830\n",
      "Epoch 46/100\n",
      "10000000/10000000 [==============================] - 26s 3us/step - loss: 0.0171 - acc: 0.0581 - val_loss: 0.0211 - val_acc: 0.0400\n",
      "Epoch 47/100\n",
      "10000000/10000000 [==============================] - 26s 3us/step - loss: 0.0170 - acc: 0.0551 - val_loss: 0.0193 - val_acc: 0.0440\n",
      "Epoch 48/100\n",
      "10000000/10000000 [==============================] - 26s 3us/step - loss: 0.0169 - acc: 0.0558 - val_loss: 0.0202 - val_acc: 0.0440\n",
      "Epoch 49/100\n",
      "10000000/10000000 [==============================] - 26s 3us/step - loss: 0.0168 - acc: 0.0553 - val_loss: 0.0182 - val_acc: 0.1020\n",
      "Epoch 50/100\n",
      "10000000/10000000 [==============================] - 26s 3us/step - loss: 0.0167 - acc: 0.0542 - val_loss: 0.0182 - val_acc: 0.0400\n",
      "Epoch 51/100\n",
      "10000000/10000000 [==============================] - 26s 3us/step - loss: 0.0166 - acc: 0.0526 - val_loss: 0.0197 - val_acc: 0.0830\n",
      "Epoch 52/100\n",
      "10000000/10000000 [==============================] - 28s 3us/step - loss: 0.0165 - acc: 0.0524 - val_loss: 0.0189 - val_acc: 0.0570\n",
      "Epoch 53/100\n",
      "10000000/10000000 [==============================] - 29s 3us/step - loss: 0.0164 - acc: 0.0513 - val_loss: 0.0203 - val_acc: 0.0380\n",
      "Epoch 54/100\n",
      "10000000/10000000 [==============================] - 29s 3us/step - loss: 0.0163 - acc: 0.0511 - val_loss: 0.0183 - val_acc: 0.0180\n",
      "Epoch 55/100\n",
      "10000000/10000000 [==============================] - 27s 3us/step - loss: 0.0162 - acc: 0.0521 - val_loss: 0.0206 - val_acc: 0.0360\n",
      "Epoch 56/100\n",
      "10000000/10000000 [==============================] - 26s 3us/step - loss: 0.0161 - acc: 0.0518 - val_loss: 0.0188 - val_acc: 0.0510\n",
      "Epoch 57/100\n",
      "10000000/10000000 [==============================] - 26s 3us/step - loss: 0.0159 - acc: 0.0507 - val_loss: 0.0214 - val_acc: 0.0690\n",
      "Epoch 58/100\n",
      "10000000/10000000 [==============================] - 26s 3us/step - loss: 0.0158 - acc: 0.0512 - val_loss: 0.0205 - val_acc: 0.0400\n",
      "Epoch 59/100\n",
      "10000000/10000000 [==============================] - 26s 3us/step - loss: 0.0158 - acc: 0.0517 - val_loss: 0.0173 - val_acc: 0.0600\n",
      "Epoch 60/100\n",
      "10000000/10000000 [==============================] - 26s 3us/step - loss: 0.0156 - acc: 0.0508 - val_loss: 0.0217 - val_acc: 0.0230\n",
      "Epoch 61/100\n",
      "10000000/10000000 [==============================] - 26s 3us/step - loss: 0.0155 - acc: 0.0523 - val_loss: 0.0205 - val_acc: 0.0720\n",
      "Epoch 62/100\n",
      "10000000/10000000 [==============================] - 26s 3us/step - loss: 0.0154 - acc: 0.0515 - val_loss: 0.0172 - val_acc: 0.0680\n",
      "Epoch 63/100\n",
      "10000000/10000000 [==============================] - 26s 3us/step - loss: 0.0153 - acc: 0.0524 - val_loss: 0.0187 - val_acc: 0.0400\n",
      "Epoch 64/100\n",
      "10000000/10000000 [==============================] - 24s 2us/step - loss: 0.0152 - acc: 0.0514 - val_loss: 0.0182 - val_acc: 0.0290\n",
      "Epoch 65/100\n",
      "10000000/10000000 [==============================] - 24s 2us/step - loss: 0.0151 - acc: 0.0523 - val_loss: 0.0191 - val_acc: 0.0490\n",
      "Epoch 66/100\n",
      "10000000/10000000 [==============================] - 24s 2us/step - loss: 0.0150 - acc: 0.0527 - val_loss: 0.0172 - val_acc: 0.0380\n",
      "Epoch 67/100\n",
      "10000000/10000000 [==============================] - 24s 2us/step - loss: 0.0149 - acc: 0.0527 - val_loss: 0.0195 - val_acc: 0.1010\n",
      "Epoch 68/100\n",
      "10000000/10000000 [==============================] - 24s 2us/step - loss: 0.0148 - acc: 0.0537 - val_loss: 0.0198 - val_acc: 0.0290\n",
      "Epoch 69/100\n",
      "10000000/10000000 [==============================] - 24s 2us/step - loss: 0.0147 - acc: 0.0553 - val_loss: 0.0202 - val_acc: 0.0640\n",
      "Epoch 70/100\n",
      "10000000/10000000 [==============================] - 24s 2us/step - loss: 0.0146 - acc: 0.0536 - val_loss: 0.0209 - val_acc: 0.0710\n",
      "Epoch 71/100\n",
      "10000000/10000000 [==============================] - 24s 2us/step - loss: 0.0145 - acc: 0.0563 - val_loss: 0.0198 - val_acc: 0.0450\n",
      "Epoch 72/100\n",
      "10000000/10000000 [==============================] - 24s 2us/step - loss: 0.0144 - acc: 0.0567 - val_loss: 0.0216 - val_acc: 0.0550\n",
      "Epoch 73/100\n",
      "10000000/10000000 [==============================] - 24s 2us/step - loss: 0.0143 - acc: 0.0572 - val_loss: 0.0232 - val_acc: 0.1050\n",
      "Epoch 74/100\n",
      "10000000/10000000 [==============================] - 24s 2us/step - loss: 0.0142 - acc: 0.0568 - val_loss: 0.0201 - val_acc: 0.0600\n",
      "Epoch 75/100\n",
      "10000000/10000000 [==============================] - 24s 2us/step - loss: 0.0141 - acc: 0.0568 - val_loss: 0.0203 - val_acc: 0.0570\n",
      "Epoch 76/100\n",
      "10000000/10000000 [==============================] - 24s 2us/step - loss: 0.0140 - acc: 0.0553 - val_loss: 0.0214 - val_acc: 0.0550\n",
      "Epoch 77/100\n",
      "10000000/10000000 [==============================] - 24s 2us/step - loss: 0.0139 - acc: 0.0545 - val_loss: 0.0210 - val_acc: 0.0800\n",
      "Epoch 78/100\n",
      "10000000/10000000 [==============================] - 24s 2us/step - loss: 0.0138 - acc: 0.0565 - val_loss: 0.0225 - val_acc: 0.0360\n",
      "Epoch 79/100\n",
      "10000000/10000000 [==============================] - 24s 2us/step - loss: 0.0136 - acc: 0.0572 - val_loss: 0.0205 - val_acc: 0.1260\n",
      "Epoch 80/100\n",
      "10000000/10000000 [==============================] - 24s 2us/step - loss: 0.0136 - acc: 0.0569 - val_loss: 0.0228 - val_acc: 0.0550\n",
      "Epoch 81/100\n",
      "10000000/10000000 [==============================] - 24s 2us/step - loss: 0.0135 - acc: 0.0567 - val_loss: 0.0214 - val_acc: 0.1140\n",
      "Epoch 82/100\n",
      "10000000/10000000 [==============================] - 24s 2us/step - loss: 0.0134 - acc: 0.0567 - val_loss: 0.0204 - val_acc: 0.0530\n",
      "Epoch 83/100\n",
      "10000000/10000000 [==============================] - 24s 2us/step - loss: 0.0133 - acc: 0.0569 - val_loss: 0.0217 - val_acc: 0.0740\n",
      "Epoch 84/100\n",
      "10000000/10000000 [==============================] - 24s 2us/step - loss: 0.0132 - acc: 0.0584 - val_loss: 0.0209 - val_acc: 0.0440\n",
      "Epoch 85/100\n",
      "10000000/10000000 [==============================] - 24s 2us/step - loss: 0.0131 - acc: 0.0567 - val_loss: 0.0224 - val_acc: 0.0880\n",
      "Epoch 86/100\n",
      "10000000/10000000 [==============================] - 24s 2us/step - loss: 0.0130 - acc: 0.0581 - val_loss: 0.0215 - val_acc: 0.0490\n",
      "Epoch 87/100\n",
      "10000000/10000000 [==============================] - 24s 2us/step - loss: 0.0129 - acc: 0.0563 - val_loss: 0.0239 - val_acc: 0.0510\n",
      "Epoch 88/100\n",
      "10000000/10000000 [==============================] - 24s 2us/step - loss: 0.0128 - acc: 0.0575 - val_loss: 0.0238 - val_acc: 0.0360\n",
      "Epoch 89/100\n",
      "10000000/10000000 [==============================] - 25s 3us/step - loss: 0.0127 - acc: 0.0585 - val_loss: 0.0200 - val_acc: 0.0300\n",
      "Epoch 90/100\n",
      "10000000/10000000 [==============================] - 26s 3us/step - loss: 0.0126 - acc: 0.0595 - val_loss: 0.0214 - val_acc: 0.0520\n",
      "Epoch 91/100\n",
      "10000000/10000000 [==============================] - 26s 3us/step - loss: 0.0126 - acc: 0.0575 - val_loss: 0.0229 - val_acc: 0.0990\n",
      "Epoch 92/100\n",
      "10000000/10000000 [==============================] - 25s 3us/step - loss: 0.0125 - acc: 0.0586 - val_loss: 0.0222 - val_acc: 0.0380\n",
      "Epoch 93/100\n",
      "10000000/10000000 [==============================] - 25s 3us/step - loss: 0.0124 - acc: 0.0588 - val_loss: 0.0226 - val_acc: 0.0500\n",
      "Epoch 94/100\n",
      "10000000/10000000 [==============================] - 25s 3us/step - loss: 0.0123 - acc: 0.0575 - val_loss: 0.0238 - val_acc: 0.0520\n",
      "Epoch 95/100\n",
      "10000000/10000000 [==============================] - 25s 3us/step - loss: 0.0123 - acc: 0.0574 - val_loss: 0.0227 - val_acc: 0.1300\n",
      "Epoch 96/100\n",
      "10000000/10000000 [==============================] - 26s 3us/step - loss: 0.0122 - acc: 0.0579 - val_loss: 0.0231 - val_acc: 0.0470\n",
      "Epoch 97/100\n",
      "10000000/10000000 [==============================] - 25s 3us/step - loss: 0.0121 - acc: 0.0576 - val_loss: 0.0228 - val_acc: 0.0280\n",
      "Epoch 98/100\n",
      "10000000/10000000 [==============================] - 25s 3us/step - loss: 0.0120 - acc: 0.0576 - val_loss: 0.0235 - val_acc: 0.0480\n",
      "Epoch 99/100\n",
      "10000000/10000000 [==============================] - 25s 3us/step - loss: 0.0120 - acc: 0.0573 - val_loss: 0.0214 - val_acc: 0.0820\n",
      "Epoch 100/100\n",
      "10000000/10000000 [==============================] - 25s 3us/step - loss: 0.0119 - acc: 0.0572 - val_loss: 0.0242 - val_acc: 0.1250\n"
     ]
    },
    {
     "data": {
      "text/plain": [
       "<keras.callbacks.History at 0x2862bd2f5c0>"
      ]
     },
     "execution_count": 9,
     "metadata": {},
     "output_type": "execute_result"
    }
   ],
   "source": [
    "model.fit(received_code, send_code, \n",
    "          epochs=100,\n",
    "          batch_size=10000,\n",
    "          shuffle=True,\n",
    "          validation_data=(test_received_code, test_send_code))"
   ]
  },
  {
   "cell_type": "code",
   "execution_count": 10,
   "metadata": {},
   "outputs": [],
   "source": [
    "test_msg = np.random.randint(2, size=(10**3,m+r))\n",
    "test_send_code, test_received_code = RM.Encoding(test_msg, G, 3, length)\n",
    "\n",
    "denoise_code = model.predict(test_received_code)"
   ]
  },
  {
   "cell_type": "code",
   "execution_count": 11,
   "metadata": {},
   "outputs": [],
   "source": [
    "denoise_code = np.where(denoise_code > 0, 0, 1)\n",
    "test_send_code = np.where(test_send_code > 0, 0, 1)\n",
    "test_received_code = np.where(test_received_code > 0, 0, 1)"
   ]
  },
  {
   "cell_type": "code",
   "execution_count": 12,
   "metadata": {},
   "outputs": [
    {
     "name": "stdout",
     "output_type": "stream",
     "text": [
      "[[1 0 1 ... 1 0 1]\n",
      " [0 0 1 ... 1 0 0]\n",
      " [1 0 0 ... 0 0 1]\n",
      " ...\n",
      " [0 1 1 ... 1 1 0]\n",
      " [1 0 1 ... 0 1 0]\n",
      " [0 1 1 ... 1 1 0]]\n",
      "[[1 0 1 ... 1 0 1]\n",
      " [0 0 1 ... 1 0 0]\n",
      " [1 0 0 ... 0 0 1]\n",
      " ...\n",
      " [0 1 1 ... 1 1 0]\n",
      " [1 0 1 ... 0 1 0]\n",
      " [0 1 1 ... 1 1 0]]\n"
     ]
    }
   ],
   "source": [
    "print(denoise_code)\n",
    "print(test_send_code)"
   ]
  },
  {
   "cell_type": "code",
   "execution_count": 13,
   "metadata": {},
   "outputs": [],
   "source": [
    "a = ((test_send_code + denoise_code) % 2).sum()\n",
    "b = ((test_send_code + test_received_code) % 2).sum()"
   ]
  },
  {
   "cell_type": "code",
   "execution_count": 14,
   "metadata": {},
   "outputs": [
    {
     "name": "stdout",
     "output_type": "stream",
     "text": [
      "0.0068125\n",
      "0.19390625\n"
     ]
    }
   ],
   "source": [
    "print(a/(test_send_code.shape[0]*test_send_code.shape[1]))\n",
    "print(b/(test_send_code.shape[0]*test_send_code.shape[1]))"
   ]
  },
  {
   "cell_type": "code",
   "execution_count": 15,
   "metadata": {},
   "outputs": [],
   "source": [
    "model.save('Model/model_(1,5)_p5.h5')"
   ]
  },
  {
   "cell_type": "code",
   "execution_count": null,
   "metadata": {},
   "outputs": [],
   "source": []
  }
 ],
 "metadata": {
  "kernelspec": {
   "display_name": "Python 3",
   "language": "python",
   "name": "python3"
  },
  "language_info": {
   "codemirror_mode": {
    "name": "ipython",
    "version": 3
   },
   "file_extension": ".py",
   "mimetype": "text/x-python",
   "name": "python",
   "nbconvert_exporter": "python",
   "pygments_lexer": "ipython3",
   "version": "3.6.4"
  }
 },
 "nbformat": 4,
 "nbformat_minor": 2
}
