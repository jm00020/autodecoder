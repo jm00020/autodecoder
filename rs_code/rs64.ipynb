{
 "cells": [
  {
   "cell_type": "code",
   "execution_count": 1,
   "metadata": {},
   "outputs": [],
   "source": [
    "import numpy as np\n",
    "from Source import RS64_Encoder\n",
    "from Source import RS64_Decoder\n",
    "from Source.GF64 import GFE"
   ]
  },
  {
   "cell_type": "code",
   "execution_count": 2,
   "metadata": {},
   "outputs": [],
   "source": [
    "m = 6\n",
    "t_RS = 8\n",
    "b_RS = 1\n",
    "order_alpha=(2**m)-1\n",
    "length_parity=2*t_RS\n",
    "n_RS=order_alpha\n",
    "k_RS=n_RS - length_parity\n",
    "\n",
    "Z_RS=[]\n",
    "for i in range(2*t_RS):    \n",
    "    Z_RS.append((b_RS+i)%order_alpha)\n",
    "    \n",
    "g_x = RS64_Encoder.Generation_Polynomial(Z_RS, order_alpha)\n",
    "\n",
    "codeword_size = 10"
   ]
  },
  {
   "cell_type": "code",
   "execution_count": 3,
   "metadata": {},
   "outputs": [],
   "source": [
    "total_SER = np.zeros(11)\n",
    "\n",
    "file_buffer = 'Result/rscode.csv'\n",
    "model_f = open(file_buffer, 'w')"
   ]
  },
  {
   "cell_type": "code",
   "execution_count": 4,
   "metadata": {},
   "outputs": [
    {
     "name": "stdout",
     "output_type": "stream",
     "text": [
      "snr 0\n",
      "snr 1\n",
      "snr 2\n",
      "snr 3\n",
      "snr 4\n",
      "snr 5\n",
      "snr 6\n",
      "snr 7\n",
      "snr 8\n",
      "snr 9\n",
      "snr 10\n"
     ]
    }
   ],
   "source": [
    "for i in range(0, 11):\n",
    "    SER = 0\n",
    "    print('snr', i)\n",
    "    for j in range(10):\n",
    "        msg_RS, codeword_RS = RS64_Encoder.Encoder(order_alpha, k_RS, codeword_size, g_x)\n",
    "        vector_codeword_RS = RS64_Encoder.trans_vector(codeword_RS, codeword_size, n_RS, m)\n",
    "        vector_codeword_RS = np.where(vector_codeword_RS > 0, -1, 1)\n",
    "        \n",
    "        Eb_No = i\n",
    "        recived_vector_RS = RS64_Decoder.Receive_Bit(Eb_No, vector_codeword_RS, k_RS, n_RS)\n",
    "    \n",
    "        recived_code = RS64_Decoder.Trans_symbol(recived_vector_RS.flatten(), m)\n",
    "        \n",
    "        syndrome_RS, syndrome_check = RS64_Decoder.Syndrome_Check(t_RS, recived_code, order_alpha, Z_RS)\n",
    "        estimated_code = RS64_Decoder.Decoder(syndrome_RS, syndrome_check, recived_code, t_RS, order_alpha, m)\n",
    "        \n",
    "        estimated_code = np.reshape(estimated_code,(codeword_size, n_RS))\n",
    "        \n",
    "        SER = RS64_Decoder.SER_Calculation(estimated_code, msg_RS, length_parity)\n",
    "        \n",
    "    total_SER[i] = SER / (10)\n",
    "    \n",
    "    write_buffer = 'Eb_No, %f, ' %(i)\n",
    "    model_f.write(write_buffer)\n",
    "    \n",
    "    write_buffer = 'SER, %.10f\\n' % (total_SER[i])\n",
    "    model_f.write(write_buffer)\n",
    "    \n",
    "model_f.close()"
   ]
  },
  {
   "cell_type": "code",
   "execution_count": null,
   "metadata": {},
   "outputs": [],
   "source": []
  }
 ],
 "metadata": {
  "kernelspec": {
   "display_name": "Python 3",
   "language": "python",
   "name": "python3"
  },
  "language_info": {
   "codemirror_mode": {
    "name": "ipython",
    "version": 3
   },
   "file_extension": ".py",
   "mimetype": "text/x-python",
   "name": "python",
   "nbconvert_exporter": "python",
   "pygments_lexer": "ipython3",
   "version": "3.6.10"
  }
 },
 "nbformat": 4,
 "nbformat_minor": 2
}
