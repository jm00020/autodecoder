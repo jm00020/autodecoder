{
 "cells": [
  {
   "cell_type": "code",
   "execution_count": 1,
   "metadata": {},
   "outputs": [
    {
     "name": "stderr",
     "output_type": "stream",
     "text": [
      "Using TensorFlow backend.\n"
     ]
    }
   ],
   "source": [
    "import numpy as np\n",
    "from Source import RS64_Encoder\n",
    "from Source import RS64_Decoder\n",
    "from Source.GF64 import GFE\n",
    "\n",
    "import keras\n",
    "from keras.layers import Dense, Input,Conv1D, MaxPooling1D, Flatten, Embedding, Reshape, ReLU, Add, Concatenate, Average\n",
    "from keras.models import Sequential, Model\n",
    "from keras.models import load_model"
   ]
  },
  {
   "cell_type": "code",
   "execution_count": 2,
   "metadata": {},
   "outputs": [],
   "source": [
    "m = 6\n",
    "t_RS = 8\n",
    "b_RS = 1\n",
    "order_alpha=(2**m)-1\n",
    "length_parity=2*t_RS\n",
    "n_RS=order_alpha\n",
    "k_RS=n_RS - length_parity\n",
    "\n",
    "Z_RS=[]\n",
    "for i in range(2*t_RS):    \n",
    "    Z_RS.append((b_RS+i)%order_alpha)\n",
    "    \n",
    "g_x = RS64_Encoder.Generation_Polynomial(Z_RS, order_alpha)\n",
    "\n",
    "codeword_size = 1"
   ]
  },
  {
   "cell_type": "code",
   "execution_count": 3,
   "metadata": {},
   "outputs": [
    {
     "name": "stdout",
     "output_type": "stream",
     "text": [
      "WARNING:tensorflow:From D:\\anaconda\\lib\\site-packages\\tensorflow_core\\python\\ops\\resource_variable_ops.py:1630: calling BaseResourceVariable.__init__ (from tensorflow.python.ops.resource_variable_ops) with constraint is deprecated and will be removed in a future version.\n",
      "Instructions for updating:\n",
      "If using Keras pass *_constraint arguments to layers.\n",
      "WARNING:tensorflow:From D:\\anaconda\\lib\\site-packages\\tensorflow_core\\python\\ops\\nn_impl.py:183: where (from tensorflow.python.ops.array_ops) is deprecated and will be removed in a future version.\n",
      "Instructions for updating:\n",
      "Use tf.where in 2.0, which has the same broadcast rule as np.where\n",
      "WARNING:tensorflow:From D:\\anaconda\\lib\\site-packages\\keras\\backend\\tensorflow_backend.py:422: The name tf.global_variables is deprecated. Please use tf.compat.v1.global_variables instead.\n",
      "\n"
     ]
    }
   ],
   "source": [
    "model = load_model('model/model_p6_sigmoid.h5')"
   ]
  },
  {
   "cell_type": "code",
   "execution_count": 4,
   "metadata": {},
   "outputs": [],
   "source": [
    "total_model_SER = np.zeros(11)\n",
    "total_ae_model_SER = np.zeros(11)\n",
    "file_buffer = 'Result/model.csv'\n",
    "model_f = open(file_buffer, 'w')"
   ]
  },
  {
   "cell_type": "code",
   "execution_count": 5,
   "metadata": {},
   "outputs": [],
   "source": [
    "max_error_count = 500"
   ]
  },
  {
   "cell_type": "code",
   "execution_count": 7,
   "metadata": {},
   "outputs": [
    {
     "name": "stdout",
     "output_type": "stream",
     "text": [
      "snr 0\n"
     ]
    },
    {
     "ename": "IndexError",
     "evalue": "too many indices for array",
     "output_type": "error",
     "traceback": [
      "\u001b[1;31m---------------------------------------------------------------------------\u001b[0m",
      "\u001b[1;31mIndexError\u001b[0m                                Traceback (most recent call last)",
      "\u001b[1;32m<ipython-input-7-606c8780ca94>\u001b[0m in \u001b[0;36m<module>\u001b[1;34m\u001b[0m\n\u001b[0;32m     29\u001b[0m                                                     t_RS, order_alpha, m)\n\u001b[0;32m     30\u001b[0m \u001b[1;33m\u001b[0m\u001b[0m\n\u001b[1;32m---> 31\u001b[1;33m         \u001b[0merror_count\u001b[0m\u001b[1;33m,\u001b[0m \u001b[0mmodel_SER\u001b[0m \u001b[1;33m=\u001b[0m \u001b[0mRS64_Decoder\u001b[0m\u001b[1;33m.\u001b[0m\u001b[0mSER_Calculation\u001b[0m\u001b[1;33m(\u001b[0m\u001b[0mnp\u001b[0m\u001b[1;33m.\u001b[0m\u001b[0marray\u001b[0m\u001b[1;33m(\u001b[0m\u001b[0mmodel_estimated_code\u001b[0m\u001b[1;33m)\u001b[0m\u001b[1;33m,\u001b[0m \u001b[0mmsg_RS\u001b[0m\u001b[1;33m,\u001b[0m\u001b[0mlength_parity\u001b[0m\u001b[1;33m)\u001b[0m\u001b[1;33m\u001b[0m\u001b[1;33m\u001b[0m\u001b[0m\n\u001b[0m\u001b[0;32m     32\u001b[0m         \u001b[0mae_error_count\u001b[0m\u001b[1;33m,\u001b[0m \u001b[0mae_model_SER\u001b[0m \u001b[1;33m=\u001b[0m \u001b[0mRS64_Decoder\u001b[0m\u001b[1;33m.\u001b[0m\u001b[0mSER_Calculation\u001b[0m\u001b[1;33m(\u001b[0m\u001b[0mnp\u001b[0m\u001b[1;33m.\u001b[0m\u001b[0marray\u001b[0m\u001b[1;33m(\u001b[0m\u001b[0mmodel_ae_code\u001b[0m\u001b[1;33m)\u001b[0m\u001b[1;33m,\u001b[0m \u001b[0mmsg_RS\u001b[0m\u001b[1;33m,\u001b[0m\u001b[0mlength_parity\u001b[0m\u001b[1;33m)\u001b[0m\u001b[1;33m\u001b[0m\u001b[1;33m\u001b[0m\u001b[0m\n\u001b[0;32m     33\u001b[0m         \u001b[0mtotal_error_count\u001b[0m \u001b[1;33m+=\u001b[0m \u001b[0merror_count\u001b[0m\u001b[1;33m\u001b[0m\u001b[1;33m\u001b[0m\u001b[0m\n",
      "\u001b[1;32m~\\Documents\\jupyter\\rs_code\\Source\\RS64_Decoder.py\u001b[0m in \u001b[0;36mSER_Calculation\u001b[1;34m(Estimated_code, msg_RS, length_parity)\u001b[0m\n\u001b[0;32m     48\u001b[0m \u001b[1;33m\u001b[0m\u001b[0m\n\u001b[0;32m     49\u001b[0m \u001b[1;32mdef\u001b[0m \u001b[0mSER_Calculation\u001b[0m\u001b[1;33m(\u001b[0m\u001b[0mEstimated_code\u001b[0m\u001b[1;33m,\u001b[0m \u001b[0mmsg_RS\u001b[0m\u001b[1;33m,\u001b[0m \u001b[0mlength_parity\u001b[0m\u001b[1;33m)\u001b[0m\u001b[1;33m:\u001b[0m\u001b[1;33m\u001b[0m\u001b[1;33m\u001b[0m\u001b[0m\n\u001b[1;32m---> 50\u001b[1;33m     \u001b[0mEstimated_msg\u001b[0m \u001b[1;33m=\u001b[0m \u001b[0mEstimated_code\u001b[0m\u001b[1;33m[\u001b[0m\u001b[1;33m:\u001b[0m\u001b[1;33m,\u001b[0m\u001b[0mlength_parity\u001b[0m\u001b[1;33m:\u001b[0m\u001b[1;33m]\u001b[0m\u001b[1;33m\u001b[0m\u001b[1;33m\u001b[0m\u001b[0m\n\u001b[0m\u001b[0;32m     51\u001b[0m     \u001b[0mindex\u001b[0m \u001b[1;33m=\u001b[0m \u001b[0mnp\u001b[0m\u001b[1;33m.\u001b[0m\u001b[0mwhere\u001b[0m\u001b[1;33m(\u001b[0m\u001b[1;33m(\u001b[0m\u001b[0mEstimated_msg\u001b[0m \u001b[1;33m-\u001b[0m \u001b[0mmsg_RS\u001b[0m\u001b[1;33m)\u001b[0m \u001b[1;33m!=\u001b[0m \u001b[1;36m0\u001b[0m\u001b[1;33m)\u001b[0m\u001b[1;33m\u001b[0m\u001b[1;33m\u001b[0m\u001b[0m\n\u001b[0;32m     52\u001b[0m \u001b[1;33m\u001b[0m\u001b[0m\n",
      "\u001b[1;31mIndexError\u001b[0m: too many indices for array"
     ]
    }
   ],
   "source": [
    "for i in range(0, 11):\n",
    "    model_SER = 0\n",
    "    print('snr', i)\n",
    "    total_error_count = 0\n",
    "    code_count = 0\n",
    "    add_model_SER=0\n",
    "    \n",
    "    total_ae_error_count = 0\n",
    "    ae_code_count = 0\n",
    "    add_ae_model_SER=0\n",
    "    while(1):\n",
    "        msg_RS, codeword_RS = RS64_Encoder.Encoder(order_alpha, k_RS, codeword_size, g_x)\n",
    "        vector_codeword_RS = RS64_Encoder.trans_vector(codeword_RS, codeword_size, n_RS, m)\n",
    "        vector_codeword_RS = np.where(vector_codeword_RS > 0, -1, 1)\n",
    "        \n",
    "        Eb_No = i\n",
    "        recived_vector_RS = RS64_Decoder.Receive_Bit(Eb_No, vector_codeword_RS, k_RS, n_RS)\n",
    "        \n",
    "        model_ae_code = model.predict(recived_vector_RS.reshape(-1,6), verbose=0)\n",
    "        model_RS = RS64_Decoder.Trans_symbol(model_ae_code.flatten(), m)\n",
    "       \n",
    "\n",
    "        syndrome_RS, syndrome_check = RS64_Decoder.Syndrome_Check(t_RS, \n",
    "                                                                  model_RS,\n",
    "                                                                  order_alpha, Z_RS)\n",
    "        \n",
    "        model_estimated_code = RS64_Decoder.Decoder(syndrome_RS, syndrome_check, \n",
    "                                                    model_RS, \n",
    "                                                    t_RS, order_alpha, m)\n",
    "        \n",
    "        error_count, model_SER = RS64_Decoder.SER_Calculation(np.array(model_estimated_code), msg_RS,length_parity)\n",
    "        ae_error_count, ae_model_SER = RS64_Decoder.SER_Calculation(np.array(model_ae_code), msg_RS,length_parity)\n",
    "        total_error_count += error_count\n",
    "        add_model_SER +=model_SER\n",
    "        \n",
    "        total_ae_error_count += ae_error_count\n",
    "        add_ae_model_SER +=ae_model_SER\n",
    "        \n",
    "        code_count += 1\n",
    "        \n",
    "        if total_error_count >= max_error_count:\n",
    "            break\n",
    "        if code_count == 10**5:\n",
    "            break\n",
    "        \n",
    "    total_model_SER[i] = add_model_SER / code_count\n",
    "    total_ae_model_SER[i] = add_ae_model_SER/code_count\n",
    "    print(code_count,total_model_SER[i])\n",
    "    print(code_count,total_ae_model_SER[i])\n",
    "    write_buffer = 'Eb_No, %f, ' %(i)\n",
    "    model_f.write(write_buffer)\n",
    "    \n",
    "    write_buffer = 'SER, %.10f\\n' % (total_model_SER[i])\n",
    "    model_f.write(write_buffer)\n",
    "    \n",
    "model_f.close()"
   ]
  },
  {
   "cell_type": "code",
   "execution_count": null,
   "metadata": {},
   "outputs": [],
   "source": [
    "model_f.close()"
   ]
  },
  {
   "cell_type": "code",
   "execution_count": null,
   "metadata": {},
   "outputs": [],
   "source": [
    "from scipy import special\n",
    "bpsk_BER = np.zeros(11)\n",
    "for i in range(0,11):\n",
    "    bpsk_BER[i] = 0.5 * special.erfc((np.sqrt(10**(i/10))))"
   ]
  },
  {
   "cell_type": "code",
   "execution_count": null,
   "metadata": {},
   "outputs": [],
   "source": [
    "import matplotlib.pyplot as plt\n",
    "x = np.array(range(0, 11))\n",
    "\n",
    "plt.semilogy(x,total_model_SER, label='model', color='b')\n",
    "\n",
    "\n",
    "plt.semilogy(x,bpsk_BER, label='bpsk', color='k')\n",
    "\n",
    "\n",
    "plt.xlabel('Eb/No')\n",
    "plt.ylabel('SER')\n",
    "\n",
    "plt.legend()\n",
    "plt.grid(True)\n",
    "plt.show()"
   ]
  },
  {
   "cell_type": "code",
   "execution_count": null,
   "metadata": {},
   "outputs": [],
   "source": []
  }
 ],
 "metadata": {
  "kernelspec": {
   "display_name": "Python 3",
   "language": "python",
   "name": "python3"
  },
  "language_info": {
   "codemirror_mode": {
    "name": "ipython",
    "version": 3
   },
   "file_extension": ".py",
   "mimetype": "text/x-python",
   "name": "python",
   "nbconvert_exporter": "python",
   "pygments_lexer": "ipython3",
   "version": "3.6.10"
  }
 },
 "nbformat": 4,
 "nbformat_minor": 2
}
