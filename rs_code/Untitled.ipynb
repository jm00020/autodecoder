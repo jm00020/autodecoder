{
 "cells": [
  {
   "cell_type": "code",
   "execution_count": 12,
   "metadata": {},
   "outputs": [],
   "source": [
    "import numpy as np\n",
    "from Source import RS64_Encoder\n",
    "from Source import RS64_Decoder\n",
    "from Source.GF64 import GFE"
   ]
  },
  {
   "cell_type": "code",
   "execution_count": 13,
   "metadata": {},
   "outputs": [],
   "source": [
    "m = 6\n",
    "t_RS = 8\n",
    "b_RS = 1\n",
    "order_alpha=(2**m)-1\n",
    "length_parity=2*t_RS\n",
    "n_RS=order_alpha\n",
    "k_RS=n_RS - length_parity\n",
    "\n",
    "Z_RS=[]\n",
    "for i in range(2*t_RS):    \n",
    "    Z_RS.append((b_RS+i)%order_alpha)\n",
    "    \n",
    "g_x = RS64_Encoder.Generation_Polynomial(Z_RS, order_alpha)\n",
    "\n",
    "codeword_size = 10"
   ]
  },
  {
   "cell_type": "code",
   "execution_count": 14,
   "metadata": {},
   "outputs": [],
   "source": [
    "msg_RS, codeword_RS = RS64_Encoder.Encoder(order_alpha, k_RS, codeword_size, g_x)"
   ]
  },
  {
   "cell_type": "code",
   "execution_count": 15,
   "metadata": {},
   "outputs": [],
   "source": [
    "vector_codeword_RS = RS64_Encoder.trans_vector(codeword_RS, codeword_size, n_RS, m)\n",
    "vector_codeword_RS = np.where(vector_codeword_RS > 0, -1, 1)"
   ]
  },
  {
   "cell_type": "code",
   "execution_count": 16,
   "metadata": {},
   "outputs": [],
   "source": [
    "Eb_No = 3\n",
    "recived_vector_RS = RS64_Decoder.Receive_Bit(Eb_No, vector_codeword_RS, k_RS, n_RS)"
   ]
  },
  {
   "cell_type": "code",
   "execution_count": 17,
   "metadata": {},
   "outputs": [],
   "source": [
    "r_RS = RS64_Decoder.Trans_symbol(vector_codeword_RS.flatten(), m)"
   ]
  },
  {
   "cell_type": "code",
   "execution_count": 18,
   "metadata": {},
   "outputs": [],
   "source": [
    "syndrome_RS, syndrome_check = RS64_Decoder.Syndrome_Check(t_RS, r_RS, order_alpha, Z_RS)"
   ]
  },
  {
   "cell_type": "code",
   "execution_count": 19,
   "metadata": {},
   "outputs": [],
   "source": [
    "model_estimated_code = RS64_Decoder.Decoder(syndrome_RS, syndrome_check, r_RS, t_RS, order_alpha, m)"
   ]
  },
  {
   "cell_type": "code",
   "execution_count": 20,
   "metadata": {},
   "outputs": [],
   "source": [
    "model_estimated_code = np.reshape(model_estimated_code,(codeword_size, n_RS))"
   ]
  },
  {
   "cell_type": "code",
   "execution_count": 21,
   "metadata": {},
   "outputs": [
    {
     "name": "stdout",
     "output_type": "stream",
     "text": [
      "0.0\n"
     ]
    }
   ],
   "source": [
    "SER = RS64_Decoder.SER_Calculation(model_estimated_code, msg_RS, length_parity)\n",
    "print(SER)"
   ]
  },
  {
   "cell_type": "code",
   "execution_count": null,
   "metadata": {},
   "outputs": [],
   "source": []
  }
 ],
 "metadata": {
  "kernelspec": {
   "display_name": "Python 3",
   "language": "python",
   "name": "python3"
  },
  "language_info": {
   "codemirror_mode": {
    "name": "ipython",
    "version": 3
   },
   "file_extension": ".py",
   "mimetype": "text/x-python",
   "name": "python",
   "nbconvert_exporter": "python",
   "pygments_lexer": "ipython3",
   "version": "3.6.4"
  }
 },
 "nbformat": 4,
 "nbformat_minor": 2
}
