{
 "cells": [
  {
   "cell_type": "code",
   "execution_count": 2,
   "metadata": {},
   "outputs": [],
   "source": [
    "import numpy as np\n",
    "from GF64 import GFE"
   ]
  },
  {
   "cell_type": "code",
   "execution_count": 3,
   "metadata": {},
   "outputs": [],
   "source": [
    "def GF_Index(cc):\n",
    "    for GFindex, GFvector in GFE.items():\n",
    "        if GFvector == list(cc): \n",
    "            return GFindex\n",
    "    print(\"Invalid vector of m bits\")"
   ]
  },
  {
   "cell_type": "code",
   "execution_count": 4,
   "metadata": {},
   "outputs": [],
   "source": [
    "def GF_Add(a,b): # alpha^c = alpha^a + alpha^b\n",
    "    aa=GFE.get(a)\n",
    "    bb=GFE.get(b)\n",
    "    cc=np.add(aa,bb)%2\n",
    "    return GF_Index(cc)"
   ]
  },
  {
   "cell_type": "code",
   "execution_count": 5,
   "metadata": {},
   "outputs": [],
   "source": [
    "def GF_MUL(a,b, order_alpha): \n",
    "    if a >= 0 and b>=0: # if a and b are greater than -1, alpha^a * alpha^b =alpha^(c), c=a+b (mod n)\n",
    "        c=(a+b)%order_alpha\n",
    "        return c\n",
    "    else:\n",
    "        return -1  # if a and/or b is minus, the result is zero vector that is, alpha^-1"
   ]
  },
  {
   "cell_type": "code",
   "execution_count": 6,
   "metadata": {},
   "outputs": [],
   "source": [
    "def GF_MUL_Inv(a, order_alpha): # alpha^a * alpha^b = alpha^0\n",
    "    b=-1*a%order_alpha    \n",
    "    return b"
   ]
  },
  {
   "cell_type": "code",
   "execution_count": 7,
   "metadata": {},
   "outputs": [],
   "source": [
    "def POL_MUL(a_coeff,b_coeff, order_alpha):\n",
    "    conv_window=len(b_coeff)\n",
    "    sr_size=conv_window-1\n",
    "    num_computation=len(a_coeff)+sr_size\n",
    "    buff=-1*np.ones(conv_window) ## setting zero vectors\n",
    "    c_coeff=[]\n",
    "    input_coeff=list(a_coeff)\n",
    "    for i in range(sr_size): input_coeff.append(-1)\n",
    "    \n",
    "#   print('input coeff:',input_coeff)\n",
    "    \n",
    "    for i in range(num_computation):\n",
    "        for j in range(conv_window-2,-1,-1): buff[j+1]=buff[j]\n",
    "        buff[0]=input_coeff[i]\n",
    "#       print('Buffer:',buff)\n",
    "        \n",
    "        branch_mul=[]\n",
    "        for j in range(conv_window):\n",
    "            dum1=GF_MUL(b_coeff[j], buff[j], order_alpha)\n",
    "            branch_mul.append(dum1)\n",
    "#       print('Branch Multip:',branch_mul)\n",
    "        \n",
    "        branch_add=-1\n",
    "        for j in range(len(branch_mul)):\n",
    "            branch_add=GF_Add(branch_add, branch_mul[j])\n",
    "        \n",
    "#        print('Branch add:',branch_add)\n",
    "        c_coeff.append(branch_add)\n",
    "        \n",
    "    return c_coeff"
   ]
  },
  {
   "cell_type": "code",
   "execution_count": 8,
   "metadata": {},
   "outputs": [],
   "source": [
    "def Parity_RS(message_RS,generator_RS, order_alpha):\n",
    "    sr_size=len(generator_RS)-1\n",
    "    sr_content=-1*np.ones(sr_size)\n",
    "    for i in range(len(message_RS)-1,-1,-1):\n",
    "        feedback_add=GF_Add(sr_content[-1],message_RS[i])\n",
    "        feedback=GF_MUL(feedback_add, generator_RS[-1], order_alpha)\n",
    "#        print('feedback:',feedback)\n",
    "        branch_output=[]\n",
    "        for j in range(sr_size):\n",
    "            dum2=GF_MUL(feedback, generator_RS[j], order_alpha)\n",
    "            branch_output.append(dum2)\n",
    "#        print('branch output:',branch_output) \n",
    "        for j in range(sr_size-1,0,-1):\n",
    "            sr_content[j]=GF_Add(sr_content[j-1], branch_output[j])\n",
    "        sr_content[0]=branch_output[0]\n",
    "#        print('sr:',sr_content)\n",
    "    return sr_content"
   ]
  },
  {
   "cell_type": "code",
   "execution_count": 9,
   "metadata": {},
   "outputs": [],
   "source": [
    "def POL_DIV(Dividend,Divisor):\n",
    "    Dividend_coeff=[]\n",
    "    for i in range(len(Dividend)): Dividend_coeff.append(Dividend[i])\n",
    "    Divisor_coeff=[]\n",
    "    for i in range(len(Divisor)): Divisor_coeff.append(Divisor[i])\n",
    "    Divisor_coeff[-1]=(-1*Divisor_coeff[-1])%(2**m-1)\n",
    "#    print(\"Div coeff:\",Divisor_coeff)\n",
    "    Quotient_coeff=[]\n",
    "    Remainder_coeff=[]\n",
    "    sr_size=len(Divisor_coeff)-1\n",
    "    sr_content=-1*np.ones(sr_size)\n",
    "    for i in range(len(Dividend)-1,-1,-1):\n",
    "        feedback=GF_MUL(sr_content[-1],Divisor_coeff[-1], order_alpha)\n",
    "#        print('feedback:',feedback)\n",
    "        Quotient_coeff.append(feedback)\n",
    "        \n",
    "        branch_output=[]\n",
    "        for j in range(sr_size):\n",
    "            dum2=GF_MUL(feedback, Divisor_coeff[j], order_alpha)\n",
    "            branch_output.append(dum2)\n",
    "#        print('branch output:',branch_output)\n",
    "        for j in range(sr_size-1,0,-1):\n",
    "            sr_content[j]=GF_Add(sr_content[j-1], branch_output[j])\n",
    "        sr_content[0]=GF_Add(branch_output[0], Dividend_coeff[-1])\n",
    "        del  Dividend_coeff[-1]\n",
    "#        print('Shift reg content:',sr_content)\n",
    "    for i in range(sr_size): Remainder_coeff.append(sr_content[i])\n",
    "    for i in range(sr_size):\n",
    "        if Remainder_coeff[-1] < 0: \n",
    "            del Remainder_coeff[-1]\n",
    "        else: break\n",
    "            \n",
    "    Quotient_coeff.reverse()\n",
    "    for i in range(len(Quotient_coeff)):\n",
    "        if Quotient_coeff[-1] < 0:\n",
    "            del Quotient_coeff[-1]\n",
    "        else: break\n",
    "    \n",
    "    return (Quotient_coeff,Remainder_coeff) # sr_content = coefficients of remainder #"
   ]
  },
  {
   "cell_type": "code",
   "execution_count": 10,
   "metadata": {},
   "outputs": [],
   "source": [
    "def POL_Add(a_coeff, b_coeff):\n",
    "    max_a_b_length=max(len(a_coeff),len(b_coeff))\n",
    "    min_a_b_length=min(len(a_coeff),len(b_coeff))\n",
    "    a_b_GF_addition_coeff=[]\n",
    "    for i in range(min_a_b_length):\n",
    "        dum=GF_Add(a_coeff[i],b_coeff[i])\n",
    "        a_b_GF_addition_coeff.append(dum)\n",
    "    if len(a_coeff) == len(b_coeff): return a_b_GF_addition_coeff\n",
    "    if len(a_coeff) > len(b_coeff):\n",
    "        for i in range(min_a_b_length,max_a_b_length):\n",
    "            a_b_GF_addition_coeff.append(a_coeff[i])\n",
    "        return a_b_GF_addition_coeff\n",
    "    else:\n",
    "        for i in range(min_a_b_length,max_a_b_length):\n",
    "            a_b_GF_addition_coeff.append(b_coeff[i])\n",
    "        return a_b_GF_addition_coeff"
   ]
  },
  {
   "cell_type": "code",
   "execution_count": 11,
   "metadata": {},
   "outputs": [],
   "source": [
    "# GFE_Index*j mod Order_GFE, j=0,1,..,Vector_length-1 #  \n",
    "def GFE_Power_vector(GFE_Index,Order_GFE,Vector_length):\n",
    "    vector_list=[]\n",
    "    if GFE_Index < 0: \n",
    "        for i in range(Vector_length): vector_list.append(-1)\n",
    "    else:\n",
    "        for i in range(Vector_length): vector_list.append((GFE_Index*i)%Order_GFE)\n",
    "    return vector_list"
   ]
  },
  {
   "cell_type": "code",
   "execution_count": 12,
   "metadata": {},
   "outputs": [],
   "source": [
    "# Innder Product of Two GF Vectors #\n",
    "def GF_InnerProduct(A_GF_Vector,B_GF_Vector):\n",
    "    Vector_Length=min(len(A_GF_Vector),len(A_GF_Vector))\n",
    "    GF_Sum=-1\n",
    "    GF_Product_Vector=[]\n",
    "    for i in range(Vector_Length):\n",
    "        GF_Product_Vector.append(GF_MUL(A_GF_Vector[i],B_GF_Vector[i]))\n",
    "    for i in range(Vector_Length):\n",
    "        GF_Sum=GF_Add(GF_Sum,GF_Product_Vector[i])\n",
    "    return GF_Sum"
   ]
  },
  {
   "cell_type": "code",
   "execution_count": 13,
   "metadata": {},
   "outputs": [],
   "source": [
    "def GF_Function_Value(GFE_Index,Order_GFE,GF_Function_coeff):\n",
    "    A_GF_Vector=GFE_Power_vector(GFE_Index,Order_GFE,len(GF_Function_coeff))\n",
    "    Function_Value=GF_InnerProduct(A_GF_Vector,GF_Function_coeff)\n",
    "    return Function_Value"
   ]
  },
  {
   "cell_type": "code",
   "execution_count": 14,
   "metadata": {},
   "outputs": [],
   "source": [
    "# From a0+a1*x+a2*x^2+... ==> To: a1+a2*2*x+... #\n",
    "def GF_Derivative(GFVector):\n",
    "    GFVector_Prime=[]\n",
    "    A_GF_Vector=[]\n",
    "    for i in range(len(GFVector)):\n",
    "        if i%2 == 0:\n",
    "            A_GF_Vector.append(-1)\n",
    "        else:\n",
    "            A_GF_Vector.append(0)\n",
    "    for i in range(len(GFVector)):\n",
    "        GFVector_Prime.append(GF_MUL(A_GF_Vector[i],GFVector[i]))\n",
    "    \n",
    "    del GFVector_Prime[0]\n",
    "    return(GFVector_Prime)"
   ]
  }
 ],
 "metadata": {
  "kernelspec": {
   "display_name": "Python 3",
   "language": "python",
   "name": "python3"
  },
  "language_info": {
   "codemirror_mode": {
    "name": "ipython",
    "version": 3
   },
   "file_extension": ".py",
   "mimetype": "text/x-python",
   "name": "python",
   "nbconvert_exporter": "python",
   "pygments_lexer": "ipython3",
   "version": "3.6.4"
  }
 },
 "nbformat": 4,
 "nbformat_minor": 2
}
