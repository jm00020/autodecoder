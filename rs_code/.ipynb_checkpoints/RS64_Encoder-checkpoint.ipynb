{
 "cells": [
  {
   "cell_type": "code",
   "execution_count": 1,
   "metadata": {},
   "outputs": [],
   "source": [
    "import numpy as np\n",
    "from GF64 import GFE\n",
    "import GF_FUNC as GF_F"
   ]
  },
  {
   "cell_type": "code",
   "execution_count": 2,
   "metadata": {},
   "outputs": [],
   "source": [
    "def Generation_Polynomial(Z_RS, order_alpha):\n",
    "    a_x=[0]\n",
    "    a_x.append(Z_RS[0])\n",
    "    b_x=[0]\n",
    "    for i in range(1,len(Z_RS)):\n",
    "        b_x.append(Z_RS[i])\n",
    "#     print('a(x)=',a_x)\n",
    "#     print('b(x)=',b_x)\n",
    "        c_x=GF_F.POL_MUL(a_x,b_x, order_alpha)  ## c(x)=a(x)b(x)\n",
    "        a_x=c_x\n",
    "        b_x=[0]\n",
    "\n",
    "#     print('c(x):',c_x)\n",
    "    g_x=c_x  \n",
    "    g_x.reverse()   ## g(x)=g_0+g_1*x+...+g_n-k*x^n-1\n",
    "#     print('g(x)=g_0+g_1*x+...+g_n-k*x^n-1: ',g_x)\n",
    "#     print('length of g:',len(g_x))\n",
    "    \n",
    "    return g_x"
   ]
  },
  {
   "cell_type": "code",
   "execution_count": 12,
   "metadata": {},
   "outputs": [],
   "source": [
    "def RS_encoding(msg_RS, g_x, order_alpha):\n",
    "    parity_symbols=GF_F.Parity_RS(msg_RS, g_x, order_alpha)\n",
    "    codeword_RS=list(parity_symbols)+list(msg_RS)\n",
    "#     print('msg:',msg_RS)\n",
    "#     print('parity symbols=',parity_symbols)\n",
    "#     print('codeword:',codeword_RS)\n",
    "#     print('length of codeword:',len(codeword_RS))\n",
    "    \n",
    "    return codeword_RS"
   ]
  },
  {
   "cell_type": "code",
   "execution_count": 14,
   "metadata": {},
   "outputs": [],
   "source": [
    "def Encoder(m, t_RS, b_RS, order_alpha, k_RS):\n",
    "\n",
    "    Z_RS=[]\n",
    "    for i in range(2*t_RS):    \n",
    "        Z_RS.append((b_RS+i)%order_alpha)\n",
    "        \n",
    "    g_x = Generation_Polynomial(Z_RS, order_alpha)\n",
    "    \n",
    "    msg_RS=[]\n",
    "    for i in range(k_RS):\n",
    "        msg_RS.append(np.random.randint(-1,order_alpha))\n",
    "\n",
    "    np.random.seed(700)\n",
    "    codeword_RS = RS_encoding(msg_RS, g_x, order_alpha)\n",
    "    \n",
    "    return codeword_RS, msg_RS"
   ]
  },
  {
   "cell_type": "code",
   "execution_count": 19,
   "metadata": {},
   "outputs": [],
   "source": [
    "def Add_Noise(Eb_No, codeword_RS, k_RS, m):\n",
    "    r_vector_RS=[]\n",
    "    req_Eb_No = 10**(Eb_No/10)\n",
    "    Es_No = req_Eb_No * (k_RS/len(codeword_RS))\n",
    "    Sigma=np.sqrt(1/(2*Es_No))\n",
    "    for i in range(len(codeword_RS)):\n",
    "        m_bits=GFE.get(codeword_RS[i])\n",
    "        tx=[]\n",
    "        rx=[]\n",
    "        rx_Hard=[]\n",
    "        rn=np.random.normal(loc=0.0,scale=Sigma,size=m)\n",
    "        for j in range(m): \n",
    "            tx.append(np.power(-1,m_bits[j]))\n",
    "        for j in range(m):\n",
    "            Bi_AWGN=tx[j]+rn[j]\n",
    "            rx.append(Bi_AWGN)\n",
    "            if Bi_AWGN >=0 :\n",
    "                rx_Hard.append(0)\n",
    "            else:\n",
    "                rx_Hard.append(1)\n",
    "#    print('m bits:',m_bits,'Index:',codeword_RS[i])\n",
    "#    print('tx m bits:',tx,'Index:',codeword_RS[i])\n",
    "#    print('rx m bits:',rx)\n",
    "#    print('rx Hard m bits:',rx_Hard)\n",
    "        r_vector_RS.append(GF_F.GF_Index(rx_Hard))\n",
    "\n",
    "#     print('rx symbol:',r_vector_RS)\n",
    "    \n",
    "    return r_vector_RS"
   ]
  }
 ],
 "metadata": {
  "kernelspec": {
   "display_name": "Python 3",
   "language": "python",
   "name": "python3"
  },
  "language_info": {
   "codemirror_mode": {
    "name": "ipython",
    "version": 3
   },
   "file_extension": ".py",
   "mimetype": "text/x-python",
   "name": "python",
   "nbconvert_exporter": "python",
   "pygments_lexer": "ipython3",
   "version": "3.6.4"
  }
 },
 "nbformat": 4,
 "nbformat_minor": 2
}
