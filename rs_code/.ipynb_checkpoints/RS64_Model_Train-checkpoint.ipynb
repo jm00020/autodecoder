{
 "cells": [
  {
   "cell_type": "code",
   "execution_count": null,
   "metadata": {},
   "outputs": [],
   "source": [
    "import numpy as np\n",
    "from Source import RS64_Encoder\n",
    "from Source import RS64_Decoder\n",
    "from Source.GF64 import GFE\n",
    "\n",
    "import keras\n",
    "from keras.layers import Dense, Input,Conv1D, MaxPooling1D, Flatten, Embedding, Reshape, ReLU, Add, Concatenate, Average\n",
    "from keras.models import Sequential, Model\n",
    "from keras.models import load_model"
   ]
  },
  {
   "cell_type": "code",
   "execution_count": null,
   "metadata": {},
   "outputs": [],
   "source": [
    "m = 6\n",
    "t_RS = 8\n",
    "b_RS = 1\n",
    "order_alpha=(2**m)-1\n",
    "length_parity=2*t_RS\n",
    "n_RS=order_alpha\n",
    "k_RS=n_RS - length_parity\n",
    "\n",
    "Z_RS=[]\n",
    "for i in range(2*t_RS):    \n",
    "    Z_RS.append((b_RS+i)%order_alpha)\n",
    "    \n",
    "g_x = RS64_Encoder.Generation_Polynomial(Z_RS, order_alpha)"
   ]
  },
  {
   "cell_type": "code",
   "execution_count": null,
   "metadata": {},
   "outputs": [],
   "source": [
    "codeword_size = 10**7"
   ]
  },
  {
   "cell_type": "code",
   "execution_count": null,
   "metadata": {},
   "outputs": [],
   "source": [
    "model = load_model('model/model.h5')"
   ]
  },
  {
   "cell_type": "code",
   "execution_count": null,
   "metadata": {},
   "outputs": [],
   "source": [
    "for i in range(20):\n",
    "    cx = np.random.randint(2, size=(codeword_size, 378))\n",
    "    cx = np.where(cx > 0, -1, 1)\n",
    "    cx = cx.reshape((codeword_size, -1))\n",
    "    \n",
    "    Eb_No = 3\n",
    "    rx = RS64_Decoder.Receive_Bit(Eb_No, cx, k_RS, n_RS)\n",
    "    \n",
    "    test_cx = np.random.randint(2, size=(10**2, 378))\n",
    "    test_cx = np.where(test_cx > 0, -1, 1)\n",
    "    test_cx = cx.reshape((codeword_size, -1))\n",
    "    \n",
    "    test_rx = RS64_Decoder.Receive_Bit(Eb_No, test_cx, k_RS, n_RS)\n",
    "    \n",
    "    model.fit(rx, cx, \n",
    "          epochs=100,\n",
    "          batch_size=10000,\n",
    "          shuffle=True,\n",
    "          validation_data=(test_rx, test_cx), verbose = 0)\n",
    "    \n",
    "    if run%1 == 0:\n",
    "        loss = model.evaluate(x_test_noisy, x_test)\n",
    "        print(loss)\n",
    "        model.save('model/model.h5')\n",
    "        print('save_model')"
   ]
  },
  {
   "cell_type": "code",
   "execution_count": null,
   "metadata": {},
   "outputs": [],
   "source": [
    "loss = model.evaluate(x_test_noisy, x_test)\n",
    "print(loss)\n",
    "model.save('model/model.h5')\n",
    "print('save_model')"
   ]
  }
 ],
 "metadata": {
  "kernelspec": {
   "display_name": "Python 3",
   "language": "python",
   "name": "python3"
  },
  "language_info": {
   "codemirror_mode": {
    "name": "ipython",
    "version": 3
   },
   "file_extension": ".py",
   "mimetype": "text/x-python",
   "name": "python",
   "nbconvert_exporter": "python",
   "pygments_lexer": "ipython3",
   "version": "3.6.4"
  }
 },
 "nbformat": 4,
 "nbformat_minor": 2
}
