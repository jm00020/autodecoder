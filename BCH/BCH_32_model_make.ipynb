{
 "cells": [
  {
   "cell_type": "code",
   "execution_count": 1,
   "metadata": {},
   "outputs": [
    {
     "name": "stderr",
     "output_type": "stream",
     "text": [
      "Using TensorFlow backend.\n"
     ]
    }
   ],
   "source": [
    "import numpy as np\n",
    "import matplotlib.pyplot as plt\n",
    "import keras\n",
    "from keras.layers import Dense, Input, Add\n",
    "from keras.models import Sequential, Model, load_model\n",
    "from Source.GF_function import GF_function"
   ]
  },
  {
   "cell_type": "code",
   "execution_count": 2,
   "metadata": {},
   "outputs": [],
   "source": [
    "GF = GF_function(32)"
   ]
  },
  {
   "cell_type": "code",
   "execution_count": 3,
   "metadata": {},
   "outputs": [],
   "source": [
    "msg_size = 10**5"
   ]
  },
  {
   "cell_type": "code",
   "execution_count": 4,
   "metadata": {},
   "outputs": [],
   "source": [
    "# msg, codeword = GF.encoding(msg_size)"
   ]
  },
  {
   "cell_type": "code",
   "execution_count": 5,
   "metadata": {},
   "outputs": [],
   "source": [
    "# send_code = GF.send_code(codeword)"
   ]
  },
  {
   "cell_type": "code",
   "execution_count": 6,
   "metadata": {},
   "outputs": [],
   "source": [
    "send_code = GF.GFE"
   ]
  },
  {
   "cell_type": "code",
   "execution_count": 7,
   "metadata": {},
   "outputs": [],
   "source": [
    "noise_code = GF.add_noise(3, np.where(send_code > 0, -1, 1))"
   ]
  },
  {
   "cell_type": "code",
   "execution_count": 8,
   "metadata": {},
   "outputs": [],
   "source": [
    "label = np.eye(32)"
   ]
  },
  {
   "cell_type": "code",
   "execution_count": 9,
   "metadata": {},
   "outputs": [
    {
     "name": "stdout",
     "output_type": "stream",
     "text": [
      "WARNING:tensorflow:From D:\\anaconda\\lib\\site-packages\\tensorflow_core\\python\\ops\\resource_variable_ops.py:1630: calling BaseResourceVariable.__init__ (from tensorflow.python.ops.resource_variable_ops) with constraint is deprecated and will be removed in a future version.\n",
      "Instructions for updating:\n",
      "If using Keras pass *_constraint arguments to layers.\n"
     ]
    }
   ],
   "source": [
    "input_layer = Input(shape = (5,))\n",
    "\n",
    "line1_Dense1 = Dense(5, activation='elu')(input_layer)\n",
    "line1_Dense2 = Dense(5, activation='elu')(line1_Dense1)\n",
    "line1_Dense3 = Dense(5, activation='elu')(line1_Dense2)\n",
    "line1_output_layer = Dense(5, activation='tanh')(line1_Dense3)\n",
    "\n",
    "line2_Dense1 = Dense(10, activation='elu')(input_layer)\n",
    "line2_Dense2 = Dense(20, activation='elu')(line2_Dense1)\n",
    "line2_Dense3 = Dense(10, activation='elu')(line2_Dense2)\n",
    "line2_output_layer = Dense(5, activation='tanh')(line2_Dense3)\n",
    "\n",
    "line3_Dense1 = Dense(15, activation='elu')(input_layer)\n",
    "line3_Dense2 = Dense(45, activation='elu')(line3_Dense1)\n",
    "line3_Dense3 = Dense(15, activation='elu')(line3_Dense2)\n",
    "line3_output_layer = Dense(5, activation='tanh')(line3_Dense3)\n",
    "\n",
    "line4_Dense1 = Dense(20, activation='elu')(input_layer)\n",
    "line4_Dense2 = Dense(80, activation='elu')(line4_Dense1)\n",
    "line4_Dense3 = Dense(20, activation='elu')(line4_Dense2)\n",
    "line4_output_layer = Dense(5, activation='tanh')(line4_Dense3)\n",
    "\n",
    "line5_Dense1 = Dense(25, activation='elu')(input_layer)\n",
    "line5_Dense2 = Dense(125, activation='elu')(line5_Dense1)\n",
    "line5_Dense3 = Dense(25, activation='elu')(line5_Dense2)\n",
    "line5_output_layer = Dense(5, activation='tanh')(line5_Dense3)\n",
    "\n",
    "line6_Dense1 = Dense(30, activation='elu')(input_layer)\n",
    "line6_Dense2 = Dense(180, activation='elu')(line6_Dense1)\n",
    "line6_Dense3 = Dense(30, activation='elu')(line6_Dense2)\n",
    "line6_output_layer = Dense(5, activation='tanh')(line6_Dense3)\n",
    "\n",
    "add_layer = Add()([line1_output_layer, line2_output_layer, line3_output_layer, \n",
    "                   line4_output_layer, line5_output_layer, line6_output_layer])\n",
    "\n",
    "output_layer = Dense(32, activation='softmax')(add_layer)\n",
    "\n",
    "model = Model(inputs = input_layer, outputs = output_layer)\n",
    "\n",
    "model.compile(optimizer = 'adam', loss = 'binary_crossentropy', metrics=['accuracy'] )"
   ]
  },
  {
   "cell_type": "code",
   "execution_count": 10,
   "metadata": {},
   "outputs": [],
   "source": [
    "noise_code = GF.add_noise(3, np.where(send_code > 0, -1, 1))"
   ]
  },
  {
   "cell_type": "code",
   "execution_count": 11,
   "metadata": {},
   "outputs": [
    {
     "name": "stdout",
     "output_type": "stream",
     "text": [
      "WARNING:tensorflow:From D:\\anaconda\\lib\\site-packages\\tensorflow_core\\python\\ops\\math_grad.py:1424: where (from tensorflow.python.ops.array_ops) is deprecated and will be removed in a future version.\n",
      "Instructions for updating:\n",
      "Use tf.where in 2.0, which has the same broadcast rule as np.where\n",
      "WARNING:tensorflow:From D:\\anaconda\\lib\\site-packages\\keras\\backend\\tensorflow_backend.py:422: The name tf.global_variables is deprecated. Please use tf.compat.v1.global_variables instead.\n",
      "\n",
      "Epoch 1/100\n",
      "32/32 [==============================] - 1s 23ms/step - loss: 0.1457 - accuracy: 0.9688\n",
      "Epoch 2/100\n",
      "32/32 [==============================] - 0s 561us/step - loss: 0.1415 - accuracy: 0.9688\n",
      "Epoch 3/100\n",
      "32/32 [==============================] - 0s 499us/step - loss: 0.1378 - accuracy: 0.9688\n",
      "Epoch 4/100\n",
      "32/32 [==============================] - 0s 561us/step - loss: 0.1346 - accuracy: 0.9688\n",
      "Epoch 5/100\n",
      "32/32 [==============================] - 0s 530us/step - loss: 0.1319 - accuracy: 0.9688\n",
      "Epoch 6/100\n",
      "32/32 [==============================] - 0s 561us/step - loss: 0.1296 - accuracy: 0.9688\n",
      "Epoch 7/100\n",
      "32/32 [==============================] - 0s 405us/step - loss: 0.1276 - accuracy: 0.9688\n",
      "Epoch 8/100\n",
      "32/32 [==============================] - 0s 467us/step - loss: 0.1259 - accuracy: 0.9688\n",
      "Epoch 9/100\n",
      "32/32 [==============================] - 0s 499us/step - loss: 0.1244 - accuracy: 0.9688\n",
      "Epoch 10/100\n",
      "32/32 [==============================] - 0s 436us/step - loss: 0.1231 - accuracy: 0.9688\n",
      "Epoch 11/100\n",
      "32/32 [==============================] - 0s 405us/step - loss: 0.1219 - accuracy: 0.9688\n",
      "Epoch 12/100\n",
      "32/32 [==============================] - 0s 374us/step - loss: 0.1208 - accuracy: 0.9688\n",
      "Epoch 13/100\n",
      "32/32 [==============================] - 0s 405us/step - loss: 0.1197 - accuracy: 0.9688\n",
      "Epoch 14/100\n",
      "32/32 [==============================] - 0s 530us/step - loss: 0.1187 - accuracy: 0.9688\n",
      "Epoch 15/100\n",
      "32/32 [==============================] - 0s 499us/step - loss: 0.1177 - accuracy: 0.9688\n",
      "Epoch 16/100\n",
      "32/32 [==============================] - 0s 530us/step - loss: 0.1168 - accuracy: 0.9688\n",
      "Epoch 17/100\n",
      "32/32 [==============================] - 0s 312us/step - loss: 0.1158 - accuracy: 0.9688\n",
      "Epoch 18/100\n",
      "32/32 [==============================] - 0s 405us/step - loss: 0.1149 - accuracy: 0.9688\n",
      "Epoch 19/100\n",
      "32/32 [==============================] - 0s 374us/step - loss: 0.1141 - accuracy: 0.9688\n",
      "Epoch 20/100\n",
      "32/32 [==============================] - 0s 405us/step - loss: 0.1132 - accuracy: 0.9688\n",
      "Epoch 21/100\n",
      "32/32 [==============================] - 0s 281us/step - loss: 0.1124 - accuracy: 0.9688\n",
      "Epoch 22/100\n",
      "32/32 [==============================] - 0s 312us/step - loss: 0.1115 - accuracy: 0.9688\n",
      "Epoch 23/100\n",
      "32/32 [==============================] - 0s 405us/step - loss: 0.1107 - accuracy: 0.9688\n",
      "Epoch 24/100\n",
      "32/32 [==============================] - 0s 280us/step - loss: 0.1100 - accuracy: 0.9688\n",
      "Epoch 25/100\n",
      "32/32 [==============================] - 0s 374us/step - loss: 0.1092 - accuracy: 0.9688\n",
      "Epoch 26/100\n",
      "32/32 [==============================] - 0s 281us/step - loss: 0.1084 - accuracy: 0.9688\n",
      "Epoch 27/100\n",
      "32/32 [==============================] - 0s 561us/step - loss: 0.1077 - accuracy: 0.9688\n",
      "Epoch 28/100\n",
      "32/32 [==============================] - 0s 499us/step - loss: 0.1069 - accuracy: 0.9688\n",
      "Epoch 29/100\n",
      "32/32 [==============================] - 0s 467us/step - loss: 0.1062 - accuracy: 0.9688\n",
      "Epoch 30/100\n",
      "32/32 [==============================] - 0s 499us/step - loss: 0.1054 - accuracy: 0.9697\n",
      "Epoch 31/100\n",
      "32/32 [==============================] - 0s 499us/step - loss: 0.1047 - accuracy: 0.9697\n",
      "Epoch 32/100\n",
      "32/32 [==============================] - 0s 499us/step - loss: 0.1039 - accuracy: 0.9697\n",
      "Epoch 33/100\n",
      "32/32 [==============================] - 0s 343us/step - loss: 0.1032 - accuracy: 0.9697\n",
      "Epoch 34/100\n",
      "32/32 [==============================] - 0s 468us/step - loss: 0.1024 - accuracy: 0.9697\n",
      "Epoch 35/100\n",
      "32/32 [==============================] - 0s 405us/step - loss: 0.1017 - accuracy: 0.9697\n",
      "Epoch 36/100\n",
      "32/32 [==============================] - 0s 530us/step - loss: 0.1010 - accuracy: 0.9697\n",
      "Epoch 37/100\n",
      "32/32 [==============================] - 0s 561us/step - loss: 0.1002 - accuracy: 0.9697\n",
      "Epoch 38/100\n",
      "32/32 [==============================] - 0s 405us/step - loss: 0.0995 - accuracy: 0.9697\n",
      "Epoch 39/100\n",
      "32/32 [==============================] - 0s 468us/step - loss: 0.0988 - accuracy: 0.9697\n",
      "Epoch 40/100\n",
      "32/32 [==============================] - 0s 530us/step - loss: 0.0980 - accuracy: 0.9697\n",
      "Epoch 41/100\n",
      "32/32 [==============================] - 0s 312us/step - loss: 0.0973 - accuracy: 0.9697\n",
      "Epoch 42/100\n",
      "32/32 [==============================] - 0s 561us/step - loss: 0.0966 - accuracy: 0.9697\n",
      "Epoch 43/100\n",
      "32/32 [==============================] - 0s 530us/step - loss: 0.0959 - accuracy: 0.9697\n",
      "Epoch 44/100\n",
      "32/32 [==============================] - 0s 405us/step - loss: 0.0952 - accuracy: 0.9697\n",
      "Epoch 45/100\n",
      "32/32 [==============================] - 0s 436us/step - loss: 0.0945 - accuracy: 0.9697\n",
      "Epoch 46/100\n",
      "32/32 [==============================] - 0s 468us/step - loss: 0.0939 - accuracy: 0.9697\n",
      "Epoch 47/100\n",
      "32/32 [==============================] - 0s 405us/step - loss: 0.0932 - accuracy: 0.9697\n",
      "Epoch 48/100\n",
      "32/32 [==============================] - 0s 436us/step - loss: 0.0925 - accuracy: 0.9697\n",
      "Epoch 49/100\n",
      "32/32 [==============================] - 0s 249us/step - loss: 0.0919 - accuracy: 0.9697\n",
      "Epoch 50/100\n",
      "32/32 [==============================] - 0s 467us/step - loss: 0.0912 - accuracy: 0.9697\n",
      "Epoch 51/100\n",
      "32/32 [==============================] - 0s 312us/step - loss: 0.0906 - accuracy: 0.9697\n",
      "Epoch 52/100\n",
      "32/32 [==============================] - 0s 468us/step - loss: 0.0899 - accuracy: 0.9697\n",
      "Epoch 53/100\n",
      "32/32 [==============================] - 0s 530us/step - loss: 0.0893 - accuracy: 0.9697\n",
      "Epoch 54/100\n",
      "32/32 [==============================] - 0s 468us/step - loss: 0.0887 - accuracy: 0.9697\n",
      "Epoch 55/100\n",
      "32/32 [==============================] - 0s 436us/step - loss: 0.0880 - accuracy: 0.9697\n",
      "Epoch 56/100\n",
      "32/32 [==============================] - 0s 499us/step - loss: 0.0874 - accuracy: 0.9697\n",
      "Epoch 57/100\n",
      "32/32 [==============================] - 0s 468us/step - loss: 0.0868 - accuracy: 0.9697\n",
      "Epoch 58/100\n",
      "32/32 [==============================] - 0s 436us/step - loss: 0.0862 - accuracy: 0.9697\n",
      "Epoch 59/100\n",
      "32/32 [==============================] - 0s 436us/step - loss: 0.0855 - accuracy: 0.9697\n",
      "Epoch 60/100\n",
      "32/32 [==============================] - 0s 374us/step - loss: 0.0849 - accuracy: 0.9697\n",
      "Epoch 61/100\n",
      "32/32 [==============================] - 0s 281us/step - loss: 0.0843 - accuracy: 0.9697\n",
      "Epoch 62/100\n",
      "32/32 [==============================] - 0s 405us/step - loss: 0.0837 - accuracy: 0.9697\n",
      "Epoch 63/100\n",
      "32/32 [==============================] - 0s 281us/step - loss: 0.0831 - accuracy: 0.9697\n",
      "Epoch 64/100\n",
      "32/32 [==============================] - 0s 405us/step - loss: 0.0825 - accuracy: 0.9697\n",
      "Epoch 65/100\n",
      "32/32 [==============================] - 0s 530us/step - loss: 0.0819 - accuracy: 0.9697\n",
      "Epoch 66/100\n",
      "32/32 [==============================] - 0s 499us/step - loss: 0.0814 - accuracy: 0.9697\n",
      "Epoch 67/100\n",
      "32/32 [==============================] - 0s 374us/step - loss: 0.0808 - accuracy: 0.9697\n",
      "Epoch 68/100\n",
      "32/32 [==============================] - 0s 467us/step - loss: 0.0802 - accuracy: 0.9707\n",
      "Epoch 69/100\n",
      "32/32 [==============================] - 0s 499us/step - loss: 0.0796 - accuracy: 0.9717\n",
      "Epoch 70/100\n",
      "32/32 [==============================] - 0s 436us/step - loss: 0.0791 - accuracy: 0.9717\n",
      "Epoch 71/100\n",
      "32/32 [==============================] - 0s 499us/step - loss: 0.0785 - accuracy: 0.9717\n",
      "Epoch 72/100\n",
      "32/32 [==============================] - 0s 374us/step - loss: 0.0779 - accuracy: 0.9717\n",
      "Epoch 73/100\n",
      "32/32 [==============================] - 0s 467us/step - loss: 0.0774 - accuracy: 0.9717\n",
      "Epoch 74/100\n",
      "32/32 [==============================] - 0s 467us/step - loss: 0.0768 - accuracy: 0.9717\n",
      "Epoch 75/100\n",
      "32/32 [==============================] - 0s 281us/step - loss: 0.0763 - accuracy: 0.9727\n",
      "Epoch 76/100\n",
      "32/32 [==============================] - 0s 405us/step - loss: 0.0758 - accuracy: 0.9727\n",
      "Epoch 77/100\n",
      "32/32 [==============================] - 0s 499us/step - loss: 0.0752 - accuracy: 0.9727\n",
      "Epoch 78/100\n",
      "32/32 [==============================] - 0s 468us/step - loss: 0.0747 - accuracy: 0.9736\n",
      "Epoch 79/100\n",
      "32/32 [==============================] - 0s 343us/step - loss: 0.0742 - accuracy: 0.9736\n",
      "Epoch 80/100\n",
      "32/32 [==============================] - 0s 468us/step - loss: 0.0737 - accuracy: 0.9736\n",
      "Epoch 81/100\n",
      "32/32 [==============================] - 0s 249us/step - loss: 0.0731 - accuracy: 0.9736\n",
      "Epoch 82/100\n",
      "32/32 [==============================] - 0s 405us/step - loss: 0.0726 - accuracy: 0.9736\n",
      "Epoch 83/100\n",
      "32/32 [==============================] - 0s 343us/step - loss: 0.0721 - accuracy: 0.9736\n",
      "Epoch 84/100\n",
      "32/32 [==============================] - 0s 343us/step - loss: 0.0716 - accuracy: 0.9736\n",
      "Epoch 85/100\n",
      "32/32 [==============================] - 0s 437us/step - loss: 0.0711 - accuracy: 0.9736\n",
      "Epoch 86/100\n",
      "32/32 [==============================] - 0s 468us/step - loss: 0.0706 - accuracy: 0.9746\n",
      "Epoch 87/100\n",
      "32/32 [==============================] - 0s 499us/step - loss: 0.0701 - accuracy: 0.9746\n",
      "Epoch 88/100\n",
      "32/32 [==============================] - 0s 561us/step - loss: 0.0696 - accuracy: 0.9746\n",
      "Epoch 89/100\n",
      "32/32 [==============================] - 0s 592us/step - loss: 0.0691 - accuracy: 0.9746\n",
      "Epoch 90/100\n",
      "32/32 [==============================] - 0s 405us/step - loss: 0.0687 - accuracy: 0.9746\n",
      "Epoch 91/100\n",
      "32/32 [==============================] - 0s 436us/step - loss: 0.0682 - accuracy: 0.9746\n",
      "Epoch 92/100\n",
      "32/32 [==============================] - 0s 343us/step - loss: 0.0677 - accuracy: 0.9746\n",
      "Epoch 93/100\n",
      "32/32 [==============================] - 0s 468us/step - loss: 0.0672 - accuracy: 0.9746\n",
      "Epoch 94/100\n",
      "32/32 [==============================] - 0s 374us/step - loss: 0.0668 - accuracy: 0.9746\n",
      "Epoch 95/100\n",
      "32/32 [==============================] - 0s 436us/step - loss: 0.0663 - accuracy: 0.9746\n",
      "Epoch 96/100\n",
      "32/32 [==============================] - 0s 436us/step - loss: 0.0659 - accuracy: 0.9746\n",
      "Epoch 97/100\n",
      "32/32 [==============================] - 0s 561us/step - loss: 0.0655 - accuracy: 0.9746\n",
      "Epoch 98/100\n",
      "32/32 [==============================] - 0s 530us/step - loss: 0.0650 - accuracy: 0.9756\n",
      "Epoch 99/100\n",
      "32/32 [==============================] - 0s 530us/step - loss: 0.0646 - accuracy: 0.9756\n",
      "Epoch 100/100\n",
      "32/32 [==============================] - 0s 530us/step - loss: 0.0642 - accuracy: 0.9756\n"
     ]
    },
    {
     "data": {
      "text/plain": [
       "<keras.callbacks.callbacks.History at 0x239f1eb9d30>"
      ]
     },
     "execution_count": 11,
     "metadata": {},
     "output_type": "execute_result"
    }
   ],
   "source": [
    "model.fit(noise_code, label, \n",
    "          epochs=100,\n",
    "          batch_size=32,\n",
    "          shuffle=True)"
   ]
  },
  {
   "cell_type": "code",
   "execution_count": 12,
   "metadata": {},
   "outputs": [],
   "source": [
    "noise_code = GF.add_noise(3, np.where(send_code > 0, -1, 1))\n",
    "result = model.predict(noise_code)"
   ]
  },
  {
   "cell_type": "code",
   "execution_count": 13,
   "metadata": {},
   "outputs": [
    {
     "name": "stdout",
     "output_type": "stream",
     "text": [
      "[26  1 20  3  0  7 12 20 29 26 25 26 12  7 21  9 27 19 12  1 20 21 21 23\n",
      " 15 29 22 27 19 29 26 16]\n"
     ]
    }
   ],
   "source": [
    "print(np.argmax(result, axis=1))"
   ]
  },
  {
   "cell_type": "code",
   "execution_count": 14,
   "metadata": {},
   "outputs": [
    {
     "name": "stdout",
     "output_type": "stream",
     "text": [
      "Model: \"model_1\"\n",
      "__________________________________________________________________________________________________\n",
      "Layer (type)                    Output Shape         Param #     Connected to                     \n",
      "==================================================================================================\n",
      "input_1 (InputLayer)            (None, 5)            0                                            \n",
      "__________________________________________________________________________________________________\n",
      "dense_1 (Dense)                 (None, 5)            30          input_1[0][0]                    \n",
      "__________________________________________________________________________________________________\n",
      "dense_5 (Dense)                 (None, 10)           60          input_1[0][0]                    \n",
      "__________________________________________________________________________________________________\n",
      "dense_9 (Dense)                 (None, 15)           90          input_1[0][0]                    \n",
      "__________________________________________________________________________________________________\n",
      "dense_13 (Dense)                (None, 20)           120         input_1[0][0]                    \n",
      "__________________________________________________________________________________________________\n",
      "dense_17 (Dense)                (None, 25)           150         input_1[0][0]                    \n",
      "__________________________________________________________________________________________________\n",
      "dense_21 (Dense)                (None, 30)           180         input_1[0][0]                    \n",
      "__________________________________________________________________________________________________\n",
      "dense_2 (Dense)                 (None, 5)            30          dense_1[0][0]                    \n",
      "__________________________________________________________________________________________________\n",
      "dense_6 (Dense)                 (None, 20)           220         dense_5[0][0]                    \n",
      "__________________________________________________________________________________________________\n",
      "dense_10 (Dense)                (None, 45)           720         dense_9[0][0]                    \n",
      "__________________________________________________________________________________________________\n",
      "dense_14 (Dense)                (None, 80)           1680        dense_13[0][0]                   \n",
      "__________________________________________________________________________________________________\n",
      "dense_18 (Dense)                (None, 125)          3250        dense_17[0][0]                   \n",
      "__________________________________________________________________________________________________\n",
      "dense_22 (Dense)                (None, 180)          5580        dense_21[0][0]                   \n",
      "__________________________________________________________________________________________________\n",
      "dense_3 (Dense)                 (None, 5)            30          dense_2[0][0]                    \n",
      "__________________________________________________________________________________________________\n",
      "dense_7 (Dense)                 (None, 10)           210         dense_6[0][0]                    \n",
      "__________________________________________________________________________________________________\n",
      "dense_11 (Dense)                (None, 15)           690         dense_10[0][0]                   \n",
      "__________________________________________________________________________________________________\n",
      "dense_15 (Dense)                (None, 20)           1620        dense_14[0][0]                   \n",
      "__________________________________________________________________________________________________\n",
      "dense_19 (Dense)                (None, 25)           3150        dense_18[0][0]                   \n",
      "__________________________________________________________________________________________________\n",
      "dense_23 (Dense)                (None, 30)           5430        dense_22[0][0]                   \n",
      "__________________________________________________________________________________________________\n",
      "dense_4 (Dense)                 (None, 5)            30          dense_3[0][0]                    \n",
      "__________________________________________________________________________________________________\n",
      "dense_8 (Dense)                 (None, 5)            55          dense_7[0][0]                    \n",
      "__________________________________________________________________________________________________\n",
      "dense_12 (Dense)                (None, 5)            80          dense_11[0][0]                   \n",
      "__________________________________________________________________________________________________\n",
      "dense_16 (Dense)                (None, 5)            105         dense_15[0][0]                   \n",
      "__________________________________________________________________________________________________\n",
      "dense_20 (Dense)                (None, 5)            130         dense_19[0][0]                   \n",
      "__________________________________________________________________________________________________\n",
      "dense_24 (Dense)                (None, 5)            155         dense_23[0][0]                   \n",
      "__________________________________________________________________________________________________\n",
      "add_1 (Add)                     (None, 5)            0           dense_4[0][0]                    \n",
      "                                                                 dense_8[0][0]                    \n",
      "                                                                 dense_12[0][0]                   \n",
      "                                                                 dense_16[0][0]                   \n",
      "                                                                 dense_20[0][0]                   \n",
      "                                                                 dense_24[0][0]                   \n",
      "__________________________________________________________________________________________________\n",
      "dense_25 (Dense)                (None, 32)           192         add_1[0][0]                      \n",
      "==================================================================================================\n",
      "Total params: 23,987\n",
      "Trainable params: 23,987\n",
      "Non-trainable params: 0\n",
      "__________________________________________________________________________________________________\n"
     ]
    }
   ],
   "source": [
    "model.summary()"
   ]
  },
  {
   "cell_type": "code",
   "execution_count": 15,
   "metadata": {},
   "outputs": [],
   "source": [
    "model.save('Model/p6_32_BCH_softmax.h5')"
   ]
  },
  {
   "cell_type": "code",
   "execution_count": null,
   "metadata": {},
   "outputs": [],
   "source": []
  }
 ],
 "metadata": {
  "kernelspec": {
   "display_name": "Python 3",
   "language": "python",
   "name": "python3"
  },
  "language_info": {
   "codemirror_mode": {
    "name": "ipython",
    "version": 3
   },
   "file_extension": ".py",
   "mimetype": "text/x-python",
   "name": "python",
   "nbconvert_exporter": "python",
   "pygments_lexer": "ipython3",
   "version": "3.6.10"
  }
 },
 "nbformat": 4,
 "nbformat_minor": 2
}
