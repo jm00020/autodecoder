{
 "cells": [
  {
   "cell_type": "code",
   "execution_count": 1,
   "metadata": {},
   "outputs": [
    {
     "name": "stderr",
     "output_type": "stream",
     "text": [
      "Using TensorFlow backend.\n"
     ]
    }
   ],
   "source": [
    "import numpy as np\n",
    "import matplotlib.pyplot as plt\n",
    "import keras\n",
    "from keras.layers import Dense, Input, Add\n",
    "from keras.models import Sequential, Model, load_model\n",
    "from Source.GF_function import GF_function\n",
    "\n",
    "import tensorflow as tf"
   ]
  },
  {
   "cell_type": "code",
   "execution_count": 2,
   "metadata": {},
   "outputs": [],
   "source": [
    "GF = GF_function(32)"
   ]
  },
  {
   "cell_type": "code",
   "execution_count": 3,
   "metadata": {},
   "outputs": [],
   "source": [
    "send_code = GF.GFE\n",
    "label = np.eye(32)"
   ]
  },
  {
   "cell_type": "code",
   "execution_count": 4,
   "metadata": {},
   "outputs": [],
   "source": [
    "for i in range(12):\n",
    "    label = np.vstack((label,label))\n",
    "    send_code = np.vstack((send_code, send_code))"
   ]
  },
  {
   "cell_type": "code",
   "execution_count": null,
   "metadata": {},
   "outputs": [],
   "source": [
    "with tf.device('/gpu:1'):\n",
    "    model = load_model('Model/p6_32_BCH_softmax.h5')"
   ]
  },
  {
   "cell_type": "code",
   "execution_count": null,
   "metadata": {},
   "outputs": [],
   "source": [
    "with tf.device('/gpu:1'):\n",
    "    for i in range(110):\n",
    "        \n",
    "        noise_code = GF.add_noise(i%11, np.where(send_code >0, -1, 1))\n",
    "    \n",
    "    \n",
    "        test_noise_code = GF.add_noise(i%11, np.where(send_code >0, -1, 1))\n",
    "    \n",
    "        model.fit(noise_code, label,\n",
    "                 epochs=10,\n",
    "                 batch_size = 1000,\n",
    "                 shuffle=True,\n",
    "                 validation_data=(test_noise_code, label), verbose=0)\n",
    "    \n",
    "    \n",
    "        if i%111 == 0:\n",
    "            j=np.random.randint(11)\n",
    "            test_noise_code = GF.add_noise(j, np.where(send_code >0, -1, 1))\n",
    "            loss = model.evaluate(test_noise_code, label, verbose=0)\n",
    "            print(i, j, ': ', loss)\n",
    "        \n",
    "\n",
    "        model.save('Model/p6_32_BCH_softmax.h5')\n"
   ]
  },
  {
   "cell_type": "code",
   "execution_count": null,
   "metadata": {},
   "outputs": [],
   "source": [
    "with tf.device('/gpu:1'):\n",
    "    model.save('Model/p6_32_BCH_softmax.h5')"
   ]
  },
  {
   "cell_type": "code",
   "execution_count": null,
   "metadata": {},
   "outputs": [],
   "source": []
  }
 ],
 "metadata": {
  "kernelspec": {
   "display_name": "Python 3",
   "language": "python",
   "name": "python3"
  },
  "language_info": {
   "codemirror_mode": {
    "name": "ipython",
    "version": 3
   },
   "file_extension": ".py",
   "mimetype": "text/x-python",
   "name": "python",
   "nbconvert_exporter": "python",
   "pygments_lexer": "ipython3",
   "version": "3.6.10"
  }
 },
 "nbformat": 4,
 "nbformat_minor": 2
}
