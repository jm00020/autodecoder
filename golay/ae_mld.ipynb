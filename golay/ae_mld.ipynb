{
 "cells": [
  {
   "cell_type": "code",
   "execution_count": 1,
   "metadata": {},
   "outputs": [
    {
     "name": "stderr",
     "output_type": "stream",
     "text": [
      "Using TensorFlow backend.\n"
     ]
    }
   ],
   "source": [
    "import matplotlib.pyplot as plt\n",
    "import numpy as np\n",
    "import keras\n",
    "from time import time\n",
    "from keras.layers import Dense, Input,Conv1D, MaxPooling1D, Flatten, Embedding, Reshape, UpSampling1D\n",
    "from keras.models import Sequential, Model\n",
    "from tensorflow.python.keras.callbacks import TensorBoard\n",
    "from IPython.display import SVG\n",
    "from keras.utils.vis_utils import model_to_dot\n",
    "from keras.models import load_model\n",
    "import pickle\n",
    "\n",
    "from scipy import special"
   ]
  },
  {
   "cell_type": "code",
   "execution_count": 2,
   "metadata": {},
   "outputs": [],
   "source": [
    "P = np.array([\n",
    "    [1, 0, 1, 0, 1, 1, 1, 0, 0, 0, 1],\n",
    "    [1, 1, 1, 1, 1, 0, 0, 1, 0, 0, 1],\n",
    "    [1, 1, 0, 1, 0, 0, 1, 0, 1, 0, 1],\n",
    "    [1, 1, 0, 0, 0, 1, 1, 1, 0, 1, 1],\n",
    "    [1, 1, 0, 0, 1, 1, 0, 1, 1, 0, 0],\n",
    "    [0, 1, 1, 0, 0, 1, 1, 0, 1, 1, 0],\n",
    "    [0, 0, 1, 1, 0, 0, 1, 1, 0, 1, 1],\n",
    "    [1, 0, 1, 1, 0, 1, 1, 1, 1, 0, 0],\n",
    "    [0, 1, 0, 1, 1, 0, 1, 1, 1, 1, 0],\n",
    "    [0, 0, 1, 0, 1, 1, 0, 1, 1, 1, 1],\n",
    "    [1, 0, 1, 1, 1, 0, 0, 0, 1, 1, 0],\n",
    "    [0, 1, 0, 1, 1, 1, 0, 0, 0, 1, 1],\n",
    "], dtype='int')"
   ]
  },
  {
   "cell_type": "code",
   "execution_count": 3,
   "metadata": {},
   "outputs": [],
   "source": [
    "def custom_activation(x):\n",
    "    return 1 / (1 + keras.backend.exp(-x))"
   ]
  },
  {
   "cell_type": "code",
   "execution_count": 4,
   "metadata": {},
   "outputs": [],
   "source": [
    "def awgn(x_input, Es_No):\n",
    "    sig_power = 1\n",
    "    \n",
    "    noise_power = np.sqrt(sig_power / (2 * Es_No))\n",
    "    \n",
    "    noise = noise_power * np.random.normal(size = x_input.shape)\n",
    "    \n",
    "    return x_input + noise"
   ]
  },
  {
   "cell_type": "code",
   "execution_count": 5,
   "metadata": {},
   "outputs": [],
   "source": [
    "def absolute_mld(x_noisy):\n",
    "    codeword = np.loadtxt('input.txt')\n",
    "    codeword = np.where(codeword < 0, 1, 0)\n",
    "\n",
    "    x_compare = np.where(x_noisy < 0.5, 1, 0)\n",
    "#     x_compare = np.where(x_noisy < 0, 1, 0)\n",
    "        \n",
    "    for i in range(x_noisy.shape[0]):\n",
    "        check = (x_compare[i,:] + codeword) % 2\n",
    "        result = np.dot(np.abs(0.5-x_noisy[i, :]), check.T)\n",
    "        index = result.argmin()\n",
    "        \n",
    "        if i == 0:\n",
    "            code = codeword[index, :]\n",
    "        else :\n",
    "            code = np.vstack((code, codeword[index, :]))\n",
    " \n",
    "    return code"
   ]
  },
  {
   "cell_type": "code",
   "execution_count": 6,
   "metadata": {},
   "outputs": [],
   "source": [
    "def square_mld(x_noisy):\n",
    "    codeword = np.loadtxt('input.txt')\n",
    "    codeword = np.where(codeword < 0, 1, 0)\n",
    "\n",
    "#     x_compare = np.where(x_noisy < 0.5, 1, 0)\n",
    "    x_compare = np.where(x_noisy < 0, 1, 0)\n",
    "        \n",
    "    for i in range(x_noisy.shape[0]):\n",
    "        check = (x_compare[i,:] + codeword) % 2\n",
    "#         result = np.dot(np.square(np.abs(0.5-x_noisy[i, :])), check.T)\n",
    "        result = np.dot(np.square(np.abs(x_noisy[i, :])), check.T)\n",
    "        index = result.argmin()\n",
    "        \n",
    "        if i == 0:\n",
    "            code = codeword[index, :]\n",
    "        else :\n",
    "            code = np.vstack((code, codeword[index, :]))\n",
    " \n",
    "    return code"
   ]
  },
  {
   "cell_type": "code",
   "execution_count": 7,
   "metadata": {},
   "outputs": [],
   "source": [
    "def square_3_mld(x_noisy):\n",
    "    codeword = np.loadtxt('input.txt')\n",
    "    codeword = np.where(codeword < 0, 1, 0)\n",
    "\n",
    "    x_compare = np.where(x_noisy < 0.5, 1, 0)\n",
    "#     x_compare = np.where(x_noisy < 0, 1, 0)\n",
    "        \n",
    "    for i in range(x_noisy.shape[0]):\n",
    "        check = (x_compare[i,:] + codeword) % 2\n",
    "        result = np.dot(np.abs(0.5-x_noisy[i, :])**4, check.T)\n",
    "#         result = np.dot(np.abs(x_noisy[i, :])**4, check.T)\n",
    "        index = result.argmin()\n",
    "        \n",
    "        if i == 0:\n",
    "            code = codeword[index, :]\n",
    "        else :\n",
    "            code = np.vstack((code, codeword[index, :]))\n",
    " \n",
    "    return code"
   ]
  },
  {
   "cell_type": "code",
   "execution_count": 8,
   "metadata": {},
   "outputs": [],
   "source": [
    "def mld_func(x_noisy):\n",
    "    codeword = np.loadtxt('input.txt')\n",
    "\n",
    "    for i in range(x_noisy.shape[0]):\n",
    "        check = np.dot(x_noisy[i, :], codeword.T)\n",
    "        index = check.argmax()\n",
    "        if i == 0:\n",
    "            code = codeword[index, :]\n",
    "        else :\n",
    "            code = np.vstack((code, codeword[index, :]))\n",
    " \n",
    "    return np.where(code < 0, 1, 0)"
   ]
  },
  {
   "cell_type": "code",
   "execution_count": 9,
   "metadata": {},
   "outputs": [],
   "source": [
    "def exp_mld(x_noisy):\n",
    "    codeword = np.loadtxt('input.txt')\n",
    "    codeword = np.where(codeword < 0, 1, 0)\n",
    "\n",
    "    x_compare = np.where(x_noisy < 0.5, 1, 0)\n",
    "        \n",
    "    for i in range(x_noisy.shape[0]):\n",
    "        check = (x_compare[i,:] + codeword) % 2\n",
    "        result = np.dot(np.exp(np.abs(0.5-x_noisy[i, :])), check.T)\n",
    "        index = result.argmin()\n",
    "        \n",
    "        if i == 0:\n",
    "            code = codeword[index, :]\n",
    "        else :\n",
    "            code = np.vstack((code, codeword[index, :]))\n",
    " \n",
    "    return code"
   ]
  },
  {
   "cell_type": "code",
   "execution_count": 10,
   "metadata": {},
   "outputs": [],
   "source": [
    "def exp_square_mld(x_noisy):\n",
    "    codeword = np.loadtxt('input.txt')\n",
    "    codeword = np.where(codeword < 0, 1, 0)\n",
    "\n",
    "    x_compare = np.where(x_noisy < 0.5, 1, 0)\n",
    "        \n",
    "    for i in range(x_noisy.shape[0]):\n",
    "        check = (x_compare[i,:] + codeword) % 2\n",
    "        result = np.dot(np.exp(np.square(np.abs(0.5-x_noisy[i, :])))+1, check.T)\n",
    "        index = result.argmin()\n",
    "        \n",
    "        if i == 0:\n",
    "            code = codeword[index, :]\n",
    "        else :\n",
    "            code = np.vstack((code, codeword[index, :]))\n",
    " \n",
    "    return code"
   ]
  },
  {
   "cell_type": "code",
   "execution_count": 15,
   "metadata": {},
   "outputs": [],
   "source": [
    "square_BER = np.zeros(11)\n",
    "# exp_square_BER = np.zeros(11)\n",
    "mld_BER = np.zeros(11)\n",
    "mld_2_BER = np.zeros(11)"
   ]
  },
  {
   "cell_type": "code",
   "execution_count": 12,
   "metadata": {},
   "outputs": [],
   "source": [
    "# model = load_model('model_relu_softstep_0.4.h5', custom_objects={'custom_activation':custom_activation})\n",
    "model = load_model('model_cus_relu.h5')"
   ]
  },
  {
   "cell_type": "code",
   "execution_count": 16,
   "metadata": {},
   "outputs": [
    {
     "name": "stdout",
     "output_type": "stream",
     "text": [
      "0 Eb/No start\n",
      "0 Eb/No end\n",
      "1 Eb/No start\n",
      "1 Eb/No end\n",
      "2 Eb/No start\n",
      "2 Eb/No end\n",
      "3 Eb/No start\n",
      "3 Eb/No end\n",
      "4 Eb/No start\n",
      "4 Eb/No end\n",
      "5 Eb/No start\n",
      "5 Eb/No end\n",
      "6 Eb/No start\n",
      "6 Eb/No end\n",
      "7 Eb/No start\n",
      "7 Eb/No end\n",
      "8 Eb/No start\n",
      "8 Eb/No end\n",
      "9 Eb/No start\n",
      "9 Eb/No end\n",
      "10 Eb/No start\n",
      "10 Eb/No end\n"
     ]
    }
   ],
   "source": [
    "# file_buffer = 'result/syn_ae_result_3.txt'\n",
    "# syn_ae_f = open(file_buffer, 'w')\n",
    "\n",
    "# file_buffer = 'result/MLD_result_3.txt'\n",
    "# mld_f = open(file_buffer, 'w')\n",
    "\n",
    "# file_buffer = 'result/MLD_ae_result_3.txt'\n",
    "# mld_ae_f = open(file_buffer, 'w')\n",
    "\n",
    "# file_buffer = 'result/golay_result_3.txt'\n",
    "# golay_f = open(file_buffer, 'w')\n",
    "\n",
    "for i in range(0, 11):\n",
    "    total_square_BER = 0\n",
    "#     total_exp_square_BER = 0\n",
    "    total_mld_BER = 0\n",
    "    total_mld_2_BER = 0\n",
    "    print(i,'Eb/No start')\n",
    "    \n",
    "    for j in range(10**1):\n",
    "        Eb_No = 10**(i/10)\n",
    "        Es_No = Eb_No * (12/23)\n",
    "    \n",
    "        m = np.random.randint(2, size=(10**2, 12))\n",
    "        G= np.concatenate((P, np.eye(12, dtype=\"int\")), axis=1)\n",
    "        x_test = np.dot(m, G) % 2\n",
    "        x_test = np.where(x_test > 0, -1, 1)\n",
    "    \n",
    "        x_test_noisy = awgn(x_test, Es_No)\n",
    "    \n",
    "#         x_input = (x_test_noisy + 1) / 2\n",
    "\n",
    "        #auto encoding start\n",
    "        decoded_codes = model.predict(x_test_noisy, verbose=0)\n",
    "#         decoded_codes = model.predict(x_input, verbose=0)\n",
    "        decoded_codes = np.reshape(decoded_codes, (x_test_noisy.shape[0], 23))\n",
    "\n",
    "        #mld\n",
    "        square_code = square_mld(decoded_codes)\n",
    "#         exp_square_code = square_3_mld(decoded_codes)\n",
    "        mld_code = mld_func(x_test_noisy)\n",
    "        mld_2_code = mld_func(decoded_codes)\n",
    "        \n",
    "        square_count = ((m + square_code[:,11:])%2).sum()\n",
    "#         exp_square_count = ((m + exp_square_code[:,11:])%2).sum()\n",
    "        mld_count = ((m + mld_code[:,11:])%2).sum()\n",
    "        mld_2_count = ((m + mld_2_code[:,11:])%2).sum()\n",
    "        \n",
    "        total_square_BER += square_count / (m.shape[0] * m.shape[1])\n",
    "#         total_exp_square_BER += exp_square_count / (m.shape[0] * m.shape[1])\n",
    "        total_mld_BER += mld_count / (m.shape[0] * m.shape[1])\n",
    "        total_mld_2_BER += mld_2_count / (m.shape[0] * m.shape[1])\n",
    "        \n",
    "    square_BER[i] = total_square_BER/(10**1)\n",
    "#     exp_square_BER[i] = total_exp_square_BER/(10**1)\n",
    "    mld_BER[i] = total_mld_BER/(10**1)\n",
    "    mld_2_BER[i] = total_mld_2_BER/(10**1)\n",
    "    \n",
    "#     write_buffer = 'Eb_No, %f, ' %(i)\n",
    "#     syn_ae_f.write(write_buffer)\n",
    "#     mld_f.write(write_buffer)\n",
    "#     mld_ae_f.write(write_buffer)\n",
    "#     golay_f.write(write_buffer)\n",
    "    \n",
    "#     write_buffer = 'BER, %.10f\\n' % (syn_BER[i])\n",
    "#     syn_ae_f.write(write_buffer)\n",
    "#     write_buffer = 'BER, %.10f\\n' % (mld_BER[i])\n",
    "#     mld_f.write(write_buffer)\n",
    "#     write_buffer = 'BER, %.10f\\n' % (mld_ae_BER[i])\n",
    "#     mld_ae_f.write(write_buffer)\n",
    "#     write_buffer = 'BER, %.10f\\n' % (golay_BER[i])\n",
    "#     golay_f.write(write_buffer)\n",
    "    \n",
    "    print(i,'Eb/No end')\n",
    "# syn_ae_f.close()\n",
    "# mld_f.close()\n",
    "# mld_ae_f.close()\n",
    "# golay_f.close()"
   ]
  },
  {
   "cell_type": "code",
   "execution_count": 18,
   "metadata": {},
   "outputs": [
    {
     "data": {
      "image/png": "[encoded data removed]",
      "text/plain": [
       "<Figure size 432x288 with 1 Axes>"
      ]
     },
     "metadata": {
      "needs_background": "light"
     },
     "output_type": "display_data"
    }
   ],
   "source": [
    "x = np.array(range(0, 11))\n",
    "\n",
    "plt.semilogy(x,square_BER, label='square', color='b')\n",
    "# plt.semilogy(x,exp_square_BER, label='exp_square', color='g')\n",
    "plt.semilogy(x,mld_BER, label='mld', color='k')\n",
    "plt.semilogy(x,mld_2_BER, label='mld_2', color='c')\n",
    "# plt.semilogy(x,bpsk_BER, label='bpsk', color='k')\n",
    "\n",
    "\n",
    "plt.xlabel('Eb/No')\n",
    "plt.ylabel('BER')\n",
    "\n",
    "plt.legend()\n",
    "plt.grid(True)\n",
    "plt.show()"
   ]
  },
  {
   "cell_type": "code",
   "execution_count": null,
   "metadata": {},
   "outputs": [],
   "source": [
    "np.savetxt('square.txt',square_BER)\n",
    "# np.savetxt('exp_square.txt',exp_square_BER)\n",
    "np.savetxt('mld.txt', mld_BER)\n"
   ]
  },
  {
   "cell_type": "code",
   "execution_count": null,
   "metadata": {},
   "outputs": [],
   "source": []
  }
 ],
 "metadata": {
  "kernelspec": {
   "display_name": "Python 3",
   "language": "python",
   "name": "python3"
  },
  "language_info": {
   "codemirror_mode": {
    "name": "ipython",
    "version": 3
   },
   "file_extension": ".py",
   "mimetype": "text/x-python",
   "name": "python",
   "nbconvert_exporter": "python",
   "pygments_lexer": "ipython3",
   "version": "3.6.4"
  }
 },
 "nbformat": 4,
 "nbformat_minor": 2
}
