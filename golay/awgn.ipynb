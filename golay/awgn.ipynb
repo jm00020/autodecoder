{
 "cells": [
  {
   "cell_type": "code",
   "execution_count": 1,
   "metadata": {},
   "outputs": [],
   "source": [
    "import numpy as np"
   ]
  },
  {
   "cell_type": "code",
   "execution_count": 39,
   "metadata": {},
   "outputs": [],
   "source": [
    "reqSNR = 10"
   ]
  },
  {
   "cell_type": "code",
   "execution_count": 3,
   "metadata": {},
   "outputs": [],
   "source": [
    "a = np.random.randint(0,2, size=(10**6, 23))"
   ]
  },
  {
   "cell_type": "code",
   "execution_count": 4,
   "metadata": {},
   "outputs": [
    {
     "name": "stdout",
     "output_type": "stream",
     "text": [
      "[[1 0 1 ... 1 0 1]\n",
      " [0 0 1 ... 0 1 0]\n",
      " [1 1 0 ... 0 1 0]\n",
      " ...\n",
      " [1 0 0 ... 1 1 1]\n",
      " [0 0 0 ... 0 0 1]\n",
      " [0 0 1 ... 1 1 1]]\n"
     ]
    }
   ],
   "source": [
    "print(a)"
   ]
  },
  {
   "cell_type": "code",
   "execution_count": 5,
   "metadata": {},
   "outputs": [],
   "source": [
    "for i in range(a.shape[0]):\n",
    "    for j in range(a.shape[1]):\n",
    "        if a[i, j] == 0:\n",
    "            a[i, j] = 1\n",
    "        if a[i, j] == 1:\n",
    "            a[i, j] = -1"
   ]
  },
  {
   "cell_type": "code",
   "execution_count": 6,
   "metadata": {},
   "outputs": [
    {
     "name": "stdout",
     "output_type": "stream",
     "text": [
      "[[1 1 1 ... 1 1 1]\n",
      " [1 1 1 ... 1 1 1]\n",
      " [1 1 1 ... 1 1 1]\n",
      " ...\n",
      " [1 1 1 ... 1 1 1]\n",
      " [1 1 1 ... 1 1 1]\n",
      " [1 1 1 ... 1 1 1]]\n"
     ]
    }
   ],
   "source": [
    "print(abs(a))"
   ]
  },
  {
   "cell_type": "code",
   "execution_count": 7,
   "metadata": {},
   "outputs": [
    {
     "name": "stdout",
     "output_type": "stream",
     "text": [
      "[[1 1 1 ... 1 1 1]\n",
      " [1 1 1 ... 1 1 1]\n",
      " [1 1 1 ... 1 1 1]\n",
      " ...\n",
      " [1 1 1 ... 1 1 1]\n",
      " [1 1 1 ... 1 1 1]\n",
      " [1 1 1 ... 1 1 1]]\n"
     ]
    }
   ],
   "source": [
    "print(abs(a)**2)"
   ]
  },
  {
   "cell_type": "code",
   "execution_count": 8,
   "metadata": {},
   "outputs": [
    {
     "name": "stdout",
     "output_type": "stream",
     "text": [
      "[23 23 23 ... 23 23 23]\n"
     ]
    }
   ],
   "source": [
    "print(np.sum(abs(a)**2, axis=1))"
   ]
  },
  {
   "cell_type": "code",
   "execution_count": 40,
   "metadata": {},
   "outputs": [
    {
     "name": "stdout",
     "output_type": "stream",
     "text": [
      "[1. 1. 1. ... 1. 1. 1.]\n"
     ]
    }
   ],
   "source": [
    "sig_power = np.sum(abs(a)**2, axis=1)/a.shape[1]\n",
    "print(sig_power)"
   ]
  },
  {
   "cell_type": "code",
   "execution_count": 41,
   "metadata": {},
   "outputs": [
    {
     "name": "stdout",
     "output_type": "stream",
     "text": [
      "[1.25892541 1.25892541 1.25892541 ... 1.25892541 1.25892541 1.25892541] 10.0\n"
     ]
    }
   ],
   "source": [
    "sig_power = 10**(sig_power/10)\n",
    "reqSNR = 10**(reqSNR/10)\n",
    "print(sig_power, reqSNR)"
   ]
  },
  {
   "cell_type": "code",
   "execution_count": 42,
   "metadata": {},
   "outputs": [],
   "source": [
    "noise_power = sig_power / reqSNR"
   ]
  },
  {
   "cell_type": "code",
   "execution_count": 43,
   "metadata": {},
   "outputs": [
    {
     "name": "stdout",
     "output_type": "stream",
     "text": [
      "[0.12589254 0.12589254 0.12589254 ... 0.12589254 0.12589254 0.12589254]\n",
      "[10. 10. 10. ... 10. 10. 10.]\n",
      "[[0.12589254]\n",
      " [0.12589254]\n",
      " [0.12589254]\n",
      " ...\n",
      " [0.12589254]\n",
      " [0.12589254]\n",
      " [0.12589254]]\n"
     ]
    }
   ],
   "source": [
    "print(noise_power)\n",
    "print(sig_power / noise_power)\n",
    "noise_power = noise_power.reshape(10**6,1)\n",
    "print(noise_power)\n",
    "\n"
   ]
  },
  {
   "cell_type": "code",
   "execution_count": 44,
   "metadata": {},
   "outputs": [
    {
     "name": "stdout",
     "output_type": "stream",
     "text": [
      "[[-0.00491642  0.20786408  1.38887043 ... -0.9191469   0.11906839\n",
      "   0.58724344]\n",
      " [-0.51069396  1.42111092  0.40142208 ...  0.48684521  0.4800019\n",
      "   0.18429962]\n",
      " [ 0.18269553  0.24015591 -1.09703315 ...  0.70642263 -0.49772417\n",
      "   1.03996064]\n",
      " ...\n",
      " [-0.11130163  1.50169453  0.87497631 ... -2.74937557 -0.12922938\n",
      "   0.16339815]\n",
      " [ 0.40901826  0.59135573 -0.32148638 ...  0.09664746 -0.9637245\n",
      "   2.18341909]\n",
      " [-0.47941736  1.0172703  -1.95855865 ...  0.36555472 -1.3111636\n",
      "   0.69379357]]\n"
     ]
    }
   ],
   "source": [
    "random = np.random.normal(size = a.shape)\n",
    "print(random)\n",
    "noise = np.sqrt(noise_power) * random"
   ]
  },
  {
   "cell_type": "code",
   "execution_count": 45,
   "metadata": {},
   "outputs": [
    {
     "name": "stdout",
     "output_type": "stream",
     "text": [
      "[[-0.00174441  0.07375296  0.49278983 ... -0.32612563  0.04224706\n",
      "   0.20836183]\n",
      " [-0.18120105  0.50422918  0.14242993 ...  0.1727392   0.1703111\n",
      "   0.06539197]\n",
      " [ 0.06482282  0.08521053 -0.38924205 ...  0.25064821 -0.1765992\n",
      "   0.36899196]\n",
      " ...\n",
      " [-0.03949131  0.53282133  0.31045331 ... -0.97551527 -0.04585231\n",
      "   0.05797585]\n",
      " [ 0.14512516  0.20982093 -0.11406767 ...  0.03429181 -0.34194236\n",
      "   0.77470633]\n",
      " [-0.1701037   0.36094112 -0.69492283 ...  0.12970371 -0.4652184\n",
      "   0.24616725]]\n"
     ]
    }
   ],
   "source": [
    "print(noise)"
   ]
  },
  {
   "cell_type": "code",
   "execution_count": 46,
   "metadata": {},
   "outputs": [],
   "source": [
    "x = a  + noise"
   ]
  },
  {
   "cell_type": "code",
   "execution_count": 47,
   "metadata": {},
   "outputs": [
    {
     "name": "stdout",
     "output_type": "stream",
     "text": [
      "0.12587991881948754\n"
     ]
    }
   ],
   "source": [
    "print(np.var(x))"
   ]
  },
  {
   "cell_type": "code",
   "execution_count": null,
   "metadata": {},
   "outputs": [],
   "source": []
  }
 ],
 "metadata": {
  "kernelspec": {
   "display_name": "Python 3",
   "language": "python",
   "name": "python3"
  },
  "language_info": {
   "codemirror_mode": {
    "name": "ipython",
    "version": 3
   },
   "file_extension": ".py",
   "mimetype": "text/x-python",
   "name": "python",
   "nbconvert_exporter": "python",
   "pygments_lexer": "ipython3",
   "version": "3.6.4"
  }
 },
 "nbformat": 4,
 "nbformat_minor": 2
}
