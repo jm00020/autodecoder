{
 "cells": [
  {
   "cell_type": "code",
   "execution_count": 1,
   "metadata": {},
   "outputs": [
    {
     "name": "stderr",
     "output_type": "stream",
     "text": [
      "Using TensorFlow backend.\n"
     ]
    }
   ],
   "source": [
    "import matplotlib.pyplot as plt\n",
    "import numpy as np\n",
    "import keras\n",
    "from time import time\n",
    "from keras.layers import Dense, Input,Conv1D, MaxPooling1D, Flatten, Embedding, Reshape, UpSampling1D, LeakyReLU, ReLU\n",
    "from keras.models import Sequential, Model\n",
    "from tensorflow.python.keras.callbacks import TensorBoard\n",
    "from IPython.display import SVG\n",
    "from keras.utils.vis_utils import model_to_dot\n",
    "from keras.models import load_model\n",
    "import keras.backend as K\n",
    "\n",
    "import tensorflow as tf"
   ]
  },
  {
   "cell_type": "code",
   "execution_count": 2,
   "metadata": {},
   "outputs": [],
   "source": [
    "P = np.array([\n",
    "    [1, 0, 1, 0, 1, 1, 1, 0, 0, 0, 1],\n",
    "    [1, 1, 1, 1, 1, 0, 0, 1, 0, 0, 1],\n",
    "    [1, 1, 0, 1, 0, 0, 1, 0, 1, 0, 1],\n",
    "    [1, 1, 0, 0, 0, 1, 1, 1, 0, 1, 1],\n",
    "    [1, 1, 0, 0, 1, 1, 0, 1, 1, 0, 0],\n",
    "    [0, 1, 1, 0, 0, 1, 1, 0, 1, 1, 0],\n",
    "    [0, 0, 1, 1, 0, 0, 1, 1, 0, 1, 1],\n",
    "    [1, 0, 1, 1, 0, 1, 1, 1, 1, 0, 0],\n",
    "    [0, 1, 0, 1, 1, 0, 1, 1, 1, 1, 0],\n",
    "    [0, 0, 1, 0, 1, 1, 0, 1, 1, 1, 1],\n",
    "    [1, 0, 1, 1, 1, 0, 0, 0, 1, 1, 0],\n",
    "    [0, 1, 0, 1, 1, 1, 0, 0, 0, 1, 1],\n",
    "], dtype='int')"
   ]
  },
  {
   "cell_type": "code",
   "execution_count": 3,
   "metadata": {},
   "outputs": [],
   "source": [
    "def awgn(x_input, reqSNR):\n",
    "    sig_power = 1\n",
    "    \n",
    "    noise_power = np.sqrt(sig_power / (2*reqSNR))\n",
    "\n",
    "    noise = noise_power * np.random.normal(size = x_input.shape)\n",
    "    \n",
    "    return x_input + noise"
   ]
  },
  {
   "cell_type": "code",
   "execution_count": 4,
   "metadata": {},
   "outputs": [],
   "source": [
    "def custom_ReLU(x):\n",
    "#     return tf.minimum(tf.maximum(x,-1),1)  \n",
    "    return tf.minimum(x, 1)\n",
    "#     return 10*x*tf.exp(-0.1*tf.square(x))\n",
    "#     return x*tf.exp(tf.square(x))\n",
    "#     return tf.exp(-1*tf.square(x))"
   ]
  },
  {
   "cell_type": "code",
   "execution_count": 5,
   "metadata": {},
   "outputs": [],
   "source": [
    "def custom_func(x):\n",
    "    return tf.maximum(x,-1)\n",
    "#     return x*tf.exp(tf.square(x))"
   ]
  },
  {
   "cell_type": "code",
   "execution_count": 6,
   "metadata": {},
   "outputs": [],
   "source": [
    "m = np.random.randint(2, size=(10**7, 12))\n",
    "G= np.concatenate((P, np.eye(12, dtype=\"int\")), axis=1)\n",
    "x_train = np.dot(m, G) % 2\n",
    "x_train = np.where(x_train > 0, -1, 1)\n",
    "    \n",
    "m = np.random.randint(2, size=(10**3, 12))\n",
    "x_test = np.dot(m, G) % 2\n",
    "x_test = np.where(x_test > 0, -1, 1)    \n",
    "    \n",
    "Eb_No = 10**(3/10)\n",
    "Es_No = Eb_No * (12/23)\n",
    "x_train_noisy = awgn(x_train, Es_No)\n",
    "x_test_noisy = awgn(x_test, Es_No)"
   ]
  },
  {
   "cell_type": "code",
   "execution_count": 7,
   "metadata": {},
   "outputs": [],
   "source": [
    "# x_train_noisy = (x_train_noisy + 1) / 2 \n",
    "# x_train = (x_train + 1) / 2\n",
    "# x_test_noisy = (x_test_noisy + 1) / 2\n",
    "# x_test = (x_test + 1) / 2"
   ]
  },
  {
   "cell_type": "code",
   "execution_count": 9,
   "metadata": {},
   "outputs": [],
   "source": [
    "model = Sequential()\n",
    "\n",
    "model.add(Dense(12, activation=custom_func,input_dim=23))\n",
    "model.add(Dense(6, activation=custom_ReLU))\n",
    "model.add(Dense(3, activation=custom_func))\n",
    "model.add(Dense(2, activation=custom_ReLU))\n",
    "model.add(Dense(3, activation=custom_func))\n",
    "model.add(Dense(6, activation=custom_ReLU))\n",
    "model.add(Dense(12, activation=custom_func))\n",
    "model.add(Dense(23, activation='linear'))\n",
    "# model.compile(optimizer='adam', loss='binary_crossentropy', metrics=['accuracy'])\n",
    "model.compile(optimizer='adam', loss='mean_squared_error', metrics=['accuracy'])\n"
   ]
  },
  {
   "cell_type": "code",
   "execution_count": null,
   "metadata": {},
   "outputs": [],
   "source": [
    "model.fit(x_train_noisy, x_train, \n",
    "          epochs=100,\n",
    "          batch_size=10000,\n",
    "          shuffle=True,\n",
    "          validation_data=(x_test_noisy, x_test))"
   ]
  },
  {
   "cell_type": "code",
   "execution_count": 41,
   "metadata": {},
   "outputs": [
    {
     "name": "stdout",
     "output_type": "stream",
     "text": [
      "output 0.49666666666666665\n",
      "input 0.07458333333333333\n",
      "x:  [-1 -1 -1  1  1  1 -1 -1 -1  1 -1  1 -1 -1 -1  1  1  1 -1  1  1 -1  1] \n",
      "n:  [0 1 1 1 0 0 0 1 0 0 1 0] \n",
      "decode: [1 0 1 1 0 0 0 0 0 0 1 0 1 1 0 0 0 1 0 0 1 1 1]\n"
     ]
    },
    {
     "data": {
      "image/png": "[encoded data removed]",
      "text/plain": [
       "<Figure size 432x288 with 4 Axes>"
      ]
     },
     "metadata": {
      "needs_background": "light"
     },
     "output_type": "display_data"
    }
   ],
   "source": [
    "decoded_imgs = model.predict(x_test_noisy)\n",
    "  \n",
    "decoded_imgs = np.reshape(decoded_imgs, (len(x_test), 23))\n",
    "\n",
    "n = 25\n",
    "\n",
    "            \n",
    "for i in range(24, n):\n",
    "    # display original\n",
    "    \n",
    "    plt.subplot(411)\n",
    "    plt.plot(x_test[i].reshape(23), 'b')\n",
    "\n",
    "\n",
    "\n",
    "    # display noisy\n",
    "    \n",
    "    plt.subplot(412)\n",
    "    plt.plot(x_test_noisy[i].reshape(23), 'g')\n",
    "\n",
    "\n",
    "\n",
    "    # display reconstruction\n",
    "\n",
    "    plt.subplot(413)\n",
    "    plt.plot(decoded_imgs[i].reshape(23), 'r')\n",
    "    \n",
    "    decoded_imgs = np.where(decoded_imgs < 0, 1, 0)     \n",
    "    count = ((m+decoded_imgs[:,11:])%2).sum()\n",
    "    print('output', count/(m.shape[0]*m.shape[1]))\n",
    "    x_input = np.where(x_test_noisy < 0, 1, 0)\n",
    "    count = ((m+x_input[:,11:])%2).sum()\n",
    "    print('input', count/(m.shape[0]*m.shape[1]))\n",
    "    \n",
    "    plt.subplot(414)\n",
    "    plt.plot(decoded_imgs[i].reshape(23), 'c')\n",
    "    \n",
    "    print(\"x: \", x_test[i], \"\\nn: \", m[i],\"\\ndecode:\", decoded_imgs[i])\n",
    "\n",
    "plt.show()\n",
    "\n"
   ]
  },
  {
   "cell_type": "code",
   "execution_count": null,
   "metadata": {},
   "outputs": [],
   "source": [
    "\n",
    "model.save('model_cus_relu.h5')"
   ]
  },
  {
   "cell_type": "code",
   "execution_count": null,
   "metadata": {},
   "outputs": [],
   "source": []
  }
 ],
 "metadata": {
  "kernelspec": {
   "display_name": "Python 3",
   "language": "python",
   "name": "python3"
  },
  "language_info": {
   "codemirror_mode": {
    "name": "ipython",
    "version": 3
   },
   "file_extension": ".py",
   "mimetype": "text/x-python",
   "name": "python",
   "nbconvert_exporter": "python",
   "pygments_lexer": "ipython3",
   "version": "3.6.4"
  }
 },
 "nbformat": 4,
 "nbformat_minor": 2
}
