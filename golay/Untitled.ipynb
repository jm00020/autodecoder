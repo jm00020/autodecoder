{
 "cells": [
  {
   "cell_type": "code",
   "execution_count": 25,
   "metadata": {},
   "outputs": [],
   "source": [
    "import numpy as np\n",
    "from scipy import special\n",
    "import matplotlib.pyplot as plt"
   ]
  },
  {
   "cell_type": "code",
   "execution_count": 26,
   "metadata": {},
   "outputs": [],
   "source": [
    "bpsk_BER = np.zeros(11)"
   ]
  },
  {
   "cell_type": "code",
   "execution_count": 28,
   "metadata": {},
   "outputs": [],
   "source": [
    "for i in range(11):\n",
    "    bpsk_BER[i] = 0.5 * special.erfc((np.sqrt(2*10**(i/10)))/np.sqrt(2))\n"
   ]
  },
  {
   "cell_type": "code",
   "execution_count": 29,
   "metadata": {},
   "outputs": [
    {
     "data": {
      "image/png": "[encoded data removed]",
      "text/plain": [
       "<Figure size 432x288 with 1 Axes>"
      ]
     },
     "metadata": {
      "needs_background": "light"
     },
     "output_type": "display_data"
    }
   ],
   "source": [
    "x = np.array(range(0, 11))\n",
    "\n",
    "plt.semilogy(x, bpsk_BER)\n",
    "\n",
    "plt.xlabel('Eb/No')\n",
    "plt.ylabel('BER')\n",
    "\n",
    "plt.grid(True)\n",
    "plt.show()"
   ]
  },
  {
   "cell_type": "code",
   "execution_count": 37,
   "metadata": {},
   "outputs": [],
   "source": [
    "m= np.array([[1,2], [3, 4]])"
   ]
  },
  {
   "cell_type": "code",
   "execution_count": 31,
   "metadata": {},
   "outputs": [],
   "source": [
    "b = [[2,2], [2,4]]"
   ]
  },
  {
   "cell_type": "code",
   "execution_count": 38,
   "metadata": {},
   "outputs": [
    {
     "name": "stdout",
     "output_type": "stream",
     "text": [
      "[[1 1]\n",
      " [1 0]]\n"
     ]
    }
   ],
   "source": [
    "m[m <= 3] = 1\n",
    "m[m > 2] = 0\n",
    "print(m)"
   ]
  },
  {
   "cell_type": "code",
   "execution_count": 42,
   "metadata": {},
   "outputs": [
    {
     "name": "stdout",
     "output_type": "stream",
     "text": [
      "[[ 1.38894583  0.85344638  1.25254786  0.46625747]\n",
      " [-1.0249747   1.03698885 -1.08724958 -0.05088966]\n",
      " [-0.94833873  0.51299892 -0.03812218  0.6424784 ]\n",
      " [ 1.25472895 -0.0099077   2.72266317  1.11676293]]\n",
      "[[ 1.38894583  0.85344638  1.25254786  0.46625747]\n",
      " [-1.0249747   1.03698885 -1.08724958 -0.05088966]\n",
      " [-0.94833873  0.51299892 -0.03812218  0.6424784 ]\n",
      " [ 1.25472895 -0.0099077   2.72266317  1.11676293]]\n"
     ]
    }
   ],
   "source": [
    "arr = np.random.randn(4,4)\n",
    "\n",
    "\n",
    "print(arr)\n",
    "\n",
    "np.where(arr > 0 , 2 , -2)\n",
    "\n",
    "print(arr)\n"
   ]
  },
  {
   "cell_type": "code",
   "execution_count": 74,
   "metadata": {},
   "outputs": [],
   "source": [
    "x_test = np.loadtxt('input.txt')\n",
    "x = np.loadtxt('input.txt')\n",
    "\n",
    "for i in range(10):\n",
    "    x_test = np.vstack((x_test, x))\n",
    "\n",
    "x_test = np.reshape(x_test, (len(x_test), 23))"
   ]
  },
  {
   "cell_type": "code",
   "execution_count": 75,
   "metadata": {},
   "outputs": [],
   "source": [
    "def awgn(x_input, reqSNR):\n",
    "    sig_power = 1\n",
    "#     sig_power = np.sqrt(2*10**(sig_power / 10))\n",
    "    reqSNR = np.sqrt(2*10**(reqSNR / 10))\n",
    "    \n",
    "    noise_power = sig_power / reqSNR\n",
    "    \n",
    "    noise = noise_power * np.random.normal(size = x_input.shape)\n",
    "    \n",
    "    return x_input + noise"
   ]
  },
  {
   "cell_type": "code",
   "execution_count": 76,
   "metadata": {},
   "outputs": [],
   "source": [
    "bpsk_BER_2 = np.zeros(11)\n",
    "m = np.loadtxt('m.txt')"
   ]
  },
  {
   "cell_type": "code",
   "execution_count": 77,
   "metadata": {},
   "outputs": [
    {
     "name": "stdout",
     "output_type": "stream",
     "text": [
      "42114\n",
      "30500\n",
      "20041\n",
      "12429\n",
      "6709\n",
      "3166\n",
      "1341\n",
      "382\n",
      "98\n",
      "18\n",
      "2\n"
     ]
    }
   ],
   "source": [
    "for i in range(0, 11):\n",
    "    snr_db = i\n",
    "    x_test_noisy = awgn(x_test, snr_db)\n",
    "    x_demod = x_test_noisy\n",
    "    \n",
    "    x_demod = np.where(x_demod < 0, 1, 0)   \n",
    "    bpsk_count = 0\n",
    "\n",
    "    for j in range(x_test.shape[0]):\n",
    "        for k in range(m.shape[1]):\n",
    "            if m[(j%m.shape[0]), k] != x_demod[j, 11+k]:\n",
    "                bpsk_count += 1\n",
    "    print(bpsk_count)\n",
    "    bpsk_BER_2[i] = bpsk_count / (x_test.shape[0] * m.shape[1])"
   ]
  },
  {
   "cell_type": "code",
   "execution_count": 78,
   "metadata": {},
   "outputs": [
    {
     "data": {
      "image/png": "[encoded data removed]",
      "text/plain": [
       "<Figure size 432x288 with 1 Axes>"
      ]
     },
     "metadata": {
      "needs_background": "light"
     },
     "output_type": "display_data"
    }
   ],
   "source": [
    "x = np.array(range(0, 11))\n",
    "plt.semilogy(x,bpsk_BER_2, label='bpsk_2', color='k')\n",
    "\n",
    "plt.xlabel('Eb/No')\n",
    "plt.ylabel('BER')\n",
    "\n",
    "plt.legend()\n",
    "plt.grid(True)\n",
    "plt.show()"
   ]
  },
  {
   "cell_type": "code",
   "execution_count": 1,
   "metadata": {},
   "outputs": [
    {
     "name": "stdout",
     "output_type": "stream",
     "text": [
      "[0 1 2 3 4 5 6 7 8]\n"
     ]
    }
   ],
   "source": [
    "import numpy as np\n",
    "arr = np.arange(9)\n",
    "print(arr)"
   ]
  },
  {
   "cell_type": "code",
   "execution_count": 2,
   "metadata": {},
   "outputs": [
    {
     "name": "stdout",
     "output_type": "stream",
     "text": [
      "[[0 1 2]\n",
      " [3 4 5]\n",
      " [6 7 8]]\n",
      "[[0 1 2]\n",
      " [6 7 8]\n",
      " [3 4 5]]\n"
     ]
    }
   ],
   "source": [
    "arr = np.reshape(arr, (3, 3))\n",
    "print(arr)\n",
    "np.random.shuffle(arr)\n",
    "print(arr)"
   ]
  },
  {
   "cell_type": "code",
   "execution_count": 5,
   "metadata": {},
   "outputs": [],
   "source": [
    "m = np.array([[1, 0], [1, 1]])\n",
    "n = np.array([0, 0])"
   ]
  },
  {
   "cell_type": "code",
   "execution_count": 6,
   "metadata": {},
   "outputs": [
    {
     "name": "stdout",
     "output_type": "stream",
     "text": [
      "[[1 0]\n",
      " [1 1]]\n",
      "[[1 0]\n",
      " [1 1]]\n"
     ]
    }
   ],
   "source": [
    "print(n+m)\n",
    "k = n+m\n",
    "print(m)"
   ]
  },
  {
   "cell_type": "code",
   "execution_count": 21,
   "metadata": {},
   "outputs": [
    {
     "name": "stdout",
     "output_type": "stream",
     "text": [
      "(array([0, 1, 1], dtype=int64), array([0, 0, 1], dtype=int64))\n",
      "[1 1 1]\n"
     ]
    }
   ],
   "source": [
    "a = np.where(k==1)\n",
    "print(a)\n",
    "a = np.array(a)\n",
    "print(k[np.where(k==1)])"
   ]
  },
  {
   "cell_type": "code",
   "execution_count": 55,
   "metadata": {},
   "outputs": [
    {
     "name": "stdout",
     "output_type": "stream",
     "text": [
      "(array([0, 1, 1], dtype=int64), array([0, 0, 1], dtype=int64))\n"
     ]
    }
   ],
   "source": [
    "print(np.where(k==1))"
   ]
  },
  {
   "cell_type": "code",
   "execution_count": 32,
   "metadata": {},
   "outputs": [
    {
     "name": "stdout",
     "output_type": "stream",
     "text": [
      "[0]\n",
      "[1]\n"
     ]
    }
   ],
   "source": [
    "for i in range(a.shape[1]):\n",
    "    print(a[:,i])"
   ]
  },
  {
   "cell_type": "code",
   "execution_count": 106,
   "metadata": {},
   "outputs": [
    {
     "name": "stdout",
     "output_type": "stream",
     "text": [
      "[[0, 1], [0, 0]]\n"
     ]
    }
   ],
   "source": [
    "b = [[0, 1], [0, 0]]\n",
    "print(b)"
   ]
  },
  {
   "cell_type": "code",
   "execution_count": 108,
   "metadata": {},
   "outputs": [
    {
     "name": "stdout",
     "output_type": "stream",
     "text": [
      "[[1 1]\n",
      " [1 0]]\n",
      "(array([0, 1], dtype=int64),)\n"
     ]
    }
   ],
   "source": [
    "c = (k[0,:]+b)%2\n",
    "print(c)\n",
    "\n",
    "index = np.where(c[0,:] == 1)\n",
    "print(index)"
   ]
  },
  {
   "cell_type": "code",
   "execution_count": 111,
   "metadata": {},
   "outputs": [
    {
     "name": "stdout",
     "output_type": "stream",
     "text": [
      "[[1 0]]\n"
     ]
    }
   ],
   "source": [
    "print(k[0,index])\n"
   ]
  },
  {
   "cell_type": "code",
   "execution_count": 79,
   "metadata": {},
   "outputs": [
    {
     "name": "stdout",
     "output_type": "stream",
     "text": [
      "[[[0.5]]]\n",
      "0.5\n"
     ]
    }
   ],
   "source": [
    "print(y)\n",
    "print((y).sum())"
   ]
  },
  {
   "cell_type": "code",
   "execution_count": 113,
   "metadata": {},
   "outputs": [
    {
     "name": "stdout",
     "output_type": "stream",
     "text": [
      "[[4 9]\n",
      " [1 4]]\n"
     ]
    }
   ],
   "source": [
    "print(m**2)"
   ]
  },
  {
   "cell_type": "code",
   "execution_count": 114,
   "metadata": {},
   "outputs": [
    {
     "name": "stdout",
     "output_type": "stream",
     "text": [
      "[[ 7.3890561  20.08553692]\n",
      " [ 2.71828183  7.3890561 ]]\n"
     ]
    }
   ],
   "source": [
    "print(np.exp(m))"
   ]
  },
  {
   "cell_type": "code",
   "execution_count": 115,
   "metadata": {},
   "outputs": [
    {
     "name": "stdout",
     "output_type": "stream",
     "text": [
      "7.38905609893065 20.085536923187668 2.718281828459045\n"
     ]
    }
   ],
   "source": [
    "print(np.exp(2), np.exp(3), np.exp(1))"
   ]
  },
  {
   "cell_type": "code",
   "execution_count": null,
   "metadata": {},
   "outputs": [],
   "source": []
  }
 ],
 "metadata": {
  "kernelspec": {
   "display_name": "Python 3",
   "language": "python",
   "name": "python3"
  },
  "language_info": {
   "codemirror_mode": {
    "name": "ipython",
    "version": 3
   },
   "file_extension": ".py",
   "mimetype": "text/x-python",
   "name": "python",
   "nbconvert_exporter": "python",
   "pygments_lexer": "ipython3",
   "version": "3.6.4"
  }
 },
 "nbformat": 4,
 "nbformat_minor": 2
}
