{
 "cells": [
  {
   "cell_type": "code",
   "execution_count": 1,
   "metadata": {},
   "outputs": [],
   "source": [
    "import os\n",
    "os.environ[\"CUDA_VISIBLE_DEVICES\"]=\"\""
   ]
  },
  {
   "cell_type": "code",
   "execution_count": 2,
   "metadata": {},
   "outputs": [
    {
     "name": "stderr",
     "output_type": "stream",
     "text": [
      "Using TensorFlow backend.\n"
     ]
    }
   ],
   "source": [
    "import numpy as np\n",
    "import keras\n",
    "from keras.models import load_model\n",
    "import time\n",
    "import pickle\n",
    "\n",
    "import tensorflow as tf\n",
    "\n",
    "P = np.array([\n",
    "    [1, 0, 1, 0, 1, 1, 1, 0, 0, 0, 1],\n",
    "    [1, 1, 1, 1, 1, 0, 0, 1, 0, 0, 1],\n",
    "    [1, 1, 0, 1, 0, 0, 1, 0, 1, 0, 1],\n",
    "    [1, 1, 0, 0, 0, 1, 1, 1, 0, 1, 1],\n",
    "    [1, 1, 0, 0, 1, 1, 0, 1, 1, 0, 0],\n",
    "    [0, 1, 1, 0, 0, 1, 1, 0, 1, 1, 0],\n",
    "    [0, 0, 1, 1, 0, 0, 1, 1, 0, 1, 1],\n",
    "    [1, 0, 1, 1, 0, 1, 1, 1, 1, 0, 0],\n",
    "    [0, 1, 0, 1, 1, 0, 1, 1, 1, 1, 0],\n",
    "    [0, 0, 1, 0, 1, 1, 0, 1, 1, 1, 1],\n",
    "    [1, 0, 1, 1, 1, 0, 0, 0, 1, 1, 0],\n",
    "    [0, 1, 0, 1, 1, 1, 0, 0, 0, 1, 1],\n",
    "], dtype='int')\n",
    "\n",
    "with open('syndrome.pickle', 'rb') as syn:\n",
    "    syndrome = pickle.load(syn)\n",
    "\n",
    "def syndrome_decoding(codes):\n",
    "    H = np.concatenate((np.eye(11, dtype=\"int\"), P.T), axis=1)\n",
    "    fix_code = []\n",
    "    for code in codes:\n",
    "        code_syndrome = tuple(np.dot(code, H.T) % 2)\n",
    "        error_code = syndrome[code_syndrome]\n",
    "        fix_code.append((code + error_code) % 2)\n",
    "    return np.array(fix_code)\n",
    "    \n",
    "def awgn(x_input, Es_No):\n",
    "    sig_power = 1\n",
    "    \n",
    "    noise_power = np.sqrt(sig_power / (2 * Es_No))\n",
    "    \n",
    "    noise = noise_power * np.random.normal(size = x_input.shape)\n",
    "    \n",
    "    return x_input + noise\n",
    "    \n",
    "def mld_func(x_noisy):\n",
    "    codeword = np.loadtxt('input.txt')\n",
    "    \n",
    "    for i in range(x_noisy.shape[0]):\n",
    "        check = np.dot(x_noisy[i, :], codeword.T)\n",
    "        max_check = np.max(check)\n",
    "        index = np.where(check == max_check)[0][0]\n",
    "        if i == 0:\n",
    "            mld_code = codeword[index, :]\n",
    "        else :\n",
    "            mld_code = np.vstack((mld_code, codeword[index, :]))\n",
    " \n",
    "    return np.where(mld_code < 0, 1, 0)\n",
    "    \n",
    "m = np.random.randint(2, size=(1, 12))\n",
    "G= np.concatenate((P, np.eye(12, dtype=\"int\")), axis=1)\n",
    "x_test = np.dot(m, G) % 2\n",
    "x_test = np.where(x_test > 0, -1, 1)\n",
    "\n",
    "Eb_No = 10**(3/10)\n",
    "Es_No = Eb_No * (12/23)\n",
    "\n",
    "x_test_noisy = awgn(x_test, Es_No)\n",
    "\n",
    "masking = np.ones((1,1))\n",
    "x_test_noisy_1 = np.hstack((masking,x_test_noisy))\n",
    "\n",
    "masking = np.ones((1,2))\n",
    "x_test_noisy_2 = np.hstack((masking,x_test_noisy))"
   ]
  },
  {
   "cell_type": "code",
   "execution_count": 3,
   "metadata": {},
   "outputs": [
    {
     "name": "stdout",
     "output_type": "stream",
     "text": [
      "895.6149094104767\n"
     ]
    }
   ],
   "source": [
    "start =  time.time()\n",
    "for i in range(10**4):\n",
    "    a=mld_func(x_test_noisy)\n",
    "end = time.time()\n",
    "print(end-start)"
   ]
  },
  {
   "cell_type": "code",
   "execution_count": 8,
   "metadata": {},
   "outputs": [
    {
     "name": "stdout",
     "output_type": "stream",
     "text": [
      "0.2124342918395996\n"
     ]
    }
   ],
   "source": [
    "start =  time.time()\n",
    "for i in range(10**4):\n",
    "    a=syndrome_decoding(np.where(x_test_noisy>0,0,1))\n",
    "end = time.time()\n",
    "print(end-start)"
   ]
  },
  {
   "cell_type": "code",
   "execution_count": 5,
   "metadata": {},
   "outputs": [
    {
     "name": "stdout",
     "output_type": "stream",
     "text": [
      "WARNING:tensorflow:From D:\\anaconda\\lib\\site-packages\\tensorflow_core\\python\\ops\\resource_variable_ops.py:1630: calling BaseResourceVariable.__init__ (from tensorflow.python.ops.resource_variable_ops) with constraint is deprecated and will be removed in a future version.\n",
      "Instructions for updating:\n",
      "If using Keras pass *_constraint arguments to layers.\n",
      "WARNING:tensorflow:From D:\\anaconda\\lib\\site-packages\\keras\\backend\\tensorflow_backend.py:422: The name tf.global_variables is deprecated. Please use tf.compat.v1.global_variables instead.\n",
      "\n"
     ]
    }
   ],
   "source": [
    "model=load_model('model/golay.h5')"
   ]
  },
  {
   "cell_type": "code",
   "execution_count": 6,
   "metadata": {},
   "outputs": [
    {
     "name": "stdout",
     "output_type": "stream",
     "text": [
      "11.669799566268921\n"
     ]
    }
   ],
   "source": [
    "start =  time.time()\n",
    "for i in range(10**4):\n",
    "    decoded_codes = model.predict(x_test_noisy, verbose=0)\n",
    "\n",
    "end = time.time()\n",
    "print((end-start))"
   ]
  },
  {
   "cell_type": "code",
   "execution_count": 7,
   "metadata": {},
   "outputs": [],
   "source": [
    "model = load_model('model/model_p5.h5')"
   ]
  },
  {
   "cell_type": "code",
   "execution_count": 8,
   "metadata": {},
   "outputs": [
    {
     "name": "stdout",
     "output_type": "stream",
     "text": [
      "28.959691286087036\n"
     ]
    }
   ],
   "source": [
    "start =  time.time()\n",
    "for i in range(10**4):\n",
    "    decoded_codes = model.predict(x_test_noisy, verbose=0)\n",
    "\n",
    "end = time.time()\n",
    "print((end-start))"
   ]
  },
  {
   "cell_type": "code",
   "execution_count": 9,
   "metadata": {},
   "outputs": [],
   "source": [
    "model = load_model('model/model_p6.h5')"
   ]
  },
  {
   "cell_type": "code",
   "execution_count": 10,
   "metadata": {},
   "outputs": [
    {
     "name": "stdout",
     "output_type": "stream",
     "text": [
      "32.835336685180664\n"
     ]
    }
   ],
   "source": [
    "\n",
    "start =  time.time()\n",
    "for i in range(10**4):\n",
    "    decoded_codes = model.predict(x_test_noisy, verbose=0)\n",
    "\n",
    "end = time.time()\n",
    "print((end-start))"
   ]
  },
  {
   "cell_type": "code",
   "execution_count": 11,
   "metadata": {},
   "outputs": [],
   "source": [
    "model = load_model('model/model_p7.h5')\n"
   ]
  },
  {
   "cell_type": "code",
   "execution_count": 12,
   "metadata": {},
   "outputs": [
    {
     "name": "stdout",
     "output_type": "stream",
     "text": [
      "37.163007497787476\n"
     ]
    }
   ],
   "source": [
    "start =  time.time()\n",
    "for i in range(10**4):\n",
    "    decoded_codes = model.predict(x_test_noisy, verbose=0)\n",
    "\n",
    "end = time.time()\n",
    "print((end-start))"
   ]
  },
  {
   "cell_type": "code",
   "execution_count": 13,
   "metadata": {},
   "outputs": [],
   "source": [
    "model = load_model('model/model_p8.h5')"
   ]
  },
  {
   "cell_type": "code",
   "execution_count": 14,
   "metadata": {},
   "outputs": [
    {
     "name": "stdout",
     "output_type": "stream",
     "text": [
      "43.36506795883179\n"
     ]
    }
   ],
   "source": [
    "\n",
    "start =  time.time()\n",
    "for i in range(10**4):\n",
    "    decoded_codes = model.predict(x_test_noisy, verbose=0)\n",
    "\n",
    "end = time.time()\n",
    "print((end-start))"
   ]
  },
  {
   "cell_type": "code",
   "execution_count": 15,
   "metadata": {},
   "outputs": [],
   "source": [
    "model = load_model('model/model_p5_24.h5')"
   ]
  },
  {
   "cell_type": "code",
   "execution_count": 16,
   "metadata": {},
   "outputs": [
    {
     "name": "stdout",
     "output_type": "stream",
     "text": [
      "21.525924921035767\n"
     ]
    }
   ],
   "source": [
    "start =  time.time()\n",
    "for i in range(10**4):\n",
    "    decoded_codes = model.predict(x_test_noisy_1, verbose=0)\n",
    "\n",
    "end = time.time()\n",
    "print((end-start))"
   ]
  },
  {
   "cell_type": "code",
   "execution_count": 17,
   "metadata": {},
   "outputs": [],
   "source": [
    "model = load_model('model/model_p6_24.h5')\n"
   ]
  },
  {
   "cell_type": "code",
   "execution_count": 18,
   "metadata": {},
   "outputs": [
    {
     "name": "stdout",
     "output_type": "stream",
     "text": [
      "34.57157373428345\n"
     ]
    }
   ],
   "source": [
    "start =  time.time()\n",
    "for i in range(10**4):\n",
    "    decoded_codes = model.predict(x_test_noisy_1, verbose=0)\n",
    "\n",
    "end = time.time()\n",
    "print((end-start))"
   ]
  },
  {
   "cell_type": "code",
   "execution_count": 19,
   "metadata": {},
   "outputs": [],
   "source": [
    "model = load_model('model/model_p7_24.h5')"
   ]
  },
  {
   "cell_type": "code",
   "execution_count": 20,
   "metadata": {},
   "outputs": [
    {
     "name": "stdout",
     "output_type": "stream",
     "text": [
      "33.578230142593384\n"
     ]
    }
   ],
   "source": [
    "\n",
    "start =  time.time()\n",
    "for i in range(10**4):\n",
    "    decoded_codes = model.predict(x_test_noisy_1, verbose=0)\n",
    "\n",
    "end = time.time()\n",
    "print((end-start))"
   ]
  },
  {
   "cell_type": "code",
   "execution_count": 21,
   "metadata": {},
   "outputs": [],
   "source": [
    "model = load_model('model/model_p8_24.h5')"
   ]
  },
  {
   "cell_type": "code",
   "execution_count": 22,
   "metadata": {},
   "outputs": [
    {
     "name": "stdout",
     "output_type": "stream",
     "text": [
      "37.83684492111206\n"
     ]
    }
   ],
   "source": [
    "\n",
    "start =  time.time()\n",
    "for i in range(10**4):\n",
    "    decoded_codes = model.predict(x_test_noisy_1, verbose=0)\n",
    "\n",
    "end = time.time()\n",
    "print((end-start))"
   ]
  },
  {
   "cell_type": "code",
   "execution_count": 23,
   "metadata": {},
   "outputs": [],
   "source": [
    "model = load_model('model/model_p5_25.h5')"
   ]
  },
  {
   "cell_type": "code",
   "execution_count": 24,
   "metadata": {},
   "outputs": [
    {
     "name": "stdout",
     "output_type": "stream",
     "text": [
      "37.8338508605957\n"
     ]
    }
   ],
   "source": [
    "\n",
    "start =  time.time()\n",
    "for i in range(10**4):\n",
    "    decoded_codes = model.predict(x_test_noisy_2, verbose=0)\n",
    "\n",
    "end = time.time()\n",
    "print((end-start))"
   ]
  },
  {
   "cell_type": "code",
   "execution_count": 25,
   "metadata": {},
   "outputs": [],
   "source": [
    "model = load_model('model/model_p6_25.h5')"
   ]
  },
  {
   "cell_type": "code",
   "execution_count": 26,
   "metadata": {},
   "outputs": [
    {
     "name": "stdout",
     "output_type": "stream",
     "text": [
      "39.47945261001587\n"
     ]
    }
   ],
   "source": [
    "\n",
    "start =  time.time()\n",
    "for i in range(10**4):\n",
    "    decoded_codes = model.predict(x_test_noisy_2, verbose=0)\n",
    "\n",
    "end = time.time()\n",
    "print((end-start))"
   ]
  },
  {
   "cell_type": "code",
   "execution_count": 27,
   "metadata": {},
   "outputs": [],
   "source": [
    "model = load_model('model/model_p7_25.h5')"
   ]
  },
  {
   "cell_type": "code",
   "execution_count": 31,
   "metadata": {},
   "outputs": [
    {
     "name": "stdout",
     "output_type": "stream",
     "text": [
      "45.45841836929321\n"
     ]
    }
   ],
   "source": [
    "\n",
    "start =  time.time()\n",
    "for i in range(10**4):\n",
    "    decoded_codes = model.predict(x_test_noisy_2, verbose=0)\n",
    "\n",
    "end =time.time()\n",
    "print((end-start))"
   ]
  },
  {
   "cell_type": "code",
   "execution_count": 29,
   "metadata": {},
   "outputs": [],
   "source": [
    "model = load_model('model/model_p8_25.h5')"
   ]
  },
  {
   "cell_type": "code",
   "execution_count": 30,
   "metadata": {},
   "outputs": [
    {
     "name": "stdout",
     "output_type": "stream",
     "text": [
      "45.27795100212097\n"
     ]
    }
   ],
   "source": [
    "start =  time.time()\n",
    "for i in range(10**4):\n",
    "    decoded_codes = model.predict(x_test_noisy_2, verbose=0)\n",
    "end = time.time()\n",
    "print((end-start))"
   ]
  },
  {
   "cell_type": "code",
   "execution_count": null,
   "metadata": {},
   "outputs": [],
   "source": []
  }
 ],
 "metadata": {
  "kernelspec": {
   "display_name": "Python 3",
   "language": "python",
   "name": "python3"
  },
  "language_info": {
   "codemirror_mode": {
    "name": "ipython",
    "version": 3
   },
   "file_extension": ".py",
   "mimetype": "text/x-python",
   "name": "python",
   "nbconvert_exporter": "python",
   "pygments_lexer": "ipython3",
   "version": "3.6.10"
  }
 },
 "nbformat": 4,
 "nbformat_minor": 2
}
