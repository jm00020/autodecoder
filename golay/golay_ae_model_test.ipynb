{
 "cells": [
  {
   "cell_type": "code",
   "execution_count": 1,
   "metadata": {},
   "outputs": [
    {
     "name": "stderr",
     "output_type": "stream",
     "text": [
      "Using TensorFlow backend.\n"
     ]
    }
   ],
   "source": [
    "import matplotlib.pyplot as plt\n",
    "import numpy as np\n",
    "import keras\n",
    "from time import time\n",
    "from keras.layers import Dense, Input,Conv1D, MaxPooling1D, Flatten, Embedding, Reshape, UpSampling1D\n",
    "from keras.models import Sequential, Model\n",
    "from tensorflow.python.keras.callbacks import TensorBoard\n",
    "from IPython.display import SVG\n",
    "from keras.utils.vis_utils import model_to_dot\n",
    "from keras.models import load_model\n",
    "import pickle\n",
    "\n",
    "from scipy import special"
   ]
  },
  {
   "cell_type": "code",
   "execution_count": 2,
   "metadata": {},
   "outputs": [],
   "source": [
    "P = np.array([\n",
    "    [1, 0, 1, 0, 1, 1, 1, 0, 0, 0, 1],\n",
    "    [1, 1, 1, 1, 1, 0, 0, 1, 0, 0, 1],\n",
    "    [1, 1, 0, 1, 0, 0, 1, 0, 1, 0, 1],\n",
    "    [1, 1, 0, 0, 0, 1, 1, 1, 0, 1, 1],\n",
    "    [1, 1, 0, 0, 1, 1, 0, 1, 1, 0, 0],\n",
    "    [0, 1, 1, 0, 0, 1, 1, 0, 1, 1, 0],\n",
    "    [0, 0, 1, 1, 0, 0, 1, 1, 0, 1, 1],\n",
    "    [1, 0, 1, 1, 0, 1, 1, 1, 1, 0, 0],\n",
    "    [0, 1, 0, 1, 1, 0, 1, 1, 1, 1, 0],\n",
    "    [0, 0, 1, 0, 1, 1, 0, 1, 1, 1, 1],\n",
    "    [1, 0, 1, 1, 1, 0, 0, 0, 1, 1, 0],\n",
    "    [0, 1, 0, 1, 1, 1, 0, 0, 0, 1, 1],\n",
    "], dtype='int')"
   ]
  },
  {
   "cell_type": "code",
   "execution_count": 3,
   "metadata": {},
   "outputs": [],
   "source": [
    "def custom_activation(x):\n",
    "    return 1 / (1 + keras.backend.exp(-x))"
   ]
  },
  {
   "cell_type": "code",
   "execution_count": 4,
   "metadata": {},
   "outputs": [],
   "source": [
    "def syndrome_decoding(codes):\n",
    "    with open('syndrome.pickle', 'rb') as syn:\n",
    "        syndrome = pickle.load(syn)\n",
    "        \n",
    "    H = np.concatenate((np.eye(11, dtype=\"int\"), P.T), axis=1)\n",
    "    fix_code = []\n",
    "    for code in codes:\n",
    "        code_syndrome = tuple(np.dot(code, H.T) % 2)\n",
    "        error_code = syndrome[code_syndrome]\n",
    "        fix_code.append((code + error_code) % 2)\n",
    "    return np.array(fix_code)"
   ]
  },
  {
   "cell_type": "code",
   "execution_count": 5,
   "metadata": {},
   "outputs": [],
   "source": [
    "def awgn(x_input, Es_No):\n",
    "    sig_power = 1\n",
    "    \n",
    "    noise_power = np.sqrt(sig_power / (2 * Es_No))\n",
    "    \n",
    "    noise = noise_power * np.random.normal(size = x_input.shape)\n",
    "    \n",
    "    return x_input + noise"
   ]
  },
  {
   "cell_type": "code",
   "execution_count": 6,
   "metadata": {},
   "outputs": [],
   "source": [
    "def mld_func(x_noisy):\n",
    "    codeword = np.loadtxt('input.txt')\n",
    "\n",
    "    for i in range(x_noisy.shape[0]):\n",
    "        check = np.dot(x_noisy[i, :], codeword.T)\n",
    "        max_check = np.max(check)\n",
    "        index = np.where(check == max_check)[0][0]\n",
    "        if i == 0:\n",
    "            mld_code = codeword[index, :]\n",
    "        else :\n",
    "            mld_code = np.vstack((mld_code, codeword[index, :]))\n",
    " \n",
    "    return np.where(mld_code < 0, 1, 0)"
   ]
  },
  {
   "cell_type": "code",
   "execution_count": 7,
   "metadata": {},
   "outputs": [],
   "source": [
    "syn_BER = np.zeros(11)\n",
    "golay_BER = np.zeros(11)\n",
    "mld_BER = np.zeros(11)\n",
    "mld_ae_BER = np.zeros(11)"
   ]
  },
  {
   "cell_type": "code",
   "execution_count": 8,
   "metadata": {},
   "outputs": [],
   "source": [
    "# model = load_model('model_relu_softstep_0.4.h5', custom_objects={'custom_activation':custom_activation})"
   ]
  },
  {
   "cell_type": "code",
   "execution_count": 9,
   "metadata": {},
   "outputs": [],
   "source": [
    "model = load_model('model_cus_relu.h5')"
   ]
  },
  {
   "cell_type": "code",
   "execution_count": 10,
   "metadata": {},
   "outputs": [
    {
     "name": "stdout",
     "output_type": "stream",
     "text": [
      "0 Eb/No start\n",
      "0 Eb/No end\n",
      "1 Eb/No start\n",
      "1 Eb/No end\n",
      "2 Eb/No start\n",
      "2 Eb/No end\n",
      "3 Eb/No start\n",
      "3 Eb/No end\n",
      "4 Eb/No start\n",
      "4 Eb/No end\n",
      "5 Eb/No start\n",
      "5 Eb/No end\n",
      "6 Eb/No start\n",
      "6 Eb/No end\n",
      "7 Eb/No start\n",
      "7 Eb/No end\n",
      "8 Eb/No start\n",
      "8 Eb/No end\n",
      "9 Eb/No start\n",
      "9 Eb/No end\n",
      "10 Eb/No start\n",
      "10 Eb/No end\n"
     ]
    }
   ],
   "source": [
    "file_buffer = 'result/syn_ae_result_3.txt'\n",
    "syn_ae_f = open(file_buffer, 'w')\n",
    "\n",
    "file_buffer = 'result/MLD_result_3.txt'\n",
    "mld_f = open(file_buffer, 'w')\n",
    "\n",
    "file_buffer = 'result/MLD_ae_result_3.txt'\n",
    "mld_ae_f = open(file_buffer, 'w')\n",
    "\n",
    "file_buffer = 'result/golay_result_3.txt'\n",
    "golay_f = open(file_buffer, 'w')\n",
    "\n",
    "for i in range(0, 11):\n",
    "    total_syn_BER = 0\n",
    "    total_mld_BER = 0\n",
    "    total_mld_ae_BER = 0\n",
    "    total_golay_BER = 0\n",
    "\n",
    "    print(i,'Eb/No start')\n",
    "    \n",
    "    for j in range(10**2):\n",
    "        Eb_No = 10**(i/10)\n",
    "        Es_No = Eb_No * (12/23)\n",
    "    \n",
    "        m = np.random.randint(2, size=(10, 12))\n",
    "        G= np.concatenate((P, np.eye(12, dtype=\"int\")), axis=1)\n",
    "        x_test = np.dot(m, G) % 2\n",
    "        x_test = np.where(x_test > 0, -1, 1)\n",
    "    \n",
    "        x_test_noisy = awgn(x_test, Es_No)\n",
    "    \n",
    "#         x_input = (x_test_noisy + 1) / 2\n",
    "        x_input = x_test_noisy\n",
    "        x_demod = x_test_noisy\n",
    "    \n",
    "        x_demod = np.where(x_demod < 0, 1, 0)   \n",
    "    \n",
    "        #auto encoding start\n",
    "        decoded_codes = model.predict(x_input, verbose=0)\n",
    "    \n",
    "        decoded_codes = np.reshape(decoded_codes, (x_input.shape[0], 23))\n",
    "\n",
    "        #mld\n",
    "        mld_code = mld_func(x_test_noisy)\n",
    "        mld_ae_code = mld_func(decoded_codes)\n",
    "                   \n",
    "        #syndrome start\n",
    "        decoded_codes = np.where(decoded_codes < 0, 1, 0)   \n",
    "\n",
    "        fix_code = syndrome_decoding(decoded_codes)\n",
    "        golay_code = syndrome_decoding(x_demod)\n",
    "\n",
    "        syn_count = ((m + fix_code[:,11:])%2).sum()\n",
    "        mld_count = ((m + mld_code[:,11:])%2).sum()\n",
    "        mld_ae_count = ((m + mld_ae_code[:,11:])%2).sum()\n",
    "        golay_count = ((m + golay_code[:,11:])%2).sum()\n",
    "\n",
    "        total_syn_BER += syn_count / (m.shape[0] * m.shape[1])\n",
    "        total_mld_BER += mld_count / (m.shape[0] * m.shape[1])\n",
    "        total_mld_ae_BER += mld_ae_count / (m.shape[0] * m.shape[1])\n",
    "        total_golay_BER += golay_count / (m.shape[0] * m.shape[1])\n",
    "    \n",
    "    syn_BER[i] = total_syn_BER/(10**2)\n",
    "    mld_BER[i] = total_mld_BER/(10**2)\n",
    "    mld_ae_BER[i] = total_mld_ae_BER/(10**2)\n",
    "    golay_BER[i] = total_golay_BER/(10**2)\n",
    "    \n",
    "    write_buffer = 'Eb_No, %f, ' %(i)\n",
    "    syn_ae_f.write(write_buffer)\n",
    "    mld_f.write(write_buffer)\n",
    "    mld_ae_f.write(write_buffer)\n",
    "    golay_f.write(write_buffer)\n",
    "    \n",
    "    write_buffer = 'BER, %.10f\\n' % (syn_BER[i])\n",
    "    syn_ae_f.write(write_buffer)\n",
    "    write_buffer = 'BER, %.10f\\n' % (mld_BER[i])\n",
    "    mld_f.write(write_buffer)\n",
    "    write_buffer = 'BER, %.10f\\n' % (mld_ae_BER[i])\n",
    "    mld_ae_f.write(write_buffer)\n",
    "    write_buffer = 'BER, %.10f\\n' % (golay_BER[i])\n",
    "    golay_f.write(write_buffer)\n",
    "    \n",
    "    print(i,'Eb/No end')\n",
    "syn_ae_f.close()\n",
    "mld_f.close()\n",
    "mld_ae_f.close()\n",
    "golay_f.close()"
   ]
  },
  {
   "cell_type": "code",
   "execution_count": 11,
   "metadata": {},
   "outputs": [],
   "source": [
    "bpsk_BER = np.zeros(11)\n",
    "for i in range(0,11):\n",
    "    bpsk_BER[i] = 0.5 * special.erfc((np.sqrt(10**(i/10))))"
   ]
  },
  {
   "cell_type": "code",
   "execution_count": 12,
   "metadata": {},
   "outputs": [
    {
     "data": {
      "image/png": "[encoded data removed]",
      "text/plain": [
       "<Figure size 432x288 with 1 Axes>"
      ]
     },
     "metadata": {
      "needs_background": "light"
     },
     "output_type": "display_data"
    }
   ],
   "source": [
    "x = np.array(range(0, 11))\n",
    "\n",
    "plt.semilogy(x,syn_BER, label='syn_ae', color='r')\n",
    "plt.semilogy(x,mld_BER, label='mld', color='b')\n",
    "plt.semilogy(x,mld_ae_BER, label='mld_ae', color='m')\n",
    "plt.semilogy(x,golay_BER, label='golay', color='g')\n",
    "plt.semilogy(x,bpsk_BER, label='bpsk', color='k')\n",
    "# plt.semilogy(x,bpsk_BER, label='bpsk', color='k')\n",
    "\n",
    "\n",
    "plt.xlabel('Eb/No')\n",
    "plt.ylabel('BER')\n",
    "\n",
    "plt.legend()\n",
    "plt.grid(True)\n",
    "plt.show()"
   ]
  },
  {
   "cell_type": "code",
   "execution_count": null,
   "metadata": {},
   "outputs": [],
   "source": []
  }
 ],
 "metadata": {
  "kernelspec": {
   "display_name": "Python 3",
   "language": "python",
   "name": "python3"
  },
  "language_info": {
   "codemirror_mode": {
    "name": "ipython",
    "version": 3
   },
   "file_extension": ".py",
   "mimetype": "text/x-python",
   "name": "python",
   "nbconvert_exporter": "python",
   "pygments_lexer": "ipython3",
   "version": "3.6.10"
  }
 },
 "nbformat": 4,
 "nbformat_minor": 2
}
