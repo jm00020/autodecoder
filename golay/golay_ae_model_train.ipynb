{
 "cells": [
  {
   "cell_type": "code",
   "execution_count": 1,
   "metadata": {},
   "outputs": [
    {
     "name": "stderr",
     "output_type": "stream",
     "text": [
      "Using TensorFlow backend.\n"
     ]
    }
   ],
   "source": [
    "import matplotlib.pyplot as plt\n",
    "import numpy as np\n",
    "from keras.layers import Dense, Input,Conv1D, MaxPooling1D, Flatten, Embedding, ReLU\n",
    "from keras.models import Sequential, Model\n",
    "from keras.models import load_model\n",
    "import keras\n",
    "\n",
    "import tensorflow as tf"
   ]
  },
  {
   "cell_type": "code",
   "execution_count": 2,
   "metadata": {},
   "outputs": [],
   "source": [
    "P = np.array([\n",
    "    [1, 0, 1, 0, 1, 1, 1, 0, 0, 0, 1],\n",
    "    [1, 1, 1, 1, 1, 0, 0, 1, 0, 0, 1],\n",
    "    [1, 1, 0, 1, 0, 0, 1, 0, 1, 0, 1],\n",
    "    [1, 1, 0, 0, 0, 1, 1, 1, 0, 1, 1],\n",
    "    [1, 1, 0, 0, 1, 1, 0, 1, 1, 0, 0],\n",
    "    [0, 1, 1, 0, 0, 1, 1, 0, 1, 1, 0],\n",
    "    [0, 0, 1, 1, 0, 0, 1, 1, 0, 1, 1],\n",
    "    [1, 0, 1, 1, 0, 1, 1, 1, 1, 0, 0],\n",
    "    [0, 1, 0, 1, 1, 0, 1, 1, 1, 1, 0],\n",
    "    [0, 0, 1, 0, 1, 1, 0, 1, 1, 1, 1],\n",
    "    [1, 0, 1, 1, 1, 0, 0, 0, 1, 1, 0],\n",
    "    [0, 1, 0, 1, 1, 1, 0, 0, 0, 1, 1],\n",
    "], dtype='int')"
   ]
  },
  {
   "cell_type": "code",
   "execution_count": 3,
   "metadata": {},
   "outputs": [],
   "source": [
    "def custom_activation(x):\n",
    "#     return 1 / (1 + keras.backend.exp((-x)))\n",
    "    return 10*x*tf.exp(-0.1*tf.square(x))"
   ]
  },
  {
   "cell_type": "code",
   "execution_count": 4,
   "metadata": {},
   "outputs": [],
   "source": [
    "def awgn(x_input, reqSNR):\n",
    "    sig_power = 1\n",
    "    \n",
    "    noise_power = np.sqrt(sig_power / (2*reqSNR))\n",
    "#     noise_power = 0.4\n",
    "    noise = noise_power * np.random.normal(size = x_input.shape)\n",
    "    \n",
    "    return x_input + noise"
   ]
  },
  {
   "cell_type": "code",
   "execution_count": 5,
   "metadata": {},
   "outputs": [],
   "source": [
    "# model = load_model('model_cus_exp.h5', custom_objects={'custom_func':custom_activation})\n",
    "model = load_model('model_p5_24.h5')\n",
    "# model = load_model('model_cus_relu.h5')"
   ]
  },
  {
   "cell_type": "code",
   "execution_count": 6,
   "metadata": {},
   "outputs": [
    {
     "name": "stdout",
     "output_type": "stream",
     "text": [
      "__________________________________________________________________________________________________\n",
      "Layer (type)                    Output Shape         Param #     Connected to                     \n",
      "==================================================================================================\n",
      "input_1 (InputLayer)            (None, 24)           0                                            \n",
      "__________________________________________________________________________________________________\n",
      "dense_1 (Dense)                 (None, 48)           1200        input_1[0][0]                    \n",
      "__________________________________________________________________________________________________\n",
      "dense_5 (Dense)                 (None, 72)           1800        input_1[0][0]                    \n",
      "__________________________________________________________________________________________________\n",
      "dense_9 (Dense)                 (None, 96)           2400        input_1[0][0]                    \n",
      "__________________________________________________________________________________________________\n",
      "dense_13 (Dense)                (None, 120)          3000        input_1[0][0]                    \n",
      "__________________________________________________________________________________________________\n",
      "dense_17 (Dense)                (None, 24)           600         input_1[0][0]                    \n",
      "__________________________________________________________________________________________________\n",
      "dense_2 (Dense)                 (None, 96)           4704        dense_1[0][0]                    \n",
      "__________________________________________________________________________________________________\n",
      "dense_6 (Dense)                 (None, 216)          15768       dense_5[0][0]                    \n",
      "__________________________________________________________________________________________________\n",
      "dense_10 (Dense)                (None, 384)          37248       dense_9[0][0]                    \n",
      "__________________________________________________________________________________________________\n",
      "dense_14 (Dense)                (None, 600)          72600       dense_13[0][0]                   \n",
      "__________________________________________________________________________________________________\n",
      "dense_18 (Dense)                (None, 24)           600         dense_17[0][0]                   \n",
      "__________________________________________________________________________________________________\n",
      "dense_3 (Dense)                 (None, 48)           4656        dense_2[0][0]                    \n",
      "__________________________________________________________________________________________________\n",
      "dense_7 (Dense)                 (None, 72)           15624       dense_6[0][0]                    \n",
      "__________________________________________________________________________________________________\n",
      "dense_11 (Dense)                (None, 96)           36960       dense_10[0][0]                   \n",
      "__________________________________________________________________________________________________\n",
      "dense_15 (Dense)                (None, 120)          72120       dense_14[0][0]                   \n",
      "__________________________________________________________________________________________________\n",
      "dense_19 (Dense)                (None, 24)           600         dense_18[0][0]                   \n",
      "__________________________________________________________________________________________________\n",
      "dense_4 (Dense)                 (None, 24)           1176        dense_3[0][0]                    \n",
      "__________________________________________________________________________________________________\n",
      "dense_8 (Dense)                 (None, 24)           1752        dense_7[0][0]                    \n",
      "__________________________________________________________________________________________________\n",
      "dense_12 (Dense)                (None, 24)           2328        dense_11[0][0]                   \n",
      "__________________________________________________________________________________________________\n",
      "dense_16 (Dense)                (None, 24)           2904        dense_15[0][0]                   \n",
      "__________________________________________________________________________________________________\n",
      "dense_20 (Dense)                (None, 24)           600         dense_19[0][0]                   \n",
      "__________________________________________________________________________________________________\n",
      "add_1 (Add)                     (None, 24)           0           dense_4[0][0]                    \n",
      "                                                                 dense_8[0][0]                    \n",
      "                                                                 dense_12[0][0]                   \n",
      "                                                                 dense_16[0][0]                   \n",
      "                                                                 dense_20[0][0]                   \n",
      "__________________________________________________________________________________________________\n",
      "dense_21 (Dense)                (None, 24)           600         add_1[0][0]                      \n",
      "==================================================================================================\n",
      "Total params: 279,240\n",
      "Trainable params: 279,240\n",
      "Non-trainable params: 0\n",
      "__________________________________________________________________________________________________\n"
     ]
    }
   ],
   "source": [
    "model.summary()"
   ]
  },
  {
   "cell_type": "code",
   "execution_count": null,
   "metadata": {},
   "outputs": [
    {
     "name": "stdout",
     "output_type": "stream",
     "text": [
      "1000/1000 [==============================] - 0s 70us/step\n",
      "[0.03874647109967191, 0.129]\n",
      "save_model\n",
      "1000/1000 [==============================] - 0s 72us/step\n",
      "[0.04309599901229376, 0.128]\n",
      "save_model\n",
      "1000/1000 [==============================] - 0s 54us/step\n",
      "[0.039779116813559084, 0.127]\n",
      "save_model\n",
      "1000/1000 [==============================] - 0s 74us/step\n",
      "[0.0395733229763573, 0.062]\n",
      "save_model\n",
      "1000/1000 [==============================] - 0s 50us/step\n",
      "[0.04271683438424952, 0.087]\n",
      "save_model\n",
      "1000/1000 [==============================] - 0s 70us/step\n",
      "[0.04445242938544834, 0.099]\n",
      "save_model\n"
     ]
    }
   ],
   "source": [
    "for run in range(10):\n",
    "    m = np.random.randint(2, size=(10**7, 12))\n",
    "    G= np.concatenate((P, np.eye(12, dtype=\"int\")), axis=1)\n",
    "    x_train = np.dot(m, G) % 2\n",
    "    x_train = np.where(x_train > 0, -1, 1)\n",
    "    \n",
    "    m = np.random.randint(2, size=(10**3, 12))\n",
    "    x_test = np.dot(m, G) % 2\n",
    "    x_test = np.where(x_test > 0, -1, 1)    \n",
    "    \n",
    "    Eb_No = 10**(3/10)\n",
    "    Es_No = Eb_No * (12/23)\n",
    "    x_train_noisy = awgn(x_train[:5*10**6], Es_No)\n",
    "    x_test_noisy = awgn(x_test[:5*10**2], Es_No)\n",
    "\n",
    "    Eb_No = 10**(8/10)\n",
    "    Es_No = Eb_No * (12/23)\n",
    "    x_train_noisy = np.vstack((x_train_noisy, awgn(x_train[5*10**6:], Es_No)))\n",
    "    x_test_noisy = np.vstack((x_test_noisy, awgn(x_test[5*10**2:], Es_No)))\n",
    "\n",
    "    masking = np.ones((10**7, 1))\n",
    "    masking[5*10**6:] = -1*masking[5*10**6:]\n",
    "    x_train = np.hstack((masking, x_train))\n",
    "    x_train_noisy = np.hstack((masking, x_train_noisy))\n",
    "\n",
    "    masking = np.ones((10**3, 1))\n",
    "    masking[5*10**2:] = -1*masking[5*10**2:]\n",
    "    x_test = np.hstack((masking, x_test))\n",
    "    x_test_noisy = np.hstack((masking, x_test_noisy))\n",
    "        \n",
    "    \n",
    "    model.fit(x_train_noisy, x_train, \n",
    "              epochs=100,\n",
    "              batch_size=10000,\n",
    "              shuffle=True,\n",
    "              validation_data=(x_test_noisy, x_test), verbose = 0)\n",
    "    \n",
    "    if run%1 == 0:\n",
    "        loss = model.evaluate(x_test_noisy, x_test)\n",
    "        print(loss)\n",
    "        model.save('model_p5_24.h5')\n",
    "        print('save_model')"
   ]
  },
  {
   "cell_type": "code",
   "execution_count": null,
   "metadata": {},
   "outputs": [],
   "source": [
    "loss = model.evaluate(x_test_noisy, x_test)\n",
    "print(loss)\n",
    "model.save('model_p5_24.h5')\n",
    "print('save_model')"
   ]
  },
  {
   "cell_type": "code",
   "execution_count": null,
   "metadata": {},
   "outputs": [],
   "source": []
  }
 ],
 "metadata": {
  "kernelspec": {
   "display_name": "Python 3",
   "language": "python",
   "name": "python3"
  },
  "language_info": {
   "codemirror_mode": {
    "name": "ipython",
    "version": 3
   },
   "file_extension": ".py",
   "mimetype": "text/x-python",
   "name": "python",
   "nbconvert_exporter": "python",
   "pygments_lexer": "ipython3",
   "version": "3.6.10"
  }
 },
 "nbformat": 4,
 "nbformat_minor": 2
}
