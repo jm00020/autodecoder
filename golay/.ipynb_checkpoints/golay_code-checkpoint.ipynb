{
 "cells": [
  {
   "cell_type": "code",
   "execution_count": 1,
   "metadata": {},
   "outputs": [],
   "source": [
    "import numpy as np\n",
    "import pickle\n",
    "import matplotlib.pyplot as plt"
   ]
  },
  {
   "cell_type": "code",
   "execution_count": 2,
   "metadata": {},
   "outputs": [],
   "source": [
    "def awgn(x_input, reqSNR):\n",
    "    sig_power = 1\n",
    "\n",
    "    reqSNR = 10**(reqSNR / 10)\n",
    "    \n",
    "    noise_power = sig_power / reqSNR\n",
    "    noise_power = noise_power.reshape(x_input.shape[0],1)\n",
    "    \n",
    "    noise = np.sqrt(noise_power) * np.random.normal(size = x_input.shape)\n",
    "    \n",
    "    return x_input + noise"
   ]
  },
  {
   "cell_type": "code",
   "execution_count": null,
   "metadata": {},
   "outputs": [],
   "source": [
    "def awgn(x_input, reqSNR):\n",
    "    sig_power = 1\n",
    "#     sig_power = np.sqrt(2*10**(sig_power / 10))\n",
    "    reqSNR = np.sqrt(2*10**(reqSNR / 10))\n",
    "    \n",
    "    noise_power = sig_power / reqSNR\n",
    "    \n",
    "    noise = noise_power * np.random.normal(size = x_input.shape)\n",
    "    \n",
    "    return x_input + noise"
   ]
  },
  {
   "cell_type": "code",
   "execution_count": 3,
   "metadata": {},
   "outputs": [],
   "source": [
    "P = np.array([\n",
    "    [1, 0, 1, 0, 1, 1, 1, 0, 0, 0, 1],\n",
    "    [1, 1, 1, 1, 1, 0, 0, 1, 0, 0, 1],\n",
    "    [1, 1, 0, 1, 0, 0, 1, 0, 1, 0, 1],\n",
    "    [1, 1, 0, 0, 0, 1, 1, 1, 0, 1, 1],\n",
    "    [1, 1, 0, 0, 1, 1, 0, 1, 1, 0, 0],\n",
    "    [0, 1, 1, 0, 0, 1, 1, 0, 1, 1, 0],\n",
    "    [0, 0, 1, 1, 0, 0, 1, 1, 0, 1, 1],\n",
    "    [1, 0, 1, 1, 0, 1, 1, 1, 1, 0, 0],\n",
    "    [0, 1, 0, 1, 1, 0, 1, 1, 1, 1, 0],\n",
    "    [0, 0, 1, 0, 1, 1, 0, 1, 1, 1, 1],\n",
    "    [1, 0, 1, 1, 1, 0, 0, 0, 1, 1, 0],\n",
    "    [0, 1, 0, 1, 1, 1, 0, 0, 0, 1, 1],\n",
    "], dtype='int')"
   ]
  },
  {
   "cell_type": "code",
   "execution_count": 4,
   "metadata": {},
   "outputs": [],
   "source": [
    "H = np.concatenate((np.eye(11, dtype=\"int\"), P.T), axis=1)"
   ]
  },
  {
   "cell_type": "code",
   "execution_count": 5,
   "metadata": {},
   "outputs": [],
   "source": [
    "with open('syndrome.pickle', 'rb') as syn:\n",
    "    syndrome = pickle.load(syn)"
   ]
  },
  {
   "cell_type": "code",
   "execution_count": 6,
   "metadata": {},
   "outputs": [],
   "source": [
    "x_input = np.loadtxt('input.txt')\n",
    "x = np.loadtxt('input.txt')\n",
    "for i in range(10):\n",
    "    x_input = np.vstack((x_input, x))\n",
    "x_input = np.reshape(x_input, (len(x_input), 23))"
   ]
  },
  {
   "cell_type": "code",
   "execution_count": 7,
   "metadata": {},
   "outputs": [],
   "source": [
    "BER = np.empty(11, dtype='float32')"
   ]
  },
  {
   "cell_type": "code",
   "execution_count": 8,
   "metadata": {},
   "outputs": [],
   "source": [
    "for i in range(0, 11):\n",
    "    snr_db = i\n",
    "    x_input_noisy = awgn(x_input, snr_db)\n",
    "    \n",
    "    x_output = np.zeros((x_input_noisy.shape[0], x_input_noisy.shape[1]))\n",
    "    \n",
    "    for j in range(x_input_noisy.shape[0]):\n",
    "        for k in range(x_input_noisy.shape[1]):\n",
    "            if x_input_noisy[j, k] >= 0:\n",
    "                x_output[j, k] = 0\n",
    "            else :\n",
    "                x_output[j, k] = 1\n",
    "                \n",
    "    fix_code = []\n",
    "    for output in x_output:\n",
    "        output_syndrome = tuple(np.dot(output, H.T) %2)\n",
    "        error_code = syndrome[output_syndrome]\n",
    "        fix_code.append((output + error_code) % 2)\n",
    "        \n",
    "    fix_code = np.array(fix_code)\n",
    "    m = np.loadtxt('m.txt')\n",
    "\n",
    "    file_buffer = 'golay_snr_result/golay_result.txt'\n",
    "    f = open(file_buffer, 'w')\n",
    "    write_buffer = 'snr_db : %f\\t' %(snr_db)\n",
    "    f.write(write_buffer)\n",
    "\n",
    "    count = 0\n",
    "\n",
    "    for j in range(fix_code.shape[0]):\n",
    "        for k in range(m.shape[1]):\n",
    "            if m[(j%m.shape[0]), k] != fix_code[j, 11+k]:\n",
    "                count += 1\n",
    "    \n",
    "    BER[i] = count/(fix_code.shape[0] * m.shape[1])\n",
    "    write_buffer = 'BER : %.10f\\n' % (BER[i])\n",
    "    f.write(write_buffer)\n",
    "    f.close()"
   ]
  },
  {
   "cell_type": "code",
   "execution_count": 9,
   "metadata": {},
   "outputs": [
    {
     "data": {
      "image/png": "[encoded data removed]",
      "text/plain": [
       "<Figure size 432x288 with 1 Axes>"
      ]
     },
     "metadata": {
      "needs_background": "light"
     },
     "output_type": "display_data"
    }
   ],
   "source": [
    "x = np.array(range(0, 11))\n",
    "\n",
    "plt.semilogy(x,BER)\n",
    "plt.xlabel('Eb/No')\n",
    "plt.ylabel('BER')\n",
    "plt.grid(True)\n",
    "plt.show()"
   ]
  },
  {
   "cell_type": "code",
   "execution_count": 10,
   "metadata": {},
   "outputs": [],
   "source": [
    "# noise_level = 0.3\n",
    "# x_input_noisy = awgn(x_input, snr_db)"
   ]
  },
  {
   "cell_type": "code",
   "execution_count": 11,
   "metadata": {},
   "outputs": [],
   "source": [
    "# x_output = np.zeros((x_input_noisy.shape[0], x_input_noisy.shape[1]))"
   ]
  },
  {
   "cell_type": "code",
   "execution_count": 12,
   "metadata": {},
   "outputs": [],
   "source": [
    "# for i in range(x_input_noisy.shape[0]):\n",
    "#     for j in range(x_input_noisy.shape[1]):\n",
    "#         if x_input_noisy[i, j] >= 0:\n",
    "#             x_output[i, j] = 0\n",
    "#         else :\n",
    "#             x_output[i, j] = 1"
   ]
  },
  {
   "cell_type": "code",
   "execution_count": 13,
   "metadata": {},
   "outputs": [],
   "source": [
    "# fix_code = []\n",
    "# for output in x_output:\n",
    "#     output_syndrome = tuple(np.dot(output, H.T) %2)\n",
    "#     error_code = syndrome[output_syndrome]\n",
    "#     fix_code.append((output + error_code) % 2)"
   ]
  },
  {
   "cell_type": "code",
   "execution_count": 14,
   "metadata": {},
   "outputs": [],
   "source": [
    "# fix_code = np.array(fix_code)\n",
    "# m = np.loadtxt('m.txt')\n",
    "\n",
    "# f = open('golay_result.txt', 'w')\n",
    "# write_buffer = 'variance : %f\\n' %(noise_level)\n",
    "# f.write(write_buffer)\n",
    "\n",
    "# total_BER = 0\n",
    "\n",
    "# for i in range(m.shape[0]):\n",
    "#     count = 0\n",
    "    \n",
    "#     for j in range(m.shape[1]):\n",
    "#         if m[i, j] != fix_code[i, 11+j]:\n",
    "#             count += 1\n",
    "#     BER = count/m.shape[0]        \n",
    "#     write_buffer = '%dst BER : %0.10f\\n' % (i, BER)\n",
    "#     f.write(write_buffer)\n",
    "#     total_BER += BER\n",
    "    \n",
    "# write_buffer = 'total_BER : %.10f\\n' % (total_BER/m.shape[0])\n",
    "# f.write(write_buffer)\n",
    "# f.close()"
   ]
  }
 ],
 "metadata": {
  "kernelspec": {
   "display_name": "Python 3",
   "language": "python",
   "name": "python3"
  },
  "language_info": {
   "codemirror_mode": {
    "name": "ipython",
    "version": 3
   },
   "file_extension": ".py",
   "mimetype": "text/x-python",
   "name": "python",
   "nbconvert_exporter": "python",
   "pygments_lexer": "ipython3",
   "version": "3.6.4"
  }
 },
 "nbformat": 4,
 "nbformat_minor": 2
}
