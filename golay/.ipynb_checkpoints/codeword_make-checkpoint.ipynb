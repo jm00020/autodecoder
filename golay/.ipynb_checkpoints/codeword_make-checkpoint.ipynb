{
 "cells": [
  {
   "cell_type": "code",
   "execution_count": 1,
   "metadata": {},
   "outputs": [],
   "source": [
    "import numpy as np\n",
    "import pickle"
   ]
  },
  {
   "cell_type": "code",
   "execution_count": 2,
   "metadata": {},
   "outputs": [],
   "source": [
    "def _make_3bit_errors(veclen=23):\n",
    "    \"\"\" return list of all bitvectors with <= 3 bits as 1's, rest 0's\n",
    "    returns list of lists, each 24 bits long by default.\n",
    "    not included:\n",
    "    [0, 0, 0, 1, 0, 1, 1, 0, 1, 1, 1, 1, 0, 0, 0, 1, 0, 1, 1, 0, 0, 0, 1, 0]\n",
    "    included:\n",
    "    [0, 0, 0, 1, 0, 0, 0, 0, 0, 0, 0, 0, 0, 0, 0, 1, 0, 0, 0, 0, 0, 0, 0, 0],\n",
    "    \"\"\"\n",
    "    errorvecs = []\n",
    "    # all zeros\n",
    "    errorvecs.append([0] * veclen)\n",
    "    # one 1\n",
    "    for i in range(veclen):\n",
    "        vec = [0] * veclen\n",
    "        vec[i] = 1\n",
    "        errorvecs.append(vec)\n",
    "\n",
    "    # two 1s\n",
    "    for i in range(veclen):\n",
    "        for j in range(i + 1, veclen):\n",
    "            vec = [0] * veclen\n",
    "            vec[i] = 1\n",
    "            vec[j] = 1\n",
    "            errorvecs.append(vec)\n",
    "\n",
    "    # three 1s\n",
    "    for i in range(veclen):\n",
    "        for j in range(i + 1, veclen):\n",
    "            for k in range(j + 1, veclen):\n",
    "                vec = [0] * veclen\n",
    "                vec[i] = 1\n",
    "                vec[j] = 1\n",
    "                vec[k] = 1\n",
    "                errorvecs.append(vec)\n",
    "    return errorvecs"
   ]
  },
  {
   "cell_type": "code",
   "execution_count": 3,
   "metadata": {},
   "outputs": [],
   "source": [
    "N = 12\n",
    "m = np.zeros(12)\n"
   ]
  },
  {
   "cell_type": "code",
   "execution_count": 4,
   "metadata": {},
   "outputs": [],
   "source": [
    "i = 0\n",
    "while i < (1 << N):\n",
    "    a = np.zeros(N)\n",
    "    bit = i\n",
    "    j = 0\n",
    "    while bit != 0:\n",
    "        if(1 & bit) == 0:\n",
    "            j = j + 1\n",
    "            bit = bit >> 1\n",
    "            continue\n",
    "        a[j] = 1\n",
    "        j = j + 1\n",
    "        bit = bit >> 1\n",
    "    if i > 0:\n",
    "        m = np.vstack((m, a))\n",
    "    i = i+1"
   ]
  },
  {
   "cell_type": "code",
   "execution_count": 5,
   "metadata": {},
   "outputs": [
    {
     "name": "stdout",
     "output_type": "stream",
     "text": [
      "[[0. 0. 0. ... 0. 0. 0.]\n",
      " [1. 0. 0. ... 0. 0. 0.]\n",
      " [0. 1. 0. ... 0. 0. 0.]\n",
      " ...\n",
      " [1. 0. 1. ... 1. 1. 1.]\n",
      " [0. 1. 1. ... 1. 1. 1.]\n",
      " [1. 1. 1. ... 1. 1. 1.]]\n"
     ]
    }
   ],
   "source": [
    "print(m)"
   ]
  },
  {
   "cell_type": "code",
   "execution_count": 6,
   "metadata": {},
   "outputs": [
    {
     "name": "stdout",
     "output_type": "stream",
     "text": [
      "4096 12\n"
     ]
    }
   ],
   "source": [
    "print(m.shape[0], m.shape[1])"
   ]
  },
  {
   "cell_type": "code",
   "execution_count": 7,
   "metadata": {},
   "outputs": [],
   "source": [
    "np.savetxt('m.txt',m)"
   ]
  },
  {
   "cell_type": "code",
   "execution_count": 8,
   "metadata": {},
   "outputs": [],
   "source": [
    "P = np.array([\n",
    "    [1, 0, 1, 0, 1, 1, 1, 0, 0, 0, 1],\n",
    "    [1, 1, 1, 1, 1, 0, 0, 1, 0, 0, 1],\n",
    "    [1, 1, 0, 1, 0, 0, 1, 0, 1, 0, 1],\n",
    "    [1, 1, 0, 0, 0, 1, 1, 1, 0, 1, 1],\n",
    "    [1, 1, 0, 0, 1, 1, 0, 1, 1, 0, 0],\n",
    "    [0, 1, 1, 0, 0, 1, 1, 0, 1, 1, 0],\n",
    "    [0, 0, 1, 1, 0, 0, 1, 1, 0, 1, 1],\n",
    "    [1, 0, 1, 1, 0, 1, 1, 1, 1, 0, 0],\n",
    "    [0, 1, 0, 1, 1, 0, 1, 1, 1, 1, 0],\n",
    "    [0, 0, 1, 0, 1, 1, 0, 1, 1, 1, 1],\n",
    "    [1, 0, 1, 1, 1, 0, 0, 0, 1, 1, 0],\n",
    "    [0, 1, 0, 1, 1, 1, 0, 0, 0, 1, 1],\n",
    "], dtype='int')"
   ]
  },
  {
   "cell_type": "code",
   "execution_count": 9,
   "metadata": {},
   "outputs": [],
   "source": [
    "G= np.concatenate((P, np.eye(12, dtype=\"int\")), axis=1)\n",
    "H = np.concatenate((np.eye(11, dtype=\"int\"), P.T), axis=1)"
   ]
  },
  {
   "cell_type": "code",
   "execution_count": 10,
   "metadata": {},
   "outputs": [
    {
     "name": "stdout",
     "output_type": "stream",
     "text": [
      "[[0. 0. 0. ... 0. 0. 0.]\n",
      " [1. 0. 1. ... 0. 0. 0.]\n",
      " [1. 1. 1. ... 0. 0. 0.]\n",
      " ...\n",
      " [0. 0. 0. ... 1. 1. 1.]\n",
      " [0. 1. 0. ... 1. 1. 1.]\n",
      " [1. 1. 1. ... 1. 1. 1.]]\n",
      "4096 23\n",
      "[[ 1.  1.  1. ...  1.  1.  1.]\n",
      " [-1.  1. -1. ...  1.  1.  1.]\n",
      " [-1. -1. -1. ...  1.  1.  1.]\n",
      " ...\n",
      " [ 1.  1.  1. ... -1. -1. -1.]\n",
      " [ 1. -1.  1. ... -1. -1. -1.]\n",
      " [-1. -1. -1. ... -1. -1. -1.]]\n"
     ]
    }
   ],
   "source": [
    "codeword = np.dot(m, G) % 2\n",
    "print(codeword)\n",
    "print(codeword.shape[0], codeword.shape[1])\n",
    "for i in range(codeword.shape[0]):\n",
    "    for j in range(codeword.shape[1]):\n",
    "        if codeword[i, j] == 0:\n",
    "            codeword[i, j] = 1\n",
    "        elif codeword[i, j] == 1:\n",
    "            codeword[i, j] = -1\n",
    "print(codeword)\n",
    "np.savetxt('input.txt', codeword)"
   ]
  },
  {
   "cell_type": "code",
   "execution_count": 11,
   "metadata": {},
   "outputs": [],
   "source": [
    "for i in range(codeword.shape[0]):\n",
    "    for j in range(codeword.shape[1]):\n",
    "        if codeword[i, j] == 1:\n",
    "            codeword[i, j] = 0\n",
    "        elif codeword[i, j] == -1:\n",
    "            codeword[i, j] = 1"
   ]
  },
  {
   "cell_type": "code",
   "execution_count": 12,
   "metadata": {},
   "outputs": [],
   "source": [
    "for i in range(m.shape[0]):\n",
    "    for j in range(m.shape[1]):\n",
    "        if m[i,j] != codeword[i, 11+j]:\n",
    "            print('error')"
   ]
  },
  {
   "cell_type": "code",
   "execution_count": 13,
   "metadata": {},
   "outputs": [],
   "source": [
    "errvecs = _make_3bit_errors()\n",
    "SYNDROME_LUT = {}\n",
    "for errvec in errvecs:\n",
    "    syndrome = tuple(divmod(np.dot(errvec, H.T), 2)[1])\n",
    "    SYNDROME_LUT[syndrome] = errvec"
   ]
  },
  {
   "cell_type": "code",
   "execution_count": 14,
   "metadata": {},
   "outputs": [
    {
     "name": "stdout",
     "output_type": "stream",
     "text": [
      "2048\n"
     ]
    }
   ],
   "source": [
    "print(len(SYNDROME_LUT))"
   ]
  },
  {
   "cell_type": "code",
   "execution_count": 15,
   "metadata": {},
   "outputs": [
    {
     "name": "stdout",
     "output_type": "stream",
     "text": [
      "[0, 0, 0, 0, 0, 0, 0, 0, 1, 0, 1, 0, 0, 0, 0, 0, 1, 0, 0, 0, 0, 0, 0]\n"
     ]
    }
   ],
   "source": [
    "a = np.random.randint(2, size=(23))\n",
    "syn = tuple(np.dot(a, H.T) % 2)\n",
    "print(SYNDROME_LUT[syn])"
   ]
  },
  {
   "cell_type": "code",
   "execution_count": 16,
   "metadata": {},
   "outputs": [],
   "source": [
    "# with open('syndrome.pickle', 'wb') as f:\n",
    "#     pickle.dump(SYNDROME_LUT, f, pickle.HIGHEST_PROTOCOL)"
   ]
  },
  {
   "cell_type": "code",
   "execution_count": null,
   "metadata": {},
   "outputs": [],
   "source": []
  }
 ],
 "metadata": {
  "kernelspec": {
   "display_name": "Python 3",
   "language": "python",
   "name": "python3"
  },
  "language_info": {
   "codemirror_mode": {
    "name": "ipython",
    "version": 3
   },
   "file_extension": ".py",
   "mimetype": "text/x-python",
   "name": "python",
   "nbconvert_exporter": "python",
   "pygments_lexer": "ipython3",
   "version": "3.6.4"
  }
 },
 "nbformat": 4,
 "nbformat_minor": 2
}
