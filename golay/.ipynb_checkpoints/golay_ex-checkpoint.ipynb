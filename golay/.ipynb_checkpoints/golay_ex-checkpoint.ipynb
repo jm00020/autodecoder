{
 "cells": [
  {
   "cell_type": "code",
   "execution_count": null,
   "metadata": {},
   "outputs": [],
   "source": [
    "import numpy as np\n",
    "import pickle\n",
    "import matplotlib.pyplot as plt"
   ]
  },
  {
   "cell_type": "code",
   "execution_count": null,
   "metadata": {},
   "outputs": [],
   "source": [
    "def awgn(x_input, reqSNR):\n",
    "    sig_power = 1\n",
    "\n",
    "    reqSNR = 10**(reqSNR / 10)\n",
    "    \n",
    "    noise_power = sig_power / reqSNR\n",
    "    noise_power = noise_power.reshape(x_input.shape[0],1)\n",
    "    \n",
    "    noise = np.sqrt(noise_power) * np.random.normal(size = x_input.shape)\n",
    "    \n",
    "    return x_input + noise"
   ]
  },
  {
   "cell_type": "code",
   "execution_count": null,
   "metadata": {},
   "outputs": [],
   "source": [
    "P = np.array([\n",
    "    [1, 0, 1, 0, 1, 1, 1, 0, 0, 0, 1],\n",
    "    [1, 1, 1, 1, 1, 0, 0, 1, 0, 0, 1],\n",
    "    [1, 1, 0, 1, 0, 0, 1, 0, 1, 0, 1],\n",
    "    [1, 1, 0, 0, 0, 1, 1, 1, 0, 1, 1],\n",
    "    [1, 1, 0, 0, 1, 1, 0, 1, 1, 0, 0],\n",
    "    [0, 1, 1, 0, 0, 1, 1, 0, 1, 1, 0],\n",
    "    [0, 0, 1, 1, 0, 0, 1, 1, 0, 1, 1],\n",
    "    [1, 0, 1, 1, 0, 1, 1, 1, 1, 0, 0],\n",
    "    [0, 1, 0, 1, 1, 0, 1, 1, 1, 1, 0],\n",
    "    [0, 0, 1, 0, 1, 1, 0, 1, 1, 1, 1],\n",
    "    [1, 0, 1, 1, 1, 0, 0, 0, 1, 1, 0],\n",
    "    [0, 1, 0, 1, 1, 1, 0, 0, 0, 1, 1],\n",
    "], dtype='int')"
   ]
  },
  {
   "cell_type": "code",
   "execution_count": null,
   "metadata": {},
   "outputs": [],
   "source": [
    "H = np.concatenate((np.eye(11, dtype=\"int\"), P.T), axis=1)\n",
    "G= np.concatenate((P, np.eye(12, dtype=\"int\")), axis=1)"
   ]
  },
  {
   "cell_type": "code",
   "execution_count": null,
   "metadata": {},
   "outputs": [],
   "source": [
    "codeword_size = 10**6\n",
    "\n",
    "m = np.random.randint(2, size = (codeword_size, 12))\n",
    "codeword = np.dot(m,G) % 2\n",
    "codeword = np.where(codeword > 0 , -1, 1)"
   ]
  },
  {
   "cell_type": "code",
   "execution_count": null,
   "metadata": {},
   "outputs": [],
   "source": [
    "Eb_No = 10**(3/10)\n",
    "Es_No = Eb_No * (12/23)\n",
    "codeword_noise = awgn(codeword, Es_No)"
   ]
  },
  {
   "cell_type": "code",
   "execution_count": null,
   "metadata": {},
   "outputs": [],
   "source": [
    "input_layer = Input(shape = (23,))\n",
    "\n",
    "line1_Dense1 = Dense(46, activation='elu')(input_layer)\n",
    "line1_Dense2 = Dense(92, activation='elu')(line1_Dense1)         \n",
    "line1_Dense3 = Dense(184, activation='elu')(line1_Dense2)\n",
    "line1_Dense4 = Dense(368, activation='elu')(line1_Dense3)\n",
    "line1_Dense5 = Dense(184, activation='elu')(line1_Dense4)\n",
    "line1_Dense6 = Dense(92, activation='elu')(line1_Dense5)\n",
    "line1_Dense7 = Dense(46, activation='elu')(line1_Dense6)\n",
    "\n",
    "output_layer = Dense(23, activation='linear')(line1_Dense7)\n",
    "\n",
    "model = Model(inputs = input_layer, outputs = output_layer)\n",
    "\n",
    "model.compile(optimizer = 'adam', loss = 'mean_squared_error', metrics=['accuracy'])"
   ]
  },
  {
   "cell_type": "code",
   "execution_count": null,
   "metadata": {},
   "outputs": [],
   "source": [
    "model.fit(codeword_noise, codeword, \n",
    "          epochs=100,\n",
    "          batch_size=10000,\n",
    "          shuffle=True)"
   ]
  },
  {
   "cell_type": "code",
   "execution_count": null,
   "metadata": {},
   "outputs": [],
   "source": [
    "model.save('golay_ex.h5')"
   ]
  }
 ],
 "metadata": {
  "kernelspec": {
   "display_name": "Python 3",
   "language": "python",
   "name": "python3"
  },
  "language_info": {
   "codemirror_mode": {
    "name": "ipython",
    "version": 3
   },
   "file_extension": ".py",
   "mimetype": "text/x-python",
   "name": "python",
   "nbconvert_exporter": "python",
   "pygments_lexer": "ipython3",
   "version": "3.6.10"
  }
 },
 "nbformat": 4,
 "nbformat_minor": 2
}
