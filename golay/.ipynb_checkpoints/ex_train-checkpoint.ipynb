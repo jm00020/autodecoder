{
 "cells": [
  {
   "cell_type": "code",
   "execution_count": null,
   "metadata": {},
   "outputs": [],
   "source": [
    "import numpy as np\n",
    "import pickle\n",
    "import matplotlib.pyplot as plt"
   ]
  },
  {
   "cell_type": "code",
   "execution_count": null,
   "metadata": {},
   "outputs": [],
   "source": [
    "def awgn(x_input, reqSNR):\n",
    "    sig_power = 1\n",
    "\n",
    "    reqSNR = 10**(reqSNR / 10)\n",
    "    \n",
    "    noise_power = sig_power / reqSNR\n",
    "    noise_power = noise_power.reshape(x_input.shape[0],1)\n",
    "    \n",
    "    noise = np.sqrt(noise_power) * np.random.normal(size = x_input.shape)\n",
    "    \n",
    "    return x_input + noise"
   ]
  },
  {
   "cell_type": "code",
   "execution_count": null,
   "metadata": {},
   "outputs": [],
   "source": [
    "P = np.array([\n",
    "    [1, 0, 1, 0, 1, 1, 1, 0, 0, 0, 1],\n",
    "    [1, 1, 1, 1, 1, 0, 0, 1, 0, 0, 1],\n",
    "    [1, 1, 0, 1, 0, 0, 1, 0, 1, 0, 1],\n",
    "    [1, 1, 0, 0, 0, 1, 1, 1, 0, 1, 1],\n",
    "    [1, 1, 0, 0, 1, 1, 0, 1, 1, 0, 0],\n",
    "    [0, 1, 1, 0, 0, 1, 1, 0, 1, 1, 0],\n",
    "    [0, 0, 1, 1, 0, 0, 1, 1, 0, 1, 1],\n",
    "    [1, 0, 1, 1, 0, 1, 1, 1, 1, 0, 0],\n",
    "    [0, 1, 0, 1, 1, 0, 1, 1, 1, 1, 0],\n",
    "    [0, 0, 1, 0, 1, 1, 0, 1, 1, 1, 1],\n",
    "    [1, 0, 1, 1, 1, 0, 0, 0, 1, 1, 0],\n",
    "    [0, 1, 0, 1, 1, 1, 0, 0, 0, 1, 1],\n",
    "], dtype='int')"
   ]
  },
  {
   "cell_type": "code",
   "execution_count": null,
   "metadata": {},
   "outputs": [],
   "source": [
    "H = np.concatenate((np.eye(11, dtype=\"int\"), P.T), axis=1)\n",
    "G= np.concatenate((P, np.eye(12, dtype=\"int\")), axis=1)"
   ]
  },
  {
   "cell_type": "code",
   "execution_count": null,
   "metadata": {},
   "outputs": [],
   "source": [
    "model = load_model('golay_ex.h5')"
   ]
  },
  {
   "cell_type": "code",
   "execution_count": null,
   "metadata": {},
   "outputs": [],
   "source": [
    "for i in range(100):\n",
    "    train_size = 10**6\n",
    "    m = np.random.randint(2, size = (train_size, 12))\n",
    "    train = np.dot(m,G) % 2\n",
    "    train = np.where(train > 0, -1, 1)\n",
    "\n",
    "    test_size = 10**3\n",
    "    m = np.random.randint(2, size = (test_size, 12))\n",
    "    test = np.dot(m,G) % 2\n",
    "    test = np.where(test > 0, -1, 1)\n",
    "    \n",
    "    Eb_No = 10**(3/10)\n",
    "    Es_No = Eb_No * (12/24)\n",
    "\n",
    "    train_noise = awgn(train, Es_No)\n",
    "    test_noise = awgn(test, Es_No)\n",
    "    \n",
    "    model.fit(train_noise, train,\n",
    "          epochs=100,\n",
    "          batch_size=10000,\n",
    "          shuffle=True,\n",
    "          validation_data=(test_noise, test),verbose=0)\n",
    "    \n",
    "    if i%10 == 0:\n",
    "        loss = model.evaluate(test_noise, test)\n",
    "        print(loss)\n",
    "        \n",
    "        model.save('golay_ex.h5')"
   ]
  },
  {
   "cell_type": "code",
   "execution_count": null,
   "metadata": {},
   "outputs": [],
   "source": [
    "model.save('golay_ex.h5')"
   ]
  }
 ],
 "metadata": {
  "kernelspec": {
   "display_name": "Python 3",
   "language": "python",
   "name": "python3"
  },
  "language_info": {
   "codemirror_mode": {
    "name": "ipython",
    "version": 3
   },
   "file_extension": ".py",
   "mimetype": "text/x-python",
   "name": "python",
   "nbconvert_exporter": "python",
   "pygments_lexer": "ipython3",
   "version": "3.6.10"
  }
 },
 "nbformat": 4,
 "nbformat_minor": 2
}
