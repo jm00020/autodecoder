{
 "cells": [
  {
   "cell_type": "code",
   "execution_count": 1,
   "metadata": {},
   "outputs": [
    {
     "name": "stderr",
     "output_type": "stream",
     "text": [
      "Using TensorFlow backend.\n"
     ]
    }
   ],
   "source": [
    "import matplotlib.pyplot as plt\n",
    "import numpy as np\n",
    "import keras\n",
    "from time import time\n",
    "from keras.layers import Dense, Input,Conv1D, MaxPooling1D, Flatten, Embedding, Reshape, UpSampling1D, LeakyReLU, ReLU, Average, Add\n",
    "from keras.models import Sequential, Model\n",
    "from tensorflow.python.keras.callbacks import TensorBoard\n",
    "from IPython.display import SVG\n",
    "from keras.utils.vis_utils import model_to_dot\n",
    "from keras.utils import plot_model\n",
    "from keras.models import load_model\n",
    "import keras.backend as K\n",
    "\n",
    "import tensorflow as tf"
   ]
  },
  {
   "cell_type": "code",
   "execution_count": 2,
   "metadata": {},
   "outputs": [],
   "source": [
    "P = np.array([\n",
    "    [1, 0, 1, 0, 1, 1, 1, 0, 0, 0, 1],\n",
    "    [1, 1, 1, 1, 1, 0, 0, 1, 0, 0, 1],\n",
    "    [1, 1, 0, 1, 0, 0, 1, 0, 1, 0, 1],\n",
    "    [1, 1, 0, 0, 0, 1, 1, 1, 0, 1, 1],\n",
    "    [1, 1, 0, 0, 1, 1, 0, 1, 1, 0, 0],\n",
    "    [0, 1, 1, 0, 0, 1, 1, 0, 1, 1, 0],\n",
    "    [0, 0, 1, 1, 0, 0, 1, 1, 0, 1, 1],\n",
    "    [1, 0, 1, 1, 0, 1, 1, 1, 1, 0, 0],\n",
    "    [0, 1, 0, 1, 1, 0, 1, 1, 1, 1, 0],\n",
    "    [0, 0, 1, 0, 1, 1, 0, 1, 1, 1, 1],\n",
    "    [1, 0, 1, 1, 1, 0, 0, 0, 1, 1, 0],\n",
    "    [0, 1, 0, 1, 1, 1, 0, 0, 0, 1, 1],\n",
    "], dtype='int')"
   ]
  },
  {
   "cell_type": "code",
   "execution_count": 3,
   "metadata": {},
   "outputs": [],
   "source": [
    "def awgn(x_input, reqSNR):\n",
    "    sig_power = 1\n",
    "    \n",
    "    noise_power = np.sqrt(sig_power / (2*reqSNR))\n",
    "    noise = noise_power * np.random.normal(size = x_input.shape)\n",
    "    \n",
    "    return x_input + noise"
   ]
  },
  {
   "cell_type": "code",
   "execution_count": 4,
   "metadata": {},
   "outputs": [],
   "source": [
    "m = np.random.randint(2, size=(10**7, 12))\n",
    "G= np.concatenate((P, np.eye(12, dtype=\"int\")), axis=1)\n",
    "x_train = np.dot(m, G) % 2\n",
    "x_train = np.where(x_train > 0, -1, 1)\n",
    "    \n",
    "m = np.random.randint(2, size=(10**3, 12))\n",
    "x_test = np.dot(m, G) % 2\n",
    "x_test = np.where(x_test > 0, -1, 1)    "
   ]
  },
  {
   "cell_type": "code",
   "execution_count": null,
   "metadata": {},
   "outputs": [],
   "source": [
    "Eb_No = 10**(3/10)\n",
    "Es_No = Eb_No * (12/23)\n",
    "x_train_noisy = awgn(x_train[:5*10**6], Es_No)\n",
    "x_test_noisy = awgn(x_test[:5*10**2], Es_No)\n",
    "\n",
    "Eb_No = 10**(8/10)\n",
    "Es_No = Eb_No * (12/23)\n",
    "x_train_noisy = np.vstack((x_train_noisy, awgn(x_train[5*10**6:], Es_No)))\n",
    "x_test_noisy = np.vstack((x_test_noisy, awgn(x_test[5*10**2:], Es_No)))\n",
    "\n",
    "masking = np.ones((10**7, 1))\n",
    "masking[5*10**6:] = -1*masking[5*10**6:]\n",
    "x_train = np.hstack((masking, x_train))\n",
    "x_train_noisy = np.hstack((masking, x_train_noisy))\n",
    "\n",
    "masking = np.ones((10**3, 1))\n",
    "masking[5*10**2:] = -1*masking[5*10**2:]\n",
    "x_test = np.hstack((masking, x_test))\n",
    "x_test_noisy = np.hstack((masking, x_test_noisy))"
   ]
  },
  {
   "cell_type": "code",
   "execution_count": null,
   "metadata": {},
   "outputs": [],
   "source": [
    "# model = Sequential()\n",
    "input_layer = Input(shape=(24,))\n",
    "line1_Dense1 = Dense(48, activation='elu')(input_layer)\n",
    "line1_Dense2 = Dense(96, activation='elu')(line1_Dense1)         \n",
    "line1_Dense3 = Dense(48, activation='elu')(line1_Dense2)\n",
    "line1_output_layer = Dense(24, activation='tanh')(line1_Dense3)\n",
    "\n",
    "line2_Dense1 = Dense(72, activation='elu')(input_layer)\n",
    "line2_Dense2 = Dense(216, activation='elu')(line2_Dense1)         \n",
    "line2_Dense3 = Dense(72, activation='elu')(line2_Dense2)\n",
    "line2_output_layer = Dense(24, activation='tanh')(line2_Dense3)\n",
    "\n",
    "line3_Dense1 = Dense(96, activation='elu')(input_layer)\n",
    "line3_Dense2 = Dense(384, activation='elu')(line3_Dense1)         \n",
    "line3_Dense3 = Dense(96, activation='elu')(line3_Dense2)\n",
    "line3_output_layer = Dense(24, activation='tanh')(line3_Dense3)\n",
    "\n",
    "line4_Dense1 = Dense(120, activation='elu')(input_layer)\n",
    "line4_Dense2 = Dense(600, activation='elu')(line4_Dense1)         \n",
    "line4_Dense3 = Dense(120, activation='elu')(line4_Dense2)\n",
    "line4_output_layer = Dense(24, activation='tanh')(line4_Dense3)\n",
    "\n",
    "\n",
    "line5_Dense1 = Dense(24, activation='elu')(input_layer)\n",
    "line5_Dense2 = Dense(24, activation='elu')(line5_Dense1)         \n",
    "line5_Dense3 = Dense(24, activation='elu')(line5_Dense2)\n",
    "line5_output_layer = Dense(24, activation='tanh')(line5_Dense3)\n",
    "\n",
    "\n",
    "# average_layer = Average()([line1_output_layer, line2_output_layer, line3_output_layer])\n",
    "add_layer = Add()([line1_output_layer, line2_output_layer, line3_output_layer, line4_output_layer, line5_output_layer])\n",
    "# average_layer = Average()([line1_Dense3, line2_Dense3, line3_Dense3])\n",
    "output_layer = Dense(24, activation='linear')(add_layer)\n",
    "\n",
    "model = Model(inputs = input_layer, outputs=output_layer)\n",
    "\n",
    "# model.compile(optimizer='adam', loss='binary_crossentropy', metrics=['accuracy'])\n",
    "model.compile(optimizer='adam', loss='mean_squared_error', metrics=['accuracy'])\n"
   ]
  },
  {
   "cell_type": "code",
   "execution_count": 4,
   "metadata": {},
   "outputs": [],
   "source": [
    "model = load_model('model_p5_24.h5')"
   ]
  },
  {
   "cell_type": "code",
   "execution_count": null,
   "metadata": {},
   "outputs": [],
   "source": [
    "model.summary()"
   ]
  },
  {
   "cell_type": "code",
   "execution_count": null,
   "metadata": {},
   "outputs": [],
   "source": [
    "model.fit(x_train_noisy, x_train, \n",
    "          epochs=100,\n",
    "          batch_size=10000,\n",
    "          shuffle=True,\n",
    "          validation_data=(x_test_noisy, x_test))"
   ]
  },
  {
   "cell_type": "code",
   "execution_count": 15,
   "metadata": {},
   "outputs": [
    {
     "name": "stdout",
     "output_type": "stream",
     "text": [
      "6\n",
      "high\n",
      "output 0.0015\n",
      "input 0.0205\n",
      "x:  [ 1 -1 -1 -1 -1 -1  1  1 -1  1  1  1  1  1  1 -1 -1 -1  1  1  1 -1 -1] \n",
      "n:  [0 0 0 0 1 1 1 0 0 0 1 1] \n",
      "decode: [1 0 0 1 1 1 1 0 0 1 0 0 0 0 0 0 1 1 1 0 0 0 1 1]\n"
     ]
    },
    {
     "data": {
      "image/png": "[encoded data removed]",
      "text/plain": [
       "<Figure size 432x288 with 4 Axes>"
      ]
     },
     "metadata": {
      "needs_background": "light"
     },
     "output_type": "display_data"
    }
   ],
   "source": [
    "m = np.random.randint(2, size=(10**3, 12))\n",
    "x_test = np.dot(m, G) % 2\n",
    "x_test = np.where(x_test > 0, -1, 1)    \n",
    "\n",
    "k = np.random.randint(11)\n",
    "print(k)\n",
    "Eb_No = 10**(k/10)\n",
    "Es_No = Eb_No * (12/23)\n",
    "x_test_noisy = awgn(x_test, Es_No)\n",
    "if np.var(x_test_noisy) > 1.3:\n",
    "    print('low')\n",
    "    x_test_noisy = np.hstack((np.ones((10**3,1)), x_test_noisy))\n",
    "else :\n",
    "    print('high')\n",
    "    x_test_noisy = np.hstack((-1*np.ones((10**3,1)), x_test_noisy))\n",
    "    \n",
    "decoded_imgs = model.predict(x_test_noisy)\n",
    "  \n",
    "decoded_imgs = np.reshape(decoded_imgs, (len(x_test), 24))\n",
    "\n",
    "n = 25\n",
    "\n",
    "            \n",
    "for i in range(24, n):\n",
    "    # display original\n",
    "    \n",
    "    plt.subplot(411)\n",
    "    plt.plot(x_test[i].reshape(23), 'b')\n",
    "\n",
    "\n",
    "\n",
    "    # display noisy\n",
    "    \n",
    "    plt.subplot(412)\n",
    "    plt.plot(x_test_noisy[i].reshape(24), 'g')\n",
    "\n",
    "\n",
    "\n",
    "    # display reconstruction\n",
    "\n",
    "    plt.subplot(413)\n",
    "    plt.plot(decoded_imgs[i].reshape(24), 'r')\n",
    "    \n",
    "    decoded_imgs = np.where(decoded_imgs < 0, 1, 0)     \n",
    "    count = ((m+decoded_imgs[:,12:])%2).sum()\n",
    "    print('output', count/(m.shape[0]*m.shape[1]))\n",
    "    x_input = np.where(x_test_noisy < 0, 1, 0)\n",
    "    count = ((m+x_input[:,12:])%2).sum()\n",
    "    print('input', count/(m.shape[0]*m.shape[1]))\n",
    "    \n",
    "    plt.subplot(414)\n",
    "    plt.plot(decoded_imgs[i].reshape(24), 'c')\n",
    "    \n",
    "    print(\"x: \", x_test[i], \"\\nn: \", m[i],\"\\ndecode:\", decoded_imgs[i])\n",
    "\n",
    "plt.show()\n",
    "\n"
   ]
  },
  {
   "cell_type": "code",
   "execution_count": null,
   "metadata": {},
   "outputs": [],
   "source": [
    "\n",
    "model.save('model_p5_24.h5')"
   ]
  },
  {
   "cell_type": "code",
   "execution_count": null,
   "metadata": {},
   "outputs": [],
   "source": [
    "model.load_weights('model_weight.h5')"
   ]
  }
 ],
 "metadata": {
  "kernelspec": {
   "display_name": "Python 3",
   "language": "python",
   "name": "python3"
  },
  "language_info": {
   "codemirror_mode": {
    "name": "ipython",
    "version": 3
   },
   "file_extension": ".py",
   "mimetype": "text/x-python",
   "name": "python",
   "nbconvert_exporter": "python",
   "pygments_lexer": "ipython3",
   "version": "3.6.10"
  }
 },
 "nbformat": 4,
 "nbformat_minor": 2
}
